{
 "cells": [
  {
   "cell_type": "code",
   "execution_count": 18,
   "metadata": {},
   "outputs": [],
   "source": [
    "import pandas as pd\n",
    "import numpy as np\n",
    "from matplotlib import pyplot as plt\n"
   ]
  },
  {
   "cell_type": "markdown",
   "metadata": {},
   "source": [
    "## Exercise 2)"
   ]
  },
  {
   "cell_type": "code",
   "execution_count": 19,
   "metadata": {},
   "outputs": [],
   "source": [
    "data_2020 = pd.read_csv(\"../data/it_salary_2020.csv\", delimiter=\";\")\n",
    "data_2020.dropna(how=\"any\",axis=0,inplace=True)\n",
    "data_2018 = pd.read_csv(\"../data/it_salary_2018.csv\", delimiter=\";\")\n",
    "data_2018.dropna(how=\"any\",axis=0, inplace=True)"
   ]
  },
  {
   "cell_type": "code",
   "execution_count": 20,
   "metadata": {},
   "outputs": [],
   "source": [
    "def compare_shape(data1, data2): #helper functions for printing\n",
    "    skew1 = data1.skew()\n",
    "    skew2 = data2.skew()\n",
    "    kurt1 = data1.kurtosis()\n",
    "    kurt2 =data2.kurtosis()\n",
    "    print(f\"data1 has skew {skew1} and kurtosis {kurt1},while data2 has skew {skew2} and kurtosis {kurt2}\")\n",
    "    return (skew1,kurt1,skew2,kurt2)\n",
    "\n",
    "def compare_spread(data1, data2):\n",
    "    var1 = data1.var()\n",
    "    var2 = data2.var()\n",
    "    dev1 = np.sqrt(var1)\n",
    "    dev2 = np.sqrt(var2)\n",
    "    print(f\"data1 has variance {var1} an standard devation {dev1}, while data2 has variance {var2} and standard deviation {dev2}\")\n",
    "    return (var1,dev1,var2,dev2)\n"
   ]
  },
  {
   "cell_type": "markdown",
   "metadata": {},
   "source": [
    "## Exercise 2a)"
   ]
  },
  {
   "cell_type": "code",
   "execution_count": null,
   "metadata": {},
   "outputs": [],
   "source": []
  },
  {
   "cell_type": "code",
   "execution_count": 21,
   "metadata": {},
   "outputs": [
    {
     "name": "stdout",
     "output_type": "stream",
     "text": [
      "data1 has skew 1.0877096881695731 and kurtosis 3.0106434446622266,while data2 has skew 1.1354163430442203 and kurtosis 4.4347052730605485\n"
     ]
    },
    {
     "data": {
      "text/plain": [
       "(1.0877096881695731,\n",
       " 3.0106434446622266,\n",
       " 1.1354163430442203,\n",
       " 4.4347052730605485)"
      ]
     },
     "execution_count": 21,
     "metadata": {},
     "output_type": "execute_result"
    }
   ],
   "source": [
    "#first compare yearly brutto salary\n",
    "compare_shape(data_2018[\"Yearly brutto salary (without bonus and stocks) in EUR\"],data_2020[\"Yearly brutto salary (without bonus and stocks) in EUR\"])"
   ]
  },
  {
   "cell_type": "markdown",
   "metadata": {},
   "source": [
    "We can see that the brutto salary gets more heavily skewed to the left from 2018 to 2020. Furthermore, the distribution gets more Leptokurtic (value increases). This could indicate that we have a decrease in outliers of yearly salaries."
   ]
  },
  {
   "cell_type": "code",
   "execution_count": 22,
   "metadata": {},
   "outputs": [
    {
     "name": "stdout",
     "output_type": "stream",
     "text": [
      "data1 has skew 4.27850774748754 and kurtosis 38.4721857635929,while data2 has skew 0.8261068035675968 and kurtosis 0.7506037596198332\n"
     ]
    },
    {
     "data": {
      "text/plain": [
       "(4.27850774748754, 38.4721857635929, 0.8261068035675968, 0.7506037596198332)"
      ]
     },
     "execution_count": 22,
     "metadata": {},
     "output_type": "execute_result"
    }
   ],
   "source": [
    "#compare years of work experience\n",
    "compare_shape(data_2018[\"Total years of experience\"], data_2020[\"Total years of experience\"])"
   ]
  },
  {
   "cell_type": "markdown",
   "metadata": {},
   "source": [
    "We can see a big drop in skewness and curtosis, this could be due to outliers being present in the 2018 dataset."
   ]
  },
  {
   "cell_type": "markdown",
   "metadata": {},
   "source": [
    "## Exercise 2b)"
   ]
  },
  {
   "cell_type": "code",
   "execution_count": 23,
   "metadata": {},
   "outputs": [
    {
     "name": "stdout",
     "output_type": "stream",
     "text": [
      "data1 has variance 459856894.15871936 an standard devation 21444.27415788931, while data2 has variance 566803505.259781 and standard deviation 23807.635440332604\n"
     ]
    },
    {
     "data": {
      "text/plain": [
       "(459856894.15871936, 21444.27415788931, 566803505.259781, 23807.635440332604)"
      ]
     },
     "execution_count": 23,
     "metadata": {},
     "output_type": "execute_result"
    }
   ],
   "source": [
    "compare_spread(data_2018[\"Yearly brutto salary (without bonus and stocks) in EUR\"],data_2020[\"Yearly brutto salary (without bonus and stocks) in EUR\"])"
   ]
  },
  {
   "cell_type": "markdown",
   "metadata": {},
   "source": [
    "We can see that the standard deviation and variance have increased from 2018 to 2020 for the salary, which shows that the data is further away from the mean"
   ]
  },
  {
   "cell_type": "code",
   "execution_count": 24,
   "metadata": {},
   "outputs": [
    {
     "name": "stdout",
     "output_type": "stream",
     "text": [
      "data1 has variance 36.79584764838289 an standard devation 6.065958098139394, while data2 has variance 34.11392716535433 and standard deviation 5.840712898726861\n"
     ]
    },
    {
     "data": {
      "text/plain": [
       "(36.79584764838289, 6.065958098139394, 34.11392716535433, 5.840712898726861)"
      ]
     },
     "execution_count": 24,
     "metadata": {},
     "output_type": "execute_result"
    }
   ],
   "source": [
    "compare_spread(data_2018[\"Total years of experience\"], data_2020[\"Total years of experience\"])"
   ]
  },
  {
   "cell_type": "markdown",
   "metadata": {},
   "source": [
    "The opposite is the case for the total years of experience, here the data is more close to the mean."
   ]
  },
  {
   "cell_type": "markdown",
   "metadata": {},
   "source": [
    "## Exercise 2c)"
   ]
  },
  {
   "cell_type": "code",
   "execution_count": 26,
   "metadata": {},
   "outputs": [
    {
     "data": {
      "text/plain": [
       "22437.61920980926"
      ]
     },
     "execution_count": 26,
     "metadata": {},
     "output_type": "execute_result"
    }
   ],
   "source": [
    "data_2018[\"Total years of experience\"].cov(data_2018[\"Yearly brutto salary (without bonus and stocks) in EUR\"]) #covariance 2018"
   ]
  },
  {
   "cell_type": "code",
   "execution_count": 27,
   "metadata": {},
   "outputs": [
    {
     "data": {
      "text/plain": [
       "18573.810162401576"
      ]
     },
     "execution_count": 27,
     "metadata": {},
     "output_type": "execute_result"
    }
   ],
   "source": [
    "data_2020[\"Total years of experience\"].cov(data_2020[\"Yearly brutto salary (without bonus and stocks) in EUR\"])#covariance 2020"
   ]
  },
  {
   "cell_type": "markdown",
   "metadata": {},
   "source": [
    "We can see that the covariance is still positive, unfortunately the change in value doesnt tell us much with this statistic."
   ]
  },
  {
   "cell_type": "code",
   "execution_count": 28,
   "metadata": {},
   "outputs": [
    {
     "data": {
      "text/html": [
       "<div>\n",
       "<style scoped>\n",
       "    .dataframe tbody tr th:only-of-type {\n",
       "        vertical-align: middle;\n",
       "    }\n",
       "\n",
       "    .dataframe tbody tr th {\n",
       "        vertical-align: top;\n",
       "    }\n",
       "\n",
       "    .dataframe thead th {\n",
       "        text-align: right;\n",
       "    }\n",
       "</style>\n",
       "<table border=\"1\" class=\"dataframe\">\n",
       "  <thead>\n",
       "    <tr style=\"text-align: right;\">\n",
       "      <th></th>\n",
       "      <th>Total years of experience</th>\n",
       "      <th>Yearly brutto salary (without bonus and stocks) in EUR</th>\n",
       "    </tr>\n",
       "  </thead>\n",
       "  <tbody>\n",
       "    <tr>\n",
       "      <th>Total years of experience</th>\n",
       "      <td>1.000000</td>\n",
       "      <td>0.172491</td>\n",
       "    </tr>\n",
       "    <tr>\n",
       "      <th>Yearly brutto salary (without bonus and stocks) in EUR</th>\n",
       "      <td>0.172491</td>\n",
       "      <td>1.000000</td>\n",
       "    </tr>\n",
       "  </tbody>\n",
       "</table>\n",
       "</div>"
      ],
      "text/plain": [
       "                                                    Total years of experience  \\\n",
       "Total years of experience                                            1.000000   \n",
       "Yearly brutto salary (without bonus and stocks)...                   0.172491   \n",
       "\n",
       "                                                    Yearly brutto salary (without bonus and stocks) in EUR  \n",
       "Total years of experience                                                                    0.172491       \n",
       "Yearly brutto salary (without bonus and stocks)...                                           1.000000       "
      ]
     },
     "execution_count": 28,
     "metadata": {},
     "output_type": "execute_result"
    }
   ],
   "source": [
    "data_corr_2018 = data_2018[[\"Total years of experience\", \"Yearly brutto salary (without bonus and stocks) in EUR\"]]\n",
    "data_corr_2018.corr(method=\"pearson\")"
   ]
  },
  {
   "cell_type": "code",
   "execution_count": 29,
   "metadata": {},
   "outputs": [
    {
     "data": {
      "text/html": [
       "<div>\n",
       "<style scoped>\n",
       "    .dataframe tbody tr th:only-of-type {\n",
       "        vertical-align: middle;\n",
       "    }\n",
       "\n",
       "    .dataframe tbody tr th {\n",
       "        vertical-align: top;\n",
       "    }\n",
       "\n",
       "    .dataframe thead th {\n",
       "        text-align: right;\n",
       "    }\n",
       "</style>\n",
       "<table border=\"1\" class=\"dataframe\">\n",
       "  <thead>\n",
       "    <tr style=\"text-align: right;\">\n",
       "      <th></th>\n",
       "      <th>Total years of experience</th>\n",
       "      <th>Yearly brutto salary (without bonus and stocks) in EUR</th>\n",
       "    </tr>\n",
       "  </thead>\n",
       "  <tbody>\n",
       "    <tr>\n",
       "      <th>Total years of experience</th>\n",
       "      <td>1.000000</td>\n",
       "      <td>0.133573</td>\n",
       "    </tr>\n",
       "    <tr>\n",
       "      <th>Yearly brutto salary (without bonus and stocks) in EUR</th>\n",
       "      <td>0.133573</td>\n",
       "      <td>1.000000</td>\n",
       "    </tr>\n",
       "  </tbody>\n",
       "</table>\n",
       "</div>"
      ],
      "text/plain": [
       "                                                    Total years of experience  \\\n",
       "Total years of experience                                            1.000000   \n",
       "Yearly brutto salary (without bonus and stocks)...                   0.133573   \n",
       "\n",
       "                                                    Yearly brutto salary (without bonus and stocks) in EUR  \n",
       "Total years of experience                                                                    0.133573       \n",
       "Yearly brutto salary (without bonus and stocks)...                                           1.000000       "
      ]
     },
     "execution_count": 29,
     "metadata": {},
     "output_type": "execute_result"
    }
   ],
   "source": [
    "data_corr_2020 = data_2020[[\"Total years of experience\", \"Yearly brutto salary (without bonus and stocks) in EUR\"]]\n",
    "data_corr_2020.corr(method=\"pearson\")"
   ]
  },
  {
   "cell_type": "markdown",
   "metadata": {},
   "source": [
    "We can see a decrease in correlation between years of experience and yearly salary. This could mean that time spent in the industry is worse at predicting salary for an it employee in 2020 than in 2018."
   ]
  }
 ],
 "metadata": {
  "kernelspec": {
   "display_name": "Python 3.10.7 ('data_science-dDCtDHdq')",
   "language": "python",
   "name": "python3"
  },
  "language_info": {
   "codemirror_mode": {
    "name": "ipython",
    "version": 3
   },
   "file_extension": ".py",
   "mimetype": "text/x-python",
   "name": "python",
   "nbconvert_exporter": "python",
   "pygments_lexer": "ipython3",
   "version": "3.10.7"
  },
  "orig_nbformat": 4,
  "vscode": {
   "interpreter": {
    "hash": "879e0aa37acc94d6458fa173f3288bcea56e82a3b9fca582a9c7d294b714e537"
   }
  }
 },
 "nbformat": 4,
 "nbformat_minor": 2
}
