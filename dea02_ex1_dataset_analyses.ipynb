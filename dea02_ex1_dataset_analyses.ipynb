{
 "cells": [
  {
   "cell_type": "code",
   "execution_count": null,
   "metadata": {},
   "outputs": [],
   "source": [
    "import pandas as pd\n",
    "import numpy as np\n",
    "import json\n",
    "import plotly.express as px\n"
   ]
  },
  {
   "cell_type": "markdown",
   "metadata": {},
   "source": [
    "## Exercise 1\n",
    "\n",
    "First we load and take a look at the dataset"
   ]
  },
  {
   "cell_type": "code",
   "execution_count": null,
   "metadata": {},
   "outputs": [],
   "source": [
    "dessert_data = pd.read_json(\"data/dessert.json\")\n",
    "dessert_data.drop([\"portions\", \"nutrients\"],axis=1,inplace=True)\n",
    "dessert_data.sample(10)"
   ]
  },
  {
   "cell_type": "markdown",
   "metadata": {},
   "source": [
    "### Exercise 1a)\n",
    "\n",
    "We decided to replace empty Strings and `None` values with the string \"No manufacturer\" for the **Manufacturer** column:"
   ]
  },
  {
   "cell_type": "code",
   "execution_count": null,
   "metadata": {},
   "outputs": [],
   "source": [
    "dessert_data.replace(\"\", None, inplace=True)\n",
    "dessert_data.fillna(value=\"no Manufacturer\",inplace=True)\n",
    "dessert_data[\"manufacturer\"].sample(40)"
   ]
  },
  {
   "cell_type": "markdown",
   "metadata": {},
   "source": [
    "Next, we need to extract the contents of the lists in the **tags** column. We define a function to print the content of the list and return it:"
   ]
  },
  {
   "cell_type": "code",
   "execution_count": null,
   "metadata": {},
   "outputs": [],
   "source": [
    "def print_list(my_list):\n",
    "    if len(my_list) > 0:\n",
    "        count = 0\n",
    "        for x in my_list:\n",
    "            print(f\"list value of element {count}: {x}\")\n",
    "            count += 1\n",
    "    return my_list\n",
    "dessert_data[\"tags\"].map(print_list)"
   ]
  },
  {
   "cell_type": "markdown",
   "metadata": {},
   "source": [
    "As you can see, we have only 4 list entries actually containing any tags in the entire column. And for those entries, the list has a length of 1, which means we can use a similiar function to extract the values from the list and return them as a string to the dataframe:"
   ]
  },
  {
   "cell_type": "code",
   "execution_count": null,
   "metadata": {},
   "outputs": [],
   "source": [
    "def extract_list_ele(my_list): #returns first content of list if non empty and \"no Tags\" otherwise\n",
    "    if type(my_list) == list: # check if we are working on lists\n",
    "        if len(my_list) == 0:\n",
    "            return \"no Tags\"\n",
    "        else:\n",
    "            return my_list[0]\n",
    "    else: #if not list, do nothing\n",
    "        return my_list\n",
    "\n",
    "dessert_data[\"tags\"]=dessert_data[\"tags\"].map(extract_list_ele)\n",
    "\n",
    "dessert_data['tags'].sample(10)"
   ]
  },
  {
   "cell_type": "markdown",
   "metadata": {},
   "source": [
    "We need to consolidate different types of spellings in the `type` column:"
   ]
  },
  {
   "cell_type": "code",
   "execution_count": null,
   "metadata": {},
   "outputs": [],
   "source": [
    "dessert_data[\"type\"].unique()"
   ]
  },
  {
   "cell_type": "code",
   "execution_count": null,
   "metadata": {},
   "outputs": [],
   "source": [
    "dessert_data.replace(\"Sweet Breads\", \"Sweet Bread\", inplace=True)\n",
    "dessert_data.replace(\"sweet bread\", \"Sweet Bread\", inplace=True)\n",
    "dessert_data.replace(\"Sweet bread\", \"Sweet Bread\", inplace=True)\n",
    "\n",
    "dessert_data.replace(\"Cookies\", \"Cookie\", inplace=True)\n",
    "dessert_data.replace(\"Coookies\", \"Cookie\", inplace=True)\n",
    "\n",
    "dessert_data.replace(\"Biscuits\", \"Biscuit\", inplace=True)\n",
    "\n",
    "dessert_data.replace(\"Muffins\", \"Muffin\", inplace=True)\n",
    "\n",
    "dessert_data.replace(\"Savory bread\", \"Savory Bread\", inplace=True)"
   ]
  },
  {
   "cell_type": "markdown",
   "metadata": {},
   "source": [
    "Furthermore, we are going to flatten the `nutrients` and `portions` columns with `json_normalize()`:"
   ]
  },
  {
   "cell_type": "code",
   "execution_count": null,
   "metadata": {},
   "outputs": [],
   "source": [
    "with open(\"data/dessert.json\") as json_file: \n",
    "    dessert_json = json.load(json_file)\n",
    "    \n",
    "dessert_data_port = pd.json_normalize(dessert_json, record_path=[\"portions\"],meta=[\"id\",\"type\"],meta_prefix=\"origin-\") # flatten json object into separate df\n",
    "dessert_data_nutr = pd.json_normalize(dessert_json, record_path=[\"nutrients\"],meta=[\"id\",\"type\"], meta_prefix=\"origin-\") # flatten json object into separate df"
   ]
  },
  {
   "cell_type": "markdown",
   "metadata": {},
   "source": [
    "since we are loading from the json, we need to consolidate `type` again:"
   ]
  },
  {
   "cell_type": "code",
   "execution_count": null,
   "metadata": {},
   "outputs": [],
   "source": [
    "dessert_data_nutr.replace(\"Sweet Breads\", \"Sweet Bread\", inplace=True)\n",
    "dessert_data_nutr.replace(\"sweet bread\", \"Sweet Bread\", inplace=True)\n",
    "dessert_data_nutr.replace(\"Sweet bread\", \"Sweet Bread\", inplace=True)\n",
    "\n",
    "dessert_data_nutr.replace(\"Cookies\", \"Cookie\", inplace=True)\n",
    "dessert_data_nutr.replace(\"Coookies\", \"Cookie\", inplace=True)\n",
    "\n",
    "dessert_data_nutr.replace(\"Biscuits\", \"Biscuit\", inplace=True)\n",
    "\n",
    "dessert_data_nutr.replace(\"Muffins\", \"Muffin\", inplace=True)\n",
    "\n",
    "dessert_data_nutr.replace(\"Savory bread\", \"Savory Bread\", inplace=True)\n",
    "\n",
    "\n",
    "\n",
    "dessert_data_port.replace(\"Sweet Breads\", \"Sweet Bread\", inplace=True)\n",
    "dessert_data_port.replace(\"sweet bread\", \"Sweet Bread\", inplace=True)\n",
    "dessert_data_port.replace(\"Sweet bread\", \"Sweet Bread\", inplace=True)\n",
    "\n",
    "dessert_data_port.replace(\"Cookies\", \"Cookie\", inplace=True)\n",
    "dessert_data_port.replace(\"Coookies\", \"Cookie\", inplace=True)\n",
    "\n",
    "dessert_data_port.replace(\"Biscuits\", \"Biscuit\", inplace=True)\n",
    "\n",
    "dessert_data_port.replace(\"Muffins\", \"Muffin\", inplace=True)\n",
    "\n",
    "dessert_data_port.replace(\"Savory bread\", \"Savory Bread\", inplace=True)"
   ]
  },
  {
   "cell_type": "markdown",
   "metadata": {},
   "source": [
    "lets look at the nutr table and check it for none types:"
   ]
  },
  {
   "cell_type": "code",
   "execution_count": null,
   "metadata": {},
   "outputs": [],
   "source": [
    "nutr_none =dessert_data_nutr[dessert_data_nutr[\"type\"].isna()] #filter out all rows containing a None type val\n",
    "nutr_none"
   ]
  },
  {
   "cell_type": "markdown",
   "metadata": {},
   "source": [
    "We only have one single entry which is None, so we can overwrite it manually with the \"Vitamin\" type:"
   ]
  },
  {
   "cell_type": "code",
   "execution_count": null,
   "metadata": {},
   "outputs": [],
   "source": [
    "dessert_data_nutr.at[8443,\"type\"] = \"Vitamins\"\n",
    "nutr_none =dessert_data_nutr[dessert_data_nutr[\"type\"].isna()]\n",
    "nutr_none #should be empty now"
   ]
  },
  {
   "cell_type": "markdown",
   "metadata": {},
   "source": [
    "Next, there is one negative value which we need to set to zero: "
   ]
  },
  {
   "cell_type": "code",
   "execution_count": null,
   "metadata": {},
   "outputs": [],
   "source": [
    "#dessert_data_nutr['value'].describe\n",
    "dessert_data_nutr[dessert_data_nutr[\"value\"]< 0]"
   ]
  },
  {
   "cell_type": "code",
   "execution_count": null,
   "metadata": {},
   "outputs": [],
   "source": [
    "dessert_data_nutr.at[416, \"value\"] = 0\n",
    "dessert_data_nutr[dessert_data_nutr[\"value\"]<0]"
   ]
  },
  {
   "cell_type": "markdown",
   "metadata": {},
   "source": [
    "### Exercise 1b)\n",
    "\n"
   ]
  },
  {
   "cell_type": "code",
   "execution_count": null,
   "metadata": {},
   "outputs": [],
   "source": [
    "#get unique dessert types\n",
    "dessert_data[\"type\"].unique()\n"
   ]
  },
  {
   "cell_type": "code",
   "execution_count": null,
   "metadata": {},
   "outputs": [],
   "source": [
    "#get dessert type distribution\n",
    "dessert_data[\"type\"].value_counts().plot.bar()"
   ]
  },
  {
   "cell_type": "markdown",
   "metadata": {},
   "source": [
    "### Exercise 1 c)\n",
    "\n",
    "We need to display the median of vitamins by food type. In order to achieve this, we use the `groupby()` method:"
   ]
  },
  {
   "cell_type": "code",
   "execution_count": null,
   "metadata": {},
   "outputs": [],
   "source": [
    "nutr_vit = dessert_data_nutr.query('type.str.contains(\"Vitamins\")', engine = 'python') # only keep entries with type Vitamins\n",
    "nutr_vit.drop(\"origin-id\",axis=1).groupby([\"origin-type\"]).median(True)"
   ]
  },
  {
   "cell_type": "markdown",
   "metadata": {},
   "source": [
    "### Exercise 1 d)\n",
    "\n",
    "We are tasked with detecting outliers in the amount of available vitamins with a some different methods. We are going to start with a box plot:"
   ]
  },
  {
   "cell_type": "code",
   "execution_count": null,
   "metadata": {},
   "outputs": [],
   "source": [
    "fig = px.box(nutr_vit, x = \"value\",y = \"type\")\n",
    "fig"
   ]
  },
  {
   "cell_type": "markdown",
   "metadata": {},
   "source": [
    "A different approach to spot outliers in a dataset is with a scatter plot. It is quite similar to box plot, but it is usually easier to see outlier data with a scatter plot."
   ]
  },
  {
   "cell_type": "code",
   "execution_count": null,
   "metadata": {},
   "outputs": [],
   "source": [
    "# scatter plot\n",
    "fig = px.scatter(nutr_vit, y='value', title='Outlier detection with a scatter plot', color='value', color_continuous_scale='thermal')\n",
    "fig.show()"
   ]
  },
  {
   "cell_type": "markdown",
   "metadata": {},
   "source": [
    "We can check the distribution of the data to see which statistical approach can be used."
   ]
  },
  {
   "cell_type": "code",
   "execution_count": null,
   "metadata": {},
   "outputs": [],
   "source": [
    "# draw a histogram to check value distribution\n",
    "fig = px.histogram(nutr_vit['value'], x='value', title='Distribution of the values of Vitamins')\n",
    "fig.show()"
   ]
  },
  {
   "cell_type": "markdown",
   "metadata": {},
   "source": [
    "Since the data is not normally distirbuted, we can use the interquartile range (IQR) method instead of using the Z-score. Normally the IQR is used with the 25th and the 75th percentile of a given dataset. Our data seems very spread and so we decided to adjust the percentiles for lower and upper barrier individually."
   ]
  },
  {
   "cell_type": "code",
   "execution_count": null,
   "metadata": {},
   "outputs": [],
   "source": [
    "# find outliers with defined 'barriers' of min and max (in %) and then apply this as a filter on the given dataframe\n",
    "def find_outliers_IQR(df, min, max):\n",
    "   q1=df.quantile(min / 100)\n",
    "   q3=df.quantile(max / 100)\n",
    "\n",
    "   IQR=q3-q1\n",
    "\n",
    "   outliers = df[((df<(q1-1.5*IQR)) | (df>(q3+1.5*IQR)))]\n",
    "\n",
    "   return outliers"
   ]
  },
  {
   "cell_type": "code",
   "execution_count": null,
   "metadata": {},
   "outputs": [],
   "source": [
    "# apply function to dataframe and store the outliers\n",
    "outliers = find_outliers_IQR(nutr_vit['value'], 5, 95)\n",
    "\n",
    "print(\"number of outliers: \"+ str(len(outliers)))\n",
    "print(\"max outlier value: \"+ str(outliers.max()))\n",
    "print(\"min outlier value: \"+ str(outliers.min()))\n",
    "\n",
    "outliers"
   ]
  }
 ],
 "metadata": {
  "kernelspec": {
   "display_name": "Python 3 (ipykernel)",
   "language": "python",
   "name": "python3"
  },
  "language_info": {
   "codemirror_mode": {
    "name": "ipython",
    "version": 3
   },
   "file_extension": ".py",
   "mimetype": "text/x-python",
   "name": "python",
   "nbconvert_exporter": "python",
   "pygments_lexer": "ipython3",
   "version": "3.8.10"
  },
  "vscode": {
   "interpreter": {
    "hash": "91c9c3035d31b1b248a09f4683e22d2eee92d43933c62df06aa9c8e048bab2cb"
   }
  }
 },
 "nbformat": 4,
 "nbformat_minor": 2
}
