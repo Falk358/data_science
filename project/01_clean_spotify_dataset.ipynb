{
 "cells": [
  {
   "cell_type": "code",
   "execution_count": 2,
   "metadata": {},
   "outputs": [],
   "source": [
    "import numpy as np\n",
    "import pandas as pd\n",
    "import plotly.express as px"
   ]
  },
  {
   "cell_type": "markdown",
   "metadata": {},
   "source": [
    "# Data processing - Cleaning of the dataset"
   ]
  },
  {
   "cell_type": "markdown",
   "metadata": {},
   "source": [
    "In this notebook, we will clean the spotify dataset we will be using for our project. Please download the entire dataset here: https://www.kaggle.com/datasets/dhruvildave/spotify-charts **Please make sure to run 'convert_spotify_data.py' with correct paths in the method parameters before running this notebook**. \n",
    "That short script will only retain the years we acutally need for our project, in order to make the csv a lot smaller. (The dataset is too big, if we place the script in the notebook it takes a very long time to finish)"
   ]
  },
  {
   "cell_type": "markdown",
   "metadata": {},
   "source": [
    "Define functions"
   ]
  },
  {
   "cell_type": "code",
   "execution_count": 3,
   "metadata": {},
   "outputs": [],
   "source": [
    "# check if region has missing ranks\n",
    "def checkMissingRanks(df, region, numOfRanks = 200):\n",
    "    missing = 0\n",
    "    missingList = []\n",
    "    df_region = df[df['region'] == region]\n",
    "    for index, val in df_region['date'].value_counts().items():\n",
    "        if val < numOfRanks:\n",
    "            missing = missing + (numOfRanks-val)\n",
    "            #print('date:', index, ', #ranks:', val)\n",
    "    if missing == 0:\n",
    "        print('No missing ranks!')\n",
    "    else:\n",
    "        print(missing, 'missing rank entries!')"
   ]
  },
  {
   "cell_type": "code",
   "execution_count": 4,
   "metadata": {},
   "outputs": [],
   "source": [
    "def checkMissingDates(df, region):\n",
    "    df_region = df[df['region'] == region]\n",
    "    \n",
    "    # dates which are not in the sequence are returned\n",
    "    missing = pd.date_range(start=df['date'].min(), end=df['date'].max()).difference(df_region['date'])\n",
    "    \n",
    "    if missing.size == 0:\n",
    "        print('No missing dates!')\n",
    "    else:\n",
    "        print(missing.size, 'missing dates!')\n",
    "        return missing"
   ]
  },
  {
   "cell_type": "code",
   "execution_count": 5,
   "metadata": {},
   "outputs": [],
   "source": [
    "def checkMissingData(df, ranks = 200):\n",
    "    regions = df['region'].unique()\n",
    "    \n",
    "    for region in regions:\n",
    "        print(region)\n",
    "        missingDates = checkMissingDates(df, region)\n",
    "        missingRanks = checkMissingRanks(df, region, ranks)\n",
    "        print()"
   ]
  },
  {
   "cell_type": "markdown",
   "metadata": {},
   "source": [
    "Import dataset"
   ]
  },
  {
   "cell_type": "code",
   "execution_count": null,
   "metadata": {},
   "outputs": [],
   "source": [
    "pd.set_option('display.float_format', lambda x: '%.5f' % x)\n",
    "data_raw = pd.read_csv(\"../data/spotify_2020+.csv\")"
   ]
  },
  {
   "cell_type": "markdown",
   "metadata": {},
   "source": [
    "Sort the values by region, then date and ultimately by rank for later processing"
   ]
  },
  {
   "cell_type": "code",
   "execution_count": null,
   "metadata": {},
   "outputs": [],
   "source": [
    "data_raw.sort_values(by=['region', 'date', 'rank'], inplace=True)"
   ]
  },
  {
   "cell_type": "code",
   "execution_count": null,
   "metadata": {},
   "outputs": [],
   "source": [
    "# set a new index after the sort and check if\n",
    "data_raw = data_raw.reset_index(drop=True)\n",
    "data_raw.head(10)"
   ]
  },
  {
   "cell_type": "markdown",
   "metadata": {},
   "source": [
    "First, lets see which columns contain missing values:"
   ]
  },
  {
   "cell_type": "code",
   "execution_count": null,
   "metadata": {},
   "outputs": [],
   "source": [
    "data_raw.isna().sum()"
   ]
  },
  {
   "cell_type": "markdown",
   "metadata": {},
   "source": [
    "As evident, most missing values occur in the 'streams' column. We can drop this column since we wont need it in our analysis. We will also drop the 'Unnamed 0' column"
   ]
  },
  {
   "cell_type": "code",
   "execution_count": null,
   "metadata": {},
   "outputs": [],
   "source": [
    "data_no_streams = data_raw.drop(columns=[\"Unnamed: 0\", \"streams\"],axis=1)"
   ]
  },
  {
   "cell_type": "code",
   "execution_count": null,
   "metadata": {},
   "outputs": [],
   "source": [
    "data_no_streams.head(5)"
   ]
  },
  {
   "cell_type": "markdown",
   "metadata": {},
   "source": [
    "In this cell, we find out which entries have missing artist fields and inspect them:"
   ]
  },
  {
   "cell_type": "code",
   "execution_count": null,
   "metadata": {},
   "outputs": [],
   "source": [
    "artist_missing = data_no_streams.isna()\n",
    "row_has_nan = artist_missing.any(axis=1)\n",
    "rows_with_nan = artist_missing[row_has_nan]\n",
    "indices_missing = rows_with_nan.index.values\n",
    "data_no_streams.loc[indices_missing]"
   ]
  },
  {
   "cell_type": "markdown",
   "metadata": {},
   "source": [
    "All rows seem to use the song title 'NO GOOD'. Lets check if that title is used anywhere else or if this is showing a defect data entry:"
   ]
  },
  {
   "cell_type": "code",
   "execution_count": null,
   "metadata": {},
   "outputs": [],
   "source": [
    "mask = data_no_streams[\"title\"].str.contains(\"NO GOOD\")\n",
    "data_no_streams[mask]"
   ]
  },
  {
   "cell_type": "markdown",
   "metadata": {},
   "source": [
    "This could be an actual track name. We will therefore fill the Nan value with 'Unkown Artist' instead of deleting the rows:"
   ]
  },
  {
   "cell_type": "code",
   "execution_count": null,
   "metadata": {},
   "outputs": [],
   "source": [
    "data_no_streams[\"artist\"].fillna(value=\"Unkown artist\",inplace=True)"
   ]
  },
  {
   "cell_type": "code",
   "execution_count": null,
   "metadata": {},
   "outputs": [],
   "source": [
    "# sanity check\n",
    "data_no_streams.isna().sum()"
   ]
  },
  {
   "cell_type": "markdown",
   "metadata": {},
   "source": [
    "Check for dtypes in the dataframe"
   ]
  },
  {
   "cell_type": "code",
   "execution_count": null,
   "metadata": {},
   "outputs": [],
   "source": [
    "# check datatypes\n",
    "data_no_streams.dtypes"
   ]
  },
  {
   "cell_type": "markdown",
   "metadata": {},
   "source": [
    "Convert 'date' column to date format"
   ]
  },
  {
   "cell_type": "code",
   "execution_count": null,
   "metadata": {},
   "outputs": [],
   "source": [
    "data_no_streams['date'] = pd.to_datetime(data_no_streams.date)\n",
    "data_no_streams.dtypes"
   ]
  },
  {
   "cell_type": "code",
   "execution_count": null,
   "metadata": {},
   "outputs": [],
   "source": [
    "# check if more cleaning is needed\n",
    "# checkMissingData(data_no_streams)"
   ]
  },
  {
   "cell_type": "markdown",
   "metadata": {},
   "source": [
    "Check for additional missing data is not needed because we will look into titles, where the information for missing rank is not necessary"
   ]
  },
  {
   "cell_type": "markdown",
   "metadata": {},
   "source": [
    "For future work on this dataset, we are exporting the data cleaning to a new csv file."
   ]
  },
  {
   "cell_type": "code",
   "execution_count": null,
   "metadata": {},
   "outputs": [],
   "source": [
    "data_no_streams = data_no_streams.drop(columns=['Unnamed: 0.1'])\n",
    "data_no_streams.to_csv('../data/spotify_2020+_cleaned.csv')"
   ]
  }
 ],
 "metadata": {
  "kernelspec": {
   "display_name": "dataeng_kernel",
   "language": "python",
   "name": "dataeng_kernel"
  },
  "language_info": {
   "codemirror_mode": {
    "name": "ipython",
    "version": 3
   },
   "file_extension": ".py",
   "mimetype": "text/x-python",
   "name": "python",
   "nbconvert_exporter": "python",
   "pygments_lexer": "ipython3",
   "version": "3.10.8"
  },
  "vscode": {
   "interpreter": {
    "hash": "2114cf3cacde0e7be3928236994dc1d39087340c025812983894b75528f3f662"
   }
  }
 },
 "nbformat": 4,
 "nbformat_minor": 4
}
