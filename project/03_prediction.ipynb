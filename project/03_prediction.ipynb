{
 "cells": [
  {
   "cell_type": "code",
   "execution_count": 26,
   "metadata": {},
   "outputs": [],
   "source": [
    "import numpy as np\n",
    "import pandas as pd\n",
    "import matplotlib.pyplot as plt\n",
    "import seaborn as sns\n",
    "from datetime import timedelta\n",
    "from sklearn.preprocessing import StandardScaler\n",
    "from sklearn.preprocessing import PowerTransformer\n",
    "from sklearn.preprocessing import OneHotEncoder\n",
    "from sklearn.decomposition import PCA\n",
    "from sklearn.preprocessing import PolynomialFeatures\n",
    "from sklearn.pipeline import Pipeline\n",
    "from sklearn.svm import SVC\n",
    "from sklearn.pipeline import make_pipeline\n",
    "from sklearn.linear_model import LinearRegression\n",
    "from sklearn.model_selection import train_test_split\n",
    "from sklearn.metrics import mean_absolute_error, mean_squared_error, r2_score, accuracy_score"
   ]
  },
  {
   "cell_type": "markdown",
   "metadata": {},
   "source": []
  },
  {
   "cell_type": "code",
   "execution_count": 3,
   "metadata": {},
   "outputs": [
    {
     "data": {
      "text/html": [
       "<div>\n",
       "<style scoped>\n",
       "    .dataframe tbody tr th:only-of-type {\n",
       "        vertical-align: middle;\n",
       "    }\n",
       "\n",
       "    .dataframe tbody tr th {\n",
       "        vertical-align: top;\n",
       "    }\n",
       "\n",
       "    .dataframe thead th {\n",
       "        text-align: right;\n",
       "    }\n",
       "</style>\n",
       "<table border=\"1\" class=\"dataframe\">\n",
       "  <thead>\n",
       "    <tr style=\"text-align: right;\">\n",
       "      <th></th>\n",
       "      <th>title</th>\n",
       "      <th>date_viral</th>\n",
       "      <th>viral_50_rank</th>\n",
       "      <th>date_top200</th>\n",
       "      <th>top_200_rank</th>\n",
       "    </tr>\n",
       "  </thead>\n",
       "  <tbody>\n",
       "    <tr>\n",
       "      <th>667</th>\n",
       "      <td>Head &amp; Heart (feat. MNEK)</td>\n",
       "      <td>2020-10-04</td>\n",
       "      <td>44.0</td>\n",
       "      <td>2020-10-11</td>\n",
       "      <td>81.0</td>\n",
       "    </tr>\n",
       "    <tr>\n",
       "      <th>1533</th>\n",
       "      <td>By Your Side</td>\n",
       "      <td>2021-12-19</td>\n",
       "      <td>37.0</td>\n",
       "      <td>2021-12-26</td>\n",
       "      <td>64.0</td>\n",
       "    </tr>\n",
       "    <tr>\n",
       "      <th>1383</th>\n",
       "      <td>Meet Me At Our Spot</td>\n",
       "      <td>2021-10-10</td>\n",
       "      <td>12.0</td>\n",
       "      <td>2021-10-17</td>\n",
       "      <td>10.0</td>\n",
       "    </tr>\n",
       "    <tr>\n",
       "      <th>1461</th>\n",
       "      <td>Cold Heart - PNAU Remix</td>\n",
       "      <td>2021-11-14</td>\n",
       "      <td>35.0</td>\n",
       "      <td>2021-11-21</td>\n",
       "      <td>24.0</td>\n",
       "    </tr>\n",
       "    <tr>\n",
       "      <th>1041</th>\n",
       "      <td>Beautiful Mistakes (feat. Megan Thee Stallion)</td>\n",
       "      <td>2021-04-25</td>\n",
       "      <td>49.0</td>\n",
       "      <td>2021-05-02</td>\n",
       "      <td>32.0</td>\n",
       "    </tr>\n",
       "    <tr>\n",
       "      <th>650</th>\n",
       "      <td>Head &amp; Heart (feat. MNEK)</td>\n",
       "      <td>2020-09-27</td>\n",
       "      <td>34.0</td>\n",
       "      <td>2020-10-04</td>\n",
       "      <td>89.0</td>\n",
       "    </tr>\n",
       "    <tr>\n",
       "      <th>367</th>\n",
       "      <td>Deep End Freestyle</td>\n",
       "      <td>2020-05-17</td>\n",
       "      <td>4.0</td>\n",
       "      <td>2020-05-24</td>\n",
       "      <td>50.0</td>\n",
       "    </tr>\n",
       "    <tr>\n",
       "      <th>1539</th>\n",
       "      <td>Notion</td>\n",
       "      <td>2021-12-19</td>\n",
       "      <td>36.0</td>\n",
       "      <td>2021-12-26</td>\n",
       "      <td>133.0</td>\n",
       "    </tr>\n",
       "    <tr>\n",
       "      <th>877</th>\n",
       "      <td>ROLLIN N CONTROLLIN FREESTYLE</td>\n",
       "      <td>2021-02-07</td>\n",
       "      <td>2.0</td>\n",
       "      <td>2021-02-14</td>\n",
       "      <td>104.0</td>\n",
       "    </tr>\n",
       "    <tr>\n",
       "      <th>300</th>\n",
       "      <td>WHATS POPPIN</td>\n",
       "      <td>2020-04-12</td>\n",
       "      <td>31.0</td>\n",
       "      <td>2020-04-19</td>\n",
       "      <td>7.0</td>\n",
       "    </tr>\n",
       "  </tbody>\n",
       "</table>\n",
       "</div>"
      ],
      "text/plain": [
       "                                               title  date_viral  \\\n",
       "667                        Head & Heart (feat. MNEK)  2020-10-04   \n",
       "1533                                    By Your Side  2021-12-19   \n",
       "1383                             Meet Me At Our Spot  2021-10-10   \n",
       "1461                         Cold Heart - PNAU Remix  2021-11-14   \n",
       "1041  Beautiful Mistakes (feat. Megan Thee Stallion)  2021-04-25   \n",
       "650                        Head & Heart (feat. MNEK)  2020-09-27   \n",
       "367                               Deep End Freestyle  2020-05-17   \n",
       "1539                                          Notion  2021-12-19   \n",
       "877                    ROLLIN N CONTROLLIN FREESTYLE  2021-02-07   \n",
       "300                                     WHATS POPPIN  2020-04-12   \n",
       "\n",
       "      viral_50_rank date_top200  top_200_rank  \n",
       "667            44.0  2020-10-11          81.0  \n",
       "1533           37.0  2021-12-26          64.0  \n",
       "1383           12.0  2021-10-17          10.0  \n",
       "1461           35.0  2021-11-21          24.0  \n",
       "1041           49.0  2021-05-02          32.0  \n",
       "650            34.0  2020-10-04          89.0  \n",
       "367             4.0  2020-05-24          50.0  \n",
       "1539           36.0  2021-12-26         133.0  \n",
       "877             2.0  2021-02-14         104.0  \n",
       "300            31.0  2020-04-19           7.0  "
      ]
     },
     "execution_count": 3,
     "metadata": {},
     "output_type": "execute_result"
    }
   ],
   "source": [
    "avg_ranks = pd.read_csv(\"../data/weekly_ranks.csv\")\n",
    "avg_ranks.drop(\"Unnamed: 0\",axis=1,inplace=True)\n",
    "avg_ranks.sample(10)"
   ]
  },
  {
   "cell_type": "code",
   "execution_count": 4,
   "metadata": {},
   "outputs": [],
   "source": [
    "xtrain, xtest, ytrain, ytest = train_test_split(avg_ranks[\"viral_50_rank\"].values,avg_ranks[\"top_200_rank\"].values, train_size=0.8)\n",
    "xtrain = xtrain.reshape(-1,1)\n",
    "#ytrain = ytrain.reshape(-1,1)\n",
    "xtest = xtest.reshape(-1,1)\n",
    "#ytest = ytest.reshape(-1,1)"
   ]
  },
  {
   "cell_type": "code",
   "execution_count": 16,
   "metadata": {},
   "outputs": [],
   "source": [
    "# test with svm\n",
    "svm_linear = SVC(kernel='linear')\n",
    "\n",
    "svm_fit_linear = svm_linear.fit(xtrain, ytrain)\n",
    "ypred = svm_fit_linear.predict(xtest)"
   ]
  },
  {
   "cell_type": "code",
   "execution_count": 18,
   "metadata": {},
   "outputs": [
    {
     "name": "stdout",
     "output_type": "stream",
     "text": [
      "accuracy of support vector machines with linear kernel is: 0.02258064516129032\n",
      "accuracy of support vector machines with linear kernel is: 0.025889967637540454\n"
     ]
    }
   ],
   "source": [
    "print(f'accuracy of support vector machines with linear kernel is: {accuracy_score(ypred, ytest)}')\n",
    "print(f'r^2 score of support vector machines with linear kernel is: {svm_fit_linear.score(xtrain, ytrain)}')"
   ]
  },
  {
   "cell_type": "code",
   "execution_count": 19,
   "metadata": {},
   "outputs": [],
   "source": [
    "svm_poly = SVC(kernel='poly')\n",
    "\n",
    "svm_fit_poly = svm_poly.fit(xtrain, ytrain)\n",
    "ypred = svm_fit_poly.predict(xtest)"
   ]
  },
  {
   "cell_type": "code",
   "execution_count": 20,
   "metadata": {},
   "outputs": [
    {
     "name": "stdout",
     "output_type": "stream",
     "text": [
      "accuracy of support vector machines with polynomial kernel is: 0.01935483870967742\n",
      "r^2 score of support vector machines with polynomial kernel is: 0.02912621359223301\n"
     ]
    }
   ],
   "source": [
    "print(f'accuracy of support vector machines with polynomial kernel is: {accuracy_score(ypred, ytest)}')\n",
    "print(f'r^2 score of support vector machines with polynomial kernel is: {svm_fit_poly.score(xtrain, ytrain)}')"
   ]
  },
  {
   "cell_type": "code",
   "execution_count": 6,
   "metadata": {},
   "outputs": [],
   "source": [
    "poly_degree = 3\n",
    "polyn_reg = make_pipeline(PolynomialFeatures(poly_degree),LinearRegression()) # create polynomial regression model\n",
    "#TODO get data into correct format for fitting\n",
    "polyn_reg = polyn_reg.fit(xtrain, ytrain)\n",
    "ypred = polyn_reg.predict(xtest)"
   ]
  },
  {
   "cell_type": "code",
   "execution_count": 7,
   "metadata": {},
   "outputs": [
    {
     "data": {
      "text/plain": [
       "0.004332477904229748"
      ]
     },
     "execution_count": 7,
     "metadata": {},
     "output_type": "execute_result"
    }
   ],
   "source": [
    "polyn_reg.score(xtrain,ytrain)# R² score for training data"
   ]
  },
  {
   "attachments": {},
   "cell_type": "markdown",
   "metadata": {},
   "source": [
    "### Try with trend"
   ]
  },
  {
   "cell_type": "code",
   "execution_count": 39,
   "metadata": {},
   "outputs": [
    {
     "data": {
      "text/html": [
       "<div>\n",
       "<style scoped>\n",
       "    .dataframe tbody tr th:only-of-type {\n",
       "        vertical-align: middle;\n",
       "    }\n",
       "\n",
       "    .dataframe tbody tr th {\n",
       "        vertical-align: top;\n",
       "    }\n",
       "\n",
       "    .dataframe thead th {\n",
       "        text-align: right;\n",
       "    }\n",
       "</style>\n",
       "<table border=\"1\" class=\"dataframe\">\n",
       "  <thead>\n",
       "    <tr style=\"text-align: right;\">\n",
       "      <th></th>\n",
       "      <th>title</th>\n",
       "      <th>date_viral</th>\n",
       "      <th>viral_50_rank</th>\n",
       "      <th>date_top200</th>\n",
       "      <th>top_200_rank</th>\n",
       "      <th>trend</th>\n",
       "    </tr>\n",
       "  </thead>\n",
       "  <tbody>\n",
       "    <tr>\n",
       "      <th>360</th>\n",
       "      <td>Supalonely</td>\n",
       "      <td>2020-05-10</td>\n",
       "      <td>35.0</td>\n",
       "      <td>2020-05-17</td>\n",
       "      <td>26.0</td>\n",
       "      <td>MOVE_DOWN</td>\n",
       "    </tr>\n",
       "    <tr>\n",
       "      <th>419</th>\n",
       "      <td>...And To Those I Love, Thanks For Sticking Ar...</td>\n",
       "      <td>2020-06-14</td>\n",
       "      <td>33.0</td>\n",
       "      <td>2020-06-21</td>\n",
       "      <td>80.0</td>\n",
       "      <td>MOVE_UP</td>\n",
       "    </tr>\n",
       "    <tr>\n",
       "      <th>728</th>\n",
       "      <td>Sofia</td>\n",
       "      <td>2020-11-01</td>\n",
       "      <td>37.0</td>\n",
       "      <td>2020-11-08</td>\n",
       "      <td>33.0</td>\n",
       "      <td>MOVE_DOWN</td>\n",
       "    </tr>\n",
       "    <tr>\n",
       "      <th>1455</th>\n",
       "      <td>Toxic</td>\n",
       "      <td>2021-11-07</td>\n",
       "      <td>14.0</td>\n",
       "      <td>2021-11-14</td>\n",
       "      <td>88.0</td>\n",
       "      <td>MOVE_UP</td>\n",
       "    </tr>\n",
       "    <tr>\n",
       "      <th>1046</th>\n",
       "      <td>Fiel</td>\n",
       "      <td>2021-04-25</td>\n",
       "      <td>14.0</td>\n",
       "      <td>2021-05-02</td>\n",
       "      <td>46.0</td>\n",
       "      <td>SAME_POSITION</td>\n",
       "    </tr>\n",
       "    <tr>\n",
       "      <th>1471</th>\n",
       "      <td>Notion</td>\n",
       "      <td>2021-11-14</td>\n",
       "      <td>8.0</td>\n",
       "      <td>2021-11-21</td>\n",
       "      <td>74.0</td>\n",
       "      <td>SAME_POSITION</td>\n",
       "    </tr>\n",
       "    <tr>\n",
       "      <th>72</th>\n",
       "      <td>Say So</td>\n",
       "      <td>2020-01-19</td>\n",
       "      <td>9.0</td>\n",
       "      <td>2020-01-26</td>\n",
       "      <td>21.0</td>\n",
       "      <td>MOVE_DOWN</td>\n",
       "    </tr>\n",
       "    <tr>\n",
       "      <th>1364</th>\n",
       "      <td>Jugaste y Sufrí</td>\n",
       "      <td>2021-10-03</td>\n",
       "      <td>10.0</td>\n",
       "      <td>2021-10-10</td>\n",
       "      <td>23.0</td>\n",
       "      <td>SAME_POSITION</td>\n",
       "    </tr>\n",
       "    <tr>\n",
       "      <th>134</th>\n",
       "      <td>CITY OF ANGELS</td>\n",
       "      <td>2020-02-16</td>\n",
       "      <td>45.0</td>\n",
       "      <td>2020-02-23</td>\n",
       "      <td>72.0</td>\n",
       "      <td>NEW_ENTRY</td>\n",
       "    </tr>\n",
       "    <tr>\n",
       "      <th>755</th>\n",
       "      <td>Lonely (with benny blanco)</td>\n",
       "      <td>2020-11-22</td>\n",
       "      <td>44.0</td>\n",
       "      <td>2020-11-29</td>\n",
       "      <td>45.0</td>\n",
       "      <td>MOVE_DOWN</td>\n",
       "    </tr>\n",
       "  </tbody>\n",
       "</table>\n",
       "</div>"
      ],
      "text/plain": [
       "                                                  title  date_viral  \\\n",
       "360                                          Supalonely  2020-05-10   \n",
       "419   ...And To Those I Love, Thanks For Sticking Ar...  2020-06-14   \n",
       "728                                               Sofia  2020-11-01   \n",
       "1455                                              Toxic  2021-11-07   \n",
       "1046                                               Fiel  2021-04-25   \n",
       "1471                                             Notion  2021-11-14   \n",
       "72                                               Say So  2020-01-19   \n",
       "1364                                    Jugaste y Sufrí  2021-10-03   \n",
       "134                                      CITY OF ANGELS  2020-02-16   \n",
       "755                          Lonely (with benny blanco)  2020-11-22   \n",
       "\n",
       "      viral_50_rank date_top200  top_200_rank          trend  \n",
       "360            35.0  2020-05-17          26.0      MOVE_DOWN  \n",
       "419            33.0  2020-06-21          80.0        MOVE_UP  \n",
       "728            37.0  2020-11-08          33.0      MOVE_DOWN  \n",
       "1455           14.0  2021-11-14          88.0        MOVE_UP  \n",
       "1046           14.0  2021-05-02          46.0  SAME_POSITION  \n",
       "1471            8.0  2021-11-21          74.0  SAME_POSITION  \n",
       "72              9.0  2020-01-26          21.0      MOVE_DOWN  \n",
       "1364           10.0  2021-10-10          23.0  SAME_POSITION  \n",
       "134            45.0  2020-02-23          72.0      NEW_ENTRY  \n",
       "755            44.0  2020-11-29          45.0      MOVE_DOWN  "
      ]
     },
     "execution_count": 39,
     "metadata": {},
     "output_type": "execute_result"
    }
   ],
   "source": [
    "avg_ranks_with_trend = pd.read_csv(\"../data/weekly_ranks_with_trends.csv\")\n",
    "avg_ranks_with_trend.drop(\"Unnamed: 0\",axis=1,inplace=True)\n",
    "avg_ranks_with_trend.sample(10)"
   ]
  },
  {
   "cell_type": "code",
   "execution_count": null,
   "metadata": {},
   "outputs": [],
   "source": [
    "# change dtype to integer instead of float\n",
    "avg_ranks_with_trend['viral_50_rank'] = avg_ranks_with_trend['viral_50_rank'].astype('int64')\n",
    "avg_ranks_with_trend['top_200_rank'] = avg_ranks_with_trend['top_200_rank'].astype('int64')"
   ]
  },
  {
   "cell_type": "code",
   "execution_count": 41,
   "metadata": {},
   "outputs": [],
   "source": [
    "xtrain, xtest, ytrain, ytest = train_test_split(avg_ranks_with_trend[[\"viral_50_rank\", \"trend\"]], avg_ranks_with_trend[\"top_200_rank\"], train_size=0.8)"
   ]
  },
  {
   "cell_type": "code",
   "execution_count": 42,
   "metadata": {},
   "outputs": [],
   "source": [
    "svm_linear = Pipeline([('ohe', OneHotEncoder()), ('clf', SVC(kernel='linear'))])\n",
    "\n",
    "svm_fit_linear = svm_linear.fit(xtrain, ytrain)\n",
    "ypred = svm_fit_linear.predict(xtest)"
   ]
  },
  {
   "cell_type": "code",
   "execution_count": 43,
   "metadata": {},
   "outputs": [
    {
     "name": "stdout",
     "output_type": "stream",
     "text": [
      "accuracy of support vector machines with linear kernel is: 0.012903225806451613\n",
      "r^2 score of support vector machines with linear kernel is: 0.1156957928802589\n"
     ]
    }
   ],
   "source": [
    "print(f'accuracy of support vector machines with linear kernel is: {accuracy_score(ypred, ytest)}')\n",
    "print(f'r^2 score of support vector machines with linear kernel is: {svm_fit_linear.score(xtrain, ytrain)}')"
   ]
  },
  {
   "cell_type": "code",
   "execution_count": 44,
   "metadata": {},
   "outputs": [],
   "source": [
    "svm_linear_poly = Pipeline([('ohe', OneHotEncoder()), ('clf', SVC(kernel='rbf'))])\n",
    "\n",
    "svm_fit_poly = svm_linear_poly.fit(xtrain, ytrain)\n",
    "ypred = svm_fit_poly.predict(xtest)"
   ]
  },
  {
   "cell_type": "code",
   "execution_count": 45,
   "metadata": {},
   "outputs": [
    {
     "name": "stdout",
     "output_type": "stream",
     "text": [
      "accuracy of support vector machines with polynomial kernel is: 0.016129032258064516\n",
      "r^2 score of support vector machines with polynomial kernel is: 0.11893203883495146\n"
     ]
    }
   ],
   "source": [
    "print(f'accuracy of support vector machines with polynomial kernel is: {accuracy_score(ypred, ytest)}')\n",
    "print(f'r^2 score of support vector machines with polynomial kernel is: {svm_fit_poly.score(xtrain, ytrain)}')"
   ]
  }
 ],
 "metadata": {
  "kernelspec": {
   "display_name": "data_science-KAJshHcW",
   "language": "python",
   "name": "python3"
  },
  "language_info": {
   "codemirror_mode": {
    "name": "ipython",
    "version": 3
   },
   "file_extension": ".py",
   "mimetype": "text/x-python",
   "name": "python",
   "nbconvert_exporter": "python",
   "pygments_lexer": "ipython3",
   "version": "3.10.8"
  },
  "orig_nbformat": 4,
  "vscode": {
   "interpreter": {
    "hash": "fac1c04ee84279c9c5a8b025d36a07e15f97091d6e5ca7ab3a86d052425722cf"
   }
  }
 },
 "nbformat": 4,
 "nbformat_minor": 2
}
