{
 "cells": [
  {
   "cell_type": "code",
   "execution_count": 16,
   "metadata": {},
   "outputs": [],
   "source": [
    "import numpy as np\n",
    "import pandas as pd\n",
    "import matplotlib.pyplot as plt\n",
    "import seaborn as sns\n",
    "from datetime import timedelta\n",
    "from sklearn.preprocessing import StandardScaler\n",
    "from sklearn.preprocessing import PowerTransformer\n",
    "from sklearn.decomposition import PCA\n",
    "from sklearn.preprocessing import PolynomialFeatures\n",
    "from sklearn.pipeline import make_pipeline\n",
    "from sklearn.linear_model import LinearRegression\n",
    "from sklearn.model_selection import train_test_split\n",
    "from sklearn.metrics import mean_absolute_error, mean_squared_error, r2_score"
   ]
  },
  {
   "cell_type": "markdown",
   "metadata": {},
   "source": []
  },
  {
   "cell_type": "code",
   "execution_count": 30,
   "metadata": {},
   "outputs": [
    {
     "data": {
      "text/html": [
       "<div>\n",
       "<style scoped>\n",
       "    .dataframe tbody tr th:only-of-type {\n",
       "        vertical-align: middle;\n",
       "    }\n",
       "\n",
       "    .dataframe tbody tr th {\n",
       "        vertical-align: top;\n",
       "    }\n",
       "\n",
       "    .dataframe thead th {\n",
       "        text-align: right;\n",
       "    }\n",
       "</style>\n",
       "<table border=\"1\" class=\"dataframe\">\n",
       "  <thead>\n",
       "    <tr style=\"text-align: right;\">\n",
       "      <th></th>\n",
       "      <th>viral_50_rank_mean</th>\n",
       "      <th>top_200_rank_mean</th>\n",
       "      <th>title</th>\n",
       "    </tr>\n",
       "  </thead>\n",
       "  <tbody>\n",
       "    <tr>\n",
       "      <th>504</th>\n",
       "      <td>6.111111</td>\n",
       "      <td>68.166667</td>\n",
       "      <td>Ruff Ryders' Anthem</td>\n",
       "    </tr>\n",
       "    <tr>\n",
       "      <th>58</th>\n",
       "      <td>47.000000</td>\n",
       "      <td>98.089354</td>\n",
       "      <td>BOP</td>\n",
       "    </tr>\n",
       "    <tr>\n",
       "      <th>458</th>\n",
       "      <td>12.872727</td>\n",
       "      <td>65.656904</td>\n",
       "      <td>Party Girl</td>\n",
       "    </tr>\n",
       "    <tr>\n",
       "      <th>688</th>\n",
       "      <td>34.428571</td>\n",
       "      <td>66.618357</td>\n",
       "      <td>Yonaguni</td>\n",
       "    </tr>\n",
       "    <tr>\n",
       "      <th>718</th>\n",
       "      <td>32.714286</td>\n",
       "      <td>73.620513</td>\n",
       "      <td>happier</td>\n",
       "    </tr>\n",
       "    <tr>\n",
       "      <th>265</th>\n",
       "      <td>38.200000</td>\n",
       "      <td>129.188889</td>\n",
       "      <td>Heart On Ice</td>\n",
       "    </tr>\n",
       "    <tr>\n",
       "      <th>322</th>\n",
       "      <td>28.186441</td>\n",
       "      <td>189.727273</td>\n",
       "      <td>Just the Two of Us (feat. Bill Withers)</td>\n",
       "    </tr>\n",
       "    <tr>\n",
       "      <th>508</th>\n",
       "      <td>9.355556</td>\n",
       "      <td>90.803571</td>\n",
       "      <td>SAD GIRLZ LUV MONEY Remix (feat. Kali Uchis an...</td>\n",
       "    </tr>\n",
       "    <tr>\n",
       "      <th>448</th>\n",
       "      <td>33.387097</td>\n",
       "      <td>148.392857</td>\n",
       "      <td>P*$$Y Fairy (OTW)</td>\n",
       "    </tr>\n",
       "    <tr>\n",
       "      <th>91</th>\n",
       "      <td>14.640000</td>\n",
       "      <td>63.497326</td>\n",
       "      <td>Body</td>\n",
       "    </tr>\n",
       "  </tbody>\n",
       "</table>\n",
       "</div>"
      ],
      "text/plain": [
       "     viral_50_rank_mean  top_200_rank_mean  \\\n",
       "504            6.111111          68.166667   \n",
       "58            47.000000          98.089354   \n",
       "458           12.872727          65.656904   \n",
       "688           34.428571          66.618357   \n",
       "718           32.714286          73.620513   \n",
       "265           38.200000         129.188889   \n",
       "322           28.186441         189.727273   \n",
       "508            9.355556          90.803571   \n",
       "448           33.387097         148.392857   \n",
       "91            14.640000          63.497326   \n",
       "\n",
       "                                                 title  \n",
       "504                                Ruff Ryders' Anthem  \n",
       "58                                                 BOP  \n",
       "458                                         Party Girl  \n",
       "688                                           Yonaguni  \n",
       "718                                            happier  \n",
       "265                                       Heart On Ice  \n",
       "322            Just the Two of Us (feat. Bill Withers)  \n",
       "508  SAD GIRLZ LUV MONEY Remix (feat. Kali Uchis an...  \n",
       "448                                  P*$$Y Fairy (OTW)  \n",
       "91                                                Body  "
      ]
     },
     "execution_count": 30,
     "metadata": {},
     "output_type": "execute_result"
    }
   ],
   "source": [
    "avg_ranks = pd.read_csv(\"../data/avg_spotify_ranks.csv\")\n",
    "avg_ranks.drop(\"Unnamed: 0\",axis=1,inplace=True)\n",
    "avg_ranks.sample(10)"
   ]
  },
  {
   "cell_type": "code",
   "execution_count": 35,
   "metadata": {},
   "outputs": [],
   "source": [
    "xtrain, xtest, ytrain, ytest = train_test_split(avg_ranks[\"viral_50_rank_mean\"].values,avg_ranks[\"top_200_rank_mean\"].values, train_size=0.8)\n",
    "xtrain = xtrain.reshape(-1,1)\n",
    "#ytrain = ytrain.reshape(-1,1)\n",
    "xtest = xtest.reshape(-1,1)\n",
    "#ytest = ytest.reshape(-1,1)"
   ]
  },
  {
   "cell_type": "code",
   "execution_count": 36,
   "metadata": {},
   "outputs": [],
   "source": [
    "poly_degree = 3\n",
    "polyn_reg = make_pipeline(PolynomialFeatures(poly_degree),LinearRegression()) # create polynomial regression model\n",
    "#TODO get data into correct format for fitting\n",
    "polyn_reg = polyn_reg.fit(xtrain, ytrain)\n",
    "ypred = polyn_reg.predict(xtest)"
   ]
  },
  {
   "cell_type": "code",
   "execution_count": 37,
   "metadata": {},
   "outputs": [
    {
     "data": {
      "text/plain": [
       "0.040240635068327646"
      ]
     },
     "execution_count": 37,
     "metadata": {},
     "output_type": "execute_result"
    }
   ],
   "source": [
    "polyn_reg.score(xtrain,ytrain)# R² score for training data"
   ]
  }
 ],
 "metadata": {
  "kernelspec": {
   "display_name": "Python 3.10.7 ('data_science-dDCtDHdq')",
   "language": "python",
   "name": "python3"
  },
  "language_info": {
   "codemirror_mode": {
    "name": "ipython",
    "version": 3
   },
   "file_extension": ".py",
   "mimetype": "text/x-python",
   "name": "python",
   "nbconvert_exporter": "python",
   "pygments_lexer": "ipython3",
   "version": "3.10.7"
  },
  "orig_nbformat": 4,
  "vscode": {
   "interpreter": {
    "hash": "879e0aa37acc94d6458fa173f3288bcea56e82a3b9fca582a9c7d294b714e537"
   }
  }
 },
 "nbformat": 4,
 "nbformat_minor": 2
}
