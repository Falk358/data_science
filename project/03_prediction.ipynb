{
 "cells": [
  {
   "cell_type": "code",
   "execution_count": 1,
   "metadata": {},
   "outputs": [],
   "source": [
    "import numpy as np\n",
    "import pandas as pd\n",
    "import matplotlib.pyplot as plt\n",
    "import seaborn as sns\n",
    "from datetime import timedelta\n",
    "from sklearn.preprocessing import StandardScaler\n",
    "from sklearn.preprocessing import PowerTransformer\n",
    "from sklearn.decomposition import PCA\n",
    "from sklearn.preprocessing import PolynomialFeatures\n",
    "from sklearn.pipeline import make_pipeline\n",
    "from sklearn.linear_model import LinearRegression\n",
    "from sklearn.model_selection import train_test_split\n",
    "from sklearn.metrics import mean_absolute_error, mean_squared_error, r2_score"
   ]
  },
  {
   "cell_type": "markdown",
   "metadata": {},
   "source": []
  },
  {
   "cell_type": "code",
   "execution_count": 2,
   "metadata": {},
   "outputs": [
    {
     "data": {
      "text/html": [
       "<div>\n",
       "<style scoped>\n",
       "    .dataframe tbody tr th:only-of-type {\n",
       "        vertical-align: middle;\n",
       "    }\n",
       "\n",
       "    .dataframe tbody tr th {\n",
       "        vertical-align: top;\n",
       "    }\n",
       "\n",
       "    .dataframe thead th {\n",
       "        text-align: right;\n",
       "    }\n",
       "</style>\n",
       "<table border=\"1\" class=\"dataframe\">\n",
       "  <thead>\n",
       "    <tr style=\"text-align: right;\">\n",
       "      <th></th>\n",
       "      <th>Unnamed: 0</th>\n",
       "      <th>title</th>\n",
       "      <th>date_viral</th>\n",
       "      <th>viral_50_rank</th>\n",
       "      <th>date_top200</th>\n",
       "      <th>top_200_rank</th>\n",
       "    </tr>\n",
       "  </thead>\n",
       "  <tbody>\n",
       "    <tr>\n",
       "      <th>371</th>\n",
       "      <td>7</td>\n",
       "      <td>More Than My Hometown</td>\n",
       "      <td>2020-05-17</td>\n",
       "      <td>28.0</td>\n",
       "      <td>2020-05-24</td>\n",
       "      <td>78.0</td>\n",
       "    </tr>\n",
       "    <tr>\n",
       "      <th>1059</th>\n",
       "      <td>19</td>\n",
       "      <td>telepatía</td>\n",
       "      <td>2021-04-25</td>\n",
       "      <td>36.0</td>\n",
       "      <td>2021-05-02</td>\n",
       "      <td>17.0</td>\n",
       "    </tr>\n",
       "    <tr>\n",
       "      <th>1132</th>\n",
       "      <td>1</td>\n",
       "      <td>Dick (feat. Doja Cat)</td>\n",
       "      <td>2021-06-06</td>\n",
       "      <td>13.0</td>\n",
       "      <td>2021-06-13</td>\n",
       "      <td>135.0</td>\n",
       "    </tr>\n",
       "    <tr>\n",
       "      <th>519</th>\n",
       "      <td>8</td>\n",
       "      <td>Mariposa</td>\n",
       "      <td>2020-08-02</td>\n",
       "      <td>47.0</td>\n",
       "      <td>2020-08-09</td>\n",
       "      <td>145.0</td>\n",
       "    </tr>\n",
       "    <tr>\n",
       "      <th>1436</th>\n",
       "      <td>7</td>\n",
       "      <td>Notion</td>\n",
       "      <td>2021-10-31</td>\n",
       "      <td>5.0</td>\n",
       "      <td>2021-11-07</td>\n",
       "      <td>89.0</td>\n",
       "    </tr>\n",
       "    <tr>\n",
       "      <th>1270</th>\n",
       "      <td>10</td>\n",
       "      <td>Pepas</td>\n",
       "      <td>2021-08-15</td>\n",
       "      <td>9.0</td>\n",
       "      <td>2021-08-22</td>\n",
       "      <td>21.0</td>\n",
       "    </tr>\n",
       "    <tr>\n",
       "      <th>1456</th>\n",
       "      <td>14</td>\n",
       "      <td>Who Want Smoke?? (feat. G Herbo, Lil Durk &amp; 21...</td>\n",
       "      <td>2021-11-07</td>\n",
       "      <td>18.0</td>\n",
       "      <td>2021-11-14</td>\n",
       "      <td>70.0</td>\n",
       "    </tr>\n",
       "    <tr>\n",
       "      <th>1305</th>\n",
       "      <td>3</td>\n",
       "      <td>Fancy Like</td>\n",
       "      <td>2021-09-05</td>\n",
       "      <td>21.0</td>\n",
       "      <td>2021-09-12</td>\n",
       "      <td>26.0</td>\n",
       "    </tr>\n",
       "    <tr>\n",
       "      <th>1134</th>\n",
       "      <td>3</td>\n",
       "      <td>Kiss Me More (feat. SZA)</td>\n",
       "      <td>2021-06-06</td>\n",
       "      <td>33.0</td>\n",
       "      <td>2021-06-13</td>\n",
       "      <td>2.0</td>\n",
       "    </tr>\n",
       "    <tr>\n",
       "      <th>313</th>\n",
       "      <td>10</td>\n",
       "      <td>Selfish</td>\n",
       "      <td>2020-04-19</td>\n",
       "      <td>28.0</td>\n",
       "      <td>2020-04-26</td>\n",
       "      <td>61.0</td>\n",
       "    </tr>\n",
       "  </tbody>\n",
       "</table>\n",
       "</div>"
      ],
      "text/plain": [
       "      Unnamed: 0                                              title  \\\n",
       "371            7                              More Than My Hometown   \n",
       "1059          19                                          telepatía   \n",
       "1132           1                              Dick (feat. Doja Cat)   \n",
       "519            8                                           Mariposa   \n",
       "1436           7                                             Notion   \n",
       "1270          10                                              Pepas   \n",
       "1456          14  Who Want Smoke?? (feat. G Herbo, Lil Durk & 21...   \n",
       "1305           3                                         Fancy Like   \n",
       "1134           3                           Kiss Me More (feat. SZA)   \n",
       "313           10                                            Selfish   \n",
       "\n",
       "      date_viral  viral_50_rank date_top200  top_200_rank  \n",
       "371   2020-05-17           28.0  2020-05-24          78.0  \n",
       "1059  2021-04-25           36.0  2021-05-02          17.0  \n",
       "1132  2021-06-06           13.0  2021-06-13         135.0  \n",
       "519   2020-08-02           47.0  2020-08-09         145.0  \n",
       "1436  2021-10-31            5.0  2021-11-07          89.0  \n",
       "1270  2021-08-15            9.0  2021-08-22          21.0  \n",
       "1456  2021-11-07           18.0  2021-11-14          70.0  \n",
       "1305  2021-09-05           21.0  2021-09-12          26.0  \n",
       "1134  2021-06-06           33.0  2021-06-13           2.0  \n",
       "313   2020-04-19           28.0  2020-04-26          61.0  "
      ]
     },
     "execution_count": 2,
     "metadata": {},
     "output_type": "execute_result"
    }
   ],
   "source": [
    "avg_ranks = pd.read_csv(\"../data/weekly_ranks.csv\")\n",
    "#avg_ranks.drop(\"Unnamed: 0\",axis=1,inplace=True)\n",
    "avg_ranks.sample(10)"
   ]
  },
  {
   "cell_type": "code",
   "execution_count": 3,
   "metadata": {},
   "outputs": [],
   "source": [
    "xtrain, xtest, ytrain, ytest = train_test_split(avg_ranks[\"viral_50_rank\"].values,avg_ranks[\"top_200_rank\"].values, train_size=0.8)\n",
    "xtrain = xtrain.reshape(-1,1)\n",
    "#ytrain = ytrain.reshape(-1,1)\n",
    "xtest = xtest.reshape(-1,1)\n",
    "#ytest = ytest.reshape(-1,1)"
   ]
  },
  {
   "cell_type": "code",
   "execution_count": 4,
   "metadata": {},
   "outputs": [],
   "source": [
    "poly_degree = 3\n",
    "polyn_reg = make_pipeline(PolynomialFeatures(poly_degree),LinearRegression()) # create polynomial regression model\n",
    "#TODO get data into correct format for fitting\n",
    "polyn_reg = polyn_reg.fit(xtrain, ytrain)\n",
    "ypred = polyn_reg.predict(xtest)"
   ]
  },
  {
   "cell_type": "code",
   "execution_count": 5,
   "metadata": {},
   "outputs": [
    {
     "data": {
      "text/plain": [
       "0.0064415185213611"
      ]
     },
     "execution_count": 5,
     "metadata": {},
     "output_type": "execute_result"
    }
   ],
   "source": [
    "polyn_reg.score(xtrain,ytrain)# R² score for training data"
   ]
  }
 ],
 "metadata": {
  "kernelspec": {
   "display_name": "Python 3.10.7 ('data_science-dDCtDHdq')",
   "language": "python",
   "name": "python3"
  },
  "language_info": {
   "codemirror_mode": {
    "name": "ipython",
    "version": 3
   },
   "file_extension": ".py",
   "mimetype": "text/x-python",
   "name": "python",
   "nbconvert_exporter": "python",
   "pygments_lexer": "ipython3",
   "version": "3.10.7"
  },
  "orig_nbformat": 4,
  "vscode": {
   "interpreter": {
    "hash": "879e0aa37acc94d6458fa173f3288bcea56e82a3b9fca582a9c7d294b714e537"
   }
  }
 },
 "nbformat": 4,
 "nbformat_minor": 2
}
