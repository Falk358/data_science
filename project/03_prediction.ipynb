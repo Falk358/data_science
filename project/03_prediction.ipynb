{
 "cells": [
  {
   "cell_type": "code",
   "execution_count": 74,
   "metadata": {},
   "outputs": [],
   "source": [
    "import numpy as np\n",
    "import pandas as pd\n",
    "import matplotlib.pyplot as plt\n",
    "import seaborn as sns\n",
    "from datetime import timedelta\n",
    "from sklearn.preprocessing import StandardScaler\n",
    "from sklearn.preprocessing import PowerTransformer\n",
    "from sklearn.preprocessing import OneHotEncoder\n",
    "from sklearn.decomposition import PCA\n",
    "from sklearn.preprocessing import PolynomialFeatures\n",
    "from sklearn.neighbors import KNeighborsClassifier\n",
    "from sklearn.pipeline import Pipeline\n",
    "from sklearn.svm import SVC\n",
    "from sklearn.pipeline import make_pipeline\n",
    "from sklearn.linear_model import LinearRegression, LogisticRegression\n",
    "from sklearn.model_selection import train_test_split\n",
    "from sklearn.metrics import mean_absolute_error, mean_squared_error, r2_score, accuracy_score"
   ]
  },
  {
   "cell_type": "code",
   "execution_count": 75,
   "metadata": {},
   "outputs": [],
   "source": [
    "# export dataframe\n",
    "def export_df_to_csv(df: pd.DataFrame, filename: str):\n",
    "    df.to_csv(\"../data/\" + filename, index=False)"
   ]
  },
  {
   "cell_type": "code",
   "execution_count": 76,
   "metadata": {},
   "outputs": [],
   "source": [
    "# prepare new data for hypothesis testing\n",
    "def add_to_classifier_df(df: pd.DataFrame, classifier_name: str, prediction_results: np.array):\n",
    "    df[classifier_name] = prediction_results"
   ]
  },
  {
   "attachments": {},
   "cell_type": "markdown",
   "metadata": {
    "jp-MarkdownHeadingCollapsed": true,
    "tags": []
   },
   "source": [
    "## APPROACH 1: Predict rank OF top 200 chart FROM viral 50 rank\n",
    "\n",
    "The goal of predicting the rank of the top 200 chart from the viral 50 rank is to use the popularity of a song on the viral chart as a means of predicting how well it will perform on the overall top 200 chart."
   ]
  },
  {
   "cell_type": "code",
   "execution_count": 77,
   "metadata": {},
   "outputs": [
    {
     "data": {
      "text/html": [
       "<div>\n",
       "<style scoped>\n",
       "    .dataframe tbody tr th:only-of-type {\n",
       "        vertical-align: middle;\n",
       "    }\n",
       "\n",
       "    .dataframe tbody tr th {\n",
       "        vertical-align: top;\n",
       "    }\n",
       "\n",
       "    .dataframe thead th {\n",
       "        text-align: right;\n",
       "    }\n",
       "</style>\n",
       "<table border=\"1\" class=\"dataframe\">\n",
       "  <thead>\n",
       "    <tr style=\"text-align: right;\">\n",
       "      <th></th>\n",
       "      <th>title</th>\n",
       "      <th>date_viral</th>\n",
       "      <th>viral_50_rank</th>\n",
       "      <th>date_top200</th>\n",
       "      <th>top_200_rank</th>\n",
       "    </tr>\n",
       "  </thead>\n",
       "  <tbody>\n",
       "    <tr>\n",
       "      <th>564</th>\n",
       "      <td>For The Night (feat. Lil Baby &amp; DaBaby)</td>\n",
       "      <td>2020-08-23</td>\n",
       "      <td>40</td>\n",
       "      <td>2020-08-30</td>\n",
       "      <td>5</td>\n",
       "    </tr>\n",
       "    <tr>\n",
       "      <th>908</th>\n",
       "      <td>Opp Stoppa (feat. 21 Savage)</td>\n",
       "      <td>2021-02-21</td>\n",
       "      <td>32</td>\n",
       "      <td>2021-02-28</td>\n",
       "      <td>45</td>\n",
       "    </tr>\n",
       "    <tr>\n",
       "      <th>23</th>\n",
       "      <td>Suicidal</td>\n",
       "      <td>2020-01-05</td>\n",
       "      <td>13</td>\n",
       "      <td>2020-01-12</td>\n",
       "      <td>12</td>\n",
       "    </tr>\n",
       "    <tr>\n",
       "      <th>1215</th>\n",
       "      <td>Beggin'</td>\n",
       "      <td>2021-07-18</td>\n",
       "      <td>2</td>\n",
       "      <td>2021-07-25</td>\n",
       "      <td>5</td>\n",
       "    </tr>\n",
       "    <tr>\n",
       "      <th>146</th>\n",
       "      <td>You should be sad</td>\n",
       "      <td>2020-02-16</td>\n",
       "      <td>36</td>\n",
       "      <td>2020-02-23</td>\n",
       "      <td>35</td>\n",
       "    </tr>\n",
       "    <tr>\n",
       "      <th>1366</th>\n",
       "      <td>Life Goes On</td>\n",
       "      <td>2021-10-03</td>\n",
       "      <td>11</td>\n",
       "      <td>2021-10-10</td>\n",
       "      <td>31</td>\n",
       "    </tr>\n",
       "    <tr>\n",
       "      <th>1311</th>\n",
       "      <td>Over The Top (feat. Drake)</td>\n",
       "      <td>2021-09-05</td>\n",
       "      <td>40</td>\n",
       "      <td>2021-09-12</td>\n",
       "      <td>163</td>\n",
       "    </tr>\n",
       "    <tr>\n",
       "      <th>178</th>\n",
       "      <td>Sunday Best</td>\n",
       "      <td>2020-03-01</td>\n",
       "      <td>15</td>\n",
       "      <td>2020-03-08</td>\n",
       "      <td>31</td>\n",
       "    </tr>\n",
       "    <tr>\n",
       "      <th>1365</th>\n",
       "      <td>Knife Talk (with 21 Savage ft. Project Pat)</td>\n",
       "      <td>2021-10-03</td>\n",
       "      <td>35</td>\n",
       "      <td>2021-10-10</td>\n",
       "      <td>3</td>\n",
       "    </tr>\n",
       "    <tr>\n",
       "      <th>320</th>\n",
       "      <td>death bed (coffee for your head)</td>\n",
       "      <td>2020-04-19</td>\n",
       "      <td>12</td>\n",
       "      <td>2020-04-26</td>\n",
       "      <td>17</td>\n",
       "    </tr>\n",
       "  </tbody>\n",
       "</table>\n",
       "</div>"
      ],
      "text/plain": [
       "                                            title  date_viral  viral_50_rank  \\\n",
       "564       For The Night (feat. Lil Baby & DaBaby)  2020-08-23             40   \n",
       "908                  Opp Stoppa (feat. 21 Savage)  2021-02-21             32   \n",
       "23                                       Suicidal  2020-01-05             13   \n",
       "1215                                      Beggin'  2021-07-18              2   \n",
       "146                             You should be sad  2020-02-16             36   \n",
       "1366                                 Life Goes On  2021-10-03             11   \n",
       "1311                   Over The Top (feat. Drake)  2021-09-05             40   \n",
       "178                                   Sunday Best  2020-03-01             15   \n",
       "1365  Knife Talk (with 21 Savage ft. Project Pat)  2021-10-03             35   \n",
       "320              death bed (coffee for your head)  2020-04-19             12   \n",
       "\n",
       "     date_top200  top_200_rank  \n",
       "564   2020-08-30             5  \n",
       "908   2021-02-28            45  \n",
       "23    2020-01-12            12  \n",
       "1215  2021-07-25             5  \n",
       "146   2020-02-23            35  \n",
       "1366  2021-10-10            31  \n",
       "1311  2021-09-12           163  \n",
       "178   2020-03-08            31  \n",
       "1365  2021-10-10             3  \n",
       "320   2020-04-26            17  "
      ]
     },
     "execution_count": 77,
     "metadata": {},
     "output_type": "execute_result"
    }
   ],
   "source": [
    "df_weekly_ranks = pd.read_csv(\"../data/viral50_to_top200.csv\")\n",
    "df_weekly_ranks.sample(10)"
   ]
  },
  {
   "cell_type": "code",
   "execution_count": 78,
   "metadata": {},
   "outputs": [],
   "source": [
    "df_classifier_approach_1 = pd.DataFrame()"
   ]
  },
  {
   "cell_type": "code",
   "execution_count": 79,
   "metadata": {},
   "outputs": [],
   "source": [
    "xtrain_1, xtest_1, ytrain_1, ytest_1 = train_test_split(df_weekly_ranks[[\"viral_50_rank\"]],df_weekly_ranks[[\"top_200_rank\"]], train_size=0.8)"
   ]
  },
  {
   "cell_type": "code",
   "execution_count": 80,
   "metadata": {},
   "outputs": [],
   "source": [
    "# add truth values to dataframe\n",
    "add_to_classifier_df(df_classifier_approach_1, 'truth', ytest_1)"
   ]
  },
  {
   "cell_type": "markdown",
   "metadata": {
    "jp-MarkdownHeadingCollapsed": true,
    "tags": []
   },
   "source": [
    "### We are using SVM with a linear SVC to predict the rank of the top 200 chart based on the viral 50 rank."
   ]
  },
  {
   "cell_type": "code",
   "execution_count": 81,
   "metadata": {},
   "outputs": [
    {
     "name": "stderr",
     "output_type": "stream",
     "text": [
      "/Users/david/.local/share/virtualenvs/data_science-5TF-S9g6/lib/python3.10/site-packages/sklearn/utils/validation.py:1141: DataConversionWarning: A column-vector y was passed when a 1d array was expected. Please change the shape of y to (n_samples, ), for example using ravel().\n",
      "  y = column_or_1d(y, warn=True)\n"
     ]
    }
   ],
   "source": [
    "# test with svm\n",
    "svm_linear_1 = SVC(kernel='linear')\n",
    "\n",
    "svm_fit_linear_1 = svm_linear_1.fit(xtrain_1, ytrain_1)\n",
    "ypred_svm_linear_1 = svm_fit_linear_1.predict(xtest_1)"
   ]
  },
  {
   "cell_type": "code",
   "execution_count": 82,
   "metadata": {},
   "outputs": [],
   "source": [
    "add_to_classifier_df(df_classifier_approach_1, \"svc_linear\", ypred_svm_linear_1)"
   ]
  },
  {
   "cell_type": "code",
   "execution_count": 83,
   "metadata": {
    "tags": []
   },
   "outputs": [
    {
     "name": "stdout",
     "output_type": "stream",
     "text": [
      "accuracy of support vector machines with linear kernel is: 0.025806451612903226\n",
      "r^2 score of support vector machines with linear kernel is: 0.025080906148867314\n"
     ]
    }
   ],
   "source": [
    "print(f'accuracy of support vector machines with linear kernel is: {accuracy_score(ypred_svm_linear_1, ytest_1)}')\n",
    "print(f'r^2 score of support vector machines with linear kernel is: {svm_fit_linear_1.score(xtrain_1, ytrain_1)}')"
   ]
  },
  {
   "cell_type": "markdown",
   "metadata": {
    "jp-MarkdownHeadingCollapsed": true,
    "tags": []
   },
   "source": [
    "### We are using Support Vector Machine (SVM) with a polynomial kernel (SVC = poly) to predict the rank of the top 200 chart from the viral 50 rank."
   ]
  },
  {
   "cell_type": "code",
   "execution_count": 84,
   "metadata": {},
   "outputs": [
    {
     "name": "stderr",
     "output_type": "stream",
     "text": [
      "/Users/david/.local/share/virtualenvs/data_science-5TF-S9g6/lib/python3.10/site-packages/sklearn/utils/validation.py:1141: DataConversionWarning: A column-vector y was passed when a 1d array was expected. Please change the shape of y to (n_samples, ), for example using ravel().\n",
      "  y = column_or_1d(y, warn=True)\n"
     ]
    }
   ],
   "source": [
    "svm_poly_1 = SVC(kernel='poly')\n",
    "\n",
    "svm_fit_poly_1 = svm_poly_1.fit(xtrain_1, ytrain_1)\n",
    "ypred_svm_poly_1 = svm_fit_poly_1.predict(xtest_1)"
   ]
  },
  {
   "cell_type": "code",
   "execution_count": 85,
   "metadata": {},
   "outputs": [],
   "source": [
    "add_to_classifier_df(df_classifier_approach_1, \"svc_poly\", ypred_svm_poly_1)"
   ]
  },
  {
   "cell_type": "code",
   "execution_count": 86,
   "metadata": {},
   "outputs": [
    {
     "name": "stdout",
     "output_type": "stream",
     "text": [
      "accuracy of support vector machines with polynomial kernel is: 0.03225806451612903\n",
      "r^2 score of support vector machines with polynomial kernel is: 0.02750809061488673\n"
     ]
    }
   ],
   "source": [
    "print(f'accuracy of support vector machines with polynomial kernel is: {accuracy_score(ypred_svm_poly_1, ytest_1)}')\n",
    "print(f'r^2 score of support vector machines with polynomial kernel is: {svm_fit_poly_1.score(xtrain_1, ytrain_1)}')"
   ]
  },
  {
   "attachments": {},
   "cell_type": "markdown",
   "metadata": {},
   "source": [
    "### Test polynomial rergression because we do not have a linear correlation between our features"
   ]
  },
  {
   "cell_type": "code",
   "execution_count": 87,
   "metadata": {},
   "outputs": [],
   "source": [
    "# create polynomial regression model\n",
    "poly_degree = 3\n",
    "polyn_reg_1 = make_pipeline(PolynomialFeatures(poly_degree), LinearRegression())\n",
    "\n",
    "polyn_reg = polyn_reg_1.fit(xtrain_1, ytrain_1)\n",
    "ypred_poly_reg_1 = polyn_reg.predict(xtest_1)"
   ]
  },
  {
   "cell_type": "code",
   "execution_count": 88,
   "metadata": {},
   "outputs": [],
   "source": [
    "add_to_classifier_df(df_classifier_approach_1, \"poly_reg\", ypred_poly_reg_1)"
   ]
  },
  {
   "cell_type": "code",
   "execution_count": 89,
   "metadata": {},
   "outputs": [
    {
     "data": {
      "text/plain": [
       "0.004204694994813463"
      ]
     },
     "execution_count": 89,
     "metadata": {},
     "output_type": "execute_result"
    }
   ],
   "source": [
    "# R² score for training data\n",
    "polyn_reg.score(xtrain_1, ytrain_1)"
   ]
  },
  {
   "cell_type": "code",
   "execution_count": 90,
   "metadata": {},
   "outputs": [],
   "source": [
    "export_df_to_csv(df_classifier_approach_1, \"classification_results_approach_1.csv\")"
   ]
  },
  {
   "attachments": {},
   "cell_type": "markdown",
   "metadata": {
    "jp-MarkdownHeadingCollapsed": true,
    "tags": []
   },
   "source": [
    "## Approach 2 (extension of Appr. 1): Predict rank OF top 200 chart FROM viral 50 trend and rank\n",
    "We try to predict the rank of the top 200 chart from the viral 50 trend and rank to gain insight into which songs are likely to rise in popularity."
   ]
  },
  {
   "cell_type": "code",
   "execution_count": 91,
   "metadata": {},
   "outputs": [
    {
     "data": {
      "text/html": [
       "<div>\n",
       "<style scoped>\n",
       "    .dataframe tbody tr th:only-of-type {\n",
       "        vertical-align: middle;\n",
       "    }\n",
       "\n",
       "    .dataframe tbody tr th {\n",
       "        vertical-align: top;\n",
       "    }\n",
       "\n",
       "    .dataframe thead th {\n",
       "        text-align: right;\n",
       "    }\n",
       "</style>\n",
       "<table border=\"1\" class=\"dataframe\">\n",
       "  <thead>\n",
       "    <tr style=\"text-align: right;\">\n",
       "      <th></th>\n",
       "      <th>title</th>\n",
       "      <th>date_viral</th>\n",
       "      <th>viral_50_rank</th>\n",
       "      <th>trend_viral_50</th>\n",
       "      <th>date_top200</th>\n",
       "      <th>top_200_rank</th>\n",
       "    </tr>\n",
       "  </thead>\n",
       "  <tbody>\n",
       "    <tr>\n",
       "      <th>691</th>\n",
       "      <td>Sofia</td>\n",
       "      <td>2020-10-11</td>\n",
       "      <td>23</td>\n",
       "      <td>MOVE_DOWN</td>\n",
       "      <td>2020-10-18</td>\n",
       "      <td>29</td>\n",
       "    </tr>\n",
       "    <tr>\n",
       "      <th>1117</th>\n",
       "      <td>WHOLE LOTTA MONEY</td>\n",
       "      <td>2021-05-23</td>\n",
       "      <td>20</td>\n",
       "      <td>MOVE_DOWN</td>\n",
       "      <td>2021-05-30</td>\n",
       "      <td>90</td>\n",
       "    </tr>\n",
       "    <tr>\n",
       "      <th>1013</th>\n",
       "      <td>Astronaut In The Ocean</td>\n",
       "      <td>2021-04-11</td>\n",
       "      <td>18</td>\n",
       "      <td>SAME_POSITION</td>\n",
       "      <td>2021-04-18</td>\n",
       "      <td>8</td>\n",
       "    </tr>\n",
       "    <tr>\n",
       "      <th>467</th>\n",
       "      <td>Roses - Imanbek Remix</td>\n",
       "      <td>2020-07-05</td>\n",
       "      <td>48</td>\n",
       "      <td>SAME_POSITION</td>\n",
       "      <td>2020-07-12</td>\n",
       "      <td>29</td>\n",
       "    </tr>\n",
       "    <tr>\n",
       "      <th>159</th>\n",
       "      <td>Say So</td>\n",
       "      <td>2020-02-23</td>\n",
       "      <td>36</td>\n",
       "      <td>SAME_POSITION</td>\n",
       "      <td>2020-03-01</td>\n",
       "      <td>2</td>\n",
       "    </tr>\n",
       "    <tr>\n",
       "      <th>541</th>\n",
       "      <td>The Woo (feat. 50 Cent &amp; Roddy Ricch)</td>\n",
       "      <td>2020-08-09</td>\n",
       "      <td>41</td>\n",
       "      <td>MOVE_UP</td>\n",
       "      <td>2020-08-16</td>\n",
       "      <td>16</td>\n",
       "    </tr>\n",
       "    <tr>\n",
       "      <th>1510</th>\n",
       "      <td>Heather</td>\n",
       "      <td>2021-12-05</td>\n",
       "      <td>41</td>\n",
       "      <td>MOVE_UP</td>\n",
       "      <td>2021-12-12</td>\n",
       "      <td>149</td>\n",
       "    </tr>\n",
       "    <tr>\n",
       "      <th>646</th>\n",
       "      <td>Blastoff (feat. Juice Wrld &amp; Trippie Redd)</td>\n",
       "      <td>2020-09-27</td>\n",
       "      <td>32</td>\n",
       "      <td>MOVE_UP</td>\n",
       "      <td>2020-10-04</td>\n",
       "      <td>99</td>\n",
       "    </tr>\n",
       "    <tr>\n",
       "      <th>90</th>\n",
       "      <td>SUGAR</td>\n",
       "      <td>2020-01-26</td>\n",
       "      <td>16</td>\n",
       "      <td>MOVE_DOWN</td>\n",
       "      <td>2020-02-02</td>\n",
       "      <td>23</td>\n",
       "    </tr>\n",
       "    <tr>\n",
       "      <th>862</th>\n",
       "      <td>Heat Waves</td>\n",
       "      <td>2021-01-31</td>\n",
       "      <td>41</td>\n",
       "      <td>MOVE_DOWN</td>\n",
       "      <td>2021-02-07</td>\n",
       "      <td>25</td>\n",
       "    </tr>\n",
       "  </tbody>\n",
       "</table>\n",
       "</div>"
      ],
      "text/plain": [
       "                                           title  date_viral  viral_50_rank  \\\n",
       "691                                        Sofia  2020-10-11             23   \n",
       "1117                           WHOLE LOTTA MONEY  2021-05-23             20   \n",
       "1013                      Astronaut In The Ocean  2021-04-11             18   \n",
       "467                        Roses - Imanbek Remix  2020-07-05             48   \n",
       "159                                       Say So  2020-02-23             36   \n",
       "541        The Woo (feat. 50 Cent & Roddy Ricch)  2020-08-09             41   \n",
       "1510                                     Heather  2021-12-05             41   \n",
       "646   Blastoff (feat. Juice Wrld & Trippie Redd)  2020-09-27             32   \n",
       "90                                         SUGAR  2020-01-26             16   \n",
       "862                                   Heat Waves  2021-01-31             41   \n",
       "\n",
       "     trend_viral_50 date_top200  top_200_rank  \n",
       "691       MOVE_DOWN  2020-10-18            29  \n",
       "1117      MOVE_DOWN  2021-05-30            90  \n",
       "1013  SAME_POSITION  2021-04-18             8  \n",
       "467   SAME_POSITION  2020-07-12            29  \n",
       "159   SAME_POSITION  2020-03-01             2  \n",
       "541         MOVE_UP  2020-08-16            16  \n",
       "1510        MOVE_UP  2021-12-12           149  \n",
       "646         MOVE_UP  2020-10-04            99  \n",
       "90        MOVE_DOWN  2020-02-02            23  \n",
       "862       MOVE_DOWN  2021-02-07            25  "
      ]
     },
     "execution_count": 91,
     "metadata": {},
     "output_type": "execute_result"
    }
   ],
   "source": [
    "df_weekly_ranks_with_trend = pd.read_csv(\"../data/viral50_and_trend_to_top200.csv\")\n",
    "df_weekly_ranks_with_trend.sample(10)"
   ]
  },
  {
   "cell_type": "code",
   "execution_count": 92,
   "metadata": {},
   "outputs": [],
   "source": [
    "df_classifier_approach_2 = pd.DataFrame()"
   ]
  },
  {
   "cell_type": "code",
   "execution_count": 93,
   "metadata": {},
   "outputs": [],
   "source": [
    "xtrain_2, xtest_2, ytrain_2, ytest_2 = train_test_split(df_weekly_ranks_with_trend[[\"viral_50_rank\", \"trend_viral_50\"]], df_weekly_ranks_with_trend[\"top_200_rank\"], train_size=0.8)"
   ]
  },
  {
   "cell_type": "code",
   "execution_count": 94,
   "metadata": {},
   "outputs": [],
   "source": [
    "# add truth values to dataframe\n",
    "add_to_classifier_df(df_classifier_approach_2, 'truth', ytest_2)"
   ]
  },
  {
   "cell_type": "markdown",
   "metadata": {
    "jp-MarkdownHeadingCollapsed": true,
    "tags": []
   },
   "source": [
    "### We are using SVM with a linear SVC to predict the rank of the top 200 chart based on the viral 50 trend and rank."
   ]
  },
  {
   "cell_type": "code",
   "execution_count": 95,
   "metadata": {},
   "outputs": [],
   "source": [
    "svm_linear_2 = Pipeline([('ohe', OneHotEncoder()), ('clf', SVC(kernel='linear'))])\n",
    "\n",
    "svm_fit_linear_2 = svm_linear_2.fit(xtrain_2, ytrain_2)\n",
    "ypred_svm_linear_2 = svm_fit_linear_2.predict(xtest_2)"
   ]
  },
  {
   "cell_type": "code",
   "execution_count": 96,
   "metadata": {},
   "outputs": [],
   "source": [
    "add_to_classifier_df(df_classifier_approach_2, 'svc_linear', ypred_svm_linear_2)"
   ]
  },
  {
   "cell_type": "code",
   "execution_count": 97,
   "metadata": {},
   "outputs": [
    {
     "name": "stdout",
     "output_type": "stream",
     "text": [
      "accuracy of support vector machines with linear kernel is: 0.00967741935483871\n",
      "r^2 score of support vector machines with linear kernel is: 0.10679611650485436\n"
     ]
    }
   ],
   "source": [
    "print(f'accuracy of support vector machines with linear kernel is: {accuracy_score(ypred_svm_linear_2, ytest_2)}')\n",
    "print(f'r^2 score of support vector machines with linear kernel is: {svm_fit_linear_2.score(xtrain_2, ytrain_2)}')"
   ]
  },
  {
   "cell_type": "markdown",
   "metadata": {
    "jp-MarkdownHeadingCollapsed": true,
    "tags": []
   },
   "source": [
    "### We are using Support Vector Machine (SVM) to predict our results, with the radial basis function (rbf) kernel in the Support Vector Classifier (SVC) algorithm."
   ]
  },
  {
   "cell_type": "code",
   "execution_count": 98,
   "metadata": {},
   "outputs": [],
   "source": [
    "svm_linear_poly_2 = Pipeline([('ohe', OneHotEncoder()), ('clf', SVC(kernel='rbf'))])\n",
    "\n",
    "svm_fit_poly_2 = svm_linear_poly_2.fit(xtrain_2, ytrain_2)\n",
    "ypred_svm_poly_2 = svm_fit_poly_2.predict(xtest_2)"
   ]
  },
  {
   "cell_type": "code",
   "execution_count": 99,
   "metadata": {},
   "outputs": [],
   "source": [
    "add_to_classifier_df(df_classifier_approach_2, 'svc_rbf', ypred_svm_poly_2)"
   ]
  },
  {
   "cell_type": "code",
   "execution_count": 100,
   "metadata": {},
   "outputs": [
    {
     "name": "stdout",
     "output_type": "stream",
     "text": [
      "accuracy of support vector machines with polynomial kernel is: 0.016129032258064516\n",
      "r^2 score of support vector machines with polynomial kernel is: 0.11812297734627832\n"
     ]
    }
   ],
   "source": [
    "print(f'accuracy of support vector machines with polynomial kernel is: {accuracy_score(ypred_svm_poly_2, ytest_2)}')\n",
    "print(f'r^2 score of support vector machines with polynomial kernel is: {svm_fit_poly_2.score(xtrain_2, ytrain_2)}')"
   ]
  },
  {
   "cell_type": "code",
   "execution_count": 101,
   "metadata": {},
   "outputs": [],
   "source": [
    "export_df_to_csv(df_classifier_approach_2, \"classification_results_approach_2.csv\")"
   ]
  },
  {
   "attachments": {},
   "cell_type": "markdown",
   "metadata": {
    "jp-MarkdownHeadingCollapsed": true,
    "tags": []
   },
   "source": [
    "## Approach 3: Predict trend  OF  top 200  FROM  viral 50 chart position\n",
    "We try to predict the trend of the top 200 songs by analyzing their position on the Viral 50 chart. By monitoring changes in popularity and engagement, we can anticipate which songs will rise to the top and which will fall out of favor."
   ]
  },
  {
   "cell_type": "code",
   "execution_count": 102,
   "metadata": {},
   "outputs": [],
   "source": [
    "def choose_freq_for_classification(freq):\n",
    "    if freq == 1:\n",
    "        return pd.read_csv('../data/daily_ranks_top_200.csv')\n",
    "    elif freq == 3:\n",
    "        return pd.read_csv('../data/3_days_ranks_top_200.csv')\n",
    "    elif freq == 7:\n",
    "        return pd.read_csv('../data/weekly_ranks_top_200.csv')\n",
    "    else:\n",
    "        print('Wrong input, taking weekly granularity!')\n",
    "        return pd.read_csv('../data/weekly_ranks_top_200.csv')"
   ]
  },
  {
   "cell_type": "code",
   "execution_count": 103,
   "metadata": {},
   "outputs": [
    {
     "data": {
      "text/html": [
       "<div>\n",
       "<style scoped>\n",
       "    .dataframe tbody tr th:only-of-type {\n",
       "        vertical-align: middle;\n",
       "    }\n",
       "\n",
       "    .dataframe tbody tr th {\n",
       "        vertical-align: top;\n",
       "    }\n",
       "\n",
       "    .dataframe thead th {\n",
       "        text-align: right;\n",
       "    }\n",
       "</style>\n",
       "<table border=\"1\" class=\"dataframe\">\n",
       "  <thead>\n",
       "    <tr style=\"text-align: right;\">\n",
       "      <th></th>\n",
       "      <th>title</th>\n",
       "      <th>date_viral</th>\n",
       "      <th>viral_50_rank</th>\n",
       "      <th>date_top200</th>\n",
       "      <th>top_200_rank</th>\n",
       "      <th>trend_top_200</th>\n",
       "    </tr>\n",
       "  </thead>\n",
       "  <tbody>\n",
       "    <tr>\n",
       "      <th>0</th>\n",
       "      <td>Adore You</td>\n",
       "      <td>2020-01-05</td>\n",
       "      <td>10</td>\n",
       "      <td>2020-01-12</td>\n",
       "      <td>18</td>\n",
       "      <td>MOVE_UP</td>\n",
       "    </tr>\n",
       "    <tr>\n",
       "      <th>1</th>\n",
       "      <td>All I Want - From \"High School Musical: The Mu...</td>\n",
       "      <td>2020-01-05</td>\n",
       "      <td>2</td>\n",
       "      <td>2020-01-12</td>\n",
       "      <td>66</td>\n",
       "      <td>MOVE_UP</td>\n",
       "    </tr>\n",
       "    <tr>\n",
       "      <th>2</th>\n",
       "      <td>Ayy Macarena</td>\n",
       "      <td>2020-01-05</td>\n",
       "      <td>20</td>\n",
       "      <td>2020-01-12</td>\n",
       "      <td>143</td>\n",
       "      <td>MOVE_UP</td>\n",
       "    </tr>\n",
       "    <tr>\n",
       "      <th>3</th>\n",
       "      <td>Ballin' (with Roddy Ricch)</td>\n",
       "      <td>2020-01-05</td>\n",
       "      <td>38</td>\n",
       "      <td>2020-01-12</td>\n",
       "      <td>13</td>\n",
       "      <td>SAME_POSITION</td>\n",
       "    </tr>\n",
       "    <tr>\n",
       "      <th>4</th>\n",
       "      <td>Blinding Lights</td>\n",
       "      <td>2020-01-05</td>\n",
       "      <td>12</td>\n",
       "      <td>2020-01-12</td>\n",
       "      <td>15</td>\n",
       "      <td>MOVE_UP</td>\n",
       "    </tr>\n",
       "    <tr>\n",
       "      <th>...</th>\n",
       "      <td>...</td>\n",
       "      <td>...</td>\n",
       "      <td>...</td>\n",
       "      <td>...</td>\n",
       "      <td>...</td>\n",
       "      <td>...</td>\n",
       "    </tr>\n",
       "    <tr>\n",
       "      <th>1541</th>\n",
       "      <td>SAD GIRLZ LUV MONEY Remix (feat. Kali Uchis an...</td>\n",
       "      <td>2021-12-19</td>\n",
       "      <td>47</td>\n",
       "      <td>2021-12-26</td>\n",
       "      <td>166</td>\n",
       "      <td>NEW_ENTRY</td>\n",
       "    </tr>\n",
       "    <tr>\n",
       "      <th>1542</th>\n",
       "      <td>Super Gremlin</td>\n",
       "      <td>2021-12-19</td>\n",
       "      <td>23</td>\n",
       "      <td>2021-12-26</td>\n",
       "      <td>6</td>\n",
       "      <td>MOVE_UP</td>\n",
       "    </tr>\n",
       "    <tr>\n",
       "      <th>1543</th>\n",
       "      <td>Surface Pressure</td>\n",
       "      <td>2021-12-19</td>\n",
       "      <td>6</td>\n",
       "      <td>2021-12-26</td>\n",
       "      <td>62</td>\n",
       "      <td>NEW_ENTRY</td>\n",
       "    </tr>\n",
       "    <tr>\n",
       "      <th>1544</th>\n",
       "      <td>We Don't Talk About Bruno</td>\n",
       "      <td>2021-12-19</td>\n",
       "      <td>1</td>\n",
       "      <td>2021-12-26</td>\n",
       "      <td>27</td>\n",
       "      <td>NEW_ENTRY</td>\n",
       "    </tr>\n",
       "    <tr>\n",
       "      <th>1545</th>\n",
       "      <td>abcdefu</td>\n",
       "      <td>2021-12-19</td>\n",
       "      <td>4</td>\n",
       "      <td>2021-12-26</td>\n",
       "      <td>8</td>\n",
       "      <td>MOVE_UP</td>\n",
       "    </tr>\n",
       "  </tbody>\n",
       "</table>\n",
       "<p>1546 rows × 6 columns</p>\n",
       "</div>"
      ],
      "text/plain": [
       "                                                  title  date_viral  \\\n",
       "0                                             Adore You  2020-01-05   \n",
       "1     All I Want - From \"High School Musical: The Mu...  2020-01-05   \n",
       "2                                          Ayy Macarena  2020-01-05   \n",
       "3                            Ballin' (with Roddy Ricch)  2020-01-05   \n",
       "4                                       Blinding Lights  2020-01-05   \n",
       "...                                                 ...         ...   \n",
       "1541  SAD GIRLZ LUV MONEY Remix (feat. Kali Uchis an...  2021-12-19   \n",
       "1542                                      Super Gremlin  2021-12-19   \n",
       "1543                                   Surface Pressure  2021-12-19   \n",
       "1544                          We Don't Talk About Bruno  2021-12-19   \n",
       "1545                                            abcdefu  2021-12-19   \n",
       "\n",
       "      viral_50_rank date_top200  top_200_rank  trend_top_200  \n",
       "0                10  2020-01-12            18        MOVE_UP  \n",
       "1                 2  2020-01-12            66        MOVE_UP  \n",
       "2                20  2020-01-12           143        MOVE_UP  \n",
       "3                38  2020-01-12            13  SAME_POSITION  \n",
       "4                12  2020-01-12            15        MOVE_UP  \n",
       "...             ...         ...           ...            ...  \n",
       "1541             47  2021-12-26           166      NEW_ENTRY  \n",
       "1542             23  2021-12-26             6        MOVE_UP  \n",
       "1543              6  2021-12-26            62      NEW_ENTRY  \n",
       "1544              1  2021-12-26            27      NEW_ENTRY  \n",
       "1545              4  2021-12-26             8        MOVE_UP  \n",
       "\n",
       "[1546 rows x 6 columns]"
      ]
     },
     "execution_count": 103,
     "metadata": {},
     "output_type": "execute_result"
    }
   ],
   "source": [
    "df_trends_top_200 = choose_freq_for_classification(7)\n",
    "df_trends_top_200"
   ]
  },
  {
   "attachments": {},
   "cell_type": "markdown",
   "metadata": {},
   "source": [
    "We can look at the distribution of our category data to see any class inbalance."
   ]
  },
  {
   "cell_type": "code",
   "execution_count": 104,
   "metadata": {},
   "outputs": [
    {
     "data": {
      "text/plain": [
       "Text(0, 0.5, 'Occurances')"
      ]
     },
     "execution_count": 104,
     "metadata": {},
     "output_type": "execute_result"
    },
    {
     "data": {
      "image/png": "[encoded data removed]",
      "text/plain": [
       "<Figure size 640x480 with 1 Axes>"
      ]
     },
     "metadata": {},
     "output_type": "display_data"
    }
   ],
   "source": [
    "df_trends_top_200.trend_top_200.value_counts().plot(kind=\"bar\")\n",
    "plt.xlabel('Values for Trends')\n",
    "plt.title('Distribution of categorial data of Trends')\n",
    "plt.ylabel('Occurances')"
   ]
  },
  {
   "attachments": {},
   "cell_type": "markdown",
   "metadata": {},
   "source": [
    "As we can see, we have some imbalance, which might result in some bad results in our prediction."
   ]
  },
  {
   "cell_type": "code",
   "execution_count": 105,
   "metadata": {},
   "outputs": [],
   "source": [
    "df_classifier_approach_3 = pd.DataFrame()"
   ]
  },
  {
   "cell_type": "code",
   "execution_count": 106,
   "metadata": {},
   "outputs": [],
   "source": [
    "xtrain_3, xtest_3, ytrain_3, ytest_3 = train_test_split(df_trends_top_200[[\"viral_50_rank\"]], df_trends_top_200[\"trend_top_200\"], train_size=0.8)"
   ]
  },
  {
   "cell_type": "code",
   "execution_count": 107,
   "metadata": {},
   "outputs": [],
   "source": [
    "# add truth value for test classifier results\n",
    "add_to_classifier_df(df_classifier_approach_3, 'truth', ytest_3)"
   ]
  },
  {
   "cell_type": "markdown",
   "metadata": {
    "jp-MarkdownHeadingCollapsed": true,
    "tags": []
   },
   "source": [
    "### We are using a support vector machine with a linear kernel to predict the trend of the top 200 songs on the Viral 50 chart."
   ]
  },
  {
   "cell_type": "code",
   "execution_count": 108,
   "metadata": {},
   "outputs": [],
   "source": [
    "svm_linear_3 = SVC(kernel='linear')\n",
    "\n",
    "svm_fit_linear_3 = svm_linear_3.fit(xtrain_3, ytrain_3)\n",
    "ypred_svm_linear_3 = svm_fit_linear_3.predict(xtest_3)"
   ]
  },
  {
   "cell_type": "code",
   "execution_count": 109,
   "metadata": {},
   "outputs": [],
   "source": [
    "add_to_classifier_df(df_classifier_approach_3, 'svc_linear', ypred_svm_linear_3)"
   ]
  },
  {
   "cell_type": "code",
   "execution_count": 110,
   "metadata": {},
   "outputs": [
    {
     "name": "stdout",
     "output_type": "stream",
     "text": [
      "accuracy of support vector machines with linear kernel is: 0.5516129032258065\n",
      "r^2 score of support vector machines with linear kernel is: 0.5339805825242718\n"
     ]
    }
   ],
   "source": [
    "print(f'accuracy of support vector machines with linear kernel is: {accuracy_score(ypred_svm_linear_3, ytest_3)}')\n",
    "print(f'r^2 score of support vector machines with linear kernel is: {svm_fit_linear_3.score(xtrain_3, ytrain_3)}')"
   ]
  },
  {
   "cell_type": "markdown",
   "metadata": {
    "jp-MarkdownHeadingCollapsed": true,
    "tags": []
   },
   "source": [
    "### We are using a Support Vector Machine (SVM) algorithm with a polynomial kernal to predict the trend of the top 200 songs on the Viral 50 chart."
   ]
  },
  {
   "cell_type": "code",
   "execution_count": 111,
   "metadata": {},
   "outputs": [],
   "source": [
    "svm_poly_3 = SVC(kernel='poly', degree=3)\n",
    "\n",
    "svm_fit_poly_3 = svm_poly_3.fit(xtrain_3, ytrain_3)\n",
    "ypred_svm_poly_3 = svm_fit_poly_3.predict(xtest_3)\n",
    "\n",
    "add_to_classifier_df(df_classifier_approach_3, 'svc_poly', ypred_svm_poly_3)"
   ]
  },
  {
   "cell_type": "code",
   "execution_count": 112,
   "metadata": {},
   "outputs": [
    {
     "name": "stdout",
     "output_type": "stream",
     "text": [
      "accuracy of support vector machines with poly kernel is: 0.5516129032258065\n",
      "r^2 score of support vector machines with poly kernel is: 0.5339805825242718\n"
     ]
    }
   ],
   "source": [
    "print(f'accuracy of support vector machines with poly kernel is: {accuracy_score(ypred_svm_poly_3, ytest_3)}')\n",
    "print(f'r^2 score of support vector machines with poly kernel is: {svm_fit_poly_3.score(xtrain_3, ytrain_3)}')"
   ]
  },
  {
   "cell_type": "markdown",
   "metadata": {
    "jp-MarkdownHeadingCollapsed": true,
    "tags": []
   },
   "source": [
    "### We are using logistic regression to predict the trend of the top 200 songs on the Viral 50 chart."
   ]
  },
  {
   "cell_type": "code",
   "execution_count": 113,
   "metadata": {},
   "outputs": [],
   "source": [
    "log_reg_3 = LogisticRegression()\n",
    "\n",
    "log_reg_fit_3 = log_reg_3.fit(xtrain_3, ytrain_3)\n",
    "ypred_log_reg_3 = log_reg_fit_3.predict(xtest_3)\n",
    "\n",
    "add_to_classifier_df(df_classifier_approach_3, 'logistic_regression', ypred_log_reg_3)"
   ]
  },
  {
   "cell_type": "code",
   "execution_count": 114,
   "metadata": {},
   "outputs": [
    {
     "name": "stdout",
     "output_type": "stream",
     "text": [
      "accuracy of logistic regression is: 0.5516129032258065\n",
      "r^2 score of logistic regression is: 0.5339805825242718\n"
     ]
    }
   ],
   "source": [
    "print(f'accuracy of logistic regression is: {accuracy_score(ypred_log_reg_3, ytest_3)}')\n",
    "print(f'r^2 score of logistic regression is: {log_reg_fit_3.score(xtrain_3, ytrain_3)}')"
   ]
  },
  {
   "cell_type": "markdown",
   "metadata": {
    "jp-MarkdownHeadingCollapsed": true,
    "tags": []
   },
   "source": [
    "### We are using K nearest neighbors algorithm to predict the trend of the top 200 songs on the Viral 50 chart."
   ]
  },
  {
   "cell_type": "code",
   "execution_count": 115,
   "metadata": {},
   "outputs": [],
   "source": [
    "knn_3 = KNeighborsClassifier()\n",
    "\n",
    "knn_fit_3 = knn_3.fit(xtrain_3, ytrain_3)\n",
    "ypred_knn_3 = knn_fit_3.predict(xtest_3)\n",
    "\n",
    "add_to_classifier_df(df_classifier_approach_3, 'k_nearest_neighbour', ypred_knn_3)"
   ]
  },
  {
   "cell_type": "code",
   "execution_count": 116,
   "metadata": {},
   "outputs": [
    {
     "name": "stdout",
     "output_type": "stream",
     "text": [
      "accuracy of knn is: 0.5064516129032258\n",
      "r^2 score of knn is: 0.4911003236245955\n"
     ]
    }
   ],
   "source": [
    "print(f'accuracy of knn is: {accuracy_score(ypred_knn_3, ytest_3)}')\n",
    "print(f'r^2 score of knn is: {knn_fit_3.score(xtrain_3, ytrain_3)}')"
   ]
  },
  {
   "cell_type": "code",
   "execution_count": 117,
   "metadata": {},
   "outputs": [],
   "source": [
    "export_df_to_csv(df_classifier_approach_3, \"classification_results_approach_3.csv\")"
   ]
  }
 ],
 "metadata": {
  "kernelspec": {
   "display_name": "data_science-5TF-S9g6",
   "language": "python",
   "name": "python3"
  },
  "language_info": {
   "codemirror_mode": {
    "name": "ipython",
    "version": 3
   },
   "file_extension": ".py",
   "mimetype": "text/x-python",
   "name": "python",
   "nbconvert_exporter": "python",
   "pygments_lexer": "ipython3",
   "version": "3.10.7"
  },
  "vscode": {
   "interpreter": {
    "hash": "91c9c3035d31b1b248a09f4683e22d2eee92d43933c62df06aa9c8e048bab2cb"
   }
  }
 },
 "nbformat": 4,
 "nbformat_minor": 4
}
