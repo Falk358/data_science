{
 "cells": [
  {
   "cell_type": "code",
   "execution_count": 1,
   "metadata": {},
   "outputs": [],
   "source": [
    "import numpy as np\n",
    "import pandas as pd\n",
    "import matplotlib.pyplot as plt\n",
    "import seaborn as sns\n",
    "from datetime import timedelta\n",
    "from sklearn.preprocessing import StandardScaler\n",
    "from sklearn.preprocessing import PowerTransformer\n",
    "from sklearn.preprocessing import OneHotEncoder\n",
    "from sklearn.decomposition import PCA\n",
    "from sklearn.preprocessing import PolynomialFeatures\n",
    "from sklearn.neighbors import KNeighborsClassifier\n",
    "from sklearn.pipeline import Pipeline\n",
    "from sklearn.svm import SVC\n",
    "from sklearn.pipeline import make_pipeline\n",
    "from sklearn.linear_model import LinearRegression, LogisticRegression\n",
    "from sklearn.model_selection import train_test_split\n",
    "from sklearn.metrics import mean_absolute_error, mean_squared_error, r2_score, accuracy_score"
   ]
  },
  {
   "cell_type": "code",
   "execution_count": 2,
   "metadata": {},
   "outputs": [],
   "source": [
    "def export_classifier_df_to_csv(df: pd.DataFrame, filename: str):\n",
    "    df.to_csv(\"../data/\" + filename)"
   ]
  },
  {
   "cell_type": "code",
   "execution_count": 3,
   "metadata": {},
   "outputs": [],
   "source": [
    "# prepare new data for hypothesis testing\n",
    "def add_to_classifier_df(df, classifier_name, prediction_results):\n",
    "    df[classifier_name] = np.array(prediction_results)\n",
    "\n",
    "def export_classifier_to_df(classifier_dataframe: pd.DataFrame, name: str):\n",
    "    classifier_dataframe.to_csv('../data/' + name)"
   ]
  },
  {
   "cell_type": "markdown",
   "metadata": {
    "jp-MarkdownHeadingCollapsed": true,
    "tags": []
   },
   "source": [
    "## APPROACH 1: Predict rank OF top 200 chart FROM viral 50 rank \n",
    "## (from viral 50 rank -> top 200 rank)\n",
    "The goal of predicting the rank of the top 200 chart from the viral 50 rank is to use the popularity of a song on the viral chart as a means of predicting how well it will perform on the overall top 200 chart."
   ]
  },
  {
   "cell_type": "code",
   "execution_count": 4,
   "metadata": {},
   "outputs": [
    {
     "data": {
      "text/html": [
       "<div>\n",
       "<style scoped>\n",
       "    .dataframe tbody tr th:only-of-type {\n",
       "        vertical-align: middle;\n",
       "    }\n",
       "\n",
       "    .dataframe tbody tr th {\n",
       "        vertical-align: top;\n",
       "    }\n",
       "\n",
       "    .dataframe thead th {\n",
       "        text-align: right;\n",
       "    }\n",
       "</style>\n",
       "<table border=\"1\" class=\"dataframe\">\n",
       "  <thead>\n",
       "    <tr style=\"text-align: right;\">\n",
       "      <th></th>\n",
       "      <th>title</th>\n",
       "      <th>date_viral</th>\n",
       "      <th>viral_50_rank</th>\n",
       "      <th>date_top200</th>\n",
       "      <th>top_200_rank</th>\n",
       "    </tr>\n",
       "  </thead>\n",
       "  <tbody>\n",
       "    <tr>\n",
       "      <th>174</th>\n",
       "      <td>P*$$Y Fairy (OTW)</td>\n",
       "      <td>2020-03-01</td>\n",
       "      <td>35</td>\n",
       "      <td>2020-03-08</td>\n",
       "      <td>175</td>\n",
       "    </tr>\n",
       "    <tr>\n",
       "      <th>1028</th>\n",
       "      <td>Freaks</td>\n",
       "      <td>2021-04-18</td>\n",
       "      <td>47</td>\n",
       "      <td>2021-04-25</td>\n",
       "      <td>152</td>\n",
       "    </tr>\n",
       "    <tr>\n",
       "      <th>1131</th>\n",
       "      <td>As the World Caves In</td>\n",
       "      <td>2021-06-06</td>\n",
       "      <td>21</td>\n",
       "      <td>2021-06-13</td>\n",
       "      <td>113</td>\n",
       "    </tr>\n",
       "    <tr>\n",
       "      <th>94</th>\n",
       "      <td>The Box</td>\n",
       "      <td>2020-01-26</td>\n",
       "      <td>2</td>\n",
       "      <td>2020-02-02</td>\n",
       "      <td>1</td>\n",
       "    </tr>\n",
       "    <tr>\n",
       "      <th>237</th>\n",
       "      <td>Sunday Best</td>\n",
       "      <td>2020-03-22</td>\n",
       "      <td>17</td>\n",
       "      <td>2020-03-29</td>\n",
       "      <td>15</td>\n",
       "    </tr>\n",
       "    <tr>\n",
       "      <th>916</th>\n",
       "      <td>telepatía</td>\n",
       "      <td>2021-02-21</td>\n",
       "      <td>6</td>\n",
       "      <td>2021-02-28</td>\n",
       "      <td>4</td>\n",
       "    </tr>\n",
       "    <tr>\n",
       "      <th>392</th>\n",
       "      <td>Roses - Imanbek Remix</td>\n",
       "      <td>2020-05-24</td>\n",
       "      <td>22</td>\n",
       "      <td>2020-05-31</td>\n",
       "      <td>13</td>\n",
       "    </tr>\n",
       "    <tr>\n",
       "      <th>953</th>\n",
       "      <td>Cloud 9</td>\n",
       "      <td>2021-03-14</td>\n",
       "      <td>24</td>\n",
       "      <td>2021-03-21</td>\n",
       "      <td>122</td>\n",
       "    </tr>\n",
       "    <tr>\n",
       "      <th>1095</th>\n",
       "      <td>4 Da Gang (with Roddy Ricch)</td>\n",
       "      <td>2021-05-16</td>\n",
       "      <td>44</td>\n",
       "      <td>2021-05-23</td>\n",
       "      <td>50</td>\n",
       "    </tr>\n",
       "    <tr>\n",
       "      <th>618</th>\n",
       "      <td>Midnight Sky</td>\n",
       "      <td>2020-09-13</td>\n",
       "      <td>27</td>\n",
       "      <td>2020-09-20</td>\n",
       "      <td>46</td>\n",
       "    </tr>\n",
       "  </tbody>\n",
       "</table>\n",
       "</div>"
      ],
      "text/plain": [
       "                             title  date_viral  viral_50_rank date_top200  \\\n",
       "174              P*$$Y Fairy (OTW)  2020-03-01             35  2020-03-08   \n",
       "1028                        Freaks  2021-04-18             47  2021-04-25   \n",
       "1131         As the World Caves In  2021-06-06             21  2021-06-13   \n",
       "94                         The Box  2020-01-26              2  2020-02-02   \n",
       "237                    Sunday Best  2020-03-22             17  2020-03-29   \n",
       "916                      telepatía  2021-02-21              6  2021-02-28   \n",
       "392          Roses - Imanbek Remix  2020-05-24             22  2020-05-31   \n",
       "953                        Cloud 9  2021-03-14             24  2021-03-21   \n",
       "1095  4 Da Gang (with Roddy Ricch)  2021-05-16             44  2021-05-23   \n",
       "618                   Midnight Sky  2020-09-13             27  2020-09-20   \n",
       "\n",
       "      top_200_rank  \n",
       "174            175  \n",
       "1028           152  \n",
       "1131           113  \n",
       "94               1  \n",
       "237             15  \n",
       "916              4  \n",
       "392             13  \n",
       "953            122  \n",
       "1095            50  \n",
       "618             46  "
      ]
     },
     "execution_count": 4,
     "metadata": {},
     "output_type": "execute_result"
    }
   ],
   "source": [
    "df_weekly_ranks = pd.read_csv(\"../data/weekly_ranks.csv\")\n",
    "df_weekly_ranks = df_weekly_ranks.drop(columns=['trend_viral_50'])\n",
    "df_weekly_ranks.drop(\"Unnamed: 0\",axis=1,inplace=True)\n",
    "df_weekly_ranks.sample(10)"
   ]
  },
  {
   "cell_type": "code",
   "execution_count": 5,
   "metadata": {},
   "outputs": [],
   "source": [
    "df_classifier_approach_1 = pd.DataFrame()"
   ]
  },
  {
   "cell_type": "code",
   "execution_count": 6,
   "metadata": {},
   "outputs": [],
   "source": [
    "xtrain, xtest, ytrain, ytest = train_test_split(df_weekly_ranks[\"viral_50_rank\"].values,df_weekly_ranks[\"top_200_rank\"].values, train_size=0.8)\n",
    "xtrain = xtrain.reshape(-1,1)\n",
    "xtest = xtest.reshape(-1,1)"
   ]
  },
  {
   "cell_type": "code",
   "execution_count": 7,
   "metadata": {},
   "outputs": [],
   "source": [
    "# add truth values to dataframe\n",
    "add_to_classifier_df(df_classifier_approach_1, 'truth', ytest)"
   ]
  },
  {
   "cell_type": "markdown",
   "metadata": {
    "jp-MarkdownHeadingCollapsed": true,
    "tags": []
   },
   "source": [
    "### We are using SVM with a linear SVC to predict the rank of the top 200 chart based on the viral 50 rank."
   ]
  },
  {
   "cell_type": "code",
   "execution_count": 8,
   "metadata": {},
   "outputs": [],
   "source": [
    "# test with svm\n",
    "svm_linear = SVC(kernel='linear')\n",
    "\n",
    "svm_fit_linear = svm_linear.fit(xtrain, ytrain)\n",
    "ypred = svm_fit_linear.predict(xtest)"
   ]
  },
  {
   "cell_type": "code",
   "execution_count": 9,
   "metadata": {
    "tags": []
   },
   "outputs": [
    {
     "name": "stdout",
     "output_type": "stream",
     "text": [
      "accuracy of support vector machines with linear kernel is: 0.02258064516129032\n",
      "r^2 score of support vector machines with linear kernel is: 0.025889967637540454\n"
     ]
    }
   ],
   "source": [
    "print(f'accuracy of support vector machines with linear kernel is: {accuracy_score(ypred, ytest)}')\n",
    "print(f'r^2 score of support vector machines with linear kernel is: {svm_fit_linear.score(xtrain, ytrain)}')"
   ]
  },
  {
   "cell_type": "markdown",
   "metadata": {
    "jp-MarkdownHeadingCollapsed": true,
    "tags": []
   },
   "source": [
    "### We are using Support Vector Machine (SVM) with a polynomial kernel (SVC = poly) to predict the rank of the top 200 chart from the viral 50 rank."
   ]
  },
  {
   "cell_type": "code",
   "execution_count": 10,
   "metadata": {},
   "outputs": [],
   "source": [
    "svm_poly = SVC(kernel='poly')\n",
    "\n",
    "svm_fit_poly = svm_poly.fit(xtrain, ytrain)\n",
    "ypred = svm_fit_poly.predict(xtest)"
   ]
  },
  {
   "cell_type": "code",
   "execution_count": 11,
   "metadata": {},
   "outputs": [
    {
     "name": "stdout",
     "output_type": "stream",
     "text": [
      "accuracy of support vector machines with polynomial kernel is: 0.025806451612903226\n",
      "r^2 score of support vector machines with polynomial kernel is: 0.02831715210355987\n"
     ]
    }
   ],
   "source": [
    "print(f'accuracy of support vector machines with polynomial kernel is: {accuracy_score(ypred, ytest)}')\n",
    "print(f'r^2 score of support vector machines with polynomial kernel is: {svm_fit_poly.score(xtrain, ytrain)}')"
   ]
  },
  {
   "cell_type": "code",
   "execution_count": 12,
   "metadata": {},
   "outputs": [],
   "source": [
    "poly_degree = 3\n",
    "polyn_reg = make_pipeline(PolynomialFeatures(poly_degree),LinearRegression()) # create polynomial regression model\n",
    "\n",
    "polyn_reg = polyn_reg.fit(xtrain, ytrain)\n",
    "ypred = polyn_reg.predict(xtest)"
   ]
  },
  {
   "cell_type": "code",
   "execution_count": 13,
   "metadata": {},
   "outputs": [
    {
     "data": {
      "text/plain": [
       "0.004664919469423712"
      ]
     },
     "execution_count": 13,
     "metadata": {},
     "output_type": "execute_result"
    }
   ],
   "source": [
    "polyn_reg.score(xtrain,ytrain)# R² score for training data"
   ]
  },
  {
   "cell_type": "markdown",
   "metadata": {
    "jp-MarkdownHeadingCollapsed": true,
    "tags": []
   },
   "source": [
    "## APPROACH 2: Predict rank OF top 200 chart FROM viral 50 trend and rank\n",
    "## (from viral 50 rank & trend -> top 200 rank)\n",
    "We try to predict the rank of the top 200 chart from the viral 50 trend and rank to gain insight into which songs are likely to rise in popularity."
   ]
  },
  {
   "cell_type": "code",
   "execution_count": 14,
   "metadata": {},
   "outputs": [
    {
     "data": {
      "text/html": [
       "<div>\n",
       "<style scoped>\n",
       "    .dataframe tbody tr th:only-of-type {\n",
       "        vertical-align: middle;\n",
       "    }\n",
       "\n",
       "    .dataframe tbody tr th {\n",
       "        vertical-align: top;\n",
       "    }\n",
       "\n",
       "    .dataframe thead th {\n",
       "        text-align: right;\n",
       "    }\n",
       "</style>\n",
       "<table border=\"1\" class=\"dataframe\">\n",
       "  <thead>\n",
       "    <tr style=\"text-align: right;\">\n",
       "      <th></th>\n",
       "      <th>title</th>\n",
       "      <th>date_viral</th>\n",
       "      <th>viral_50_rank</th>\n",
       "      <th>trend_viral_50</th>\n",
       "      <th>date_top200</th>\n",
       "      <th>top_200_rank</th>\n",
       "    </tr>\n",
       "  </thead>\n",
       "  <tbody>\n",
       "    <tr>\n",
       "      <th>1526</th>\n",
       "      <td>It's Called: Freefall</td>\n",
       "      <td>2021-12-12</td>\n",
       "      <td>36</td>\n",
       "      <td>MOVE_DOWN</td>\n",
       "      <td>2021-12-19</td>\n",
       "      <td>177</td>\n",
       "    </tr>\n",
       "    <tr>\n",
       "      <th>697</th>\n",
       "      <td>Dreams - 2004 Remaster</td>\n",
       "      <td>2020-10-18</td>\n",
       "      <td>42</td>\n",
       "      <td>MOVE_DOWN</td>\n",
       "      <td>2020-10-25</td>\n",
       "      <td>14</td>\n",
       "    </tr>\n",
       "    <tr>\n",
       "      <th>892</th>\n",
       "      <td>Heat Waves</td>\n",
       "      <td>2021-02-14</td>\n",
       "      <td>42</td>\n",
       "      <td>MOVE_UP</td>\n",
       "      <td>2021-02-21</td>\n",
       "      <td>18</td>\n",
       "    </tr>\n",
       "    <tr>\n",
       "      <th>442</th>\n",
       "      <td>ROCKSTAR (feat. Roddy Ricch)</td>\n",
       "      <td>2020-06-21</td>\n",
       "      <td>41</td>\n",
       "      <td>MOVE_UP</td>\n",
       "      <td>2020-06-28</td>\n",
       "      <td>1</td>\n",
       "    </tr>\n",
       "    <tr>\n",
       "      <th>1261</th>\n",
       "      <td>Beggin'</td>\n",
       "      <td>2021-08-15</td>\n",
       "      <td>25</td>\n",
       "      <td>SAME_POSITION</td>\n",
       "      <td>2021-08-22</td>\n",
       "      <td>11</td>\n",
       "    </tr>\n",
       "    <tr>\n",
       "      <th>1037</th>\n",
       "      <td>Slumber Party (feat. Princess Nokia)</td>\n",
       "      <td>2021-04-18</td>\n",
       "      <td>18</td>\n",
       "      <td>MOVE_DOWN</td>\n",
       "      <td>2021-04-25</td>\n",
       "      <td>115</td>\n",
       "    </tr>\n",
       "    <tr>\n",
       "      <th>946</th>\n",
       "      <td>drivers license</td>\n",
       "      <td>2021-03-07</td>\n",
       "      <td>42</td>\n",
       "      <td>MOVE_DOWN</td>\n",
       "      <td>2021-03-14</td>\n",
       "      <td>3</td>\n",
       "    </tr>\n",
       "    <tr>\n",
       "      <th>1410</th>\n",
       "      <td>Cold Heart - PNAU Remix</td>\n",
       "      <td>2021-10-24</td>\n",
       "      <td>32</td>\n",
       "      <td>MOVE_DOWN</td>\n",
       "      <td>2021-10-31</td>\n",
       "      <td>34</td>\n",
       "    </tr>\n",
       "    <tr>\n",
       "      <th>1151</th>\n",
       "      <td>Straightenin</td>\n",
       "      <td>2021-06-13</td>\n",
       "      <td>37</td>\n",
       "      <td>MOVE_UP</td>\n",
       "      <td>2021-06-20</td>\n",
       "      <td>64</td>\n",
       "    </tr>\n",
       "    <tr>\n",
       "      <th>1019</th>\n",
       "      <td>Slumber Party (feat. Princess Nokia)</td>\n",
       "      <td>2021-04-11</td>\n",
       "      <td>23</td>\n",
       "      <td>SAME_POSITION</td>\n",
       "      <td>2021-04-18</td>\n",
       "      <td>109</td>\n",
       "    </tr>\n",
       "  </tbody>\n",
       "</table>\n",
       "</div>"
      ],
      "text/plain": [
       "                                     title  date_viral  viral_50_rank  \\\n",
       "1526                 It's Called: Freefall  2021-12-12             36   \n",
       "697                 Dreams - 2004 Remaster  2020-10-18             42   \n",
       "892                             Heat Waves  2021-02-14             42   \n",
       "442           ROCKSTAR (feat. Roddy Ricch)  2020-06-21             41   \n",
       "1261                               Beggin'  2021-08-15             25   \n",
       "1037  Slumber Party (feat. Princess Nokia)  2021-04-18             18   \n",
       "946                        drivers license  2021-03-07             42   \n",
       "1410               Cold Heart - PNAU Remix  2021-10-24             32   \n",
       "1151                          Straightenin  2021-06-13             37   \n",
       "1019  Slumber Party (feat. Princess Nokia)  2021-04-11             23   \n",
       "\n",
       "     trend_viral_50 date_top200  top_200_rank  \n",
       "1526      MOVE_DOWN  2021-12-19           177  \n",
       "697       MOVE_DOWN  2020-10-25            14  \n",
       "892         MOVE_UP  2021-02-21            18  \n",
       "442         MOVE_UP  2020-06-28             1  \n",
       "1261  SAME_POSITION  2021-08-22            11  \n",
       "1037      MOVE_DOWN  2021-04-25           115  \n",
       "946       MOVE_DOWN  2021-03-14             3  \n",
       "1410      MOVE_DOWN  2021-10-31            34  \n",
       "1151        MOVE_UP  2021-06-20            64  \n",
       "1019  SAME_POSITION  2021-04-18           109  "
      ]
     },
     "execution_count": 14,
     "metadata": {},
     "output_type": "execute_result"
    }
   ],
   "source": [
    "df_weekly_ranks_with_trend = pd.read_csv(\"../data/weekly_ranks.csv\")\n",
    "df_weekly_ranks_with_trend.drop(\"Unnamed: 0\",axis=1,inplace=True)\n",
    "df_weekly_ranks_with_trend.sample(10)"
   ]
  },
  {
   "cell_type": "code",
   "execution_count": 15,
   "metadata": {},
   "outputs": [],
   "source": [
    "# prepare new data for hypothesis testing\n",
    "def add_to_classifier_df(df, classifier_name, prediction_results):\n",
    "    df[classifier_name] = np.array(prediction_results)\n",
    "\n",
    "def export_classifier_to_df(classifier_dataframe: pd.DataFrame, name: str):\n",
    "    classifier_dataframe.to_csv('../data/' + name)"
   ]
  },
  {
   "cell_type": "code",
   "execution_count": 16,
   "metadata": {},
   "outputs": [],
   "source": [
    "df_classifier_approach_2 = pd.DataFrame()"
   ]
  },
  {
   "cell_type": "code",
   "execution_count": 17,
   "metadata": {},
   "outputs": [],
   "source": [
    "xtrain, xtest, ytrain, ytest = train_test_split(df_weekly_ranks_with_trend[[\"viral_50_rank\", \"trend_viral_50\"]], df_weekly_ranks_with_trend[\"top_200_rank\"], train_size=0.8)"
   ]
  },
  {
   "cell_type": "code",
   "execution_count": 18,
   "metadata": {},
   "outputs": [],
   "source": [
    "# add truth values to dataframe\n",
    "add_to_classifier_df(df_classifier_approach_2, 'truth', ytest)"
   ]
  },
  {
   "cell_type": "markdown",
   "metadata": {
    "jp-MarkdownHeadingCollapsed": true,
    "tags": []
   },
   "source": [
    "### We are using SVM with a linear SVC to predict the rank of the top 200 chart based on the viral 50 trend and rank."
   ]
  },
  {
   "cell_type": "code",
   "execution_count": 19,
   "metadata": {},
   "outputs": [],
   "source": [
    "svm_linear = Pipeline([('ohe', OneHotEncoder()), ('clf', SVC(kernel='linear'))])\n",
    "\n",
    "svm_fit_linear = svm_linear.fit(xtrain, ytrain)\n",
    "ypred = svm_fit_linear.predict(xtest)\n",
    "\n",
    "# add to classifier dataframe\n",
    "add_to_classifier_df(df_classifier_approach_2, 'SVC_linear', ypred)"
   ]
  },
  {
   "cell_type": "code",
   "execution_count": 20,
   "metadata": {},
   "outputs": [
    {
     "name": "stdout",
     "output_type": "stream",
     "text": [
      "accuracy of support vector machines with linear kernel is: 0.00967741935483871\n",
      "r^2 score of support vector machines with linear kernel is: 0.1156957928802589\n"
     ]
    }
   ],
   "source": [
    "print(f'accuracy of support vector machines with linear kernel is: {accuracy_score(ypred, ytest)}')\n",
    "print(f'r^2 score of support vector machines with linear kernel is: {svm_fit_linear.score(xtrain, ytrain)}')"
   ]
  },
  {
   "cell_type": "markdown",
   "metadata": {
    "jp-MarkdownHeadingCollapsed": true,
    "tags": []
   },
   "source": [
    "### We are using Support Vector Machine (SVM) to predict our results, with the radial basis function (rbf) kernel in the Support Vector Classifier (SVC) algorithm."
   ]
  },
  {
   "cell_type": "code",
   "execution_count": 21,
   "metadata": {},
   "outputs": [],
   "source": [
    "svm_linear_poly = Pipeline([('ohe', OneHotEncoder()), ('clf', SVC(kernel='rbf'))])\n",
    "\n",
    "svm_fit_poly = svm_linear_poly.fit(xtrain, ytrain)\n",
    "ypred = svm_fit_poly.predict(xtest)\n",
    "\n",
    "# add to classifier dataframe\n",
    "add_to_classifier_df(df_classifier_approach_2, 'SVC_rbf', ypred)"
   ]
  },
  {
   "cell_type": "code",
   "execution_count": 22,
   "metadata": {},
   "outputs": [
    {
     "name": "stdout",
     "output_type": "stream",
     "text": [
      "accuracy of support vector machines with polynomial kernel is: 0.016129032258064516\n",
      "r^2 score of support vector machines with polynomial kernel is: 0.12540453074433658\n"
     ]
    }
   ],
   "source": [
    "print(f'accuracy of support vector machines with polynomial kernel is: {accuracy_score(ypred, ytest)}')\n",
    "print(f'r^2 score of support vector machines with polynomial kernel is: {svm_fit_poly.score(xtrain, ytrain)}')"
   ]
  },
  {
   "cell_type": "markdown",
   "metadata": {
    "jp-MarkdownHeadingCollapsed": true,
    "tags": []
   },
   "source": [
    "## APPROACH 3: Predict trend  OF  top 200  FROM  viral 50 chart position\n",
    "## (from viral 50 rank -> top 200 trend)\n",
    "We try to predict the trend of the top 200 songs by analyzing their position on the Viral 50 chart. By monitoring changes in popularity and engagement, we can anticipate which songs will rise to the top and which will fall out of favor."
   ]
  },
  {
   "cell_type": "code",
   "execution_count": 23,
   "metadata": {},
   "outputs": [],
   "source": [
    "def choose_freq_for_classification(freq):\n",
    "    if freq == 1:\n",
    "        return pd.read_csv('../data/daily_ranks_top_200.csv')\n",
    "    elif freq == 3:\n",
    "        return pd.read_csv('../data/3_days_ranks_top_200.csv')\n",
    "    elif freq == 7:\n",
    "        return pd.read_csv('../data/weekly_ranks_top_200.csv')\n",
    "    else:\n",
    "        print('Wrong input, taking weekly granularity!')\n",
    "        return pd.read_csv('../data/weekly_ranks_top_200.csv')"
   ]
  },
  {
   "cell_type": "code",
   "execution_count": 24,
   "metadata": {},
   "outputs": [
    {
     "data": {
      "text/html": [
       "<div>\n",
       "<style scoped>\n",
       "    .dataframe tbody tr th:only-of-type {\n",
       "        vertical-align: middle;\n",
       "    }\n",
       "\n",
       "    .dataframe tbody tr th {\n",
       "        vertical-align: top;\n",
       "    }\n",
       "\n",
       "    .dataframe thead th {\n",
       "        text-align: right;\n",
       "    }\n",
       "</style>\n",
       "<table border=\"1\" class=\"dataframe\">\n",
       "  <thead>\n",
       "    <tr style=\"text-align: right;\">\n",
       "      <th></th>\n",
       "      <th>Unnamed: 0</th>\n",
       "      <th>title</th>\n",
       "      <th>date_viral</th>\n",
       "      <th>viral_50_rank</th>\n",
       "      <th>date_top200</th>\n",
       "      <th>top_200_rank</th>\n",
       "      <th>trend_top_200</th>\n",
       "    </tr>\n",
       "  </thead>\n",
       "  <tbody>\n",
       "    <tr>\n",
       "      <th>0</th>\n",
       "      <td>0</td>\n",
       "      <td>Adore You</td>\n",
       "      <td>2020-01-05</td>\n",
       "      <td>10</td>\n",
       "      <td>2020-01-12</td>\n",
       "      <td>18</td>\n",
       "      <td>MOVE_UP</td>\n",
       "    </tr>\n",
       "    <tr>\n",
       "      <th>1</th>\n",
       "      <td>1</td>\n",
       "      <td>All I Want - From \"High School Musical: The Mu...</td>\n",
       "      <td>2020-01-05</td>\n",
       "      <td>2</td>\n",
       "      <td>2020-01-12</td>\n",
       "      <td>66</td>\n",
       "      <td>MOVE_UP</td>\n",
       "    </tr>\n",
       "    <tr>\n",
       "      <th>2</th>\n",
       "      <td>2</td>\n",
       "      <td>Ayy Macarena</td>\n",
       "      <td>2020-01-05</td>\n",
       "      <td>20</td>\n",
       "      <td>2020-01-12</td>\n",
       "      <td>143</td>\n",
       "      <td>MOVE_UP</td>\n",
       "    </tr>\n",
       "    <tr>\n",
       "      <th>3</th>\n",
       "      <td>3</td>\n",
       "      <td>Ballin' (with Roddy Ricch)</td>\n",
       "      <td>2020-01-05</td>\n",
       "      <td>38</td>\n",
       "      <td>2020-01-12</td>\n",
       "      <td>13</td>\n",
       "      <td>SAME_POSITION</td>\n",
       "    </tr>\n",
       "    <tr>\n",
       "      <th>4</th>\n",
       "      <td>4</td>\n",
       "      <td>Blinding Lights</td>\n",
       "      <td>2020-01-05</td>\n",
       "      <td>12</td>\n",
       "      <td>2020-01-12</td>\n",
       "      <td>15</td>\n",
       "      <td>MOVE_UP</td>\n",
       "    </tr>\n",
       "    <tr>\n",
       "      <th>...</th>\n",
       "      <td>...</td>\n",
       "      <td>...</td>\n",
       "      <td>...</td>\n",
       "      <td>...</td>\n",
       "      <td>...</td>\n",
       "      <td>...</td>\n",
       "      <td>...</td>\n",
       "    </tr>\n",
       "    <tr>\n",
       "      <th>1541</th>\n",
       "      <td>9</td>\n",
       "      <td>SAD GIRLZ LUV MONEY Remix (feat. Kali Uchis an...</td>\n",
       "      <td>2021-12-19</td>\n",
       "      <td>47</td>\n",
       "      <td>2021-12-26</td>\n",
       "      <td>166</td>\n",
       "      <td>NEW_ENTRY</td>\n",
       "    </tr>\n",
       "    <tr>\n",
       "      <th>1542</th>\n",
       "      <td>10</td>\n",
       "      <td>Super Gremlin</td>\n",
       "      <td>2021-12-19</td>\n",
       "      <td>23</td>\n",
       "      <td>2021-12-26</td>\n",
       "      <td>6</td>\n",
       "      <td>MOVE_UP</td>\n",
       "    </tr>\n",
       "    <tr>\n",
       "      <th>1543</th>\n",
       "      <td>11</td>\n",
       "      <td>Surface Pressure</td>\n",
       "      <td>2021-12-19</td>\n",
       "      <td>6</td>\n",
       "      <td>2021-12-26</td>\n",
       "      <td>62</td>\n",
       "      <td>NEW_ENTRY</td>\n",
       "    </tr>\n",
       "    <tr>\n",
       "      <th>1544</th>\n",
       "      <td>12</td>\n",
       "      <td>We Don't Talk About Bruno</td>\n",
       "      <td>2021-12-19</td>\n",
       "      <td>1</td>\n",
       "      <td>2021-12-26</td>\n",
       "      <td>27</td>\n",
       "      <td>NEW_ENTRY</td>\n",
       "    </tr>\n",
       "    <tr>\n",
       "      <th>1545</th>\n",
       "      <td>13</td>\n",
       "      <td>abcdefu</td>\n",
       "      <td>2021-12-19</td>\n",
       "      <td>4</td>\n",
       "      <td>2021-12-26</td>\n",
       "      <td>8</td>\n",
       "      <td>MOVE_UP</td>\n",
       "    </tr>\n",
       "  </tbody>\n",
       "</table>\n",
       "<p>1546 rows × 7 columns</p>\n",
       "</div>"
      ],
      "text/plain": [
       "      Unnamed: 0                                              title  \\\n",
       "0              0                                          Adore You   \n",
       "1              1  All I Want - From \"High School Musical: The Mu...   \n",
       "2              2                                       Ayy Macarena   \n",
       "3              3                         Ballin' (with Roddy Ricch)   \n",
       "4              4                                    Blinding Lights   \n",
       "...          ...                                                ...   \n",
       "1541           9  SAD GIRLZ LUV MONEY Remix (feat. Kali Uchis an...   \n",
       "1542          10                                      Super Gremlin   \n",
       "1543          11                                   Surface Pressure   \n",
       "1544          12                          We Don't Talk About Bruno   \n",
       "1545          13                                            abcdefu   \n",
       "\n",
       "      date_viral  viral_50_rank date_top200  top_200_rank  trend_top_200  \n",
       "0     2020-01-05             10  2020-01-12            18        MOVE_UP  \n",
       "1     2020-01-05              2  2020-01-12            66        MOVE_UP  \n",
       "2     2020-01-05             20  2020-01-12           143        MOVE_UP  \n",
       "3     2020-01-05             38  2020-01-12            13  SAME_POSITION  \n",
       "4     2020-01-05             12  2020-01-12            15        MOVE_UP  \n",
       "...          ...            ...         ...           ...            ...  \n",
       "1541  2021-12-19             47  2021-12-26           166      NEW_ENTRY  \n",
       "1542  2021-12-19             23  2021-12-26             6        MOVE_UP  \n",
       "1543  2021-12-19              6  2021-12-26            62      NEW_ENTRY  \n",
       "1544  2021-12-19              1  2021-12-26            27      NEW_ENTRY  \n",
       "1545  2021-12-19              4  2021-12-26             8        MOVE_UP  \n",
       "\n",
       "[1546 rows x 7 columns]"
      ]
     },
     "execution_count": 24,
     "metadata": {},
     "output_type": "execute_result"
    }
   ],
   "source": [
    "df_trends_top_200 = choose_freq_for_classification(7)\n",
    "df_trends_top_200"
   ]
  },
  {
   "cell_type": "code",
   "execution_count": 25,
   "metadata": {},
   "outputs": [],
   "source": [
    "df_classifier_approach_3 = pd.DataFrame()"
   ]
  },
  {
   "cell_type": "code",
   "execution_count": 26,
   "metadata": {},
   "outputs": [],
   "source": [
    "xtrain_3, xtest_3, ytrain_3, ytest_3 = train_test_split(df_trends_top_200[[\"viral_50_rank\"]], df_trends_top_200[\"trend_top_200\"], train_size=0.8)"
   ]
  },
  {
   "cell_type": "code",
   "execution_count": 27,
   "metadata": {},
   "outputs": [],
   "source": [
    "# add truth value for test classifier results\n",
    "add_to_classifier_df(df_classifier_approach_3, 'truth', ytest_3)"
   ]
  },
  {
   "cell_type": "markdown",
   "metadata": {
    "jp-MarkdownHeadingCollapsed": true,
    "tags": []
   },
   "source": [
    "### We are using a support vector machine with a linear kernel to predict the trend of the top 200 songs on the Viral 50 chart."
   ]
  },
  {
   "cell_type": "code",
   "execution_count": 28,
   "metadata": {},
   "outputs": [],
   "source": [
    "svm_linear = SVC(kernel='linear')\n",
    "\n",
    "svm_fit_linear = svm_linear.fit(xtrain_3, ytrain_3)\n",
    "ypred_svm_linear = svm_fit_linear.predict(xtest_3)\n",
    "\n",
    "add_to_classifier_df(df_classifier_approach_3, 'svm_linear', ypred_svm_linear)"
   ]
  },
  {
   "cell_type": "code",
   "execution_count": 29,
   "metadata": {},
   "outputs": [
    {
     "name": "stdout",
     "output_type": "stream",
     "text": [
      "accuracy of support vector machines with linear kernel is: 0.5451612903225806\n",
      "r^2 score of support vector machines with linear kernel is: 0.5355987055016181\n"
     ]
    }
   ],
   "source": [
    "print(f'accuracy of support vector machines with linear kernel is: {accuracy_score(ypred_svm_linear, ytest_3)}')\n",
    "print(f'r^2 score of support vector machines with linear kernel is: {svm_fit_linear.score(xtrain_3, ytrain_3)}')"
   ]
  },
  {
   "cell_type": "markdown",
   "metadata": {
    "jp-MarkdownHeadingCollapsed": true,
    "tags": []
   },
   "source": [
    "### We are using a Support Vector Machine (SVM) algorithm with a polynomial kernal to predict the trend of the top 200 songs on the Viral 50 chart."
   ]
  },
  {
   "cell_type": "code",
   "execution_count": 30,
   "metadata": {},
   "outputs": [],
   "source": [
    "svm_poly= SVC(kernel='poly', degree=3)\n",
    "\n",
    "svm_fit_poly = svm_poly.fit(xtrain_3, ytrain_3)\n",
    "ypred_svm_poly = svm_fit_poly.predict(xtest_3)\n",
    "\n",
    "add_to_classifier_df(df_classifier_approach_3, 'svm_poly', ypred_svm_poly)"
   ]
  },
  {
   "cell_type": "code",
   "execution_count": 31,
   "metadata": {},
   "outputs": [
    {
     "name": "stdout",
     "output_type": "stream",
     "text": [
      "accuracy of support vector machines with poly kernel is: 0.5451612903225806\n",
      "r^2 score of support vector machines with poly kernel is: 0.5355987055016181\n"
     ]
    }
   ],
   "source": [
    "print(f'accuracy of support vector machines with poly kernel is: {accuracy_score(ypred_svm_poly, ytest_3)}')\n",
    "print(f'r^2 score of support vector machines with poly kernel is: {svm_fit_poly.score(xtrain_3, ytrain_3)}')"
   ]
  },
  {
   "cell_type": "markdown",
   "metadata": {
    "jp-MarkdownHeadingCollapsed": true,
    "tags": []
   },
   "source": [
    "### We are using logistic regression to predict the trend of the top 200 songs on the Viral 50 chart."
   ]
  },
  {
   "cell_type": "code",
   "execution_count": 32,
   "metadata": {},
   "outputs": [],
   "source": [
    "log_reg = LogisticRegression()\n",
    "\n",
    "log_reg_fit = log_reg.fit(xtrain_3, ytrain_3)\n",
    "ypred_log_reg = log_reg_fit.predict(xtest_3)\n",
    "\n",
    "add_to_classifier_df(df_classifier_approach_3, 'logistic_regression', ypred_log_reg)"
   ]
  },
  {
   "cell_type": "code",
   "execution_count": 33,
   "metadata": {},
   "outputs": [
    {
     "name": "stdout",
     "output_type": "stream",
     "text": [
      "accuracy of support vector machines with linear kernel is: 0.5451612903225806\n",
      "r^2 score of support vector machines with linear kernel is: 0.5355987055016181\n"
     ]
    }
   ],
   "source": [
    "print(f'accuracy of support vector machines with linear kernel is: {accuracy_score(ypred_log_reg, ytest_3)}')\n",
    "print(f'r^2 score of support vector machines with linear kernel is: {log_reg_fit.score(xtrain_3, ytrain_3)}')"
   ]
  },
  {
   "cell_type": "markdown",
   "metadata": {
    "jp-MarkdownHeadingCollapsed": true,
    "tags": []
   },
   "source": [
    "### We are using K nearest neighbors algorithm to predict the trend of the top 200 songs on the Viral 50 chart."
   ]
  },
  {
   "cell_type": "code",
   "execution_count": 34,
   "metadata": {},
   "outputs": [
    {
     "name": "stderr",
     "output_type": "stream",
     "text": [
      "/home/nico/.local/share/virtualenvs/data_science-KTMjTarb/lib/python3.10/site-packages/sklearn/neighbors/_classification.py:228: FutureWarning: Unlike other reduction functions (e.g. `skew`, `kurtosis`), the default behavior of `mode` typically preserves the axis it acts along. In SciPy 1.11.0, this behavior will change: the default value of `keepdims` will become False, the `axis` over which the statistic is taken will be eliminated, and the value None will no longer be accepted. Set `keepdims` to True or False to avoid this warning.\n",
      "  mode, _ = stats.mode(_y[neigh_ind, k], axis=1)\n"
     ]
    }
   ],
   "source": [
    "knn = KNeighborsClassifier()\n",
    "\n",
    "knn_fit = knn.fit(xtrain_3, ytrain_3)\n",
    "ypred_knn = knn_fit.predict(xtest_3)\n",
    "\n",
    "add_to_classifier_df(df_classifier_approach_3, 'k_nearest_neighbour', ypred_knn)"
   ]
  },
  {
   "cell_type": "code",
   "execution_count": 35,
   "metadata": {},
   "outputs": [
    {
     "name": "stdout",
     "output_type": "stream",
     "text": [
      "accuracy of knn is: 0.46774193548387094\n",
      "r^2 score of knn is: 0.47815533980582525\n"
     ]
    },
    {
     "name": "stderr",
     "output_type": "stream",
     "text": [
      "/home/nico/.local/share/virtualenvs/data_science-KTMjTarb/lib/python3.10/site-packages/sklearn/neighbors/_classification.py:228: FutureWarning: Unlike other reduction functions (e.g. `skew`, `kurtosis`), the default behavior of `mode` typically preserves the axis it acts along. In SciPy 1.11.0, this behavior will change: the default value of `keepdims` will become False, the `axis` over which the statistic is taken will be eliminated, and the value None will no longer be accepted. Set `keepdims` to True or False to avoid this warning.\n",
      "  mode, _ = stats.mode(_y[neigh_ind, k], axis=1)\n"
     ]
    }
   ],
   "source": [
    "print(f'accuracy of knn is: {accuracy_score(ypred_knn, ytest_3)}')\n",
    "print(f'r^2 score of knn is: {knn_fit.score(xtrain_3, ytrain_3)}')"
   ]
  },
  {
   "cell_type": "code",
   "execution_count": 36,
   "metadata": {},
   "outputs": [],
   "source": [
    "export_classifier_df_to_csv(df_classifier_approach_3, \"classification_results_approach_3.csv\")"
   ]
  }
 ],
 "metadata": {
  "kernelspec": {
   "display_name": "Python 3 (ipykernel)",
   "language": "python",
   "name": "python3"
  },
  "language_info": {
   "codemirror_mode": {
    "name": "ipython",
    "version": 3
   },
   "file_extension": ".py",
   "mimetype": "text/x-python",
   "name": "python",
   "nbconvert_exporter": "python",
   "pygments_lexer": "ipython3",
   "version": "3.10.8"
  },
  "vscode": {
   "interpreter": {
    "hash": "91c9c3035d31b1b248a09f4683e22d2eee92d43933c62df06aa9c8e048bab2cb"
   }
  }
 },
 "nbformat": 4,
 "nbformat_minor": 4
}
