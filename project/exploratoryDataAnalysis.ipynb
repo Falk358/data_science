{
 "cells": [
  {
   "cell_type": "code",
   "execution_count": 1,
   "id": "db498854-6dba-4a86-b6b6-52daab895e50",
   "metadata": {},
   "outputs": [],
   "source": [
    "import pandas as pd\n",
    "import matplotlib.pyplot as plt"
   ]
  },
  {
   "cell_type": "code",
   "execution_count": 2,
   "id": "28996d30-451a-4646-be16-cc48746541df",
   "metadata": {},
   "outputs": [],
   "source": [
    "df_spotify = pd.read_csv(\"data/spotify_2020+.csv\")\n",
    "df_billboard = pd.read_csv(\"data/billboardCharts.csv\")"
   ]
  },
  {
   "cell_type": "code",
   "execution_count": 3,
   "id": "d76e9474-361e-480e-8f83-92ce71545271",
   "metadata": {},
   "outputs": [
    {
     "data": {
      "text/plain": [
       "(11496684, 11)"
      ]
     },
     "execution_count": 3,
     "metadata": {},
     "output_type": "execute_result"
    }
   ],
   "source": [
    "df_spotify.shape"
   ]
  },
  {
   "cell_type": "code",
   "execution_count": 4,
   "id": "5a4027ed-8d11-4912-a74e-ea3d9d16d73f",
   "metadata": {},
   "outputs": [
    {
     "data": {
      "text/plain": [
       "(330087, 7)"
      ]
     },
     "execution_count": 4,
     "metadata": {},
     "output_type": "execute_result"
    }
   ],
   "source": [
    "df_billboard.shape"
   ]
  },
  {
   "cell_type": "markdown",
   "id": "56ae395f-32c5-498f-917a-745ed8168db2",
   "metadata": {},
   "source": [
    "# Exploratory data analysis"
   ]
  },
  {
   "cell_type": "markdown",
   "id": "4658bbd5-c6fb-494c-9f64-6400708e5148",
   "metadata": {},
   "source": [
    "We have to seperate the two types of charts into seperate dataframes."
   ]
  },
  {
   "cell_type": "code",
   "execution_count": 5,
   "id": "6baf112a-2ca0-4e1d-88e5-9d5fe4050828",
   "metadata": {},
   "outputs": [
    {
     "data": {
      "text/plain": [
       "array(['top200', 'viral50'], dtype=object)"
      ]
     },
     "execution_count": 5,
     "metadata": {},
     "output_type": "execute_result"
    }
   ],
   "source": [
    "df_spotify['chart'].unique()"
   ]
  },
  {
   "cell_type": "code",
   "execution_count": 6,
   "id": "7875a291-7581-4e5f-9119-9041e1d92e10",
   "metadata": {},
   "outputs": [
    {
     "data": {
      "text/plain": [
       "(2510831, 11)"
      ]
     },
     "execution_count": 6,
     "metadata": {},
     "output_type": "execute_result"
    }
   ],
   "source": [
    "df_viral50 = df_spotify[df_spotify['chart'] == 'viral50']\n",
    "df_viral50.shape"
   ]
  },
  {
   "cell_type": "code",
   "execution_count": 7,
   "id": "1e5ff137-9883-4593-810b-b481a9080089",
   "metadata": {},
   "outputs": [
    {
     "data": {
      "text/plain": [
       "(8985853, 11)"
      ]
     },
     "execution_count": 7,
     "metadata": {},
     "output_type": "execute_result"
    }
   ],
   "source": [
    "df_top200 = df_spotify[df_spotify['chart'] == 'top200']\n",
    "df_top200.shape"
   ]
  },
  {
   "cell_type": "markdown",
   "id": "08f26d0b-fd92-4243-aff3-3f338df962fc",
   "metadata": {},
   "source": [
    "## Viral50"
   ]
  },
  {
   "cell_type": "markdown",
   "id": "66540910-e627-4a51-a35d-430b10570379",
   "metadata": {},
   "source": [
    "First we will take a look at Viral50 because this data will be used to predict the movement of positions in the Top200 Charts."
   ]
  },
  {
   "cell_type": "code",
   "execution_count": 8,
   "id": "64a80250-0490-4af3-ab61-cae634d4c9d3",
   "metadata": {},
   "outputs": [
    {
     "data": {
      "text/html": [
       "<div>\n",
       "<style scoped>\n",
       "    .dataframe tbody tr th:only-of-type {\n",
       "        vertical-align: middle;\n",
       "    }\n",
       "\n",
       "    .dataframe tbody tr th {\n",
       "        vertical-align: top;\n",
       "    }\n",
       "\n",
       "    .dataframe thead th {\n",
       "        text-align: right;\n",
       "    }\n",
       "</style>\n",
       "<table border=\"1\" class=\"dataframe\">\n",
       "  <thead>\n",
       "    <tr style=\"text-align: right;\">\n",
       "      <th></th>\n",
       "      <th>Unnamed: 0.1</th>\n",
       "      <th>Unnamed: 0</th>\n",
       "      <th>title</th>\n",
       "      <th>rank</th>\n",
       "      <th>date</th>\n",
       "      <th>artist</th>\n",
       "      <th>url</th>\n",
       "      <th>region</th>\n",
       "      <th>chart</th>\n",
       "      <th>trend</th>\n",
       "      <th>streams</th>\n",
       "    </tr>\n",
       "  </thead>\n",
       "  <tbody>\n",
       "    <tr>\n",
       "      <th>1491502</th>\n",
       "      <td>1491502</td>\n",
       "      <td>25000000</td>\n",
       "      <td>The Red Means I Love You</td>\n",
       "      <td>29</td>\n",
       "      <td>2021-11-03</td>\n",
       "      <td>Madds Buckley</td>\n",
       "      <td>https://open.spotify.com/track/5pLbM4PU1wZyMvo...</td>\n",
       "      <td>Romania</td>\n",
       "      <td>viral50</td>\n",
       "      <td>MOVE_DOWN</td>\n",
       "      <td>NaN</td>\n",
       "    </tr>\n",
       "    <tr>\n",
       "      <th>1491503</th>\n",
       "      <td>1491503</td>\n",
       "      <td>25000001</td>\n",
       "      <td>Close Eyes</td>\n",
       "      <td>30</td>\n",
       "      <td>2021-11-03</td>\n",
       "      <td>DVRST</td>\n",
       "      <td>https://open.spotify.com/track/3CLSHJv5aUROAN2...</td>\n",
       "      <td>Romania</td>\n",
       "      <td>viral50</td>\n",
       "      <td>MOVE_DOWN</td>\n",
       "      <td>NaN</td>\n",
       "    </tr>\n",
       "    <tr>\n",
       "      <th>1491504</th>\n",
       "      <td>1491504</td>\n",
       "      <td>25000002</td>\n",
       "      <td>Jugaste y Sufrí</td>\n",
       "      <td>31</td>\n",
       "      <td>2021-11-03</td>\n",
       "      <td>Eslabon Armado, DannyLux</td>\n",
       "      <td>https://open.spotify.com/track/3NqBxTOMCJ3zW9C...</td>\n",
       "      <td>Romania</td>\n",
       "      <td>viral50</td>\n",
       "      <td>SAME_POSITION</td>\n",
       "      <td>NaN</td>\n",
       "    </tr>\n",
       "    <tr>\n",
       "      <th>1491505</th>\n",
       "      <td>1491505</td>\n",
       "      <td>25000003</td>\n",
       "      <td>The Feels</td>\n",
       "      <td>32</td>\n",
       "      <td>2021-11-03</td>\n",
       "      <td>TWICE</td>\n",
       "      <td>https://open.spotify.com/track/6pgqZ7Iw4LfHlfg...</td>\n",
       "      <td>Romania</td>\n",
       "      <td>viral50</td>\n",
       "      <td>MOVE_DOWN</td>\n",
       "      <td>NaN</td>\n",
       "    </tr>\n",
       "    <tr>\n",
       "      <th>1491506</th>\n",
       "      <td>1491506</td>\n",
       "      <td>25000004</td>\n",
       "      <td>Spooky, Scary Skeletons - Undead Tombstone Remix</td>\n",
       "      <td>33</td>\n",
       "      <td>2021-11-03</td>\n",
       "      <td>Andrew Gold</td>\n",
       "      <td>https://open.spotify.com/track/1sUdq3kWa9dJXHu...</td>\n",
       "      <td>Romania</td>\n",
       "      <td>viral50</td>\n",
       "      <td>MOVE_DOWN</td>\n",
       "      <td>NaN</td>\n",
       "    </tr>\n",
       "  </tbody>\n",
       "</table>\n",
       "</div>"
      ],
      "text/plain": [
       "         Unnamed: 0.1  Unnamed: 0  \\\n",
       "1491502       1491502    25000000   \n",
       "1491503       1491503    25000001   \n",
       "1491504       1491504    25000002   \n",
       "1491505       1491505    25000003   \n",
       "1491506       1491506    25000004   \n",
       "\n",
       "                                                    title  rank        date  \\\n",
       "1491502                          The Red Means I Love You    29  2021-11-03   \n",
       "1491503                                        Close Eyes    30  2021-11-03   \n",
       "1491504                                   Jugaste y Sufrí    31  2021-11-03   \n",
       "1491505                                         The Feels    32  2021-11-03   \n",
       "1491506  Spooky, Scary Skeletons - Undead Tombstone Remix    33  2021-11-03   \n",
       "\n",
       "                           artist  \\\n",
       "1491502             Madds Buckley   \n",
       "1491503                     DVRST   \n",
       "1491504  Eslabon Armado, DannyLux   \n",
       "1491505                     TWICE   \n",
       "1491506               Andrew Gold   \n",
       "\n",
       "                                                       url   region    chart  \\\n",
       "1491502  https://open.spotify.com/track/5pLbM4PU1wZyMvo...  Romania  viral50   \n",
       "1491503  https://open.spotify.com/track/3CLSHJv5aUROAN2...  Romania  viral50   \n",
       "1491504  https://open.spotify.com/track/3NqBxTOMCJ3zW9C...  Romania  viral50   \n",
       "1491505  https://open.spotify.com/track/6pgqZ7Iw4LfHlfg...  Romania  viral50   \n",
       "1491506  https://open.spotify.com/track/1sUdq3kWa9dJXHu...  Romania  viral50   \n",
       "\n",
       "                 trend  streams  \n",
       "1491502      MOVE_DOWN      NaN  \n",
       "1491503      MOVE_DOWN      NaN  \n",
       "1491504  SAME_POSITION      NaN  \n",
       "1491505      MOVE_DOWN      NaN  \n",
       "1491506      MOVE_DOWN      NaN  "
      ]
     },
     "execution_count": 8,
     "metadata": {},
     "output_type": "execute_result"
    }
   ],
   "source": [
    "df_viral50.head()"
   ]
  },
  {
   "cell_type": "code",
   "execution_count": 9,
   "id": "181e322c-0863-4599-a611-bd3f2f5cc015",
   "metadata": {},
   "outputs": [
    {
     "data": {
      "text/html": [
       "<div>\n",
       "<style scoped>\n",
       "    .dataframe tbody tr th:only-of-type {\n",
       "        vertical-align: middle;\n",
       "    }\n",
       "\n",
       "    .dataframe tbody tr th {\n",
       "        vertical-align: top;\n",
       "    }\n",
       "\n",
       "    .dataframe thead th {\n",
       "        text-align: right;\n",
       "    }\n",
       "</style>\n",
       "<table border=\"1\" class=\"dataframe\">\n",
       "  <thead>\n",
       "    <tr style=\"text-align: right;\">\n",
       "      <th></th>\n",
       "      <th>Unnamed: 0.1</th>\n",
       "      <th>Unnamed: 0</th>\n",
       "      <th>title</th>\n",
       "      <th>rank</th>\n",
       "      <th>date</th>\n",
       "      <th>artist</th>\n",
       "      <th>url</th>\n",
       "      <th>chart</th>\n",
       "      <th>trend</th>\n",
       "      <th>streams</th>\n",
       "    </tr>\n",
       "    <tr>\n",
       "      <th>region</th>\n",
       "      <th></th>\n",
       "      <th></th>\n",
       "      <th></th>\n",
       "      <th></th>\n",
       "      <th></th>\n",
       "      <th></th>\n",
       "      <th></th>\n",
       "      <th></th>\n",
       "      <th></th>\n",
       "      <th></th>\n",
       "    </tr>\n",
       "  </thead>\n",
       "  <tbody>\n",
       "    <tr>\n",
       "      <th>Andorra</th>\n",
       "      <td>36546</td>\n",
       "      <td>36546</td>\n",
       "      <td>1806</td>\n",
       "      <td>50</td>\n",
       "      <td>731</td>\n",
       "      <td>1230</td>\n",
       "      <td>1958</td>\n",
       "      <td>1</td>\n",
       "      <td>4</td>\n",
       "      <td>0</td>\n",
       "    </tr>\n",
       "    <tr>\n",
       "      <th>Argentina</th>\n",
       "      <td>36532</td>\n",
       "      <td>36532</td>\n",
       "      <td>1712</td>\n",
       "      <td>50</td>\n",
       "      <td>731</td>\n",
       "      <td>1361</td>\n",
       "      <td>1853</td>\n",
       "      <td>1</td>\n",
       "      <td>4</td>\n",
       "      <td>0</td>\n",
       "    </tr>\n",
       "    <tr>\n",
       "      <th>Australia</th>\n",
       "      <td>36536</td>\n",
       "      <td>36536</td>\n",
       "      <td>1745</td>\n",
       "      <td>51</td>\n",
       "      <td>731</td>\n",
       "      <td>1360</td>\n",
       "      <td>1946</td>\n",
       "      <td>1</td>\n",
       "      <td>4</td>\n",
       "      <td>0</td>\n",
       "    </tr>\n",
       "    <tr>\n",
       "      <th>Austria</th>\n",
       "      <td>36536</td>\n",
       "      <td>36536</td>\n",
       "      <td>2024</td>\n",
       "      <td>50</td>\n",
       "      <td>731</td>\n",
       "      <td>1681</td>\n",
       "      <td>2213</td>\n",
       "      <td>1</td>\n",
       "      <td>4</td>\n",
       "      <td>0</td>\n",
       "    </tr>\n",
       "    <tr>\n",
       "      <th>Belgium</th>\n",
       "      <td>36536</td>\n",
       "      <td>36536</td>\n",
       "      <td>2119</td>\n",
       "      <td>50</td>\n",
       "      <td>731</td>\n",
       "      <td>1737</td>\n",
       "      <td>2331</td>\n",
       "      <td>1</td>\n",
       "      <td>4</td>\n",
       "      <td>0</td>\n",
       "    </tr>\n",
       "    <tr>\n",
       "      <th>...</th>\n",
       "      <td>...</td>\n",
       "      <td>...</td>\n",
       "      <td>...</td>\n",
       "      <td>...</td>\n",
       "      <td>...</td>\n",
       "      <td>...</td>\n",
       "      <td>...</td>\n",
       "      <td>...</td>\n",
       "      <td>...</td>\n",
       "      <td>...</td>\n",
       "    </tr>\n",
       "    <tr>\n",
       "      <th>United Arab Emirates</th>\n",
       "      <td>36550</td>\n",
       "      <td>36550</td>\n",
       "      <td>1514</td>\n",
       "      <td>50</td>\n",
       "      <td>731</td>\n",
       "      <td>1086</td>\n",
       "      <td>1672</td>\n",
       "      <td>1</td>\n",
       "      <td>4</td>\n",
       "      <td>0</td>\n",
       "    </tr>\n",
       "    <tr>\n",
       "      <th>United Kingdom</th>\n",
       "      <td>36536</td>\n",
       "      <td>36536</td>\n",
       "      <td>1845</td>\n",
       "      <td>50</td>\n",
       "      <td>731</td>\n",
       "      <td>1441</td>\n",
       "      <td>2033</td>\n",
       "      <td>1</td>\n",
       "      <td>4</td>\n",
       "      <td>0</td>\n",
       "    </tr>\n",
       "    <tr>\n",
       "      <th>United States</th>\n",
       "      <td>36532</td>\n",
       "      <td>36532</td>\n",
       "      <td>1906</td>\n",
       "      <td>50</td>\n",
       "      <td>731</td>\n",
       "      <td>1396</td>\n",
       "      <td>2114</td>\n",
       "      <td>1</td>\n",
       "      <td>4</td>\n",
       "      <td>0</td>\n",
       "    </tr>\n",
       "    <tr>\n",
       "      <th>Uruguay</th>\n",
       "      <td>36296</td>\n",
       "      <td>36296</td>\n",
       "      <td>1965</td>\n",
       "      <td>50</td>\n",
       "      <td>726</td>\n",
       "      <td>1505</td>\n",
       "      <td>2110</td>\n",
       "      <td>1</td>\n",
       "      <td>4</td>\n",
       "      <td>0</td>\n",
       "    </tr>\n",
       "    <tr>\n",
       "      <th>Vietnam</th>\n",
       "      <td>36350</td>\n",
       "      <td>36350</td>\n",
       "      <td>1907</td>\n",
       "      <td>51</td>\n",
       "      <td>727</td>\n",
       "      <td>1453</td>\n",
       "      <td>2038</td>\n",
       "      <td>1</td>\n",
       "      <td>4</td>\n",
       "      <td>0</td>\n",
       "    </tr>\n",
       "  </tbody>\n",
       "</table>\n",
       "<p>70 rows × 10 columns</p>\n",
       "</div>"
      ],
      "text/plain": [
       "                      Unnamed: 0.1  Unnamed: 0  title  rank  date  artist  \\\n",
       "region                                                                      \n",
       "Andorra                      36546       36546   1806    50   731    1230   \n",
       "Argentina                    36532       36532   1712    50   731    1361   \n",
       "Australia                    36536       36536   1745    51   731    1360   \n",
       "Austria                      36536       36536   2024    50   731    1681   \n",
       "Belgium                      36536       36536   2119    50   731    1737   \n",
       "...                            ...         ...    ...   ...   ...     ...   \n",
       "United Arab Emirates         36550       36550   1514    50   731    1086   \n",
       "United Kingdom               36536       36536   1845    50   731    1441   \n",
       "United States                36532       36532   1906    50   731    1396   \n",
       "Uruguay                      36296       36296   1965    50   726    1505   \n",
       "Vietnam                      36350       36350   1907    51   727    1453   \n",
       "\n",
       "                       url  chart  trend  streams  \n",
       "region                                             \n",
       "Andorra               1958      1      4        0  \n",
       "Argentina             1853      1      4        0  \n",
       "Australia             1946      1      4        0  \n",
       "Austria               2213      1      4        0  \n",
       "Belgium               2331      1      4        0  \n",
       "...                    ...    ...    ...      ...  \n",
       "United Arab Emirates  1672      1      4        0  \n",
       "United Kingdom        2033      1      4        0  \n",
       "United States         2114      1      4        0  \n",
       "Uruguay               2110      1      4        0  \n",
       "Vietnam               2038      1      4        0  \n",
       "\n",
       "[70 rows x 10 columns]"
      ]
     },
     "execution_count": 9,
     "metadata": {},
     "output_type": "execute_result"
    }
   ],
   "source": [
    "df_viral50.groupby('region').nunique()"
   ]
  },
  {
   "cell_type": "code",
   "execution_count": 10,
   "id": "112bf6cd-0212-4e81-b32d-2cc26ec79e9f",
   "metadata": {},
   "outputs": [
    {
     "data": {
      "text/plain": [
       "Text(0, 0.5, 'Frequency')"
      ]
     },
     "execution_count": 10,
     "metadata": {},
     "output_type": "execute_result"
    },
    {
     "data": {
      "image/png": "[encoded data removed]",
      "text/plain": [
       "<Figure size 640x480 with 1 Axes>"
      ]
     },
     "metadata": {},
     "output_type": "display_data"
    }
   ],
   "source": [
    "plt.hist(df_viral50['rank'], bins=51)\n",
    "plt.xlabel(\"Rank\")\n",
    "plt.ylabel(\"Frequency\")"
   ]
  },
  {
   "cell_type": "code",
   "execution_count": 11,
   "id": "2e9c5311-b672-440c-a9df-a3bc784bec5e",
   "metadata": {},
   "outputs": [
    {
     "data": {
      "text/plain": [
       "Text(0, 0.5, 'Frequency')"
      ]
     },
     "execution_count": 11,
     "metadata": {},
     "output_type": "execute_result"
    },
    {
     "data": {
      "image/png": "[encoded data removed]",
      "text/plain": [
       "<Figure size 640x480 with 1 Axes>"
      ]
     },
     "metadata": {},
     "output_type": "display_data"
    }
   ],
   "source": [
    "plt.hist(df_viral50['date'], bins=df_viral50['date'].nunique())\n",
    "plt.xlabel(\"Date\")\n",
    "plt.ylabel(\"Frequency\")"
   ]
  },
  {
   "cell_type": "markdown",
   "id": "b9a87dca-75f0-4f5e-ae4b-4844aad47879",
   "metadata": {},
   "source": [
    "Dataset looks to have no critical missing data in regards to rank and date."
   ]
  },
  {
   "cell_type": "markdown",
   "id": "8eebf5e0-f8a4-407a-839d-1b5e36758583",
   "metadata": {},
   "source": [
    "### USA\n",
    "First try with USA to get a feel on how to work with the dataset"
   ]
  },
  {
   "cell_type": "code",
   "execution_count": 12,
   "id": "8fa47b77-3e47-4cbb-8a70-5c9ef7bdeac2",
   "metadata": {},
   "outputs": [
    {
     "data": {
      "text/plain": [
       "(36532, 11)"
      ]
     },
     "execution_count": 12,
     "metadata": {},
     "output_type": "execute_result"
    }
   ],
   "source": [
    "df_USA50 = df_viral50[df_viral50['region'] == 'United States']\n",
    "df_USA50.shape"
   ]
  },
  {
   "cell_type": "code",
   "execution_count": 13,
   "id": "d3ad1934-1013-4665-98aa-9f1282fbdf29",
   "metadata": {},
   "outputs": [
    {
     "data": {
      "text/plain": [
       "2021-12-11    50\n",
       "2020-09-21    50\n",
       "2020-08-28    50\n",
       "2020-11-22    50\n",
       "2020-10-21    50\n",
       "              ..\n",
       "2021-11-07    49\n",
       "2021-11-06    49\n",
       "2021-11-02    49\n",
       "2021-11-09    49\n",
       "2021-08-13    49\n",
       "Name: date, Length: 731, dtype: int64"
      ]
     },
     "execution_count": 13,
     "metadata": {},
     "output_type": "execute_result"
    }
   ],
   "source": [
    "df_USA50['date'].value_counts()"
   ]
  },
  {
   "cell_type": "code",
   "execution_count": 14,
   "id": "18d658f3-fec1-491f-8fa8-9082dfe18d06",
   "metadata": {},
   "outputs": [
    {
     "data": {
      "text/plain": [
       "Text(0, 0.5, 'Frequency')"
      ]
     },
     "execution_count": 14,
     "metadata": {},
     "output_type": "execute_result"
    },
    {
     "data": {
      "image/png": "[encoded data removed]",
      "text/plain": [
       "<Figure size 640x480 with 1 Axes>"
      ]
     },
     "metadata": {},
     "output_type": "display_data"
    }
   ],
   "source": [
    "plt.hist(df_USA50['date'], bins=df_USA50['date'].nunique())\n",
    "plt.xlabel(\"Date\")\n",
    "plt.ylabel(\"Frequency\")"
   ]
  },
  {
   "cell_type": "markdown",
   "id": "aa7b5561-b13d-4168-8daa-d012422e5b89",
   "metadata": {},
   "source": [
    "# Jungs euer feedback is gefragt !!!!!!!!!!!!!!!!\n",
    "What could we do to see if the trend impacts the charts?\n",
    "- we could aggregate the viral charts of 1 week or month to a metric thet describes in wich direction the trend is heding during the week\n",
    "- to indicate in witch direction the trend of a chart is going we could calculate a score of the changes of position in Viral50 during this week \n",
    "\n",
    "\n",
    "Calculation example:\n",
    "Week(2021-12-11) rank=9, Week(2021-12-18) rank=7\n",
    "\n",
    "So the trend score of the week 2021-12-11 would be +2"
   ]
  },
  {
   "cell_type": "code",
   "execution_count": 15,
   "id": "57b4e8fd-bcfe-4b53-8c2b-15dad9020f54",
   "metadata": {},
   "outputs": [
    {
     "data": {
      "text/plain": [
       "1494491    2021-12-11\n",
       "1494492    2021-12-11\n",
       "1494493    2021-12-11\n",
       "1494494    2021-12-11\n",
       "1494495    2021-12-11\n",
       "              ...    \n",
       "11494241   2020-08-23\n",
       "11494242   2020-08-23\n",
       "11494243   2020-08-23\n",
       "11494244   2020-08-23\n",
       "11494245   2020-08-23\n",
       "Name: date, Length: 36532, dtype: datetime64[ns]"
      ]
     },
     "execution_count": 15,
     "metadata": {},
     "output_type": "execute_result"
    }
   ],
   "source": [
    "#convert date column to datetime and subtract one week\n",
    "pd.to_datetime(df_USA50['date'])"
   ]
  },
  {
   "cell_type": "code",
   "execution_count": 16,
   "id": "ed1a5143-bce3-4e08-9fee-23f161d514c6",
   "metadata": {},
   "outputs": [
    {
     "name": "stderr",
     "output_type": "stream",
     "text": [
      "/tmp/ipykernel_27477/3544053798.py:2: SettingWithCopyWarning: \n",
      "A value is trying to be set on a copy of a slice from a DataFrame.\n",
      "Try using .loc[row_indexer,col_indexer] = value instead\n",
      "\n",
      "See the caveats in the documentation: https://pandas.pydata.org/pandas-docs/stable/user_guide/indexing.html#returning-a-view-versus-a-copy\n",
      "  df_USA50['date'] = df_USA50['date'].astype('datetime64[ns]')\n"
     ]
    }
   ],
   "source": [
    "#convert date to datatype datetime\n",
    "df_USA50['date'] = df_USA50['date'].astype('datetime64[ns]')"
   ]
  },
  {
   "cell_type": "code",
   "execution_count": 17,
   "id": "6ddc02e7-457e-454b-ab13-a553bd7fc665",
   "metadata": {},
   "outputs": [
    {
     "data": {
      "text/plain": [
       "Unnamed: 0.1             int64\n",
       "Unnamed: 0               int64\n",
       "title                   object\n",
       "rank                     int64\n",
       "date            datetime64[ns]\n",
       "artist                  object\n",
       "url                     object\n",
       "region                  object\n",
       "chart                   object\n",
       "trend                   object\n",
       "streams                float64\n",
       "dtype: object"
      ]
     },
     "execution_count": 17,
     "metadata": {},
     "output_type": "execute_result"
    }
   ],
   "source": [
    "df_USA50.dtypes"
   ]
  },
  {
   "cell_type": "code",
   "execution_count": 26,
   "id": "37452f93-b11e-429c-a2e9-2511a34ad67d",
   "metadata": {},
   "outputs": [],
   "source": [
    "# create 'week' table \n",
    "# It’s worth noting that by default, pandas assumes that the week starts the day after Sunday (W-SUN).\n",
    "# https://www.statology.org/pandas-group-by-week/\n",
    "df_weeks = df_USA50.groupby([pd.Grouper(key='date', freq='W')])"
   ]
  },
  {
   "cell_type": "code",
   "execution_count": 40,
   "id": "7faa0f37-5c5d-4ac9-9296-3afe9ee89d2f",
   "metadata": {},
   "outputs": [
    {
     "ename": "SyntaxError",
     "evalue": "incomplete input (3429625790.py, line 5)",
     "output_type": "error",
     "traceback": [
      "\u001b[0;36m  Cell \u001b[0;32mIn[40], line 5\u001b[0;36m\u001b[0m\n\u001b[0;31m    \u001b[0m\n\u001b[0m    ^\u001b[0m\n\u001b[0;31mSyntaxError\u001b[0m\u001b[0;31m:\u001b[0m incomplete input\n"
     ]
    }
   ],
   "source": [
    "for name, week in df_weeks:\n",
    "    print(name)\n",
    "    \n",
    "    for entry in week:\n",
    "        "
   ]
  },
  {
   "cell_type": "code",
   "execution_count": null,
   "id": "adadf58b-c78e-4d2b-8544-c581cfc19411",
   "metadata": {},
   "outputs": [],
   "source": []
  }
 ],
 "metadata": {
  "kernelspec": {
   "display_name": "Python 3 (ipykernel)",
   "language": "python",
   "name": "python3"
  },
  "language_info": {
   "codemirror_mode": {
    "name": "ipython",
    "version": 3
   },
   "file_extension": ".py",
   "mimetype": "text/x-python",
   "name": "python",
   "nbconvert_exporter": "python",
   "pygments_lexer": "ipython3",
   "version": "3.10.8"
  }
 },
 "nbformat": 4,
 "nbformat_minor": 5
}
