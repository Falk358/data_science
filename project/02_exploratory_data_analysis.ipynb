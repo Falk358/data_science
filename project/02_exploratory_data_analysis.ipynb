{
 "cells": [
  {
   "cell_type": "code",
   "execution_count": 24,
   "metadata": {},
   "outputs": [],
   "source": [
    "import numpy as np\n",
    "import pandas as pd\n",
    "import matplotlib.pyplot as plt\n",
    "import seaborn as sns\n",
    "from datetime import timedelta"
   ]
  },
  {
   "cell_type": "markdown",
   "metadata": {},
   "source": [
    "We will limit our data to the country **USA**:"
   ]
  },
  {
   "cell_type": "code",
   "execution_count": 25,
   "metadata": {},
   "outputs": [],
   "source": [
    "def dataframeByRegion(df, region):\n",
    "    return df[df['region'] == region]"
   ]
  },
  {
   "cell_type": "code",
   "execution_count": 46,
   "metadata": {},
   "outputs": [
    {
     "data": {
      "text/plain": [
       "id                 int64\n",
       "title             object\n",
       "rank               int64\n",
       "date      datetime64[ns]\n",
       "artist            object\n",
       "region            object\n",
       "chart             object\n",
       "trend             object\n",
       "dtype: object"
      ]
     },
     "execution_count": 46,
     "metadata": {},
     "output_type": "execute_result"
    }
   ],
   "source": [
    "spotify_data = pd.read_csv(\"../data/spotify_2020+_cleaned.csv\")\n",
    "spotify_data[\"date\"] = pd.to_datetime(spotify_data[\"date\"])\n",
    "us_data = dataframeByRegion(spotify_data, \"United States\")\n",
    "us_data.drop(columns=['id'])\n",
    "us_data.dtypes"
   ]
  },
  {
   "cell_type": "markdown",
   "metadata": {},
   "source": [
    "first, lets check if a song title is aviable both in **top200** and **viral50** charts:"
   ]
  },
  {
   "cell_type": "code",
   "execution_count": 27,
   "metadata": {},
   "outputs": [],
   "source": [
    "def find_valid_songs(my_data): # returns a list of songs which appear both in top200 and viral50 charts\n",
    "    data_by_title = my_data.groupby(\"title\")\n",
    "    usable_titles = []\n",
    "    for (name,group) in data_by_title.__iter__():\n",
    "        if (\"viral50\" in group[\"chart\"].unique() ) and (\"top200\" in group[\"chart\"].unique()):\n",
    "            usable_titles.append(name)\n",
    "    usable_titles = pd.Series(usable_titles)\n",
    "    num_title = len(us_data[\"title\"].unique())\n",
    "    print(f\" titles which appear in both charts: {usable_titles.count()}\\n total number of titles: {num_title}\")\n",
    "    return usable_titles\n"
   ]
  },
  {
   "cell_type": "code",
   "execution_count": 28,
   "metadata": {},
   "outputs": [
    {
     "name": "stdout",
     "output_type": "stream",
     "text": [
      " titles which appear in both charts: 747\n",
      " total number of titles: 4887\n"
     ]
    },
    {
     "data": {
      "text/plain": [
       "89136"
      ]
     },
     "execution_count": 28,
     "metadata": {},
     "output_type": "execute_result"
    }
   ],
   "source": [
    "usable_titles = find_valid_songs(us_data)\n",
    "usable_title_df = us_data[us_data[\"title\"].isin(usable_titles)]\n",
    "usable_title_df[\"title\"].count()"
   ]
  },
  {
   "cell_type": "markdown",
   "metadata": {},
   "source": [
    "Next, we create two dataframes for our different charts: **Viral50** and **Top200**"
   ]
  },
  {
   "cell_type": "code",
   "execution_count": 29,
   "metadata": {},
   "outputs": [
    {
     "data": {
      "text/plain": [
       "(17114, 8)"
      ]
     },
     "execution_count": 29,
     "metadata": {},
     "output_type": "execute_result"
    }
   ],
   "source": [
    "viral_50 = usable_title_df[usable_title_df[\"chart\"] == \"viral50\"]\n",
    "viral_50.shape"
   ]
  },
  {
   "cell_type": "code",
   "execution_count": 30,
   "metadata": {},
   "outputs": [
    {
     "data": {
      "text/html": [
       "<div>\n",
       "<style scoped>\n",
       "    .dataframe tbody tr th:only-of-type {\n",
       "        vertical-align: middle;\n",
       "    }\n",
       "\n",
       "    .dataframe tbody tr th {\n",
       "        vertical-align: top;\n",
       "    }\n",
       "\n",
       "    .dataframe thead th {\n",
       "        text-align: right;\n",
       "    }\n",
       "</style>\n",
       "<table border=\"1\" class=\"dataframe\">\n",
       "  <thead>\n",
       "    <tr style=\"text-align: right;\">\n",
       "      <th></th>\n",
       "      <th>id</th>\n",
       "      <th>title</th>\n",
       "      <th>rank</th>\n",
       "      <th>date</th>\n",
       "      <th>artist</th>\n",
       "      <th>region</th>\n",
       "      <th>chart</th>\n",
       "      <th>trend</th>\n",
       "    </tr>\n",
       "  </thead>\n",
       "  <tbody>\n",
       "    <tr>\n",
       "      <th>10961711</th>\n",
       "      <td>10961711</td>\n",
       "      <td>GOODMORNINGTOKYO!</td>\n",
       "      <td>1</td>\n",
       "      <td>2020-01-01</td>\n",
       "      <td>TOKYO’S REVENGE</td>\n",
       "      <td>United States</td>\n",
       "      <td>viral50</td>\n",
       "      <td>SAME_POSITION</td>\n",
       "    </tr>\n",
       "    <tr>\n",
       "      <th>10961713</th>\n",
       "      <td>10961713</td>\n",
       "      <td>All I Want - From \"High School Musical: The Mu...</td>\n",
       "      <td>2</td>\n",
       "      <td>2020-01-01</td>\n",
       "      <td>Olivia Rodrigo</td>\n",
       "      <td>United States</td>\n",
       "      <td>viral50</td>\n",
       "      <td>SAME_POSITION</td>\n",
       "    </tr>\n",
       "    <tr>\n",
       "      <th>10961715</th>\n",
       "      <td>10961715</td>\n",
       "      <td>Blueberry Faygo</td>\n",
       "      <td>3</td>\n",
       "      <td>2020-01-01</td>\n",
       "      <td>Mikey.Otx</td>\n",
       "      <td>United States</td>\n",
       "      <td>viral50</td>\n",
       "      <td>MOVE_UP</td>\n",
       "    </tr>\n",
       "    <tr>\n",
       "      <th>10961717</th>\n",
       "      <td>10961717</td>\n",
       "      <td>The Box</td>\n",
       "      <td>4</td>\n",
       "      <td>2020-01-01</td>\n",
       "      <td>Roddy Ricch</td>\n",
       "      <td>United States</td>\n",
       "      <td>viral50</td>\n",
       "      <td>MOVE_DOWN</td>\n",
       "    </tr>\n",
       "    <tr>\n",
       "      <th>10961721</th>\n",
       "      <td>10961721</td>\n",
       "      <td>No Idea</td>\n",
       "      <td>6</td>\n",
       "      <td>2020-01-01</td>\n",
       "      <td>Don Toliver</td>\n",
       "      <td>United States</td>\n",
       "      <td>viral50</td>\n",
       "      <td>SAME_POSITION</td>\n",
       "    </tr>\n",
       "  </tbody>\n",
       "</table>\n",
       "</div>"
      ],
      "text/plain": [
       "                id                                              title  rank  \\\n",
       "10961711  10961711                                  GOODMORNINGTOKYO!     1   \n",
       "10961713  10961713  All I Want - From \"High School Musical: The Mu...     2   \n",
       "10961715  10961715                                    Blueberry Faygo     3   \n",
       "10961717  10961717                                            The Box     4   \n",
       "10961721  10961721                                            No Idea     6   \n",
       "\n",
       "               date           artist         region    chart          trend  \n",
       "10961711 2020-01-01  TOKYO’S REVENGE  United States  viral50  SAME_POSITION  \n",
       "10961713 2020-01-01   Olivia Rodrigo  United States  viral50  SAME_POSITION  \n",
       "10961715 2020-01-01        Mikey.Otx  United States  viral50        MOVE_UP  \n",
       "10961717 2020-01-01      Roddy Ricch  United States  viral50      MOVE_DOWN  \n",
       "10961721 2020-01-01      Don Toliver  United States  viral50  SAME_POSITION  "
      ]
     },
     "execution_count": 30,
     "metadata": {},
     "output_type": "execute_result"
    }
   ],
   "source": [
    "viral_50.head()"
   ]
  },
  {
   "cell_type": "code",
   "execution_count": 31,
   "metadata": {},
   "outputs": [
    {
     "data": {
      "text/plain": [
       "(72022, 8)"
      ]
     },
     "execution_count": 31,
     "metadata": {},
     "output_type": "execute_result"
    }
   ],
   "source": [
    "top_200 = usable_title_df[usable_title_df[\"chart\"] == \"top200\"]\n",
    "top_200.shape"
   ]
  },
  {
   "cell_type": "markdown",
   "metadata": {},
   "source": [
    "In order to plot viral rank vs top 200 rank, we need to create a new dataframe:"
   ]
  },
  {
   "cell_type": "code",
   "execution_count": 32,
   "metadata": {},
   "outputs": [],
   "source": [
    "def get_rank_title_df(titles, viral_50, top_200): # returns a dataframe with mean viral50 rank , mean top 200 rank for song title\n",
    "    viral_ranks = []\n",
    "    top_200_ranks = []\n",
    "    titles = titles.tolist()\n",
    "    for my_title in titles:\n",
    "        viral_rank = viral_50.loc[viral_50[\"title\"] == my_title, [\"rank\"]].mean()[0]\n",
    "        viral_ranks.append(viral_rank)\n",
    "        top_200_rank = top_200.loc[top_200[\"title\"] == my_title, [\"rank\"]].mean()[0]\n",
    "        top_200_ranks.append(top_200_rank)\n",
    "    df = pd.DataFrame(\n",
    "        {\n",
    "            \"viral_50_rank_mean\" : viral_ranks,\n",
    "            \"top_200_rank_mean\" : top_200_ranks,\n",
    "            \"title\": titles\n",
    "        }\n",
    "    )\n",
    "    return df"
   ]
  },
  {
   "cell_type": "code",
   "execution_count": 33,
   "metadata": {},
   "outputs": [
    {
     "data": {
      "text/html": [
       "<div>\n",
       "<style scoped>\n",
       "    .dataframe tbody tr th:only-of-type {\n",
       "        vertical-align: middle;\n",
       "    }\n",
       "\n",
       "    .dataframe tbody tr th {\n",
       "        vertical-align: top;\n",
       "    }\n",
       "\n",
       "    .dataframe thead th {\n",
       "        text-align: right;\n",
       "    }\n",
       "</style>\n",
       "<table border=\"1\" class=\"dataframe\">\n",
       "  <thead>\n",
       "    <tr style=\"text-align: right;\">\n",
       "      <th></th>\n",
       "      <th>viral_50_rank_mean</th>\n",
       "      <th>top_200_rank_mean</th>\n",
       "      <th>title</th>\n",
       "    </tr>\n",
       "  </thead>\n",
       "  <tbody>\n",
       "    <tr>\n",
       "      <th>457</th>\n",
       "      <td>42.466667</td>\n",
       "      <td>198.000000</td>\n",
       "      <td>Pareja Del Año</td>\n",
       "    </tr>\n",
       "    <tr>\n",
       "      <th>96</th>\n",
       "      <td>38.791667</td>\n",
       "      <td>191.571429</td>\n",
       "      <td>Break It Off</td>\n",
       "    </tr>\n",
       "    <tr>\n",
       "      <th>304</th>\n",
       "      <td>24.466667</td>\n",
       "      <td>67.000000</td>\n",
       "      <td>In Spite of Ourselves (feat. Iris DeMent)</td>\n",
       "    </tr>\n",
       "    <tr>\n",
       "      <th>128</th>\n",
       "      <td>19.500000</td>\n",
       "      <td>99.688679</td>\n",
       "      <td>Cloud 9</td>\n",
       "    </tr>\n",
       "    <tr>\n",
       "      <th>682</th>\n",
       "      <td>5.285714</td>\n",
       "      <td>63.000000</td>\n",
       "      <td>X Gon' Give It To Ya</td>\n",
       "    </tr>\n",
       "    <tr>\n",
       "      <th>313</th>\n",
       "      <td>49.333333</td>\n",
       "      <td>120.714286</td>\n",
       "      <td>It'll Be Okay</td>\n",
       "    </tr>\n",
       "    <tr>\n",
       "      <th>137</th>\n",
       "      <td>27.875000</td>\n",
       "      <td>200.000000</td>\n",
       "      <td>Conversations in the Dark</td>\n",
       "    </tr>\n",
       "    <tr>\n",
       "      <th>441</th>\n",
       "      <td>36.200000</td>\n",
       "      <td>128.833333</td>\n",
       "      <td>Only You Freestyle</td>\n",
       "    </tr>\n",
       "    <tr>\n",
       "      <th>720</th>\n",
       "      <td>14.045802</td>\n",
       "      <td>97.241935</td>\n",
       "      <td>ily (i love you baby) (feat. Emilee)</td>\n",
       "    </tr>\n",
       "    <tr>\n",
       "      <th>724</th>\n",
       "      <td>49.000000</td>\n",
       "      <td>190.333333</td>\n",
       "      <td>lost souls (with Brent Faiyaz)</td>\n",
       "    </tr>\n",
       "  </tbody>\n",
       "</table>\n",
       "</div>"
      ],
      "text/plain": [
       "     viral_50_rank_mean  top_200_rank_mean  \\\n",
       "457           42.466667         198.000000   \n",
       "96            38.791667         191.571429   \n",
       "304           24.466667          67.000000   \n",
       "128           19.500000          99.688679   \n",
       "682            5.285714          63.000000   \n",
       "313           49.333333         120.714286   \n",
       "137           27.875000         200.000000   \n",
       "441           36.200000         128.833333   \n",
       "720           14.045802          97.241935   \n",
       "724           49.000000         190.333333   \n",
       "\n",
       "                                         title  \n",
       "457                             Pareja Del Año  \n",
       "96                                Break It Off  \n",
       "304  In Spite of Ourselves (feat. Iris DeMent)  \n",
       "128                                    Cloud 9  \n",
       "682                       X Gon' Give It To Ya  \n",
       "313                              It'll Be Okay  \n",
       "137                  Conversations in the Dark  \n",
       "441                         Only You Freestyle  \n",
       "720       ily (i love you baby) (feat. Emilee)  \n",
       "724             lost souls (with Brent Faiyaz)  "
      ]
     },
     "execution_count": 33,
     "metadata": {},
     "output_type": "execute_result"
    }
   ],
   "source": [
    "rank_title_df = get_rank_title_df(usable_titles, viral_50 = viral_50, top_200 = top_200)\n",
    "rank_title_df.sample(10)"
   ]
  },
  {
   "cell_type": "markdown",
   "metadata": {},
   "source": [
    "## Plotting mean of ranks against each other:\n",
    "for the entire two years which our spotify data covers"
   ]
  },
  {
   "cell_type": "code",
   "execution_count": 34,
   "metadata": {},
   "outputs": [
    {
     "data": {
      "image/png": "[encoded data removed]",
      "text/plain": [
       "<Figure size 640x480 with 1 Axes>"
      ]
     },
     "metadata": {},
     "output_type": "display_data"
    }
   ],
   "source": [
    "sns.regplot(data=rank_title_df, x = \"viral_50_rank_mean\", y = \"top_200_rank_mean\")\n",
    "plt.title(\"Plotting viral-50 mean rank against top 200 mean rank (each dot represents one song)\")\n",
    "plt.xlabel(\"viral-50 chart position mean for each song\")\n",
    "plt.ylabel(\"top 200 chart position mean for each song\")\n",
    "plt.show()"
   ]
  },
  {
   "cell_type": "code",
   "execution_count": 35,
   "metadata": {},
   "outputs": [
    {
     "data": {
      "text/html": [
       "<div>\n",
       "<style scoped>\n",
       "    .dataframe tbody tr th:only-of-type {\n",
       "        vertical-align: middle;\n",
       "    }\n",
       "\n",
       "    .dataframe tbody tr th {\n",
       "        vertical-align: top;\n",
       "    }\n",
       "\n",
       "    .dataframe thead th {\n",
       "        text-align: right;\n",
       "    }\n",
       "</style>\n",
       "<table border=\"1\" class=\"dataframe\">\n",
       "  <thead>\n",
       "    <tr style=\"text-align: right;\">\n",
       "      <th></th>\n",
       "      <th>viral_50_rank_mean</th>\n",
       "      <th>top_200_rank_mean</th>\n",
       "    </tr>\n",
       "  </thead>\n",
       "  <tbody>\n",
       "    <tr>\n",
       "      <th>viral_50_rank_mean</th>\n",
       "      <td>1.000000</td>\n",
       "      <td>0.152003</td>\n",
       "    </tr>\n",
       "    <tr>\n",
       "      <th>top_200_rank_mean</th>\n",
       "      <td>0.152003</td>\n",
       "      <td>1.000000</td>\n",
       "    </tr>\n",
       "  </tbody>\n",
       "</table>\n",
       "</div>"
      ],
      "text/plain": [
       "                    viral_50_rank_mean  top_200_rank_mean\n",
       "viral_50_rank_mean            1.000000           0.152003\n",
       "top_200_rank_mean             0.152003           1.000000"
      ]
     },
     "execution_count": 35,
     "metadata": {},
     "output_type": "execute_result"
    }
   ],
   "source": [
    "rank_title_df.corr(method=\"pearson\",numeric_only=True)"
   ]
  },
  {
   "cell_type": "markdown",
   "metadata": {},
   "source": [
    "As we can see, the viral50 and top 200 ranks are only very weakly correlated. This means that a linear regression model will not suffice to use predict the top200 charts from our viral 50 charts."
   ]
  },
  {
   "cell_type": "markdown",
   "metadata": {},
   "source": [
    "## Plotting ranks against each other for selected weeks within our dataframe: "
   ]
  },
  {
   "cell_type": "code",
   "execution_count": 36,
   "metadata": {},
   "outputs": [],
   "source": [
    "def get_rank_title_per_week_df(titles, viral_50, top_200, curr_date = \"2020-01-05\", delta = 7): # returns a dataframe with mean viral50 rank , mean top 200 rank for song title\n",
    "    date_current = pd.to_datetime(curr_date)\n",
    "    date_next = date_current + timedelta(days=delta) # date of next week\n",
    "    viral_ranks = []\n",
    "    top_200_ranks = []\n",
    "    title_keys = []\n",
    "    dates_viral = []\n",
    "    dates_top200 = []\n",
    "    trends = []\n",
    "    for my_title in titles:\n",
    "        #print(f\"list lengths: viral_ranks length: {len(viral_ranks)}\\n top_200 length: {len(top_200_ranks)}\\n titles length: {len(titles)}\")\n",
    "        viral_rank = viral_50.loc[(viral_50[\"title\"] == my_title) & (viral_50[\"date\"] == date_current),[\"rank\"]]\n",
    "        trend = viral_50.loc[(viral_50[\"title\"] == my_title) & (viral_50[\"date\"] == date_current),[\"trend\"]]\n",
    "        if viral_rank.empty:\n",
    "            #print(f\"Error couldnt retrieve viral50 rank for title {my_title}\")\n",
    "            pass\n",
    "        else:\n",
    "            viral_ranks.append(viral_rank.iloc[0][\"rank\"]) # this is a dataframe which should only contain 1 value, we extract it with iloc\n",
    "            trends.append(trend.iloc[0][\"trend\"])\n",
    "            top_200_rank = top_200.loc[(top_200[\"title\"] == my_title) & (top_200[\"date\"] == date_next), [\"rank\"]]\n",
    "            if top_200_rank.empty:\n",
    "                #print(f\"Error couldnt retrieve top200 rank for title {my_title}\")\n",
    "                # fix viral data entry so length is the same because there is no top200 rank for this viral rank\n",
    "                if  len(viral_ranks) > 0:\n",
    "                    viral_ranks.pop()\n",
    "                    trends.pop()\n",
    "            else:\n",
    "                top_200_ranks.append(top_200_rank.iloc[0][\"rank\"])# this is a dataframe which should only contain 1 value, we extract it with iloc\n",
    "                title_keys.append(my_title)\n",
    "    for x in title_keys: # add a  start and end date entry to each title found in week timespan, so that the arrays match\n",
    "        dates_viral.append(date_current) #date of viral 50 rank retrieval\n",
    "        dates_top200.append(date_next) # date of top 200 rank retrieval\n",
    "    df = pd.DataFrame(\n",
    "        {\n",
    "            \"title\": title_keys,\n",
    "            \"date_viral\" : dates_viral,\n",
    "            \"viral_50_rank\" : viral_ranks,\n",
    "            \"date_top200\" : dates_top200,\n",
    "            \"top_200_rank\" : top_200_ranks,\n",
    "            \"trend\" : trends\n",
    "        }\n",
    "    )\n",
    "    return df"
   ]
  },
  {
   "cell_type": "code",
   "execution_count": 39,
   "metadata": {},
   "outputs": [],
   "source": [
    "# write data to csv for prediction step\n",
    "list_df = []\n",
    "dates_pred = pd.date_range(start=\"2020-01-01\", end = \"2021-12-31\", freq = \"D\")\n",
    "for my_date in dates_pred:\n",
    "        list_df.append(get_rank_title_per_week_df(usable_titles, viral_50 = viral_50, top_200 = top_200, curr_date=my_date, delta=1))\n",
    "    "
   ]
  },
  {
   "cell_type": "code",
   "execution_count": 40,
   "metadata": {},
   "outputs": [
    {
     "data": {
      "text/html": [
       "<div>\n",
       "<style scoped>\n",
       "    .dataframe tbody tr th:only-of-type {\n",
       "        vertical-align: middle;\n",
       "    }\n",
       "\n",
       "    .dataframe tbody tr th {\n",
       "        vertical-align: top;\n",
       "    }\n",
       "\n",
       "    .dataframe thead th {\n",
       "        text-align: right;\n",
       "    }\n",
       "</style>\n",
       "<table border=\"1\" class=\"dataframe\">\n",
       "  <thead>\n",
       "    <tr style=\"text-align: right;\">\n",
       "      <th></th>\n",
       "      <th>title</th>\n",
       "      <th>date_viral</th>\n",
       "      <th>viral_50_rank</th>\n",
       "      <th>date_top200</th>\n",
       "      <th>top_200_rank</th>\n",
       "      <th>trend</th>\n",
       "    </tr>\n",
       "  </thead>\n",
       "  <tbody>\n",
       "    <tr>\n",
       "      <th>2</th>\n",
       "      <td>Deep End Freestyle</td>\n",
       "      <td>2020-06-29</td>\n",
       "      <td>44.0</td>\n",
       "      <td>2020-06-30</td>\n",
       "      <td>56.0</td>\n",
       "      <td>MOVE_DOWN</td>\n",
       "    </tr>\n",
       "    <tr>\n",
       "      <th>2</th>\n",
       "      <td>Daisy</td>\n",
       "      <td>2020-09-27</td>\n",
       "      <td>19.0</td>\n",
       "      <td>2020-09-28</td>\n",
       "      <td>72.0</td>\n",
       "      <td>MOVE_DOWN</td>\n",
       "    </tr>\n",
       "    <tr>\n",
       "      <th>9</th>\n",
       "      <td>Heat Waves</td>\n",
       "      <td>2021-04-01</td>\n",
       "      <td>49.0</td>\n",
       "      <td>2021-04-02</td>\n",
       "      <td>20.0</td>\n",
       "      <td>SAME_POSITION</td>\n",
       "    </tr>\n",
       "    <tr>\n",
       "      <th>15</th>\n",
       "      <td>drivers license</td>\n",
       "      <td>2021-03-06</td>\n",
       "      <td>38.0</td>\n",
       "      <td>2021-03-07</td>\n",
       "      <td>5.0</td>\n",
       "      <td>MOVE_DOWN</td>\n",
       "    </tr>\n",
       "    <tr>\n",
       "      <th>6</th>\n",
       "      <td>Life Goes On</td>\n",
       "      <td>2021-10-03</td>\n",
       "      <td>11.0</td>\n",
       "      <td>2021-10-04</td>\n",
       "      <td>29.0</td>\n",
       "      <td>MOVE_DOWN</td>\n",
       "    </tr>\n",
       "    <tr>\n",
       "      <th>16</th>\n",
       "      <td>We Paid (feat. 42 Dugg)</td>\n",
       "      <td>2020-07-12</td>\n",
       "      <td>36.0</td>\n",
       "      <td>2020-07-13</td>\n",
       "      <td>26.0</td>\n",
       "      <td>MOVE_DOWN</td>\n",
       "    </tr>\n",
       "    <tr>\n",
       "      <th>19</th>\n",
       "      <td>Say So</td>\n",
       "      <td>2020-01-20</td>\n",
       "      <td>9.0</td>\n",
       "      <td>2020-01-21</td>\n",
       "      <td>28.0</td>\n",
       "      <td>SAME_POSITION</td>\n",
       "    </tr>\n",
       "    <tr>\n",
       "      <th>14</th>\n",
       "      <td>masquerade</td>\n",
       "      <td>2021-11-20</td>\n",
       "      <td>29.0</td>\n",
       "      <td>2021-11-21</td>\n",
       "      <td>130.0</td>\n",
       "      <td>MOVE_DOWN</td>\n",
       "    </tr>\n",
       "    <tr>\n",
       "      <th>8</th>\n",
       "      <td>Meet Me At Our Spot</td>\n",
       "      <td>2021-10-06</td>\n",
       "      <td>11.0</td>\n",
       "      <td>2021-10-07</td>\n",
       "      <td>12.0</td>\n",
       "      <td>SAME_POSITION</td>\n",
       "    </tr>\n",
       "    <tr>\n",
       "      <th>13</th>\n",
       "      <td>family ties (with Kendrick Lamar)</td>\n",
       "      <td>2021-10-03</td>\n",
       "      <td>23.0</td>\n",
       "      <td>2021-10-04</td>\n",
       "      <td>9.0</td>\n",
       "      <td>MOVE_DOWN</td>\n",
       "    </tr>\n",
       "  </tbody>\n",
       "</table>\n",
       "</div>"
      ],
      "text/plain": [
       "                                title date_viral  viral_50_rank date_top200  \\\n",
       "2                  Deep End Freestyle 2020-06-29           44.0  2020-06-30   \n",
       "2                               Daisy 2020-09-27           19.0  2020-09-28   \n",
       "9                          Heat Waves 2021-04-01           49.0  2021-04-02   \n",
       "15                    drivers license 2021-03-06           38.0  2021-03-07   \n",
       "6                        Life Goes On 2021-10-03           11.0  2021-10-04   \n",
       "16            We Paid (feat. 42 Dugg) 2020-07-12           36.0  2020-07-13   \n",
       "19                             Say So 2020-01-20            9.0  2020-01-21   \n",
       "14                         masquerade 2021-11-20           29.0  2021-11-21   \n",
       "8                 Meet Me At Our Spot 2021-10-06           11.0  2021-10-07   \n",
       "13  family ties (with Kendrick Lamar) 2021-10-03           23.0  2021-10-04   \n",
       "\n",
       "    top_200_rank          trend  \n",
       "2           56.0      MOVE_DOWN  \n",
       "2           72.0      MOVE_DOWN  \n",
       "9           20.0  SAME_POSITION  \n",
       "15           5.0      MOVE_DOWN  \n",
       "6           29.0      MOVE_DOWN  \n",
       "16          26.0      MOVE_DOWN  \n",
       "19          28.0  SAME_POSITION  \n",
       "14         130.0      MOVE_DOWN  \n",
       "8           12.0  SAME_POSITION  \n",
       "13           9.0      MOVE_DOWN  "
      ]
     },
     "execution_count": 40,
     "metadata": {},
     "output_type": "execute_result"
    }
   ],
   "source": [
    "df_pred = pd.concat(list_df)\n",
    "\n",
    "# change dtype to integer instead of float\n",
    "df_pred['viral_50_rank'] = df_pred['viral_50_rank'].astype('int64')\n",
    "df_pred['top_200_rank'] = df_pred['top_200_rank'].astype('int64')\n",
    "\n",
    "df_pred.sample(10)"
   ]
  },
  {
   "cell_type": "code",
   "execution_count": 42,
   "metadata": {},
   "outputs": [],
   "source": [
    "df_pred_without_trends = df_pred.drop(columns=['trend'])\n",
    "df_pred_without_trends.to_csv(\"../data/weekly_ranks.csv\")"
   ]
  },
  {
   "attachments": {},
   "cell_type": "markdown",
   "metadata": {},
   "source": [
    "## APPROACH 2: try viral 50 charts and trends to predict top 200 ranking"
   ]
  },
  {
   "cell_type": "code",
   "execution_count": null,
   "metadata": {},
   "outputs": [],
   "source": [
    "df_pred.to_csv(\"../data/weekly_ranks_with_trends.csv\")"
   ]
  },
  {
   "cell_type": "markdown",
   "metadata": {},
   "source": [
    "just to be sure, lets do the same plot for one **week**: we check the viral50 charts of the current day and see if they correlate with the top200 charts 7 days later:"
   ]
  },
  {
   "cell_type": "code",
   "execution_count": 44,
   "metadata": {},
   "outputs": [
    {
     "ename": "KeyError",
     "evalue": "'viral_50_rank'",
     "output_type": "error",
     "traceback": [
      "\u001b[0;31m---------------------------------------------------------------------------\u001b[0m",
      "\u001b[0;31mKeyError\u001b[0m                                  Traceback (most recent call last)",
      "File \u001b[0;32m~/.local/share/virtualenvs/data_science-5TF-S9g6/lib/python3.10/site-packages/pandas/core/indexes/base.py:3803\u001b[0m, in \u001b[0;36mIndex.get_loc\u001b[0;34m(self, key, method, tolerance)\u001b[0m\n\u001b[1;32m   3802\u001b[0m \u001b[39mtry\u001b[39;00m:\n\u001b[0;32m-> 3803\u001b[0m     \u001b[39mreturn\u001b[39;00m \u001b[39mself\u001b[39;49m\u001b[39m.\u001b[39;49m_engine\u001b[39m.\u001b[39;49mget_loc(casted_key)\n\u001b[1;32m   3804\u001b[0m \u001b[39mexcept\u001b[39;00m \u001b[39mKeyError\u001b[39;00m \u001b[39mas\u001b[39;00m err:\n",
      "File \u001b[0;32m~/.local/share/virtualenvs/data_science-5TF-S9g6/lib/python3.10/site-packages/pandas/_libs/index.pyx:138\u001b[0m, in \u001b[0;36mpandas._libs.index.IndexEngine.get_loc\u001b[0;34m()\u001b[0m\n",
      "File \u001b[0;32m~/.local/share/virtualenvs/data_science-5TF-S9g6/lib/python3.10/site-packages/pandas/_libs/index.pyx:146\u001b[0m, in \u001b[0;36mpandas._libs.index.IndexEngine.get_loc\u001b[0;34m()\u001b[0m\n",
      "File \u001b[0;32mpandas/_libs/index_class_helper.pxi:49\u001b[0m, in \u001b[0;36mpandas._libs.index.Int64Engine._check_type\u001b[0;34m()\u001b[0m\n",
      "\u001b[0;31mKeyError\u001b[0m: 'viral_50_rank'",
      "\nThe above exception was the direct cause of the following exception:\n",
      "\u001b[0;31mKeyError\u001b[0m                                  Traceback (most recent call last)",
      "Cell \u001b[0;32mIn[44], line 4\u001b[0m\n\u001b[1;32m      2\u001b[0m plt\u001b[39m.\u001b[39msubplots_adjust(hspace\u001b[39m=\u001b[39m\u001b[39m0.4\u001b[39m)\n\u001b[1;32m      3\u001b[0m \u001b[39mfor\u001b[39;00m i, date \u001b[39min\u001b[39;00m \u001b[39menumerate\u001b[39m(df_pred):\n\u001b[0;32m----> 4\u001b[0m     sns\u001b[39m.\u001b[39;49mregplot(data\u001b[39m=\u001b[39;49mdf_pred[date], x \u001b[39m=\u001b[39;49m \u001b[39m\"\u001b[39;49m\u001b[39mviral_50_rank\u001b[39;49m\u001b[39m\"\u001b[39;49m, y \u001b[39m=\u001b[39;49m \u001b[39m\"\u001b[39;49m\u001b[39mtop_200_rank\u001b[39;49m\u001b[39m\"\u001b[39;49m, ax\u001b[39m=\u001b[39;49max[i])\n\u001b[1;32m      5\u001b[0m     ax[i]\u001b[39m.\u001b[39mset_title(\u001b[39mf\u001b[39m\u001b[39m\"\u001b[39m\u001b[39mPlotting viral-50 rank against top 200  rank for the timespan of 1 week starting at \u001b[39m\u001b[39m{\u001b[39;00mdate\u001b[39m}\u001b[39;00m\u001b[39m (each dot represents one song)\u001b[39m\u001b[39m\"\u001b[39m,y\u001b[39m=\u001b[39m\u001b[39m1.05\u001b[39m)\n\u001b[1;32m      6\u001b[0m     ax[i]\u001b[39m.\u001b[39mset_xlabel(\u001b[39m\"\u001b[39m\u001b[39mviral-50 chart position for each song\u001b[39m\u001b[39m\"\u001b[39m)\n",
      "File \u001b[0;32m~/.local/share/virtualenvs/data_science-5TF-S9g6/lib/python3.10/site-packages/seaborn/regression.py:747\u001b[0m, in \u001b[0;36mregplot\u001b[0;34m(data, x, y, x_estimator, x_bins, x_ci, scatter, fit_reg, ci, n_boot, units, seed, order, logistic, lowess, robust, logx, x_partial, y_partial, truncate, dropna, x_jitter, y_jitter, label, color, marker, scatter_kws, line_kws, ax)\u001b[0m\n\u001b[1;32m    736\u001b[0m \u001b[39mdef\u001b[39;00m \u001b[39mregplot\u001b[39m(\n\u001b[1;32m    737\u001b[0m     data\u001b[39m=\u001b[39m\u001b[39mNone\u001b[39;00m, \u001b[39m*\u001b[39m, x\u001b[39m=\u001b[39m\u001b[39mNone\u001b[39;00m, y\u001b[39m=\u001b[39m\u001b[39mNone\u001b[39;00m,\n\u001b[1;32m    738\u001b[0m     x_estimator\u001b[39m=\u001b[39m\u001b[39mNone\u001b[39;00m, x_bins\u001b[39m=\u001b[39m\u001b[39mNone\u001b[39;00m, x_ci\u001b[39m=\u001b[39m\u001b[39m\"\u001b[39m\u001b[39mci\u001b[39m\u001b[39m\"\u001b[39m,\n\u001b[0;32m   (...)\u001b[0m\n\u001b[1;32m    744\u001b[0m     scatter_kws\u001b[39m=\u001b[39m\u001b[39mNone\u001b[39;00m, line_kws\u001b[39m=\u001b[39m\u001b[39mNone\u001b[39;00m, ax\u001b[39m=\u001b[39m\u001b[39mNone\u001b[39;00m\n\u001b[1;32m    745\u001b[0m ):\n\u001b[0;32m--> 747\u001b[0m     plotter \u001b[39m=\u001b[39m _RegressionPlotter(x, y, data, x_estimator, x_bins, x_ci,\n\u001b[1;32m    748\u001b[0m                                  scatter, fit_reg, ci, n_boot, units, seed,\n\u001b[1;32m    749\u001b[0m                                  order, logistic, lowess, robust, logx,\n\u001b[1;32m    750\u001b[0m                                  x_partial, y_partial, truncate, dropna,\n\u001b[1;32m    751\u001b[0m                                  x_jitter, y_jitter, color, label)\n\u001b[1;32m    753\u001b[0m     \u001b[39mif\u001b[39;00m ax \u001b[39mis\u001b[39;00m \u001b[39mNone\u001b[39;00m:\n\u001b[1;32m    754\u001b[0m         ax \u001b[39m=\u001b[39m plt\u001b[39m.\u001b[39mgca()\n",
      "File \u001b[0;32m~/.local/share/virtualenvs/data_science-5TF-S9g6/lib/python3.10/site-packages/seaborn/regression.py:107\u001b[0m, in \u001b[0;36m_RegressionPlotter.__init__\u001b[0;34m(self, x, y, data, x_estimator, x_bins, x_ci, scatter, fit_reg, ci, n_boot, units, seed, order, logistic, lowess, robust, logx, x_partial, y_partial, truncate, dropna, x_jitter, y_jitter, color, label)\u001b[0m\n\u001b[1;32m    104\u001b[0m     \u001b[39mraise\u001b[39;00m \u001b[39mValueError\u001b[39;00m(\u001b[39m\"\u001b[39m\u001b[39mMutually exclusive regression options.\u001b[39m\u001b[39m\"\u001b[39m)\n\u001b[1;32m    106\u001b[0m \u001b[39m# Extract the data vals from the arguments or passed dataframe\u001b[39;00m\n\u001b[0;32m--> 107\u001b[0m \u001b[39mself\u001b[39;49m\u001b[39m.\u001b[39;49mestablish_variables(data, x\u001b[39m=\u001b[39;49mx, y\u001b[39m=\u001b[39;49my, units\u001b[39m=\u001b[39;49munits,\n\u001b[1;32m    108\u001b[0m                          x_partial\u001b[39m=\u001b[39;49mx_partial, y_partial\u001b[39m=\u001b[39;49my_partial)\n\u001b[1;32m    110\u001b[0m \u001b[39m# Drop null observations\u001b[39;00m\n\u001b[1;32m    111\u001b[0m \u001b[39mif\u001b[39;00m dropna:\n",
      "File \u001b[0;32m~/.local/share/virtualenvs/data_science-5TF-S9g6/lib/python3.10/site-packages/seaborn/regression.py:44\u001b[0m, in \u001b[0;36m_LinearPlotter.establish_variables\u001b[0;34m(self, data, **kws)\u001b[0m\n\u001b[1;32m     42\u001b[0m \u001b[39mfor\u001b[39;00m var, val \u001b[39min\u001b[39;00m kws\u001b[39m.\u001b[39mitems():\n\u001b[1;32m     43\u001b[0m     \u001b[39mif\u001b[39;00m \u001b[39misinstance\u001b[39m(val, \u001b[39mstr\u001b[39m):\n\u001b[0;32m---> 44\u001b[0m         vector \u001b[39m=\u001b[39m data[val]\n\u001b[1;32m     45\u001b[0m     \u001b[39melif\u001b[39;00m \u001b[39misinstance\u001b[39m(val, \u001b[39mlist\u001b[39m):\n\u001b[1;32m     46\u001b[0m         vector \u001b[39m=\u001b[39m np\u001b[39m.\u001b[39masarray(val)\n",
      "File \u001b[0;32m~/.local/share/virtualenvs/data_science-5TF-S9g6/lib/python3.10/site-packages/pandas/core/series.py:981\u001b[0m, in \u001b[0;36mSeries.__getitem__\u001b[0;34m(self, key)\u001b[0m\n\u001b[1;32m    978\u001b[0m     \u001b[39mreturn\u001b[39;00m \u001b[39mself\u001b[39m\u001b[39m.\u001b[39m_values[key]\n\u001b[1;32m    980\u001b[0m \u001b[39melif\u001b[39;00m key_is_scalar:\n\u001b[0;32m--> 981\u001b[0m     \u001b[39mreturn\u001b[39;00m \u001b[39mself\u001b[39;49m\u001b[39m.\u001b[39;49m_get_value(key)\n\u001b[1;32m    983\u001b[0m \u001b[39mif\u001b[39;00m is_hashable(key):\n\u001b[1;32m    984\u001b[0m     \u001b[39m# Otherwise index.get_value will raise InvalidIndexError\u001b[39;00m\n\u001b[1;32m    985\u001b[0m     \u001b[39mtry\u001b[39;00m:\n\u001b[1;32m    986\u001b[0m         \u001b[39m# For labels that don't resolve as scalars like tuples and frozensets\u001b[39;00m\n",
      "File \u001b[0;32m~/.local/share/virtualenvs/data_science-5TF-S9g6/lib/python3.10/site-packages/pandas/core/series.py:1089\u001b[0m, in \u001b[0;36mSeries._get_value\u001b[0;34m(self, label, takeable)\u001b[0m\n\u001b[1;32m   1086\u001b[0m     \u001b[39mreturn\u001b[39;00m \u001b[39mself\u001b[39m\u001b[39m.\u001b[39m_values[label]\n\u001b[1;32m   1088\u001b[0m \u001b[39m# Similar to Index.get_value, but we do not fall back to positional\u001b[39;00m\n\u001b[0;32m-> 1089\u001b[0m loc \u001b[39m=\u001b[39m \u001b[39mself\u001b[39;49m\u001b[39m.\u001b[39;49mindex\u001b[39m.\u001b[39;49mget_loc(label)\n\u001b[1;32m   1090\u001b[0m \u001b[39mreturn\u001b[39;00m \u001b[39mself\u001b[39m\u001b[39m.\u001b[39mindex\u001b[39m.\u001b[39m_get_values_for_loc(\u001b[39mself\u001b[39m, loc, label)\n",
      "File \u001b[0;32m~/.local/share/virtualenvs/data_science-5TF-S9g6/lib/python3.10/site-packages/pandas/core/indexes/base.py:3805\u001b[0m, in \u001b[0;36mIndex.get_loc\u001b[0;34m(self, key, method, tolerance)\u001b[0m\n\u001b[1;32m   3803\u001b[0m     \u001b[39mreturn\u001b[39;00m \u001b[39mself\u001b[39m\u001b[39m.\u001b[39m_engine\u001b[39m.\u001b[39mget_loc(casted_key)\n\u001b[1;32m   3804\u001b[0m \u001b[39mexcept\u001b[39;00m \u001b[39mKeyError\u001b[39;00m \u001b[39mas\u001b[39;00m err:\n\u001b[0;32m-> 3805\u001b[0m     \u001b[39mraise\u001b[39;00m \u001b[39mKeyError\u001b[39;00m(key) \u001b[39mfrom\u001b[39;00m \u001b[39merr\u001b[39;00m\n\u001b[1;32m   3806\u001b[0m \u001b[39mexcept\u001b[39;00m \u001b[39mTypeError\u001b[39;00m:\n\u001b[1;32m   3807\u001b[0m     \u001b[39m# If we have a listlike key, _check_indexing_error will raise\u001b[39;00m\n\u001b[1;32m   3808\u001b[0m     \u001b[39m#  InvalidIndexError. Otherwise we fall through and re-raise\u001b[39;00m\n\u001b[1;32m   3809\u001b[0m     \u001b[39m#  the TypeError.\u001b[39;00m\n\u001b[1;32m   3810\u001b[0m     \u001b[39mself\u001b[39m\u001b[39m.\u001b[39m_check_indexing_error(key)\n",
      "\u001b[0;31mKeyError\u001b[0m: 'viral_50_rank'"
     ]
    },
    {
     "data": {
      "image/png": "[encoded data removed]",
      "text/plain": [
       "<Figure size 700x4000 with 5 Axes>"
      ]
     },
     "metadata": {},
     "output_type": "display_data"
    }
   ],
   "source": [
    "fig, ax = plt.subplots(5,figsize=(7,40))\n",
    "plt.subplots_adjust(hspace=0.4)\n",
    "for i, date in enumerate(df_pred):\n",
    "    sns.regplot(data=df_pred[date], x = \"viral_50_rank\", y = \"top_200_rank\", ax=ax[i])\n",
    "    ax[i].set_title(f\"Plotting viral-50 rank against top 200  rank for the timespan of 1 week starting at {date} (each dot represents one song)\",y=1.05)\n",
    "    ax[i].set_xlabel(\"viral-50 chart position for each song\")\n",
    "    ax[i].set_ylabel(\"top 200 chart position for each song one week later\")\n",
    "fig.show()"
   ]
  },
  {
   "cell_type": "code",
   "execution_count": null,
   "metadata": {},
   "outputs": [],
   "source": [
    "for my_date, my_df in df_pred.items():\n",
    "    print(f\"correlation for week starting at: {date}\")\n",
    "    print(my_df.corr(method=\"pearson\", numeric_only=True))"
   ]
  },
  {
   "cell_type": "markdown",
   "metadata": {},
   "source": [
    "We can see that depending on which week we pick, the correlation can be very different. This further supports our discovery from the mean plot.\n",
    "A possible different approach for our final project could be to look at the **change in rank** instead of the rank itself; if a song moves up in rank over a certain period within the viral50 chart, that could indicate a higher rank in the top 200 chart."
   ]
  },
  {
   "attachments": {},
   "cell_type": "markdown",
   "metadata": {},
   "source": [
    "## APPROACH 3: predict trend of top 200 ranking with rank in viral 50"
   ]
  },
  {
   "cell_type": "code",
   "execution_count": 65,
   "metadata": {},
   "outputs": [
    {
     "data": {
      "text/html": [
       "<div>\n",
       "<style scoped>\n",
       "    .dataframe tbody tr th:only-of-type {\n",
       "        vertical-align: middle;\n",
       "    }\n",
       "\n",
       "    .dataframe tbody tr th {\n",
       "        vertical-align: top;\n",
       "    }\n",
       "\n",
       "    .dataframe thead th {\n",
       "        text-align: right;\n",
       "    }\n",
       "</style>\n",
       "<table border=\"1\" class=\"dataframe\">\n",
       "  <thead>\n",
       "    <tr style=\"text-align: right;\">\n",
       "      <th></th>\n",
       "      <th>title</th>\n",
       "      <th>rank</th>\n",
       "      <th>date</th>\n",
       "      <th>artist</th>\n",
       "      <th>region</th>\n",
       "      <th>chart</th>\n",
       "      <th>trend</th>\n",
       "    </tr>\n",
       "  </thead>\n",
       "  <tbody>\n",
       "    <tr>\n",
       "      <th>10961710</th>\n",
       "      <td>The Box</td>\n",
       "      <td>1</td>\n",
       "      <td>2020-01-01</td>\n",
       "      <td>Roddy Ricch</td>\n",
       "      <td>United States</td>\n",
       "      <td>top200</td>\n",
       "      <td>SAME_POSITION</td>\n",
       "    </tr>\n",
       "    <tr>\n",
       "      <th>10961711</th>\n",
       "      <td>GOODMORNINGTOKYO!</td>\n",
       "      <td>1</td>\n",
       "      <td>2020-01-01</td>\n",
       "      <td>TOKYO’S REVENGE</td>\n",
       "      <td>United States</td>\n",
       "      <td>viral50</td>\n",
       "      <td>SAME_POSITION</td>\n",
       "    </tr>\n",
       "    <tr>\n",
       "      <th>10961712</th>\n",
       "      <td>ROXANNE</td>\n",
       "      <td>2</td>\n",
       "      <td>2020-01-01</td>\n",
       "      <td>Arizona Zervas</td>\n",
       "      <td>United States</td>\n",
       "      <td>top200</td>\n",
       "      <td>SAME_POSITION</td>\n",
       "    </tr>\n",
       "    <tr>\n",
       "      <th>10961713</th>\n",
       "      <td>All I Want - From \"High School Musical: The Mu...</td>\n",
       "      <td>2</td>\n",
       "      <td>2020-01-01</td>\n",
       "      <td>Olivia Rodrigo</td>\n",
       "      <td>United States</td>\n",
       "      <td>viral50</td>\n",
       "      <td>SAME_POSITION</td>\n",
       "    </tr>\n",
       "    <tr>\n",
       "      <th>10961714</th>\n",
       "      <td>Circles</td>\n",
       "      <td>3</td>\n",
       "      <td>2020-01-01</td>\n",
       "      <td>Post Malone</td>\n",
       "      <td>United States</td>\n",
       "      <td>top200</td>\n",
       "      <td>SAME_POSITION</td>\n",
       "    </tr>\n",
       "    <tr>\n",
       "      <th>...</th>\n",
       "      <td>...</td>\n",
       "      <td>...</td>\n",
       "      <td>...</td>\n",
       "      <td>...</td>\n",
       "      <td>...</td>\n",
       "      <td>...</td>\n",
       "      <td>...</td>\n",
       "    </tr>\n",
       "    <tr>\n",
       "      <th>11144037</th>\n",
       "      <td>Not Allowed</td>\n",
       "      <td>196</td>\n",
       "      <td>2021-12-31</td>\n",
       "      <td>TV Girl</td>\n",
       "      <td>United States</td>\n",
       "      <td>top200</td>\n",
       "      <td>MOVE_DOWN</td>\n",
       "    </tr>\n",
       "    <tr>\n",
       "      <th>11144038</th>\n",
       "      <td>1 Scale (feat. G Herbo)</td>\n",
       "      <td>197</td>\n",
       "      <td>2021-12-31</td>\n",
       "      <td>Young Dolph</td>\n",
       "      <td>United States</td>\n",
       "      <td>top200</td>\n",
       "      <td>NEW_ENTRY</td>\n",
       "    </tr>\n",
       "    <tr>\n",
       "      <th>11144039</th>\n",
       "      <td>MIDDLE CHILD</td>\n",
       "      <td>198</td>\n",
       "      <td>2021-12-31</td>\n",
       "      <td>J. Cole</td>\n",
       "      <td>United States</td>\n",
       "      <td>top200</td>\n",
       "      <td>MOVE_DOWN</td>\n",
       "    </tr>\n",
       "    <tr>\n",
       "      <th>11144040</th>\n",
       "      <td>EVERY CHANCE I GET (feat. Lil Baby &amp; Lil Durk)</td>\n",
       "      <td>199</td>\n",
       "      <td>2021-12-31</td>\n",
       "      <td>DJ Khaled</td>\n",
       "      <td>United States</td>\n",
       "      <td>top200</td>\n",
       "      <td>NEW_ENTRY</td>\n",
       "    </tr>\n",
       "    <tr>\n",
       "      <th>11144041</th>\n",
       "      <td>Peru</td>\n",
       "      <td>200</td>\n",
       "      <td>2021-12-31</td>\n",
       "      <td>Fireboy DML, Ed Sheeran</td>\n",
       "      <td>United States</td>\n",
       "      <td>top200</td>\n",
       "      <td>NEW_ENTRY</td>\n",
       "    </tr>\n",
       "  </tbody>\n",
       "</table>\n",
       "<p>182332 rows × 7 columns</p>\n",
       "</div>"
      ],
      "text/plain": [
       "                                                      title  rank       date  \\\n",
       "10961710                                            The Box     1 2020-01-01   \n",
       "10961711                                  GOODMORNINGTOKYO!     1 2020-01-01   \n",
       "10961712                                            ROXANNE     2 2020-01-01   \n",
       "10961713  All I Want - From \"High School Musical: The Mu...     2 2020-01-01   \n",
       "10961714                                            Circles     3 2020-01-01   \n",
       "...                                                     ...   ...        ...   \n",
       "11144037                                        Not Allowed   196 2021-12-31   \n",
       "11144038                            1 Scale (feat. G Herbo)   197 2021-12-31   \n",
       "11144039                                       MIDDLE CHILD   198 2021-12-31   \n",
       "11144040     EVERY CHANCE I GET (feat. Lil Baby & Lil Durk)   199 2021-12-31   \n",
       "11144041                                               Peru   200 2021-12-31   \n",
       "\n",
       "                           artist         region    chart          trend  \n",
       "10961710              Roddy Ricch  United States   top200  SAME_POSITION  \n",
       "10961711          TOKYO’S REVENGE  United States  viral50  SAME_POSITION  \n",
       "10961712           Arizona Zervas  United States   top200  SAME_POSITION  \n",
       "10961713           Olivia Rodrigo  United States  viral50  SAME_POSITION  \n",
       "10961714              Post Malone  United States   top200  SAME_POSITION  \n",
       "...                           ...            ...      ...            ...  \n",
       "11144037                  TV Girl  United States   top200      MOVE_DOWN  \n",
       "11144038              Young Dolph  United States   top200      NEW_ENTRY  \n",
       "11144039                  J. Cole  United States   top200      MOVE_DOWN  \n",
       "11144040                DJ Khaled  United States   top200      NEW_ENTRY  \n",
       "11144041  Fireboy DML, Ed Sheeran  United States   top200      NEW_ENTRY  \n",
       "\n",
       "[182332 rows x 7 columns]"
      ]
     },
     "execution_count": 65,
     "metadata": {},
     "output_type": "execute_result"
    }
   ],
   "source": [
    "us_data"
   ]
  },
  {
   "cell_type": "code",
   "execution_count": 66,
   "metadata": {},
   "outputs": [],
   "source": [
    "def get_rank_title_per_week_df_for_trends(titles, viral_50, top_200, curr_date = \"2020-01-05\", delta = 7): # returns a dataframe with mean viral50 rank , mean top 200 rank for song title\n",
    "    date_current = pd.to_datetime(curr_date)\n",
    "    date_next = date_current + timedelta(days=delta)\n",
    "    viral_ranks = []\n",
    "    top_200_ranks = []\n",
    "    title_keys = []\n",
    "    dates_viral = []\n",
    "    dates_top200 = []\n",
    "    trends = []\n",
    "    for my_title in titles:\n",
    "        #print(f\"list lengths: viral_ranks length: {len(viral_ranks)}\\n top_200 length: {len(top_200_ranks)}\\n titles length: {len(titles)}\")\n",
    "        viral_rank = viral_50.loc[(viral_50[\"title\"] == my_title) & (viral_50[\"date\"] == date_current),[\"rank\"]]\n",
    "        if viral_rank.empty:\n",
    "            pass\n",
    "        else:\n",
    "            viral_ranks.append(viral_rank.iloc[0][\"rank\"]) # this is a dataframe which should only contain 1 value, we extract it with iloc\n",
    "            top_200_rank = top_200.loc[(top_200[\"title\"] == my_title) & (top_200[\"date\"] == date_next), [\"rank\"]]\n",
    "            trend = top_200.loc[(top_200[\"title\"] == my_title) & (top_200[\"date\"] == date_next),[\"trend\"]]\n",
    "            if top_200_rank.empty:\n",
    "                # fix viral data entry so length is the same because there is no top200 rank for this viral rank\n",
    "                if  len(viral_ranks) > 0:\n",
    "                    viral_ranks.pop()\n",
    "            else:\n",
    "                top_200_ranks.append(top_200_rank.iloc[0][\"rank\"])# this is a dataframe which should only contain 1 value, we extract it with iloc\n",
    "                trends.append(trend.iloc[0][\"trend\"])\n",
    "                title_keys.append(my_title)\n",
    "    for x in title_keys: # add a  start and end date entry to each title found in week timespan, so that the arrays match\n",
    "        dates_viral.append(date_current) #date of viral 50 rank retrieval\n",
    "        dates_top200.append(date_next) # date of top 200 rank retrieval\n",
    "    df = pd.DataFrame(\n",
    "        {\n",
    "            \"title\": title_keys,\n",
    "            \"date_viral\" : dates_viral,\n",
    "            \"viral_50_rank\" : viral_ranks,\n",
    "            \"date_top200\" : dates_top200,\n",
    "            \"top_200_rank\" : top_200_ranks,\n",
    "            \"trend_top_200\" : trends\n",
    "        }\n",
    "    )\n",
    "    return df"
   ]
  },
  {
   "attachments": {},
   "cell_type": "markdown",
   "metadata": {},
   "source": [
    "Start export for predictions."
   ]
  },
  {
   "cell_type": "code",
   "execution_count": 75,
   "metadata": {},
   "outputs": [],
   "source": [
    "def export_df_time_window(freq, delta, filename):\n",
    "    list_trends = []\n",
    "    dates_pred = pd.date_range(start=\"2020-01-01\", end = \"2021-12-31\", freq = freq)\n",
    "    for my_date in dates_pred:\n",
    "        list_trends.append(get_rank_title_per_week_df_for_trends(usable_titles, viral_50 = viral_50, top_200 = top_200, curr_date=my_date, delta=delta))\n",
    " \n",
    "    df_trends = pd.concat(list_trends)\n",
    "\n",
    "    # change dtype to integer instead of float\n",
    "    df_trends['viral_50_rank'] = df_trends['viral_50_rank'].astype('int64')\n",
    "    df_trends['top_200_rank'] = df_trends['top_200_rank'].astype('int64')\n",
    "\n",
    "    df_trends.to_csv(\"../data/\" + filename)\n"
   ]
  },
  {
   "cell_type": "code",
   "execution_count": 76,
   "metadata": {},
   "outputs": [],
   "source": [
    "# write data to csv for prediction step\n",
    "export_df_time_window(\"W\", 7, \"weekly_ranks_with_trends_top_200.csv\")\n",
    "export_df_time_window(\"3D\", 3, \"3_days_ranks_with_trends_top_200.csv\")\n",
    "export_df_time_window(\"D\", 1, \"daily_ranks_with_trends_top_200.csv\")   "
   ]
  }
 ],
 "metadata": {
  "kernelspec": {
   "display_name": "data_science-5TF-S9g6",
   "language": "python",
   "name": "python3"
  },
  "language_info": {
   "codemirror_mode": {
    "name": "ipython",
    "version": 3
   },
   "file_extension": ".py",
   "mimetype": "text/x-python",
   "name": "python",
   "nbconvert_exporter": "python",
   "pygments_lexer": "ipython3",
   "version": "3.10.7"
  },
  "vscode": {
   "interpreter": {
    "hash": "91c9c3035d31b1b248a09f4683e22d2eee92d43933c62df06aa9c8e048bab2cb"
   }
  }
 },
 "nbformat": 4,
 "nbformat_minor": 4
}
