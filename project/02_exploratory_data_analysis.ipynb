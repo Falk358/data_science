{
 "cells": [
  {
   "cell_type": "code",
   "execution_count": 63,
   "metadata": {},
   "outputs": [],
   "source": [
    "import numpy as np\n",
    "import pandas as pd\n",
    "import matplotlib.pyplot as plt\n",
    "import seaborn as sns\n",
    "from datetime import timedelta"
   ]
  },
  {
   "cell_type": "markdown",
   "metadata": {},
   "source": [
    "We will limit our data to the country **USA**:"
   ]
  },
  {
   "cell_type": "code",
   "execution_count": 12,
   "metadata": {},
   "outputs": [],
   "source": [
    "def dataframeByRegion(df, region):\n",
    "    return df[df['region'] == region]"
   ]
  },
  {
   "cell_type": "code",
   "execution_count": 28,
   "metadata": {},
   "outputs": [
    {
     "data": {
      "text/plain": [
       "Unnamed: 0             int64\n",
       "title                 object\n",
       "rank                   int64\n",
       "date          datetime64[ns]\n",
       "artist                object\n",
       "region                object\n",
       "chart                 object\n",
       "trend                 object\n",
       "dtype: object"
      ]
     },
     "execution_count": 28,
     "metadata": {},
     "output_type": "execute_result"
    }
   ],
   "source": [
    "spotify_data = pd.read_csv(\"../data/spotify_2020+_cleaned.csv\")\n",
    "spotify_data[\"date\"] = pd.to_datetime(spotify_data[\"date\"])\n",
    "us_data = dataframeByRegion(spotify_data, \"United States\")\n",
    "us_data.dtypes"
   ]
  },
  {
   "cell_type": "markdown",
   "metadata": {},
   "source": [
    "first, lets check if a song title is aviable both in **top200** and **viral50** charts:"
   ]
  },
  {
   "cell_type": "code",
   "execution_count": 29,
   "metadata": {},
   "outputs": [
    {
     "name": "stdout",
     "output_type": "stream",
     "text": [
      " titles which appear in both charts: 747\n",
      " total number of titles: 4887\n"
     ]
    },
    {
     "data": {
      "text/plain": [
       "0                                         'Til You Can't\n",
       "1      ...And To Those I Love, Thanks For Sticking Ar...\n",
       "2      ...And to Those I Love, Thanks for Sticking Ar...\n",
       "3                       0X1=LOVESONG (I Know I Love you)\n",
       "4                                1 Scale (feat. G Herbo)\n",
       "                             ...                        \n",
       "742                         this is how you fall in love\n",
       "743                                              traitor\n",
       "744                           we fell in love in october\n",
       "745                         yankee and the brave (ep. 4)\n",
       "746                                   you broke me first\n",
       "Length: 747, dtype: object"
      ]
     },
     "execution_count": 29,
     "metadata": {},
     "output_type": "execute_result"
    }
   ],
   "source": [
    "us_data_by_title = us_data.groupby(\"title\")\n",
    "usable_titles = []\n",
    "for (name,group) in us_data_by_title.__iter__():\n",
    "    if (\"viral50\" in group[\"chart\"].unique() ) and (\"top200\" in group[\"chart\"].unique()):\n",
    "        usable_titles.append(name)\n",
    "usable_titles = pd.Series(usable_titles)\n",
    "num_title = len(us_data[\"title\"].unique())\n",
    "print(f\" titles which appear in both charts: {usable_titles.count()}\\n total number of titles: {num_title}\")\n",
    "usable_titles\n"
   ]
  },
  {
   "cell_type": "code",
   "execution_count": 30,
   "metadata": {},
   "outputs": [
    {
     "data": {
      "text/plain": [
       "89136"
      ]
     },
     "execution_count": 30,
     "metadata": {},
     "output_type": "execute_result"
    }
   ],
   "source": [
    "usable_title_df = us_data[us_data[\"title\"].isin(usable_titles)]\n",
    "usable_title_df[\"title\"].count()"
   ]
  },
  {
   "cell_type": "markdown",
   "metadata": {},
   "source": [
    "Next, we create two dataframes for our different charts: **Viral50** and **Top200**"
   ]
  },
  {
   "cell_type": "code",
   "execution_count": 31,
   "metadata": {},
   "outputs": [
    {
     "data": {
      "text/plain": [
       "(17114, 8)"
      ]
     },
     "execution_count": 31,
     "metadata": {},
     "output_type": "execute_result"
    }
   ],
   "source": [
    "viral_50 = usable_title_df[usable_title_df[\"chart\"] == \"viral50\"]\n",
    "viral_50.shape"
   ]
  },
  {
   "cell_type": "code",
   "execution_count": 32,
   "metadata": {},
   "outputs": [
    {
     "data": {
      "text/html": [
       "<div>\n",
       "<style scoped>\n",
       "    .dataframe tbody tr th:only-of-type {\n",
       "        vertical-align: middle;\n",
       "    }\n",
       "\n",
       "    .dataframe tbody tr th {\n",
       "        vertical-align: top;\n",
       "    }\n",
       "\n",
       "    .dataframe thead th {\n",
       "        text-align: right;\n",
       "    }\n",
       "</style>\n",
       "<table border=\"1\" class=\"dataframe\">\n",
       "  <thead>\n",
       "    <tr style=\"text-align: right;\">\n",
       "      <th></th>\n",
       "      <th>Unnamed: 0</th>\n",
       "      <th>title</th>\n",
       "      <th>rank</th>\n",
       "      <th>date</th>\n",
       "      <th>artist</th>\n",
       "      <th>region</th>\n",
       "      <th>chart</th>\n",
       "      <th>trend</th>\n",
       "    </tr>\n",
       "  </thead>\n",
       "  <tbody>\n",
       "    <tr>\n",
       "      <th>10961711</th>\n",
       "      <td>10961711</td>\n",
       "      <td>GOODMORNINGTOKYO!</td>\n",
       "      <td>1</td>\n",
       "      <td>2020-01-01</td>\n",
       "      <td>TOKYO’S REVENGE</td>\n",
       "      <td>United States</td>\n",
       "      <td>viral50</td>\n",
       "      <td>SAME_POSITION</td>\n",
       "    </tr>\n",
       "    <tr>\n",
       "      <th>10961713</th>\n",
       "      <td>10961713</td>\n",
       "      <td>All I Want - From \"High School Musical: The Mu...</td>\n",
       "      <td>2</td>\n",
       "      <td>2020-01-01</td>\n",
       "      <td>Olivia Rodrigo</td>\n",
       "      <td>United States</td>\n",
       "      <td>viral50</td>\n",
       "      <td>SAME_POSITION</td>\n",
       "    </tr>\n",
       "    <tr>\n",
       "      <th>10961715</th>\n",
       "      <td>10961715</td>\n",
       "      <td>Blueberry Faygo</td>\n",
       "      <td>3</td>\n",
       "      <td>2020-01-01</td>\n",
       "      <td>Mikey.Otx</td>\n",
       "      <td>United States</td>\n",
       "      <td>viral50</td>\n",
       "      <td>MOVE_UP</td>\n",
       "    </tr>\n",
       "    <tr>\n",
       "      <th>10961717</th>\n",
       "      <td>10961717</td>\n",
       "      <td>The Box</td>\n",
       "      <td>4</td>\n",
       "      <td>2020-01-01</td>\n",
       "      <td>Roddy Ricch</td>\n",
       "      <td>United States</td>\n",
       "      <td>viral50</td>\n",
       "      <td>MOVE_DOWN</td>\n",
       "    </tr>\n",
       "    <tr>\n",
       "      <th>10961721</th>\n",
       "      <td>10961721</td>\n",
       "      <td>No Idea</td>\n",
       "      <td>6</td>\n",
       "      <td>2020-01-01</td>\n",
       "      <td>Don Toliver</td>\n",
       "      <td>United States</td>\n",
       "      <td>viral50</td>\n",
       "      <td>SAME_POSITION</td>\n",
       "    </tr>\n",
       "  </tbody>\n",
       "</table>\n",
       "</div>"
      ],
      "text/plain": [
       "          Unnamed: 0                                              title  rank  \\\n",
       "10961711    10961711                                  GOODMORNINGTOKYO!     1   \n",
       "10961713    10961713  All I Want - From \"High School Musical: The Mu...     2   \n",
       "10961715    10961715                                    Blueberry Faygo     3   \n",
       "10961717    10961717                                            The Box     4   \n",
       "10961721    10961721                                            No Idea     6   \n",
       "\n",
       "               date           artist         region    chart          trend  \n",
       "10961711 2020-01-01  TOKYO’S REVENGE  United States  viral50  SAME_POSITION  \n",
       "10961713 2020-01-01   Olivia Rodrigo  United States  viral50  SAME_POSITION  \n",
       "10961715 2020-01-01        Mikey.Otx  United States  viral50        MOVE_UP  \n",
       "10961717 2020-01-01      Roddy Ricch  United States  viral50      MOVE_DOWN  \n",
       "10961721 2020-01-01      Don Toliver  United States  viral50  SAME_POSITION  "
      ]
     },
     "execution_count": 32,
     "metadata": {},
     "output_type": "execute_result"
    }
   ],
   "source": [
    "viral_50.head()"
   ]
  },
  {
   "cell_type": "code",
   "execution_count": 33,
   "metadata": {},
   "outputs": [
    {
     "data": {
      "text/plain": [
       "(72022, 8)"
      ]
     },
     "execution_count": 33,
     "metadata": {},
     "output_type": "execute_result"
    }
   ],
   "source": [
    "top_200 = usable_title_df[usable_title_df[\"chart\"] == \"top200\"]\n",
    "top_200.shape"
   ]
  },
  {
   "cell_type": "markdown",
   "metadata": {},
   "source": [
    "Since we have a datetime column, we can use that to group our data entries for both charts: we will define a grouping object which will group both charts in the same way:"
   ]
  },
  {
   "cell_type": "code",
   "execution_count": 42,
   "metadata": {},
   "outputs": [],
   "source": [
    "interval = \"W\" # change to M for monthly data\n",
    "group_date = [pd.Grouper(key=\"date\",freq=interval)]"
   ]
  },
  {
   "cell_type": "code",
   "execution_count": 60,
   "metadata": {},
   "outputs": [
    {
     "name": "stderr",
     "output_type": "stream",
     "text": [
      "/tmp/ipykernel_18697/4226095815.py:4: FutureWarning: The default value of numeric_only in DataFrameGroupBy.mean is deprecated. In a future version, numeric_only will default to False. Either specify numeric_only or select only columns which should be valid for the function.\n",
      "  viral_50_week.mean()\n"
     ]
    },
    {
     "data": {
      "text/html": [
       "<div>\n",
       "<style scoped>\n",
       "    .dataframe tbody tr th:only-of-type {\n",
       "        vertical-align: middle;\n",
       "    }\n",
       "\n",
       "    .dataframe tbody tr th {\n",
       "        vertical-align: top;\n",
       "    }\n",
       "\n",
       "    .dataframe thead th {\n",
       "        text-align: right;\n",
       "    }\n",
       "</style>\n",
       "<table border=\"1\" class=\"dataframe\">\n",
       "  <thead>\n",
       "    <tr style=\"text-align: right;\">\n",
       "      <th></th>\n",
       "      <th>Unnamed: 0</th>\n",
       "      <th>rank</th>\n",
       "    </tr>\n",
       "    <tr>\n",
       "      <th>date</th>\n",
       "      <th></th>\n",
       "      <th></th>\n",
       "    </tr>\n",
       "  </thead>\n",
       "  <tbody>\n",
       "    <tr>\n",
       "      <th>2019-12-29</th>\n",
       "      <td>1.096225e+07</td>\n",
       "      <td>22.773585</td>\n",
       "    </tr>\n",
       "    <tr>\n",
       "      <th>2020-01-05</th>\n",
       "      <td>1.096375e+07</td>\n",
       "      <td>23.302752</td>\n",
       "    </tr>\n",
       "    <tr>\n",
       "      <th>2020-01-12</th>\n",
       "      <td>1.096548e+07</td>\n",
       "      <td>23.721951</td>\n",
       "    </tr>\n",
       "    <tr>\n",
       "      <th>2020-01-19</th>\n",
       "      <td>1.096725e+07</td>\n",
       "      <td>23.481865</td>\n",
       "    </tr>\n",
       "    <tr>\n",
       "      <th>2020-01-26</th>\n",
       "      <td>1.096899e+07</td>\n",
       "      <td>26.500000</td>\n",
       "    </tr>\n",
       "    <tr>\n",
       "      <th>...</th>\n",
       "      <td>...</td>\n",
       "      <td>...</td>\n",
       "    </tr>\n",
       "    <tr>\n",
       "      <th>2021-11-28</th>\n",
       "      <td>1.113680e+07</td>\n",
       "      <td>27.792453</td>\n",
       "    </tr>\n",
       "    <tr>\n",
       "      <th>2021-12-05</th>\n",
       "      <td>1.113832e+07</td>\n",
       "      <td>27.157534</td>\n",
       "    </tr>\n",
       "    <tr>\n",
       "      <th>2021-12-12</th>\n",
       "      <td>1.114009e+07</td>\n",
       "      <td>25.600000</td>\n",
       "    </tr>\n",
       "    <tr>\n",
       "      <th>2021-12-19</th>\n",
       "      <td>1.114179e+07</td>\n",
       "      <td>24.265152</td>\n",
       "    </tr>\n",
       "    <tr>\n",
       "      <th>2021-12-26</th>\n",
       "      <td>1.114334e+07</td>\n",
       "      <td>24.504762</td>\n",
       "    </tr>\n",
       "  </tbody>\n",
       "</table>\n",
       "<p>105 rows × 2 columns</p>\n",
       "</div>"
      ],
      "text/plain": [
       "              Unnamed: 0       rank\n",
       "date                               \n",
       "2019-12-29  1.096225e+07  22.773585\n",
       "2020-01-05  1.096375e+07  23.302752\n",
       "2020-01-12  1.096548e+07  23.721951\n",
       "2020-01-19  1.096725e+07  23.481865\n",
       "2020-01-26  1.096899e+07  26.500000\n",
       "...                  ...        ...\n",
       "2021-11-28  1.113680e+07  27.792453\n",
       "2021-12-05  1.113832e+07  27.157534\n",
       "2021-12-12  1.114009e+07  25.600000\n",
       "2021-12-19  1.114179e+07  24.265152\n",
       "2021-12-26  1.114334e+07  24.504762\n",
       "\n",
       "[105 rows x 2 columns]"
      ]
     },
     "execution_count": 60,
     "metadata": {},
     "output_type": "execute_result"
    }
   ],
   "source": [
    "viral_50_week = viral_50.groupby(group_date)\n",
    "top_200_week = top_200.groupby(group_date)\n",
    "\n",
    "viral_50_week.mean()"
   ]
  },
  {
   "cell_type": "markdown",
   "metadata": {},
   "source": [
    "In order to plot viral rank vs top 200 rank, we need to create a new dataframe:"
   ]
  },
  {
   "cell_type": "code",
   "execution_count": 89,
   "metadata": {},
   "outputs": [],
   "source": [
    "def get_rank_title_df(titles, viral_50, top_200, curr_date = \"2020-01-05\"): # returns a dataframe with viral50 rank of current week, top 200 rank of next week and song title\n",
    "    date_current = pd.to_datetime(curr_date)\n",
    "    date_next = date_current + timedelta(days=7) # date of next week\n",
    "    #for label, group in viral_50_week.__iter__(): #extract group with our date from viral50\n",
    "    #    if label == date_current:\n",
    "    #        viral_50 = group\n",
    "    #for label, group in top_200_week.__iter__(): #extract group with next week date from top200\n",
    "    #    if label == date_next:\n",
    "    #        top_200 = group\n",
    "    viral_ranks = []\n",
    "    top_200_ranks = []\n",
    "    for my_title in titles:\n",
    "        viral_rank = viral_50.loc[viral_50[\"title\"] == my_title,[\"rank\"]].mean()[0]\n",
    "        if viral_rank is None:\n",
    "            print(f\"Error couldnt retrieve viral50 rank for title {my_title}\")\n",
    "            viral_ranks.append(51) # placeholder for value not found\n",
    "        viral_ranks.append(viral_rank)\n",
    "        top_200_rank = top_200.loc[top_200[\"title\"] == my_title, [\"rank\"]].mean()[0]\n",
    "        if top_200_rank is None:\n",
    "            print(f\"Error couldnt retrieve top200 rank for title {my_title}\")\n",
    "            top_200_ranks.append(201) # placeholder for value not found\n",
    "        top_200_ranks.append(top_200_rank)\n",
    "    df = pd.DataFrame(\n",
    "        {\n",
    "            \"viral_50_rank_mean\" : viral_ranks,\n",
    "            \"top_200_rank_mean\" : top_200_ranks,\n",
    "            \"title\": titles\n",
    "        }\n",
    "    )\n",
    "    return df"
   ]
  },
  {
   "cell_type": "code",
   "execution_count": 90,
   "metadata": {},
   "outputs": [
    {
     "data": {
      "text/html": [
       "<div>\n",
       "<style scoped>\n",
       "    .dataframe tbody tr th:only-of-type {\n",
       "        vertical-align: middle;\n",
       "    }\n",
       "\n",
       "    .dataframe tbody tr th {\n",
       "        vertical-align: top;\n",
       "    }\n",
       "\n",
       "    .dataframe thead th {\n",
       "        text-align: right;\n",
       "    }\n",
       "</style>\n",
       "<table border=\"1\" class=\"dataframe\">\n",
       "  <thead>\n",
       "    <tr style=\"text-align: right;\">\n",
       "      <th></th>\n",
       "      <th>viral_50_rank_mean</th>\n",
       "      <th>top_200_rank_mean</th>\n",
       "      <th>title</th>\n",
       "    </tr>\n",
       "  </thead>\n",
       "  <tbody>\n",
       "    <tr>\n",
       "      <th>612</th>\n",
       "      <td>29.500000</td>\n",
       "      <td>194.000000</td>\n",
       "      <td>Till Forever Falls Apart</td>\n",
       "    </tr>\n",
       "    <tr>\n",
       "      <th>721</th>\n",
       "      <td>46.333333</td>\n",
       "      <td>74.378238</td>\n",
       "      <td>jealousy, jealousy</td>\n",
       "    </tr>\n",
       "    <tr>\n",
       "      <th>277</th>\n",
       "      <td>27.705882</td>\n",
       "      <td>63.620968</td>\n",
       "      <td>Holy (feat. Chance The Rapper)</td>\n",
       "    </tr>\n",
       "    <tr>\n",
       "      <th>315</th>\n",
       "      <td>13.222222</td>\n",
       "      <td>86.666667</td>\n",
       "      <td>Itty Bitty Piggy</td>\n",
       "    </tr>\n",
       "    <tr>\n",
       "      <th>118</th>\n",
       "      <td>26.518519</td>\n",
       "      <td>150.333333</td>\n",
       "      <td>Chandelier</td>\n",
       "    </tr>\n",
       "    <tr>\n",
       "      <th>726</th>\n",
       "      <td>13.824561</td>\n",
       "      <td>137.113636</td>\n",
       "      <td>love nwantiti (feat. Dj Yo! &amp; AX'EL) - Remix</td>\n",
       "    </tr>\n",
       "    <tr>\n",
       "      <th>349</th>\n",
       "      <td>31.571429</td>\n",
       "      <td>85.017544</td>\n",
       "      <td>Level of Concern</td>\n",
       "    </tr>\n",
       "    <tr>\n",
       "      <th>185</th>\n",
       "      <td>46.857143</td>\n",
       "      <td>107.794059</td>\n",
       "      <td>Electric Love</td>\n",
       "    </tr>\n",
       "    <tr>\n",
       "      <th>149</th>\n",
       "      <td>23.769231</td>\n",
       "      <td>94.359477</td>\n",
       "      <td>Daisy</td>\n",
       "    </tr>\n",
       "    <tr>\n",
       "      <th>562</th>\n",
       "      <td>39.142857</td>\n",
       "      <td>97.846154</td>\n",
       "      <td>Stoned at the Nail Salon</td>\n",
       "    </tr>\n",
       "  </tbody>\n",
       "</table>\n",
       "</div>"
      ],
      "text/plain": [
       "     viral_50_rank_mean  top_200_rank_mean  \\\n",
       "612           29.500000         194.000000   \n",
       "721           46.333333          74.378238   \n",
       "277           27.705882          63.620968   \n",
       "315           13.222222          86.666667   \n",
       "118           26.518519         150.333333   \n",
       "726           13.824561         137.113636   \n",
       "349           31.571429          85.017544   \n",
       "185           46.857143         107.794059   \n",
       "149           23.769231          94.359477   \n",
       "562           39.142857          97.846154   \n",
       "\n",
       "                                            title  \n",
       "612                      Till Forever Falls Apart  \n",
       "721                            jealousy, jealousy  \n",
       "277                Holy (feat. Chance The Rapper)  \n",
       "315                              Itty Bitty Piggy  \n",
       "118                                    Chandelier  \n",
       "726  love nwantiti (feat. Dj Yo! & AX'EL) - Remix  \n",
       "349                              Level of Concern  \n",
       "185                                 Electric Love  \n",
       "149                                         Daisy  \n",
       "562                      Stoned at the Nail Salon  "
      ]
     },
     "execution_count": 90,
     "metadata": {},
     "output_type": "execute_result"
    }
   ],
   "source": [
    "rank_title_df = get_rank_title_df(usable_titles, viral_50 = viral_50, top_200 = top_200)\n",
    "rank_title_df.sample(10)"
   ]
  },
  {
   "cell_type": "code",
   "execution_count": 86,
   "metadata": {},
   "outputs": [
    {
     "data": {
      "image/png": "[encoded data removed]",
      "text/plain": [
       "<Figure size 640x480 with 1 Axes>"
      ]
     },
     "metadata": {},
     "output_type": "display_data"
    }
   ],
   "source": [
    "sns.regplot(data=rank_title_df, x = \"viral_50_rank_mean\", y = \"top_200_rank_mean\")\n",
    "plt.title(\"Plotting viral50  mean rank against top200  mean rank (each dot represents one song)\")\n",
    "plt.xlabel(\"viral50 chart position mean for one song\")\n",
    "plt.ylabel(\"top 200 chart position mean for one song\")\n",
    "plt.show()"
   ]
  },
  {
   "cell_type": "code",
   "execution_count": 88,
   "metadata": {},
   "outputs": [
    {
     "name": "stderr",
     "output_type": "stream",
     "text": [
      "/tmp/ipykernel_18697/3681865541.py:1: FutureWarning: The default value of numeric_only in DataFrame.corr is deprecated. In a future version, it will default to False. Select only valid columns or specify the value of numeric_only to silence this warning.\n",
      "  rank_title_df.corr(method=\"pearson\")\n"
     ]
    },
    {
     "data": {
      "text/html": [
       "<div>\n",
       "<style scoped>\n",
       "    .dataframe tbody tr th:only-of-type {\n",
       "        vertical-align: middle;\n",
       "    }\n",
       "\n",
       "    .dataframe tbody tr th {\n",
       "        vertical-align: top;\n",
       "    }\n",
       "\n",
       "    .dataframe thead th {\n",
       "        text-align: right;\n",
       "    }\n",
       "</style>\n",
       "<table border=\"1\" class=\"dataframe\">\n",
       "  <thead>\n",
       "    <tr style=\"text-align: right;\">\n",
       "      <th></th>\n",
       "      <th>viral_50_rank_mean</th>\n",
       "      <th>top_200_rank_mean</th>\n",
       "    </tr>\n",
       "  </thead>\n",
       "  <tbody>\n",
       "    <tr>\n",
       "      <th>viral_50_rank_mean</th>\n",
       "      <td>1.000000</td>\n",
       "      <td>0.171148</td>\n",
       "    </tr>\n",
       "    <tr>\n",
       "      <th>top_200_rank_mean</th>\n",
       "      <td>0.171148</td>\n",
       "      <td>1.000000</td>\n",
       "    </tr>\n",
       "  </tbody>\n",
       "</table>\n",
       "</div>"
      ],
      "text/plain": [
       "                    viral_50_rank_mean  top_200_rank_mean\n",
       "viral_50_rank_mean            1.000000           0.171148\n",
       "top_200_rank_mean             0.171148           1.000000"
      ]
     },
     "execution_count": 88,
     "metadata": {},
     "output_type": "execute_result"
    }
   ],
   "source": [
    "rank_title_df.corr(method=\"pearson\")"
   ]
  },
  {
   "cell_type": "markdown",
   "metadata": {},
   "source": [
    "As we can see, the viral50 and top 200 ranks are only very weakly correlated. This forces us to reconsider our plan of action, since we wanted to use the viral 50 position to predict the rank in the top 200 charts."
   ]
  }
 ],
 "metadata": {
  "kernelspec": {
   "display_name": "Python 3.10.7 ('data_science-dDCtDHdq')",
   "language": "python",
   "name": "python3"
  },
  "language_info": {
   "codemirror_mode": {
    "name": "ipython",
    "version": 3
   },
   "file_extension": ".py",
   "mimetype": "text/x-python",
   "name": "python",
   "nbconvert_exporter": "python",
   "pygments_lexer": "ipython3",
   "version": "3.10.7"
  },
  "orig_nbformat": 4,
  "vscode": {
   "interpreter": {
    "hash": "879e0aa37acc94d6458fa173f3288bcea56e82a3b9fca582a9c7d294b714e537"
   }
  }
 },
 "nbformat": 4,
 "nbformat_minor": 2
}
