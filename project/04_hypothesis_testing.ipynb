{
 "cells": [
  {
   "attachments": {},
   "cell_type": "markdown",
   "metadata": {},
   "source": [
    "# Hypothesis Testing"
   ]
  },
  {
   "attachments": {},
   "cell_type": "markdown",
   "metadata": {},
   "source": [
    "$H_{0}$: There is no difference between the classification accuracy.\n",
    "\n",
    "$H_{A}$: There are differences between the classification accuracy.\n",
    "\n",
    "Significance threshold: $\\alpha = 0.05$\n",
    "\n",
    "This threshold is used to determine if the null hypothesis holds or can be rejected when compared to the p-value:\n",
    "* $p > \\alpha$ &rarr; $H_{0}$ is true\n",
    "* $p \\le \\alpha$ &rarr; $H_{0}$ is false and $H_{A}$ is true"
   ]
  },
  {
   "cell_type": "code",
   "execution_count": null,
   "metadata": {},
   "outputs": [],
   "source": []
  }
 ],
 "metadata": {
  "kernelspec": {
   "display_name": "Python 3",
   "language": "python",
   "name": "python3"
  },
  "language_info": {
   "name": "python",
   "version": "3.10.7 (main, Sep 14 2022, 22:38:23) [Clang 14.0.0 (clang-1400.0.29.102)]"
  },
  "orig_nbformat": 4,
  "vscode": {
   "interpreter": {
    "hash": "b0fa6594d8f4cbf19f97940f81e996739fb7646882a419484c72d19e05852a7e"
   }
  }
 },
 "nbformat": 4,
 "nbformat_minor": 2
}
