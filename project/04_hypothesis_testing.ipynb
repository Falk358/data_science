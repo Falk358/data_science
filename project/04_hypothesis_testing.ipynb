{
 "cells": [
  {
   "cell_type": "code",
   "execution_count": 7,
   "metadata": {},
   "outputs": [],
   "source": [
    "import pandas as pd\n",
    "import numpy as np\n",
    "import seaborn as sns\n",
    "import matplotlib.pyplot as plt\n",
    "import plotly.express as px\n",
    "from mlxtend.evaluate import (\n",
    "    cochrans_q,\n",
    "    mcnemar,\n",
    "    mcnemar_table\n",
    ")\n",
    "from itertools import combinations"
   ]
  },
  {
   "attachments": {},
   "cell_type": "markdown",
   "metadata": {},
   "source": [
    "Prepare data for hypothesis testing."
   ]
  },
  {
   "cell_type": "code",
   "execution_count": 8,
   "metadata": {},
   "outputs": [],
   "source": [
    "df_approach_1 = pd.read_csv(\"../data/classification_results_approach_1.csv\")\n",
    "df_approach_2 = pd.read_csv(\"../data/classification_results_approach_2.csv\")\n",
    "df_approach_3 = pd.read_csv(\"../data/classification_results_approach_3.csv\")"
   ]
  },
  {
   "cell_type": "code",
   "execution_count": null,
   "metadata": {},
   "outputs": [],
   "source": [
    "def get_label_combinations(df):\n",
    "    return list(combinations(df.drop(columns='truth'), 2))\n",
    "\n",
    "def get_value_combinations(listOfValues):\n",
    "    return list(combinations(listOfValues, 2))"
   ]
  },
  {
   "cell_type": "code",
   "execution_count": null,
   "metadata": {},
   "outputs": [],
   "source": [
    "def mcnemar_test(df: pd.DataFrame, values, labels):\n",
    "    print(f\"Comparison of {labels[0]} and {labels[1]}\\n\")\n",
    "\n",
    "    tb = mcnemar_table(\n",
    "        np.array(df['truth']),\n",
    "        np.array(values[0]),\n",
    "        np.array(values[1])\n",
    "    )\n",
    "\n",
    "    print(f\"Confusion matrix:\\n{tb}\\n\")\n",
    "\n",
    "    chi2, p = mcnemar(tb, corrected=True)\n",
    "\n",
    "    print(f\"chi-squared: {chi2:.2f} \\np-value: {p}\")\n",
    "    print(\"----------\")"
   ]
  },
  {
   "attachments": {},
   "cell_type": "markdown",
   "metadata": {},
   "source": [
    "### Approach 1"
   ]
  },
  {
   "cell_type": "code",
   "execution_count": 9,
   "metadata": {},
   "outputs": [
    {
     "data": {
      "text/html": [
       "<div>\n",
       "<style scoped>\n",
       "    .dataframe tbody tr th:only-of-type {\n",
       "        vertical-align: middle;\n",
       "    }\n",
       "\n",
       "    .dataframe tbody tr th {\n",
       "        vertical-align: top;\n",
       "    }\n",
       "\n",
       "    .dataframe thead th {\n",
       "        text-align: right;\n",
       "    }\n",
       "</style>\n",
       "<table border=\"1\" class=\"dataframe\">\n",
       "  <thead>\n",
       "    <tr style=\"text-align: right;\">\n",
       "      <th></th>\n",
       "      <th>truth</th>\n",
       "      <th>svc_linear</th>\n",
       "      <th>svc_poly</th>\n",
       "      <th>poly_reg</th>\n",
       "    </tr>\n",
       "  </thead>\n",
       "  <tbody>\n",
       "    <tr>\n",
       "      <th>0</th>\n",
       "      <td>30</td>\n",
       "      <td>1</td>\n",
       "      <td>1</td>\n",
       "      <td>62.485990</td>\n",
       "    </tr>\n",
       "    <tr>\n",
       "      <th>1</th>\n",
       "      <td>19</td>\n",
       "      <td>13</td>\n",
       "      <td>3</td>\n",
       "      <td>56.882629</td>\n",
       "    </tr>\n",
       "    <tr>\n",
       "      <th>2</th>\n",
       "      <td>115</td>\n",
       "      <td>13</td>\n",
       "      <td>13</td>\n",
       "      <td>60.267201</td>\n",
       "    </tr>\n",
       "    <tr>\n",
       "      <th>3</th>\n",
       "      <td>41</td>\n",
       "      <td>1</td>\n",
       "      <td>1</td>\n",
       "      <td>62.866345</td>\n",
       "    </tr>\n",
       "    <tr>\n",
       "      <th>4</th>\n",
       "      <td>3</td>\n",
       "      <td>13</td>\n",
       "      <td>13</td>\n",
       "      <td>62.268922</td>\n",
       "    </tr>\n",
       "    <tr>\n",
       "      <th>...</th>\n",
       "      <td>...</td>\n",
       "      <td>...</td>\n",
       "      <td>...</td>\n",
       "      <td>...</td>\n",
       "    </tr>\n",
       "    <tr>\n",
       "      <th>305</th>\n",
       "      <td>3</td>\n",
       "      <td>1</td>\n",
       "      <td>1</td>\n",
       "      <td>60.446078</td>\n",
       "    </tr>\n",
       "    <tr>\n",
       "      <th>306</th>\n",
       "      <td>23</td>\n",
       "      <td>1</td>\n",
       "      <td>1</td>\n",
       "      <td>58.477346</td>\n",
       "    </tr>\n",
       "    <tr>\n",
       "      <th>307</th>\n",
       "      <td>132</td>\n",
       "      <td>1</td>\n",
       "      <td>1</td>\n",
       "      <td>62.715579</td>\n",
       "    </tr>\n",
       "    <tr>\n",
       "      <th>308</th>\n",
       "      <td>1</td>\n",
       "      <td>1</td>\n",
       "      <td>1</td>\n",
       "      <td>61.271565</td>\n",
       "    </tr>\n",
       "    <tr>\n",
       "      <th>309</th>\n",
       "      <td>16</td>\n",
       "      <td>1</td>\n",
       "      <td>1</td>\n",
       "      <td>59.652570</td>\n",
       "    </tr>\n",
       "  </tbody>\n",
       "</table>\n",
       "<p>310 rows × 4 columns</p>\n",
       "</div>"
      ],
      "text/plain": [
       "     truth  svc_linear  svc_poly   poly_reg\n",
       "0       30           1         1  62.485990\n",
       "1       19          13         3  56.882629\n",
       "2      115          13        13  60.267201\n",
       "3       41           1         1  62.866345\n",
       "4        3          13        13  62.268922\n",
       "..     ...         ...       ...        ...\n",
       "305      3           1         1  60.446078\n",
       "306     23           1         1  58.477346\n",
       "307    132           1         1  62.715579\n",
       "308      1           1         1  61.271565\n",
       "309     16           1         1  59.652570\n",
       "\n",
       "[310 rows x 4 columns]"
      ]
     },
     "execution_count": 9,
     "metadata": {},
     "output_type": "execute_result"
    }
   ],
   "source": [
    "df_approach_1"
   ]
  },
  {
   "cell_type": "code",
   "execution_count": 57,
   "metadata": {},
   "outputs": [
    {
     "ename": "SyntaxError",
     "evalue": "invalid decimal literal (403049408.py, line 1)",
     "output_type": "error",
     "traceback": [
      "\u001b[0;36m  Cell \u001b[0;32mIn[57], line 1\u001b[0;36m\u001b[0m\n\u001b[0;31m    1_column_names = df_approach_1.columns\u001b[0m\n\u001b[0m     ^\u001b[0m\n\u001b[0;31mSyntaxError\u001b[0m\u001b[0;31m:\u001b[0m invalid decimal literal\n"
     ]
    }
   ],
   "source": [
    "col_names_1 = df_approach_1.columns"
   ]
  },
  {
   "cell_type": "code",
   "execution_count": 56,
   "metadata": {},
   "outputs": [
    {
     "name": "stdout",
     "output_type": "stream",
     "text": [
      "Q (or chi-squared): 12.25 \n",
      "p-value: 0.002187491118182885\n"
     ]
    }
   ],
   "source": [
    "# check cochrans q for multiple classifier\n",
    "q, p = cochrans_q(\n",
    "        np.array(df_approach_1[col_names_1[0]]),\n",
    "        np.array(df_approach_1[col_names_1[1]]),\n",
    "        np.array(df_approach_1[col_names_1[2]]),\n",
    "        np.array(df_approach_1[col_names_1[3]]),\n",
    ")\n",
    "\n",
    "print(f\"Q (or chi-squared): {q:.2f} \\np-value: {p}\")"
   ]
  },
  {
   "cell_type": "code",
   "execution_count": 51,
   "metadata": {},
   "outputs": [],
   "source": [
    "value_list = list()\n",
    "value_list.append(list(df_approach_1[col_names_1[1]]))\n",
    "value_list.append(list(df_approach_1[col_names_1[2]]))\n",
    "value_list.append(list(df_approach_1[col_names_1[3]]))\n",
    "\n",
    "labels = get_label_combinations(df_approach_1)\n",
    "values = get_value_combinations(value_list)"
   ]
  },
  {
   "cell_type": "code",
   "execution_count": 52,
   "metadata": {},
   "outputs": [
    {
     "name": "stdout",
     "output_type": "stream",
     "text": [
      "Comparison of svc_linear and svc_poly\n",
      "\n",
      "Confusion matrix:\n",
      "[[  6   1]\n",
      " [  1 302]]\n",
      "\n",
      "chi-squared: 0.50 \n",
      "p-value: 0.47950012218695337\n",
      "----------\n",
      "Comparison of svc_linear and poly_reg\n",
      "\n",
      "Confusion matrix:\n",
      "[[  0   7]\n",
      " [  0 303]]\n",
      "\n",
      "chi-squared: 5.14 \n",
      "p-value: 0.02334220201289086\n",
      "----------\n",
      "Comparison of svc_poly and poly_reg\n",
      "\n",
      "Confusion matrix:\n",
      "[[  0   7]\n",
      " [  0 303]]\n",
      "\n",
      "chi-squared: 5.14 \n",
      "p-value: 0.02334220201289086\n",
      "----------\n"
     ]
    }
   ],
   "source": [
    "for i in range(len(labels)):\n",
    "    mcnemar_test(df_approach_1, values[i], labels[i])"
   ]
  },
  {
   "attachments": {},
   "cell_type": "markdown",
   "metadata": {},
   "source": [
    "### Approach 2"
   ]
  },
  {
   "cell_type": "code",
   "execution_count": 58,
   "metadata": {},
   "outputs": [
    {
     "data": {
      "text/html": [
       "<div>\n",
       "<style scoped>\n",
       "    .dataframe tbody tr th:only-of-type {\n",
       "        vertical-align: middle;\n",
       "    }\n",
       "\n",
       "    .dataframe tbody tr th {\n",
       "        vertical-align: top;\n",
       "    }\n",
       "\n",
       "    .dataframe thead th {\n",
       "        text-align: right;\n",
       "    }\n",
       "</style>\n",
       "<table border=\"1\" class=\"dataframe\">\n",
       "  <thead>\n",
       "    <tr style=\"text-align: right;\">\n",
       "      <th></th>\n",
       "      <th>truth</th>\n",
       "      <th>SVC_linear</th>\n",
       "      <th>SVC_rbf</th>\n",
       "    </tr>\n",
       "  </thead>\n",
       "  <tbody>\n",
       "    <tr>\n",
       "      <th>0</th>\n",
       "      <td>54</td>\n",
       "      <td>8</td>\n",
       "      <td>8</td>\n",
       "    </tr>\n",
       "    <tr>\n",
       "      <th>1</th>\n",
       "      <td>15</td>\n",
       "      <td>10</td>\n",
       "      <td>1</td>\n",
       "    </tr>\n",
       "    <tr>\n",
       "      <th>2</th>\n",
       "      <td>43</td>\n",
       "      <td>9</td>\n",
       "      <td>9</td>\n",
       "    </tr>\n",
       "    <tr>\n",
       "      <th>3</th>\n",
       "      <td>20</td>\n",
       "      <td>54</td>\n",
       "      <td>5</td>\n",
       "    </tr>\n",
       "    <tr>\n",
       "      <th>4</th>\n",
       "      <td>11</td>\n",
       "      <td>13</td>\n",
       "      <td>10</td>\n",
       "    </tr>\n",
       "    <tr>\n",
       "      <th>...</th>\n",
       "      <td>...</td>\n",
       "      <td>...</td>\n",
       "      <td>...</td>\n",
       "    </tr>\n",
       "    <tr>\n",
       "      <th>305</th>\n",
       "      <td>5</td>\n",
       "      <td>17</td>\n",
       "      <td>17</td>\n",
       "    </tr>\n",
       "    <tr>\n",
       "      <th>306</th>\n",
       "      <td>1</td>\n",
       "      <td>20</td>\n",
       "      <td>20</td>\n",
       "    </tr>\n",
       "    <tr>\n",
       "      <th>307</th>\n",
       "      <td>136</td>\n",
       "      <td>85</td>\n",
       "      <td>9</td>\n",
       "    </tr>\n",
       "    <tr>\n",
       "      <th>308</th>\n",
       "      <td>14</td>\n",
       "      <td>23</td>\n",
       "      <td>23</td>\n",
       "    </tr>\n",
       "    <tr>\n",
       "      <th>309</th>\n",
       "      <td>14</td>\n",
       "      <td>23</td>\n",
       "      <td>23</td>\n",
       "    </tr>\n",
       "  </tbody>\n",
       "</table>\n",
       "<p>310 rows × 3 columns</p>\n",
       "</div>"
      ],
      "text/plain": [
       "     truth  SVC_linear  SVC_rbf\n",
       "0       54           8        8\n",
       "1       15          10        1\n",
       "2       43           9        9\n",
       "3       20          54        5\n",
       "4       11          13       10\n",
       "..     ...         ...      ...\n",
       "305      5          17       17\n",
       "306      1          20       20\n",
       "307    136          85        9\n",
       "308     14          23       23\n",
       "309     14          23       23\n",
       "\n",
       "[310 rows x 3 columns]"
      ]
     },
     "execution_count": 58,
     "metadata": {},
     "output_type": "execute_result"
    }
   ],
   "source": [
    "df_approach_2"
   ]
  },
  {
   "cell_type": "code",
   "execution_count": 60,
   "metadata": {},
   "outputs": [
    {
     "data": {
      "text/plain": [
       "Index(['truth', 'SVC_linear', 'SVC_rbf'], dtype='object')"
      ]
     },
     "execution_count": 60,
     "metadata": {},
     "output_type": "execute_result"
    }
   ],
   "source": [
    "col_names_2 = df_approach_2.columns\n",
    "col_names_2"
   ]
  },
  {
   "cell_type": "code",
   "execution_count": 61,
   "metadata": {},
   "outputs": [],
   "source": [
    "value_list = list()\n",
    "value_list.append(df_approach_2[col_names_2[1]])\n",
    "value_list.append(df_approach_2[col_names_2[2]])"
   ]
  },
  {
   "cell_type": "code",
   "execution_count": 63,
   "metadata": {},
   "outputs": [
    {
     "name": "stdout",
     "output_type": "stream",
     "text": [
      "Comparison of SVC_linear and SVC_rbf\n",
      "\n",
      "Confusion matrix:\n",
      "[[  2   2]\n",
      " [  4 302]]\n",
      "\n",
      "chi-squared: 0.17 \n",
      "p-value: 0.6830913983096086\n",
      "----------\n"
     ]
    }
   ],
   "source": [
    "labels = get_label_combinations(df_approach_2)\n",
    "values = get_value_combinations(value_list)\n",
    "\n",
    "for i in range(len(labels)):\n",
    "    mcnemar_test(df_approach_2, values[i], labels[i])"
   ]
  },
  {
   "attachments": {},
   "cell_type": "markdown",
   "metadata": {},
   "source": [
    "### Approach 3"
   ]
  },
  {
   "cell_type": "code",
   "execution_count": 65,
   "metadata": {},
   "outputs": [
    {
     "data": {
      "text/html": [
       "<div>\n",
       "<style scoped>\n",
       "    .dataframe tbody tr th:only-of-type {\n",
       "        vertical-align: middle;\n",
       "    }\n",
       "\n",
       "    .dataframe tbody tr th {\n",
       "        vertical-align: top;\n",
       "    }\n",
       "\n",
       "    .dataframe thead th {\n",
       "        text-align: right;\n",
       "    }\n",
       "</style>\n",
       "<table border=\"1\" class=\"dataframe\">\n",
       "  <thead>\n",
       "    <tr style=\"text-align: right;\">\n",
       "      <th></th>\n",
       "      <th>truth</th>\n",
       "      <th>svm_linear</th>\n",
       "      <th>svm_poly</th>\n",
       "      <th>logistic_regression</th>\n",
       "      <th>k_nearest_neighbour</th>\n",
       "    </tr>\n",
       "  </thead>\n",
       "  <tbody>\n",
       "    <tr>\n",
       "      <th>0</th>\n",
       "      <td>MOVE_UP</td>\n",
       "      <td>MOVE_UP</td>\n",
       "      <td>MOVE_UP</td>\n",
       "      <td>MOVE_UP</td>\n",
       "      <td>MOVE_UP</td>\n",
       "    </tr>\n",
       "    <tr>\n",
       "      <th>1</th>\n",
       "      <td>NEW_ENTRY</td>\n",
       "      <td>MOVE_UP</td>\n",
       "      <td>MOVE_UP</td>\n",
       "      <td>MOVE_UP</td>\n",
       "      <td>MOVE_DOWN</td>\n",
       "    </tr>\n",
       "    <tr>\n",
       "      <th>2</th>\n",
       "      <td>MOVE_DOWN</td>\n",
       "      <td>MOVE_UP</td>\n",
       "      <td>MOVE_UP</td>\n",
       "      <td>MOVE_UP</td>\n",
       "      <td>MOVE_DOWN</td>\n",
       "    </tr>\n",
       "    <tr>\n",
       "      <th>3</th>\n",
       "      <td>MOVE_UP</td>\n",
       "      <td>MOVE_UP</td>\n",
       "      <td>MOVE_UP</td>\n",
       "      <td>MOVE_UP</td>\n",
       "      <td>MOVE_UP</td>\n",
       "    </tr>\n",
       "    <tr>\n",
       "      <th>4</th>\n",
       "      <td>MOVE_UP</td>\n",
       "      <td>MOVE_UP</td>\n",
       "      <td>MOVE_UP</td>\n",
       "      <td>MOVE_UP</td>\n",
       "      <td>MOVE_UP</td>\n",
       "    </tr>\n",
       "    <tr>\n",
       "      <th>...</th>\n",
       "      <td>...</td>\n",
       "      <td>...</td>\n",
       "      <td>...</td>\n",
       "      <td>...</td>\n",
       "      <td>...</td>\n",
       "    </tr>\n",
       "    <tr>\n",
       "      <th>305</th>\n",
       "      <td>MOVE_DOWN</td>\n",
       "      <td>MOVE_UP</td>\n",
       "      <td>MOVE_UP</td>\n",
       "      <td>MOVE_UP</td>\n",
       "      <td>MOVE_UP</td>\n",
       "    </tr>\n",
       "    <tr>\n",
       "      <th>306</th>\n",
       "      <td>MOVE_DOWN</td>\n",
       "      <td>MOVE_UP</td>\n",
       "      <td>MOVE_UP</td>\n",
       "      <td>MOVE_UP</td>\n",
       "      <td>MOVE_UP</td>\n",
       "    </tr>\n",
       "    <tr>\n",
       "      <th>307</th>\n",
       "      <td>MOVE_UP</td>\n",
       "      <td>MOVE_UP</td>\n",
       "      <td>MOVE_UP</td>\n",
       "      <td>MOVE_UP</td>\n",
       "      <td>MOVE_UP</td>\n",
       "    </tr>\n",
       "    <tr>\n",
       "      <th>308</th>\n",
       "      <td>MOVE_UP</td>\n",
       "      <td>MOVE_UP</td>\n",
       "      <td>MOVE_UP</td>\n",
       "      <td>MOVE_UP</td>\n",
       "      <td>MOVE_DOWN</td>\n",
       "    </tr>\n",
       "    <tr>\n",
       "      <th>309</th>\n",
       "      <td>MOVE_UP</td>\n",
       "      <td>MOVE_UP</td>\n",
       "      <td>MOVE_UP</td>\n",
       "      <td>MOVE_UP</td>\n",
       "      <td>MOVE_UP</td>\n",
       "    </tr>\n",
       "  </tbody>\n",
       "</table>\n",
       "<p>310 rows × 5 columns</p>\n",
       "</div>"
      ],
      "text/plain": [
       "         truth svm_linear svm_poly logistic_regression k_nearest_neighbour\n",
       "0      MOVE_UP    MOVE_UP  MOVE_UP             MOVE_UP             MOVE_UP\n",
       "1    NEW_ENTRY    MOVE_UP  MOVE_UP             MOVE_UP           MOVE_DOWN\n",
       "2    MOVE_DOWN    MOVE_UP  MOVE_UP             MOVE_UP           MOVE_DOWN\n",
       "3      MOVE_UP    MOVE_UP  MOVE_UP             MOVE_UP             MOVE_UP\n",
       "4      MOVE_UP    MOVE_UP  MOVE_UP             MOVE_UP             MOVE_UP\n",
       "..         ...        ...      ...                 ...                 ...\n",
       "305  MOVE_DOWN    MOVE_UP  MOVE_UP             MOVE_UP             MOVE_UP\n",
       "306  MOVE_DOWN    MOVE_UP  MOVE_UP             MOVE_UP             MOVE_UP\n",
       "307    MOVE_UP    MOVE_UP  MOVE_UP             MOVE_UP             MOVE_UP\n",
       "308    MOVE_UP    MOVE_UP  MOVE_UP             MOVE_UP           MOVE_DOWN\n",
       "309    MOVE_UP    MOVE_UP  MOVE_UP             MOVE_UP             MOVE_UP\n",
       "\n",
       "[310 rows x 5 columns]"
      ]
     },
     "execution_count": 65,
     "metadata": {},
     "output_type": "execute_result"
    }
   ],
   "source": [
    "df_approach_3"
   ]
  },
  {
   "cell_type": "code",
   "execution_count": 64,
   "metadata": {},
   "outputs": [
    {
     "data": {
      "text/plain": [
       "Index(['truth', 'svm_linear', 'svm_poly', 'logistic_regression',\n",
       "       'k_nearest_neighbour'],\n",
       "      dtype='object')"
      ]
     },
     "execution_count": 64,
     "metadata": {},
     "output_type": "execute_result"
    }
   ],
   "source": [
    "col_names_3 = df_approach_3.columns\n",
    "col_names_3"
   ]
  },
  {
   "cell_type": "code",
   "execution_count": null,
   "metadata": {},
   "outputs": [],
   "source": [
    "# cochrans q\n"
   ]
  },
  {
   "cell_type": "code",
   "execution_count": null,
   "metadata": {},
   "outputs": [],
   "source": [
    "# prepare list of values"
   ]
  },
  {
   "cell_type": "code",
   "execution_count": null,
   "metadata": {},
   "outputs": [],
   "source": [
    "# mcnemar "
   ]
  },
  {
   "attachments": {},
   "cell_type": "markdown",
   "metadata": {},
   "source": [
    "# Hypothesis Testing\n",
    "TODO: extend for every approach"
   ]
  },
  {
   "attachments": {},
   "cell_type": "markdown",
   "metadata": {},
   "source": [
    "$H_{0}$: There is no difference between the classification accuracy.\n",
    "\n",
    "$H_{A}$: There are differences between the classification accuracy.\n",
    "\n",
    "Significance threshold: $\\alpha = 0.05$\n",
    "\n",
    "This threshold is used to determine if the null hypothesis holds or can be rejected when compared to the p-value:\n",
    "* $p > \\alpha$ &rarr; $H_{0}$ is true\n",
    "* $p \\le \\alpha$ &rarr; $H_{0}$ is false and $H_{A}$ is true"
   ]
  },
  {
   "cell_type": "code",
   "execution_count": null,
   "metadata": {},
   "outputs": [],
   "source": []
  }
 ],
 "metadata": {
  "kernelspec": {
   "display_name": "data_science-KAJshHcW",
   "language": "python",
   "name": "python3"
  },
  "language_info": {
   "codemirror_mode": {
    "name": "ipython",
    "version": 3
   },
   "file_extension": ".py",
   "mimetype": "text/x-python",
   "name": "python",
   "nbconvert_exporter": "python",
   "pygments_lexer": "ipython3",
   "version": "3.10.8"
  },
  "orig_nbformat": 4,
  "vscode": {
   "interpreter": {
    "hash": "f61987012e95579f15b76b6055fc10f27f089c62b53f4f9b5f29276fb7764d62"
   }
  }
 },
 "nbformat": 4,
 "nbformat_minor": 2
}
