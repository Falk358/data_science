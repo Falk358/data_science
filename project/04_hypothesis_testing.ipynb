{
 "cells": [
  {
   "attachments": {},
   "cell_type": "markdown",
   "metadata": {},
   "source": [
    "Imports and methods:"
   ]
  },
  {
   "cell_type": "code",
   "execution_count": 25,
   "metadata": {},
   "outputs": [],
   "source": [
    "import pandas as pd\n",
    "import numpy as np\n",
    "import seaborn as sns\n",
    "import matplotlib.pyplot as plt\n",
    "import plotly.express as px\n",
    "from mlxtend.evaluate import (\n",
    "    cochrans_q,\n",
    "    mcnemar,\n",
    "    mcnemar_table\n",
    ")\n",
    "from itertools import combinations"
   ]
  },
  {
   "cell_type": "code",
   "execution_count": 26,
   "metadata": {},
   "outputs": [],
   "source": [
    "def get_label_combinations(df):\n",
    "    return list(combinations(df.drop(columns='truth'), 2))\n",
    "\n",
    "def get_value_combinations(listOfValues):\n",
    "    return list(combinations(listOfValues, 2))"
   ]
  },
  {
   "cell_type": "code",
   "execution_count": 27,
   "metadata": {},
   "outputs": [],
   "source": [
    "def mcnemar_test(df: pd.DataFrame, values, labels):\n",
    "    print(f\"Comparison of {labels[0]} and {labels[1]}\\n\")\n",
    "\n",
    "    tb = mcnemar_table(\n",
    "        np.array(df['truth']),\n",
    "        np.array(values[0]),\n",
    "        np.array(values[1])\n",
    "    )\n",
    "\n",
    "    print(f\"Confusion matrix:\\n{tb}\\n\")\n",
    "\n",
    "    chi2, p = mcnemar(tb, corrected=True)\n",
    "\n",
    "    print(f\"chi-squared: {chi2:.2f} \\np-value: {p}\")\n",
    "    print(\"----------\")"
   ]
  },
  {
   "attachments": {},
   "cell_type": "markdown",
   "metadata": {},
   "source": [
    "# Hypothesis Testing\n",
    "We try to find any statistical significance between our applied classifier models on each approach. For every approach, we are using the same null and alternative hypothesis because we want to see if the classification results differ."
   ]
  },
  {
   "attachments": {},
   "cell_type": "markdown",
   "metadata": {},
   "source": [
    "## Null and alternative hypothesis\n",
    "\n",
    "$H_{0}$: There is no difference between the classification accuracy.\n",
    "\n",
    "$H_{A}$: There are differences between the classification accuracy.\n",
    "\n",
    "Significance threshold: $\\alpha = 0.05$\n",
    "\n",
    "This threshold is used to determine if the null hypothesis holds or can be rejected when compared to the p-value:\n",
    "* $p > \\alpha$ &rarr; $H_{0}$ is true\n",
    "* $p \\le \\alpha$ &rarr; $H_{0}$ is false and $H_{A}$ is true"
   ]
  },
  {
   "attachments": {},
   "cell_type": "markdown",
   "metadata": {},
   "source": [
    "First, we prepare data for hypothesis testing from the csv exports we did in \"03_prediction.ipynb\"."
   ]
  },
  {
   "cell_type": "code",
   "execution_count": 28,
   "metadata": {},
   "outputs": [],
   "source": [
    "df_approach_1 = pd.read_csv(\"../data/classification_results_approach_1.csv\")\n",
    "df_approach_2 = pd.read_csv(\"../data/classification_results_approach_2.csv\")\n",
    "df_approach_3 = pd.read_csv(\"../data/classification_results_approach_3.csv\")"
   ]
  },
  {
   "attachments": {},
   "cell_type": "markdown",
   "metadata": {},
   "source": [
    "### Approach 1"
   ]
  },
  {
   "cell_type": "code",
   "execution_count": 29,
   "metadata": {},
   "outputs": [
    {
     "data": {
      "text/html": [
       "<div>\n",
       "<style scoped>\n",
       "    .dataframe tbody tr th:only-of-type {\n",
       "        vertical-align: middle;\n",
       "    }\n",
       "\n",
       "    .dataframe tbody tr th {\n",
       "        vertical-align: top;\n",
       "    }\n",
       "\n",
       "    .dataframe thead th {\n",
       "        text-align: right;\n",
       "    }\n",
       "</style>\n",
       "<table border=\"1\" class=\"dataframe\">\n",
       "  <thead>\n",
       "    <tr style=\"text-align: right;\">\n",
       "      <th></th>\n",
       "      <th>truth</th>\n",
       "      <th>svc_linear</th>\n",
       "      <th>svc_poly</th>\n",
       "      <th>poly_reg</th>\n",
       "    </tr>\n",
       "  </thead>\n",
       "  <tbody>\n",
       "    <tr>\n",
       "      <th>0</th>\n",
       "      <td>30</td>\n",
       "      <td>1</td>\n",
       "      <td>1</td>\n",
       "      <td>62.485990</td>\n",
       "    </tr>\n",
       "    <tr>\n",
       "      <th>1</th>\n",
       "      <td>19</td>\n",
       "      <td>13</td>\n",
       "      <td>3</td>\n",
       "      <td>56.882629</td>\n",
       "    </tr>\n",
       "    <tr>\n",
       "      <th>2</th>\n",
       "      <td>115</td>\n",
       "      <td>13</td>\n",
       "      <td>13</td>\n",
       "      <td>60.267201</td>\n",
       "    </tr>\n",
       "    <tr>\n",
       "      <th>3</th>\n",
       "      <td>41</td>\n",
       "      <td>1</td>\n",
       "      <td>1</td>\n",
       "      <td>62.866345</td>\n",
       "    </tr>\n",
       "    <tr>\n",
       "      <th>4</th>\n",
       "      <td>3</td>\n",
       "      <td>13</td>\n",
       "      <td>13</td>\n",
       "      <td>62.268922</td>\n",
       "    </tr>\n",
       "    <tr>\n",
       "      <th>...</th>\n",
       "      <td>...</td>\n",
       "      <td>...</td>\n",
       "      <td>...</td>\n",
       "      <td>...</td>\n",
       "    </tr>\n",
       "    <tr>\n",
       "      <th>305</th>\n",
       "      <td>3</td>\n",
       "      <td>1</td>\n",
       "      <td>1</td>\n",
       "      <td>60.446078</td>\n",
       "    </tr>\n",
       "    <tr>\n",
       "      <th>306</th>\n",
       "      <td>23</td>\n",
       "      <td>1</td>\n",
       "      <td>1</td>\n",
       "      <td>58.477346</td>\n",
       "    </tr>\n",
       "    <tr>\n",
       "      <th>307</th>\n",
       "      <td>132</td>\n",
       "      <td>1</td>\n",
       "      <td>1</td>\n",
       "      <td>62.715579</td>\n",
       "    </tr>\n",
       "    <tr>\n",
       "      <th>308</th>\n",
       "      <td>1</td>\n",
       "      <td>1</td>\n",
       "      <td>1</td>\n",
       "      <td>61.271565</td>\n",
       "    </tr>\n",
       "    <tr>\n",
       "      <th>309</th>\n",
       "      <td>16</td>\n",
       "      <td>1</td>\n",
       "      <td>1</td>\n",
       "      <td>59.652570</td>\n",
       "    </tr>\n",
       "  </tbody>\n",
       "</table>\n",
       "<p>310 rows × 4 columns</p>\n",
       "</div>"
      ],
      "text/plain": [
       "     truth  svc_linear  svc_poly   poly_reg\n",
       "0       30           1         1  62.485990\n",
       "1       19          13         3  56.882629\n",
       "2      115          13        13  60.267201\n",
       "3       41           1         1  62.866345\n",
       "4        3          13        13  62.268922\n",
       "..     ...         ...       ...        ...\n",
       "305      3           1         1  60.446078\n",
       "306     23           1         1  58.477346\n",
       "307    132           1         1  62.715579\n",
       "308      1           1         1  61.271565\n",
       "309     16           1         1  59.652570\n",
       "\n",
       "[310 rows x 4 columns]"
      ]
     },
     "execution_count": 29,
     "metadata": {},
     "output_type": "execute_result"
    }
   ],
   "source": [
    "df_approach_1"
   ]
  },
  {
   "cell_type": "code",
   "execution_count": 30,
   "metadata": {},
   "outputs": [
    {
     "name": "stdout",
     "output_type": "stream",
     "text": [
      "Labels for approach 1: ['truth' 'svc_linear' 'svc_poly' 'poly_reg']\n"
     ]
    }
   ],
   "source": [
    "col_names_1 = df_approach_1.columns\n",
    "print(f'Labels for approach 1: {col_names_1.values}')"
   ]
  },
  {
   "attachments": {},
   "cell_type": "markdown",
   "metadata": {},
   "source": [
    "Since we used more than two classifier models, we can first check for statistical difference with `Cochrans Q`."
   ]
  },
  {
   "cell_type": "code",
   "execution_count": 31,
   "metadata": {},
   "outputs": [
    {
     "name": "stdout",
     "output_type": "stream",
     "text": [
      "Q (or chi-squared): 12.25 \n",
      "p-value: 0.002187491118182885\n"
     ]
    }
   ],
   "source": [
    "q_1, p_1 = cochrans_q(\n",
    "        np.array(df_approach_1[col_names_1[0]]),\n",
    "        np.array(df_approach_1[col_names_1[1]]),\n",
    "        np.array(df_approach_1[col_names_1[2]]),\n",
    "        np.array(df_approach_1[col_names_1[3]]),\n",
    ")\n",
    "\n",
    "print(f\"Q (or chi-squared): {q_1:.2f} \\np-value: {p_1}\")"
   ]
  },
  {
   "attachments": {},
   "cell_type": "markdown",
   "metadata": {},
   "source": [
    "The results show, that $p \\le \\alpha$ and therefore we can reject our null hypothesis. We can conclude, that we have a difference in classification accuracy!\n",
    "\n",
    "In order to find the \"best\" classifier model, we use `McNemar` to compare the models pairwise."
   ]
  },
  {
   "cell_type": "code",
   "execution_count": 32,
   "metadata": {},
   "outputs": [],
   "source": [
    "# prepare list of possible combinations\n",
    "value_list = list()\n",
    "value_list.append(list(df_approach_1[col_names_1[1]]))\n",
    "value_list.append(list(df_approach_1[col_names_1[2]]))\n",
    "value_list.append(list(df_approach_1[col_names_1[3]]))\n",
    "\n",
    "labels = get_label_combinations(df_approach_1)\n",
    "values = get_value_combinations(value_list)"
   ]
  },
  {
   "cell_type": "code",
   "execution_count": 33,
   "metadata": {},
   "outputs": [
    {
     "name": "stdout",
     "output_type": "stream",
     "text": [
      "Comparison of svc_linear and svc_poly\n",
      "\n",
      "Confusion matrix:\n",
      "[[  6   1]\n",
      " [  1 302]]\n",
      "\n",
      "chi-squared: 0.50 \n",
      "p-value: 0.47950012218695337\n",
      "----------\n",
      "Comparison of svc_linear and poly_reg\n",
      "\n",
      "Confusion matrix:\n",
      "[[  0   7]\n",
      " [  0 303]]\n",
      "\n",
      "chi-squared: 5.14 \n",
      "p-value: 0.02334220201289086\n",
      "----------\n",
      "Comparison of svc_poly and poly_reg\n",
      "\n",
      "Confusion matrix:\n",
      "[[  0   7]\n",
      " [  0 303]]\n",
      "\n",
      "chi-squared: 5.14 \n",
      "p-value: 0.02334220201289086\n",
      "----------\n"
     ]
    }
   ],
   "source": [
    "for i in range(len(labels)):\n",
    "    mcnemar_test(df_approach_1, values[i], labels[i])"
   ]
  },
  {
   "attachments": {},
   "cell_type": "markdown",
   "metadata": {},
   "source": [
    "**SVC linear vs. SVC polynomial**\n",
    "\n",
    "Here, we have $p > \\alpha$ and therefore we can conduct that the null hypothesis is correct and we have no statistical difference between these two models.\n",
    "\n",
    "**SVC linear vs. Polynomial regression**\n",
    "\n",
    "With $p \\le \\alpha$, the alternative hypothesis would be correct, but looking at the confusion matrix scores SVC linear predicted 7 labels correctly where Polynomial regression predicted wrong. Now, we can assume that SVC linear is 'better'.\n",
    "\n",
    "**SVC polynomial vs. Polynomial regression**\n",
    "\n",
    "Has the same results as the comparison of SVC polynomial and Polynomial regression. Since, SVC linear and SVC polynomial result in no significant statistical difference, we can also assume, that SVC polynomial is 'better' as Polynomial regression.\n",
    "\n",
    "**Result**\n",
    "\n",
    "$SVClinear = SVCpolynomial > PolynomialRegression$, which is a tie for the best classification for SVC linear and SVC polynomial for Approach 1."
   ]
  },
  {
   "attachments": {},
   "cell_type": "markdown",
   "metadata": {},
   "source": [
    "### Approach 2"
   ]
  },
  {
   "cell_type": "code",
   "execution_count": 34,
   "metadata": {},
   "outputs": [
    {
     "data": {
      "text/html": [
       "<div>\n",
       "<style scoped>\n",
       "    .dataframe tbody tr th:only-of-type {\n",
       "        vertical-align: middle;\n",
       "    }\n",
       "\n",
       "    .dataframe tbody tr th {\n",
       "        vertical-align: top;\n",
       "    }\n",
       "\n",
       "    .dataframe thead th {\n",
       "        text-align: right;\n",
       "    }\n",
       "</style>\n",
       "<table border=\"1\" class=\"dataframe\">\n",
       "  <thead>\n",
       "    <tr style=\"text-align: right;\">\n",
       "      <th></th>\n",
       "      <th>truth</th>\n",
       "      <th>SVC_linear</th>\n",
       "      <th>SVC_rbf</th>\n",
       "    </tr>\n",
       "  </thead>\n",
       "  <tbody>\n",
       "    <tr>\n",
       "      <th>0</th>\n",
       "      <td>54</td>\n",
       "      <td>8</td>\n",
       "      <td>8</td>\n",
       "    </tr>\n",
       "    <tr>\n",
       "      <th>1</th>\n",
       "      <td>15</td>\n",
       "      <td>10</td>\n",
       "      <td>1</td>\n",
       "    </tr>\n",
       "    <tr>\n",
       "      <th>2</th>\n",
       "      <td>43</td>\n",
       "      <td>9</td>\n",
       "      <td>9</td>\n",
       "    </tr>\n",
       "    <tr>\n",
       "      <th>3</th>\n",
       "      <td>20</td>\n",
       "      <td>54</td>\n",
       "      <td>5</td>\n",
       "    </tr>\n",
       "    <tr>\n",
       "      <th>4</th>\n",
       "      <td>11</td>\n",
       "      <td>13</td>\n",
       "      <td>10</td>\n",
       "    </tr>\n",
       "    <tr>\n",
       "      <th>...</th>\n",
       "      <td>...</td>\n",
       "      <td>...</td>\n",
       "      <td>...</td>\n",
       "    </tr>\n",
       "    <tr>\n",
       "      <th>305</th>\n",
       "      <td>5</td>\n",
       "      <td>17</td>\n",
       "      <td>17</td>\n",
       "    </tr>\n",
       "    <tr>\n",
       "      <th>306</th>\n",
       "      <td>1</td>\n",
       "      <td>20</td>\n",
       "      <td>20</td>\n",
       "    </tr>\n",
       "    <tr>\n",
       "      <th>307</th>\n",
       "      <td>136</td>\n",
       "      <td>85</td>\n",
       "      <td>9</td>\n",
       "    </tr>\n",
       "    <tr>\n",
       "      <th>308</th>\n",
       "      <td>14</td>\n",
       "      <td>23</td>\n",
       "      <td>23</td>\n",
       "    </tr>\n",
       "    <tr>\n",
       "      <th>309</th>\n",
       "      <td>14</td>\n",
       "      <td>23</td>\n",
       "      <td>23</td>\n",
       "    </tr>\n",
       "  </tbody>\n",
       "</table>\n",
       "<p>310 rows × 3 columns</p>\n",
       "</div>"
      ],
      "text/plain": [
       "     truth  SVC_linear  SVC_rbf\n",
       "0       54           8        8\n",
       "1       15          10        1\n",
       "2       43           9        9\n",
       "3       20          54        5\n",
       "4       11          13       10\n",
       "..     ...         ...      ...\n",
       "305      5          17       17\n",
       "306      1          20       20\n",
       "307    136          85        9\n",
       "308     14          23       23\n",
       "309     14          23       23\n",
       "\n",
       "[310 rows x 3 columns]"
      ]
     },
     "execution_count": 34,
     "metadata": {},
     "output_type": "execute_result"
    }
   ],
   "source": [
    "df_approach_2"
   ]
  },
  {
   "cell_type": "code",
   "execution_count": 35,
   "metadata": {},
   "outputs": [
    {
     "name": "stdout",
     "output_type": "stream",
     "text": [
      "Labels for approach 2: ['truth' 'SVC_linear' 'SVC_rbf']\n"
     ]
    }
   ],
   "source": [
    "col_names_2 = df_approach_2.columns\n",
    "print(f'Labels for approach 2: {col_names_2.values}')"
   ]
  },
  {
   "attachments": {},
   "cell_type": "markdown",
   "metadata": {},
   "source": [
    "Here, we only have two classifier to compare. Since, the analysis with `Cochrans Q` and `McNemar` for two models results in the same results, we just use `McNemar` approach 2."
   ]
  },
  {
   "cell_type": "code",
   "execution_count": 36,
   "metadata": {},
   "outputs": [],
   "source": [
    "# prepare list for McNemar\n",
    "value_list = list()\n",
    "value_list.append(df_approach_2[col_names_2[1]])\n",
    "value_list.append(df_approach_2[col_names_2[2]])\n",
    "\n",
    "labels = get_label_combinations(df_approach_2)\n",
    "values = get_value_combinations(value_list)"
   ]
  },
  {
   "cell_type": "code",
   "execution_count": 37,
   "metadata": {},
   "outputs": [
    {
     "name": "stdout",
     "output_type": "stream",
     "text": [
      "Comparison of SVC_linear and SVC_rbf\n",
      "\n",
      "Confusion matrix:\n",
      "[[  2   2]\n",
      " [  4 302]]\n",
      "\n",
      "chi-squared: 0.17 \n",
      "p-value: 0.6830913983096086\n",
      "----------\n"
     ]
    }
   ],
   "source": [
    "for i in range(len(labels)):\n",
    "    mcnemar_test(df_approach_2, values[i], labels[i])"
   ]
  },
  {
   "attachments": {},
   "cell_type": "markdown",
   "metadata": {},
   "source": [
    "**SVC linear vs. SVC rbf**\n",
    "\n",
    "Here, we have $p > \\alpha$ and therefore we can conduct that the null hypothesis is correct and we have no statistical difference between these two models. When looking at the confusion matrix, we can see, that SVC linear successfully predicted 2 labels, while SVC rbf got 4 labels correct. This indicates that SVC rbf is better, but since null hypothesis holds, we conduct for no significance difference (also, because the overall results are not great).\n",
    "\n",
    "**Result**\n",
    "Both classifier have equally performance and therefore we end up in a tie ($SVClinear = SVCrbf$) for approach 2."
   ]
  },
  {
   "attachments": {},
   "cell_type": "markdown",
   "metadata": {},
   "source": [
    "### Approach 3"
   ]
  },
  {
   "cell_type": "code",
   "execution_count": 38,
   "metadata": {},
   "outputs": [
    {
     "data": {
      "text/html": [
       "<div>\n",
       "<style scoped>\n",
       "    .dataframe tbody tr th:only-of-type {\n",
       "        vertical-align: middle;\n",
       "    }\n",
       "\n",
       "    .dataframe tbody tr th {\n",
       "        vertical-align: top;\n",
       "    }\n",
       "\n",
       "    .dataframe thead th {\n",
       "        text-align: right;\n",
       "    }\n",
       "</style>\n",
       "<table border=\"1\" class=\"dataframe\">\n",
       "  <thead>\n",
       "    <tr style=\"text-align: right;\">\n",
       "      <th></th>\n",
       "      <th>truth</th>\n",
       "      <th>svm_linear</th>\n",
       "      <th>svm_poly</th>\n",
       "      <th>logistic_regression</th>\n",
       "      <th>k_nearest_neighbour</th>\n",
       "    </tr>\n",
       "  </thead>\n",
       "  <tbody>\n",
       "    <tr>\n",
       "      <th>0</th>\n",
       "      <td>MOVE_UP</td>\n",
       "      <td>MOVE_UP</td>\n",
       "      <td>MOVE_UP</td>\n",
       "      <td>MOVE_UP</td>\n",
       "      <td>MOVE_UP</td>\n",
       "    </tr>\n",
       "    <tr>\n",
       "      <th>1</th>\n",
       "      <td>NEW_ENTRY</td>\n",
       "      <td>MOVE_UP</td>\n",
       "      <td>MOVE_UP</td>\n",
       "      <td>MOVE_UP</td>\n",
       "      <td>MOVE_DOWN</td>\n",
       "    </tr>\n",
       "    <tr>\n",
       "      <th>2</th>\n",
       "      <td>MOVE_DOWN</td>\n",
       "      <td>MOVE_UP</td>\n",
       "      <td>MOVE_UP</td>\n",
       "      <td>MOVE_UP</td>\n",
       "      <td>MOVE_DOWN</td>\n",
       "    </tr>\n",
       "    <tr>\n",
       "      <th>3</th>\n",
       "      <td>MOVE_UP</td>\n",
       "      <td>MOVE_UP</td>\n",
       "      <td>MOVE_UP</td>\n",
       "      <td>MOVE_UP</td>\n",
       "      <td>MOVE_UP</td>\n",
       "    </tr>\n",
       "    <tr>\n",
       "      <th>4</th>\n",
       "      <td>MOVE_UP</td>\n",
       "      <td>MOVE_UP</td>\n",
       "      <td>MOVE_UP</td>\n",
       "      <td>MOVE_UP</td>\n",
       "      <td>MOVE_UP</td>\n",
       "    </tr>\n",
       "    <tr>\n",
       "      <th>...</th>\n",
       "      <td>...</td>\n",
       "      <td>...</td>\n",
       "      <td>...</td>\n",
       "      <td>...</td>\n",
       "      <td>...</td>\n",
       "    </tr>\n",
       "    <tr>\n",
       "      <th>305</th>\n",
       "      <td>MOVE_DOWN</td>\n",
       "      <td>MOVE_UP</td>\n",
       "      <td>MOVE_UP</td>\n",
       "      <td>MOVE_UP</td>\n",
       "      <td>MOVE_UP</td>\n",
       "    </tr>\n",
       "    <tr>\n",
       "      <th>306</th>\n",
       "      <td>MOVE_DOWN</td>\n",
       "      <td>MOVE_UP</td>\n",
       "      <td>MOVE_UP</td>\n",
       "      <td>MOVE_UP</td>\n",
       "      <td>MOVE_UP</td>\n",
       "    </tr>\n",
       "    <tr>\n",
       "      <th>307</th>\n",
       "      <td>MOVE_UP</td>\n",
       "      <td>MOVE_UP</td>\n",
       "      <td>MOVE_UP</td>\n",
       "      <td>MOVE_UP</td>\n",
       "      <td>MOVE_UP</td>\n",
       "    </tr>\n",
       "    <tr>\n",
       "      <th>308</th>\n",
       "      <td>MOVE_UP</td>\n",
       "      <td>MOVE_UP</td>\n",
       "      <td>MOVE_UP</td>\n",
       "      <td>MOVE_UP</td>\n",
       "      <td>MOVE_DOWN</td>\n",
       "    </tr>\n",
       "    <tr>\n",
       "      <th>309</th>\n",
       "      <td>MOVE_UP</td>\n",
       "      <td>MOVE_UP</td>\n",
       "      <td>MOVE_UP</td>\n",
       "      <td>MOVE_UP</td>\n",
       "      <td>MOVE_UP</td>\n",
       "    </tr>\n",
       "  </tbody>\n",
       "</table>\n",
       "<p>310 rows × 5 columns</p>\n",
       "</div>"
      ],
      "text/plain": [
       "         truth svm_linear svm_poly logistic_regression k_nearest_neighbour\n",
       "0      MOVE_UP    MOVE_UP  MOVE_UP             MOVE_UP             MOVE_UP\n",
       "1    NEW_ENTRY    MOVE_UP  MOVE_UP             MOVE_UP           MOVE_DOWN\n",
       "2    MOVE_DOWN    MOVE_UP  MOVE_UP             MOVE_UP           MOVE_DOWN\n",
       "3      MOVE_UP    MOVE_UP  MOVE_UP             MOVE_UP             MOVE_UP\n",
       "4      MOVE_UP    MOVE_UP  MOVE_UP             MOVE_UP             MOVE_UP\n",
       "..         ...        ...      ...                 ...                 ...\n",
       "305  MOVE_DOWN    MOVE_UP  MOVE_UP             MOVE_UP             MOVE_UP\n",
       "306  MOVE_DOWN    MOVE_UP  MOVE_UP             MOVE_UP             MOVE_UP\n",
       "307    MOVE_UP    MOVE_UP  MOVE_UP             MOVE_UP             MOVE_UP\n",
       "308    MOVE_UP    MOVE_UP  MOVE_UP             MOVE_UP           MOVE_DOWN\n",
       "309    MOVE_UP    MOVE_UP  MOVE_UP             MOVE_UP             MOVE_UP\n",
       "\n",
       "[310 rows x 5 columns]"
      ]
     },
     "execution_count": 38,
     "metadata": {},
     "output_type": "execute_result"
    }
   ],
   "source": [
    "df_approach_3"
   ]
  },
  {
   "cell_type": "code",
   "execution_count": 39,
   "metadata": {},
   "outputs": [
    {
     "name": "stdout",
     "output_type": "stream",
     "text": [
      "Labels for approach 3: ['truth' 'svm_linear' 'svm_poly' 'logistic_regression'\n",
      " 'k_nearest_neighbour']\n"
     ]
    }
   ],
   "source": [
    "col_names_3 = df_approach_3.columns\n",
    "print(f'Labels for approach 3: {col_names_3.values}')"
   ]
  },
  {
   "attachments": {},
   "cell_type": "markdown",
   "metadata": {},
   "source": [
    "Again, we have more than two classifier models. So, we apply `Cochrans Q` first and then for further investigation we will use `McNemar`."
   ]
  },
  {
   "cell_type": "code",
   "execution_count": 40,
   "metadata": {},
   "outputs": [
    {
     "name": "stdout",
     "output_type": "stream",
     "text": [
      "Q (or chi-squared): 45.37 \n",
      "p-value: 7.718796379764298e-10\n"
     ]
    }
   ],
   "source": [
    "# check cochrans q for multiple classifier\n",
    "q_2, p_2 = cochrans_q(\n",
    "        np.array(df_approach_3[col_names_3[0]]),\n",
    "        np.array(df_approach_3[col_names_3[1]]),\n",
    "        np.array(df_approach_3[col_names_3[2]]),\n",
    "        np.array(df_approach_3[col_names_3[3]]),\n",
    "        np.array(df_approach_3[col_names_3[4]]),\n",
    ")\n",
    "\n",
    "print(f\"Q (or chi-squared): {q_2:.2f} \\np-value: {p_2}\")"
   ]
  },
  {
   "attachments": {},
   "cell_type": "markdown",
   "metadata": {},
   "source": [
    "The analysis shows, that $p \\le \\alpha$. Therefore the null hypothesis does not hold and we can conduct that we have a significant statistical difference in the accuracy of the applied classifier models.\n",
    "\n",
    "To see, which model performs 'the best', we, again, check with `McNemar` pairwise."
   ]
  },
  {
   "cell_type": "code",
   "execution_count": 41,
   "metadata": {},
   "outputs": [],
   "source": [
    "# prepare list of values\n",
    "value_list = list()\n",
    "value_list.append(df_approach_3[col_names_3[1]])\n",
    "value_list.append(df_approach_3[col_names_3[2]])\n",
    "value_list.append(df_approach_3[col_names_3[3]])\n",
    "value_list.append(df_approach_3[col_names_3[4]])"
   ]
  },
  {
   "cell_type": "code",
   "execution_count": 42,
   "metadata": {},
   "outputs": [
    {
     "name": "stdout",
     "output_type": "stream",
     "text": [
      "Comparison of svm_linear and svm_poly\n",
      "\n",
      "Confusion matrix:\n",
      "[[176   0]\n",
      " [  0 134]]\n",
      "\n",
      "chi-squared: inf \n",
      "p-value: 0.0\n",
      "----------\n",
      "Comparison of svm_linear and logistic_regression\n",
      "\n",
      "Confusion matrix:\n",
      "[[176   0]\n",
      " [  0 134]]\n",
      "\n",
      "chi-squared: inf \n",
      "p-value: 0.0\n",
      "----------\n",
      "Comparison of svm_linear and k_nearest_neighbour\n",
      "\n",
      "Confusion matrix:\n",
      "[[118  58]\n",
      " [ 23 111]]\n",
      "\n",
      "chi-squared: 14.27 \n",
      "p-value: 0.00015823397209216498\n",
      "----------\n",
      "Comparison of svm_poly and logistic_regression\n",
      "\n",
      "Confusion matrix:\n",
      "[[176   0]\n",
      " [  0 134]]\n",
      "\n",
      "chi-squared: inf \n",
      "p-value: 0.0\n",
      "----------\n",
      "Comparison of svm_poly and k_nearest_neighbour\n",
      "\n",
      "Confusion matrix:\n",
      "[[118  58]\n",
      " [ 23 111]]\n",
      "\n",
      "chi-squared: 14.27 \n",
      "p-value: 0.00015823397209216498\n",
      "----------\n",
      "Comparison of logistic_regression and k_nearest_neighbour\n",
      "\n",
      "Confusion matrix:\n",
      "[[118  58]\n",
      " [ 23 111]]\n",
      "\n",
      "chi-squared: 14.27 \n",
      "p-value: 0.00015823397209216498\n",
      "----------\n"
     ]
    },
    {
     "name": "stderr",
     "output_type": "stream",
     "text": [
      "/home/david/.local/share/virtualenvs/data_science-KAJshHcW/lib/python3.10/site-packages/mlxtend/evaluate/mcnemar.py:210: RuntimeWarning: divide by zero encountered in scalar divide\n",
      "  chi2 = (abs(ary[0, 1] - ary[1, 0]) - 1.0) ** 2 / float(n)\n"
     ]
    }
   ],
   "source": [
    "# mcnemar\n",
    "labels = get_label_combinations(df_approach_3)\n",
    "values = get_value_combinations(value_list)\n",
    "\n",
    "for i in range(len(labels)):\n",
    "    mcnemar_test(df_approach_3, values[i], labels[i])"
   ]
  },
  {
   "attachments": {},
   "cell_type": "markdown",
   "metadata": {},
   "source": [
    "**SVC linear vs. SVC polynomial**\n",
    "\n",
    "Here, we have $p = 0$ because both classifier have the exact same performance.\n",
    "\n",
    "**SVC linear vs. Logistic regression**\n",
    "\n",
    "Here, we have $p = 0$ because both classifier have the exact same performance.\n",
    "\n",
    "**SVC linear vs. K nearest neighbour**\n",
    "\n",
    "$p \\le \\alpha$ which indicates, that the null hypothesis is not true and there is a performance difference. Since, SVC linear correctly predicted more values, than K nearest neighbour where the other model predicted wrongly (58 for SVC and 23 for KNN), we can say, that SVC linear performs 'better'.\n",
    "\n",
    "**SVC polynomial vs. Logistic regression**\n",
    "\n",
    "Here, we have $p = 0$ because both classifier have the exact same performance.\n",
    "\n",
    "\n",
    "**SVC polynomial vs. K nearest neighbour**\n",
    "\n",
    "We already saw, that SVC linear and SVC polynomial have the same performance. Also, looking at the results we furhter noticed, that these are the same as in SVC linear vs. K nearest neighbour.\n",
    "\n",
    "This conducts, that SVC polynomial has a better performance.\n",
    "\n",
    "**Logistic regression vs. K nearest neighbour**\n",
    "\n",
    "Like, the comparison from SVC polynomial vs. K nearest neighbour, we have the same results (same p value and confusion matrix). Meaning, that Logistic regression is 'better' than K nearest neighbour. This is further supported with SVC polynomial and Logist regression having the exact same performance.\n",
    "\n",
    "**Result**\n",
    "\n",
    "We have multiple models performing equally well, except for K nearest neighbour ($SvcLinear = SvcPolynomial = LogisticRegression > KNN$). Because SvcLinear has better results, K nearest neighbour has the worst performance.  "
   ]
  }
 ],
 "metadata": {
  "kernelspec": {
   "display_name": "data_science-KAJshHcW",
   "language": "python",
   "name": "python3"
  },
  "language_info": {
   "codemirror_mode": {
    "name": "ipython",
    "version": 3
   },
   "file_extension": ".py",
   "mimetype": "text/x-python",
   "name": "python",
   "nbconvert_exporter": "python",
   "pygments_lexer": "ipython3",
   "version": "3.10.8"
  },
  "orig_nbformat": 4,
  "vscode": {
   "interpreter": {
    "hash": "f61987012e95579f15b76b6055fc10f27f089c62b53f4f9b5f29276fb7764d62"
   }
  }
 },
 "nbformat": 4,
 "nbformat_minor": 2
}
