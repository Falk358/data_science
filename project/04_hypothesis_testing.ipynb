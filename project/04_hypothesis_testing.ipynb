{
 "cells": [
  {
   "attachments": {},
   "cell_type": "markdown",
   "metadata": {},
   "source": [
    "Imports and methods:"
   ]
  },
  {
   "cell_type": "code",
   "execution_count": 1,
   "metadata": {},
   "outputs": [],
   "source": [
    "import pandas as pd\n",
    "import numpy as np\n",
    "import seaborn as sns\n",
    "import matplotlib.pyplot as plt\n",
    "import plotly.express as px\n",
    "from mlxtend.evaluate import (\n",
    "    cochrans_q,\n",
    "    mcnemar,\n",
    "    mcnemar_table\n",
    ")\n",
    "from itertools import combinations"
   ]
  },
  {
   "cell_type": "code",
   "execution_count": 2,
   "metadata": {},
   "outputs": [],
   "source": [
    "def get_label_combinations(df):\n",
    "    return list(combinations(df.drop(columns='truth'), 2))\n",
    "\n",
    "def get_value_combinations(listOfValues):\n",
    "    return list(combinations(listOfValues, 2))"
   ]
  },
  {
   "cell_type": "code",
   "execution_count": 3,
   "metadata": {},
   "outputs": [],
   "source": [
    "def mcnemar_test(df: pd.DataFrame, values, labels):\n",
    "    print(f\"Comparison of {labels[0]} and {labels[1]}\\n\")\n",
    "\n",
    "    tb = mcnemar_table(\n",
    "        np.array(df['truth']),\n",
    "        np.array(values[0]),\n",
    "        np.array(values[1])\n",
    "    )\n",
    "\n",
    "    print(f\"Confusion matrix:\\n{tb}\\n\")\n",
    "\n",
    "    chi2, p = mcnemar(tb, corrected=True)\n",
    "\n",
    "    print(f\"chi-squared: {chi2:.2f} \\np-value: {p}\")\n",
    "    print(\"----------\")"
   ]
  },
  {
   "attachments": {},
   "cell_type": "markdown",
   "metadata": {},
   "source": [
    "# Hypothesis Testing\n",
    "We try to find any statistical significance between our applied classifier models on each approach. For every approach, we are using the same null and alternative hypothesis because we want to see if the classification results differ."
   ]
  },
  {
   "attachments": {},
   "cell_type": "markdown",
   "metadata": {},
   "source": [
    "## Null and alternative hypothesis\n",
    "\n",
    "$H_{0}$: There is no difference between the classification accuracy.\n",
    "\n",
    "$H_{A}$: There are differences between the classification accuracy.\n",
    "\n",
    "Significance threshold: $\\alpha = 0.05$\n",
    "\n",
    "This threshold is used to determine if the null hypothesis holds or can be rejected when compared to the p-value:\n",
    "* $p > \\alpha$ &rarr; $H_{0}$ is true\n",
    "* $p \\le \\alpha$ &rarr; $H_{0}$ is false and $H_{A}$ is true"
   ]
  },
  {
   "attachments": {},
   "cell_type": "markdown",
   "metadata": {},
   "source": [
    "First, we prepare data for hypothesis testing from the csv exports we did in \"03_prediction.ipynb\"."
   ]
  },
  {
   "cell_type": "code",
   "execution_count": 4,
   "metadata": {},
   "outputs": [],
   "source": [
    "df_approach_1 = pd.read_csv(\"../data/classification_results_approach_1.csv\")\n",
    "df_approach_2 = pd.read_csv(\"../data/classification_results_approach_2.csv\")\n",
    "df_approach_3 = pd.read_csv(\"../data/classification_results_approach_3.csv\")"
   ]
  },
  {
   "attachments": {},
   "cell_type": "markdown",
   "metadata": {},
   "source": [
    "### Approach 1"
   ]
  },
  {
   "cell_type": "code",
   "execution_count": 5,
   "metadata": {},
   "outputs": [
    {
     "data": {
      "text/html": [
       "<div>\n",
       "<style scoped>\n",
       "    .dataframe tbody tr th:only-of-type {\n",
       "        vertical-align: middle;\n",
       "    }\n",
       "\n",
       "    .dataframe tbody tr th {\n",
       "        vertical-align: top;\n",
       "    }\n",
       "\n",
       "    .dataframe thead th {\n",
       "        text-align: right;\n",
       "    }\n",
       "</style>\n",
       "<table border=\"1\" class=\"dataframe\">\n",
       "  <thead>\n",
       "    <tr style=\"text-align: right;\">\n",
       "      <th></th>\n",
       "      <th>truth</th>\n",
       "      <th>svc_linear</th>\n",
       "      <th>svc_poly</th>\n",
       "      <th>poly_reg</th>\n",
       "    </tr>\n",
       "  </thead>\n",
       "  <tbody>\n",
       "    <tr>\n",
       "      <th>0</th>\n",
       "      <td>54</td>\n",
       "      <td>13</td>\n",
       "      <td>13</td>\n",
       "      <td>64.587925</td>\n",
       "    </tr>\n",
       "    <tr>\n",
       "      <th>1</th>\n",
       "      <td>75</td>\n",
       "      <td>13</td>\n",
       "      <td>1</td>\n",
       "      <td>56.629628</td>\n",
       "    </tr>\n",
       "    <tr>\n",
       "      <th>2</th>\n",
       "      <td>10</td>\n",
       "      <td>3</td>\n",
       "      <td>1</td>\n",
       "      <td>58.410446</td>\n",
       "    </tr>\n",
       "    <tr>\n",
       "      <th>3</th>\n",
       "      <td>11</td>\n",
       "      <td>13</td>\n",
       "      <td>13</td>\n",
       "      <td>60.162715</td>\n",
       "    </tr>\n",
       "    <tr>\n",
       "      <th>4</th>\n",
       "      <td>1</td>\n",
       "      <td>1</td>\n",
       "      <td>1</td>\n",
       "      <td>62.550753</td>\n",
       "    </tr>\n",
       "    <tr>\n",
       "      <th>...</th>\n",
       "      <td>...</td>\n",
       "      <td>...</td>\n",
       "      <td>...</td>\n",
       "      <td>...</td>\n",
       "    </tr>\n",
       "    <tr>\n",
       "      <th>305</th>\n",
       "      <td>6</td>\n",
       "      <td>3</td>\n",
       "      <td>1</td>\n",
       "      <td>59.269274</td>\n",
       "    </tr>\n",
       "    <tr>\n",
       "      <th>306</th>\n",
       "      <td>184</td>\n",
       "      <td>1</td>\n",
       "      <td>1</td>\n",
       "      <td>61.626388</td>\n",
       "    </tr>\n",
       "    <tr>\n",
       "      <th>307</th>\n",
       "      <td>21</td>\n",
       "      <td>1</td>\n",
       "      <td>1</td>\n",
       "      <td>62.094772</td>\n",
       "    </tr>\n",
       "    <tr>\n",
       "      <th>308</th>\n",
       "      <td>45</td>\n",
       "      <td>1</td>\n",
       "      <td>1</td>\n",
       "      <td>65.352101</td>\n",
       "    </tr>\n",
       "    <tr>\n",
       "      <th>309</th>\n",
       "      <td>149</td>\n",
       "      <td>1</td>\n",
       "      <td>1</td>\n",
       "      <td>65.352101</td>\n",
       "    </tr>\n",
       "  </tbody>\n",
       "</table>\n",
       "<p>310 rows × 4 columns</p>\n",
       "</div>"
      ],
      "text/plain": [
       "     truth  svc_linear  svc_poly   poly_reg\n",
       "0       54          13        13  64.587925\n",
       "1       75          13         1  56.629628\n",
       "2       10           3         1  58.410446\n",
       "3       11          13        13  60.162715\n",
       "4        1           1         1  62.550753\n",
       "..     ...         ...       ...        ...\n",
       "305      6           3         1  59.269274\n",
       "306    184           1         1  61.626388\n",
       "307     21           1         1  62.094772\n",
       "308     45           1         1  65.352101\n",
       "309    149           1         1  65.352101\n",
       "\n",
       "[310 rows x 4 columns]"
      ]
     },
     "execution_count": 5,
     "metadata": {},
     "output_type": "execute_result"
    }
   ],
   "source": [
    "df_approach_1"
   ]
  },
  {
   "cell_type": "code",
   "execution_count": 6,
   "metadata": {},
   "outputs": [
    {
     "name": "stdout",
     "output_type": "stream",
     "text": [
      "Labels for approach 1: ['truth' 'svc_linear' 'svc_poly' 'poly_reg']\n"
     ]
    }
   ],
   "source": [
    "col_names_1 = df_approach_1.columns\n",
    "print(f'Labels for approach 1: {col_names_1.values}')"
   ]
  },
  {
   "attachments": {},
   "cell_type": "markdown",
   "metadata": {},
   "source": [
    "Since we used more than two classifier models, we can first check for statistical difference with `Cochrans Q`."
   ]
  },
  {
   "cell_type": "code",
   "execution_count": 7,
   "metadata": {},
   "outputs": [
    {
     "name": "stdout",
     "output_type": "stream",
     "text": [
      "Q (or chi-squared): 14.00 \n",
      "p-value: 0.0009118819655545164\n"
     ]
    }
   ],
   "source": [
    "q_1, p_1 = cochrans_q(\n",
    "        np.array(df_approach_1[col_names_1[0]]),\n",
    "        np.array(df_approach_1[col_names_1[1]]),\n",
    "        np.array(df_approach_1[col_names_1[2]]),\n",
    "        np.array(df_approach_1[col_names_1[3]]),\n",
    ")\n",
    "\n",
    "print(f\"Q (or chi-squared): {q_1:.2f} \\np-value: {p_1}\")"
   ]
  },
  {
   "attachments": {},
   "cell_type": "markdown",
   "metadata": {},
   "source": [
    "The results show, that $p \\le \\alpha$ and therefore we can reject our null hypothesis. We can conclude, that we have a difference in classification accuracy!\n",
    "\n",
    "In order to find the \"best\" classifier model, we use `McNemar` to compare the models pairwise."
   ]
  },
  {
   "cell_type": "code",
   "execution_count": 8,
   "metadata": {},
   "outputs": [],
   "source": [
    "# prepare list of possible combinations\n",
    "value_list = list()\n",
    "value_list.append(list(df_approach_1[col_names_1[1]]))\n",
    "value_list.append(list(df_approach_1[col_names_1[2]]))\n",
    "value_list.append(list(df_approach_1[col_names_1[3]]))\n",
    "\n",
    "labels = get_label_combinations(df_approach_1)\n",
    "values = get_value_combinations(value_list)"
   ]
  },
  {
   "cell_type": "code",
   "execution_count": 9,
   "metadata": {},
   "outputs": [
    {
     "name": "stdout",
     "output_type": "stream",
     "text": [
      "Comparison of svc_linear and svc_poly\n",
      "\n",
      "Confusion matrix:\n",
      "[[  6   2]\n",
      " [  4 298]]\n",
      "\n",
      "chi-squared: 0.17 \n",
      "p-value: 0.6830913983096086\n",
      "----------\n",
      "Comparison of svc_linear and poly_reg\n",
      "\n",
      "Confusion matrix:\n",
      "[[  0   8]\n",
      " [  0 302]]\n",
      "\n",
      "chi-squared: 6.12 \n",
      "p-value: 0.01332832878081758\n",
      "----------\n",
      "Comparison of svc_poly and poly_reg\n",
      "\n",
      "Confusion matrix:\n",
      "[[  0  10]\n",
      " [  0 300]]\n",
      "\n",
      "chi-squared: 8.10 \n",
      "p-value: 0.004426525857919834\n",
      "----------\n"
     ]
    }
   ],
   "source": [
    "for i in range(len(labels)):\n",
    "    mcnemar_test(df_approach_1, values[i], labels[i])"
   ]
  },
  {
   "attachments": {},
   "cell_type": "markdown",
   "metadata": {},
   "source": [
    "**SVC linear vs. SVC polynomial**\n",
    "\n",
    "Here, we have $p > \\alpha$ and therefore we can conduct that the null hypothesis is correct and we have no statistical difference between these two models.\n",
    "\n",
    "**SVC linear vs. Polynomial regression**\n",
    "\n",
    "With $p \\le \\alpha$, the alternative hypothesis would be correct, but looking at the confusion matrix scores SVC linear predicted 7 labels correctly where Polynomial regression predicted wrong. Now, we can assume that SVC linear is 'better'.\n",
    "\n",
    "**SVC polynomial vs. Polynomial regression**\n",
    "\n",
    "Has the same results as the comparison of SVC polynomial and Polynomial regression. Since, SVC linear and SVC polynomial result in no significant statistical difference, we can also assume, that SVC polynomial is 'better' as Polynomial regression.\n",
    "\n",
    "**Result**\n",
    "\n",
    "$SVClinear = SVCpolynomial > PolynomialRegression$, which is a tie for the best classification for SVC linear and SVC polynomial for Approach 1."
   ]
  },
  {
   "attachments": {},
   "cell_type": "markdown",
   "metadata": {},
   "source": [
    "### Approach 2"
   ]
  },
  {
   "cell_type": "code",
   "execution_count": 10,
   "metadata": {},
   "outputs": [
    {
     "data": {
      "text/html": [
       "<div>\n",
       "<style scoped>\n",
       "    .dataframe tbody tr th:only-of-type {\n",
       "        vertical-align: middle;\n",
       "    }\n",
       "\n",
       "    .dataframe tbody tr th {\n",
       "        vertical-align: top;\n",
       "    }\n",
       "\n",
       "    .dataframe thead th {\n",
       "        text-align: right;\n",
       "    }\n",
       "</style>\n",
       "<table border=\"1\" class=\"dataframe\">\n",
       "  <thead>\n",
       "    <tr style=\"text-align: right;\">\n",
       "      <th></th>\n",
       "      <th>truth</th>\n",
       "      <th>svc_linear</th>\n",
       "      <th>svc_rbf</th>\n",
       "    </tr>\n",
       "  </thead>\n",
       "  <tbody>\n",
       "    <tr>\n",
       "      <th>0</th>\n",
       "      <td>196</td>\n",
       "      <td>21</td>\n",
       "      <td>21</td>\n",
       "    </tr>\n",
       "    <tr>\n",
       "      <th>1</th>\n",
       "      <td>115</td>\n",
       "      <td>6</td>\n",
       "      <td>6</td>\n",
       "    </tr>\n",
       "    <tr>\n",
       "      <th>2</th>\n",
       "      <td>37</td>\n",
       "      <td>20</td>\n",
       "      <td>20</td>\n",
       "    </tr>\n",
       "    <tr>\n",
       "      <th>3</th>\n",
       "      <td>22</td>\n",
       "      <td>1</td>\n",
       "      <td>5</td>\n",
       "    </tr>\n",
       "    <tr>\n",
       "      <th>4</th>\n",
       "      <td>103</td>\n",
       "      <td>1</td>\n",
       "      <td>1</td>\n",
       "    </tr>\n",
       "    <tr>\n",
       "      <th>...</th>\n",
       "      <td>...</td>\n",
       "      <td>...</td>\n",
       "      <td>...</td>\n",
       "    </tr>\n",
       "    <tr>\n",
       "      <th>305</th>\n",
       "      <td>133</td>\n",
       "      <td>2</td>\n",
       "      <td>2</td>\n",
       "    </tr>\n",
       "    <tr>\n",
       "      <th>306</th>\n",
       "      <td>16</td>\n",
       "      <td>8</td>\n",
       "      <td>8</td>\n",
       "    </tr>\n",
       "    <tr>\n",
       "      <th>307</th>\n",
       "      <td>123</td>\n",
       "      <td>21</td>\n",
       "      <td>21</td>\n",
       "    </tr>\n",
       "    <tr>\n",
       "      <th>308</th>\n",
       "      <td>13</td>\n",
       "      <td>2</td>\n",
       "      <td>1</td>\n",
       "    </tr>\n",
       "    <tr>\n",
       "      <th>309</th>\n",
       "      <td>153</td>\n",
       "      <td>30</td>\n",
       "      <td>30</td>\n",
       "    </tr>\n",
       "  </tbody>\n",
       "</table>\n",
       "<p>310 rows × 3 columns</p>\n",
       "</div>"
      ],
      "text/plain": [
       "     truth  svc_linear  svc_rbf\n",
       "0      196          21       21\n",
       "1      115           6        6\n",
       "2       37          20       20\n",
       "3       22           1        5\n",
       "4      103           1        1\n",
       "..     ...         ...      ...\n",
       "305    133           2        2\n",
       "306     16           8        8\n",
       "307    123          21       21\n",
       "308     13           2        1\n",
       "309    153          30       30\n",
       "\n",
       "[310 rows x 3 columns]"
      ]
     },
     "execution_count": 10,
     "metadata": {},
     "output_type": "execute_result"
    }
   ],
   "source": [
    "df_approach_2"
   ]
  },
  {
   "cell_type": "code",
   "execution_count": 11,
   "metadata": {},
   "outputs": [
    {
     "name": "stdout",
     "output_type": "stream",
     "text": [
      "Labels for approach 2: ['truth' 'svc_linear' 'svc_rbf']\n"
     ]
    }
   ],
   "source": [
    "col_names_2 = df_approach_2.columns\n",
    "print(f'Labels for approach 2: {col_names_2.values}')"
   ]
  },
  {
   "attachments": {},
   "cell_type": "markdown",
   "metadata": {},
   "source": [
    "Here, we only have two classifier to compare. Since, the analysis with `Cochrans Q` and `McNemar` for two models results in the same results, we just use `McNemar` approach 2."
   ]
  },
  {
   "cell_type": "code",
   "execution_count": 12,
   "metadata": {},
   "outputs": [],
   "source": [
    "# prepare list for McNemar\n",
    "value_list = list()\n",
    "value_list.append(df_approach_2[col_names_2[1]])\n",
    "value_list.append(df_approach_2[col_names_2[2]])\n",
    "\n",
    "labels = get_label_combinations(df_approach_2)\n",
    "values = get_value_combinations(value_list)"
   ]
  },
  {
   "cell_type": "code",
   "execution_count": 13,
   "metadata": {},
   "outputs": [
    {
     "name": "stdout",
     "output_type": "stream",
     "text": [
      "Comparison of svc_linear and svc_rbf\n",
      "\n",
      "Confusion matrix:\n",
      "[[  2   1]\n",
      " [  3 304]]\n",
      "\n",
      "chi-squared: 0.25 \n",
      "p-value: 0.6170750774519739\n",
      "----------\n"
     ]
    }
   ],
   "source": [
    "for i in range(len(labels)):\n",
    "    mcnemar_test(df_approach_2, values[i], labels[i])"
   ]
  },
  {
   "attachments": {},
   "cell_type": "markdown",
   "metadata": {},
   "source": [
    "**SVC linear vs. SVC rbf**\n",
    "\n",
    "Here, we have $p > \\alpha$ and therefore we can conduct that the null hypothesis is correct and we have no statistical difference between these two models. When looking at the confusion matrix, we can see, that SVC linear successfully predicted 2 labels, while SVC rbf got 4 labels correct. This indicates that SVC rbf is better, but since null hypothesis holds, we conduct for no significance difference (also, because the overall results are not great).\n",
    "\n",
    "**Result**\n",
    "Both classifier have equally performance and therefore we end up in a tie ($SVClinear = SVCrbf$) for approach 2."
   ]
  },
  {
   "attachments": {},
   "cell_type": "markdown",
   "metadata": {},
   "source": [
    "### Approach 3"
   ]
  },
  {
   "cell_type": "code",
   "execution_count": 14,
   "metadata": {},
   "outputs": [
    {
     "data": {
      "text/html": [
       "<div>\n",
       "<style scoped>\n",
       "    .dataframe tbody tr th:only-of-type {\n",
       "        vertical-align: middle;\n",
       "    }\n",
       "\n",
       "    .dataframe tbody tr th {\n",
       "        vertical-align: top;\n",
       "    }\n",
       "\n",
       "    .dataframe thead th {\n",
       "        text-align: right;\n",
       "    }\n",
       "</style>\n",
       "<table border=\"1\" class=\"dataframe\">\n",
       "  <thead>\n",
       "    <tr style=\"text-align: right;\">\n",
       "      <th></th>\n",
       "      <th>truth</th>\n",
       "      <th>svc_linear</th>\n",
       "      <th>svc_poly</th>\n",
       "      <th>logistic_regression</th>\n",
       "      <th>k_nearest_neighbour</th>\n",
       "    </tr>\n",
       "  </thead>\n",
       "  <tbody>\n",
       "    <tr>\n",
       "      <th>0</th>\n",
       "      <td>MOVE_UP</td>\n",
       "      <td>MOVE_UP</td>\n",
       "      <td>MOVE_UP</td>\n",
       "      <td>MOVE_UP</td>\n",
       "      <td>MOVE_UP</td>\n",
       "    </tr>\n",
       "    <tr>\n",
       "      <th>1</th>\n",
       "      <td>MOVE_UP</td>\n",
       "      <td>MOVE_UP</td>\n",
       "      <td>MOVE_UP</td>\n",
       "      <td>MOVE_UP</td>\n",
       "      <td>MOVE_UP</td>\n",
       "    </tr>\n",
       "    <tr>\n",
       "      <th>2</th>\n",
       "      <td>MOVE_UP</td>\n",
       "      <td>MOVE_UP</td>\n",
       "      <td>MOVE_UP</td>\n",
       "      <td>MOVE_UP</td>\n",
       "      <td>MOVE_DOWN</td>\n",
       "    </tr>\n",
       "    <tr>\n",
       "      <th>3</th>\n",
       "      <td>MOVE_UP</td>\n",
       "      <td>MOVE_UP</td>\n",
       "      <td>MOVE_UP</td>\n",
       "      <td>MOVE_UP</td>\n",
       "      <td>MOVE_UP</td>\n",
       "    </tr>\n",
       "    <tr>\n",
       "      <th>4</th>\n",
       "      <td>MOVE_UP</td>\n",
       "      <td>MOVE_UP</td>\n",
       "      <td>MOVE_UP</td>\n",
       "      <td>MOVE_UP</td>\n",
       "      <td>MOVE_DOWN</td>\n",
       "    </tr>\n",
       "    <tr>\n",
       "      <th>...</th>\n",
       "      <td>...</td>\n",
       "      <td>...</td>\n",
       "      <td>...</td>\n",
       "      <td>...</td>\n",
       "      <td>...</td>\n",
       "    </tr>\n",
       "    <tr>\n",
       "      <th>305</th>\n",
       "      <td>MOVE_UP</td>\n",
       "      <td>MOVE_UP</td>\n",
       "      <td>MOVE_UP</td>\n",
       "      <td>MOVE_UP</td>\n",
       "      <td>MOVE_UP</td>\n",
       "    </tr>\n",
       "    <tr>\n",
       "      <th>306</th>\n",
       "      <td>SAME_POSITION</td>\n",
       "      <td>MOVE_UP</td>\n",
       "      <td>MOVE_UP</td>\n",
       "      <td>MOVE_UP</td>\n",
       "      <td>MOVE_DOWN</td>\n",
       "    </tr>\n",
       "    <tr>\n",
       "      <th>307</th>\n",
       "      <td>MOVE_DOWN</td>\n",
       "      <td>MOVE_UP</td>\n",
       "      <td>MOVE_UP</td>\n",
       "      <td>MOVE_UP</td>\n",
       "      <td>MOVE_UP</td>\n",
       "    </tr>\n",
       "    <tr>\n",
       "      <th>308</th>\n",
       "      <td>MOVE_UP</td>\n",
       "      <td>MOVE_UP</td>\n",
       "      <td>MOVE_UP</td>\n",
       "      <td>MOVE_UP</td>\n",
       "      <td>MOVE_UP</td>\n",
       "    </tr>\n",
       "    <tr>\n",
       "      <th>309</th>\n",
       "      <td>MOVE_UP</td>\n",
       "      <td>MOVE_UP</td>\n",
       "      <td>MOVE_UP</td>\n",
       "      <td>MOVE_UP</td>\n",
       "      <td>MOVE_UP</td>\n",
       "    </tr>\n",
       "  </tbody>\n",
       "</table>\n",
       "<p>310 rows × 5 columns</p>\n",
       "</div>"
      ],
      "text/plain": [
       "             truth svc_linear svc_poly logistic_regression k_nearest_neighbour\n",
       "0          MOVE_UP    MOVE_UP  MOVE_UP             MOVE_UP             MOVE_UP\n",
       "1          MOVE_UP    MOVE_UP  MOVE_UP             MOVE_UP             MOVE_UP\n",
       "2          MOVE_UP    MOVE_UP  MOVE_UP             MOVE_UP           MOVE_DOWN\n",
       "3          MOVE_UP    MOVE_UP  MOVE_UP             MOVE_UP             MOVE_UP\n",
       "4          MOVE_UP    MOVE_UP  MOVE_UP             MOVE_UP           MOVE_DOWN\n",
       "..             ...        ...      ...                 ...                 ...\n",
       "305        MOVE_UP    MOVE_UP  MOVE_UP             MOVE_UP             MOVE_UP\n",
       "306  SAME_POSITION    MOVE_UP  MOVE_UP             MOVE_UP           MOVE_DOWN\n",
       "307      MOVE_DOWN    MOVE_UP  MOVE_UP             MOVE_UP             MOVE_UP\n",
       "308        MOVE_UP    MOVE_UP  MOVE_UP             MOVE_UP             MOVE_UP\n",
       "309        MOVE_UP    MOVE_UP  MOVE_UP             MOVE_UP             MOVE_UP\n",
       "\n",
       "[310 rows x 5 columns]"
      ]
     },
     "execution_count": 14,
     "metadata": {},
     "output_type": "execute_result"
    }
   ],
   "source": [
    "df_approach_3"
   ]
  },
  {
   "cell_type": "code",
   "execution_count": 15,
   "metadata": {},
   "outputs": [
    {
     "name": "stdout",
     "output_type": "stream",
     "text": [
      "Labels for approach 3: ['truth' 'svc_linear' 'svc_poly' 'logistic_regression'\n",
      " 'k_nearest_neighbour']\n"
     ]
    }
   ],
   "source": [
    "col_names_3 = df_approach_3.columns\n",
    "print(f'Labels for approach 3: {col_names_3.values}')"
   ]
  },
  {
   "attachments": {},
   "cell_type": "markdown",
   "metadata": {},
   "source": [
    "Again, we have more than two classifier models. So, we apply `Cochrans Q` first and then for further investigation we will use `McNemar`."
   ]
  },
  {
   "cell_type": "code",
   "execution_count": 16,
   "metadata": {},
   "outputs": [
    {
     "name": "stdout",
     "output_type": "stream",
     "text": [
      "Q (or chi-squared): 10.89 \n",
      "p-value: 0.012342120962254378\n"
     ]
    }
   ],
   "source": [
    "# check cochrans q for multiple classifier\n",
    "q_2, p_2 = cochrans_q(\n",
    "        np.array(df_approach_3[col_names_3[0]]),\n",
    "        np.array(df_approach_3[col_names_3[1]]),\n",
    "        np.array(df_approach_3[col_names_3[2]]),\n",
    "        np.array(df_approach_3[col_names_3[3]]),\n",
    "        np.array(df_approach_3[col_names_3[4]]),\n",
    ")\n",
    "\n",
    "print(f\"Q (or chi-squared): {q_2:.2f} \\np-value: {p_2}\")"
   ]
  },
  {
   "attachments": {},
   "cell_type": "markdown",
   "metadata": {},
   "source": [
    "The analysis shows, that $p \\le \\alpha$. Therefore the null hypothesis does not hold and we can conduct that we have a significant statistical difference in the accuracy of the applied classifier models.\n",
    "\n",
    "To see, which model performs 'the best', we, again, check with `McNemar` pairwise."
   ]
  },
  {
   "cell_type": "code",
   "execution_count": 17,
   "metadata": {},
   "outputs": [],
   "source": [
    "# prepare list of values\n",
    "value_list = list()\n",
    "value_list.append(df_approach_3[col_names_3[1]])\n",
    "value_list.append(df_approach_3[col_names_3[2]])\n",
    "value_list.append(df_approach_3[col_names_3[3]])\n",
    "value_list.append(df_approach_3[col_names_3[4]])"
   ]
  },
  {
   "cell_type": "code",
   "execution_count": 18,
   "metadata": {},
   "outputs": [
    {
     "name": "stdout",
     "output_type": "stream",
     "text": [
      "Comparison of svc_linear and svc_poly\n",
      "\n",
      "Confusion matrix:\n",
      "[[171   0]\n",
      " [  0 139]]\n",
      "\n",
      "chi-squared: inf \n",
      "p-value: 0.0\n",
      "----------\n",
      "Comparison of svc_linear and logistic_regression\n",
      "\n",
      "Confusion matrix:\n",
      "[[171   0]\n",
      " [  0 139]]\n",
      "\n",
      "chi-squared: inf \n",
      "p-value: 0.0\n",
      "----------\n",
      "Comparison of svc_linear and k_nearest_neighbour\n",
      "\n",
      "Confusion matrix:\n",
      "[[137  34]\n",
      " [ 20 119]]\n",
      "\n",
      "chi-squared: 3.13 \n",
      "p-value: 0.07688120490870515\n",
      "----------\n",
      "Comparison of svc_poly and logistic_regression\n",
      "\n",
      "Confusion matrix:\n",
      "[[171   0]\n",
      " [  0 139]]\n",
      "\n",
      "chi-squared: inf \n",
      "p-value: 0.0\n",
      "----------\n",
      "Comparison of svc_poly and k_nearest_neighbour\n",
      "\n",
      "Confusion matrix:\n",
      "[[137  34]\n",
      " [ 20 119]]\n",
      "\n",
      "chi-squared: 3.13 \n",
      "p-value: 0.07688120490870515\n",
      "----------\n",
      "Comparison of logistic_regression and k_nearest_neighbour\n",
      "\n",
      "Confusion matrix:\n",
      "[[137  34]\n",
      " [ 20 119]]\n",
      "\n",
      "chi-squared: 3.13 \n",
      "p-value: 0.07688120490870515\n",
      "----------\n"
     ]
    },
    {
     "name": "stderr",
     "output_type": "stream",
     "text": [
      "/Users/david/.local/share/virtualenvs/data_science-5TF-S9g6/lib/python3.10/site-packages/mlxtend/evaluate/mcnemar.py:210: RuntimeWarning: divide by zero encountered in scalar divide\n",
      "  chi2 = (abs(ary[0, 1] - ary[1, 0]) - 1.0) ** 2 / float(n)\n"
     ]
    }
   ],
   "source": [
    "# mcnemar\n",
    "labels = get_label_combinations(df_approach_3)\n",
    "values = get_value_combinations(value_list)\n",
    "\n",
    "for i in range(len(labels)):\n",
    "    mcnemar_test(df_approach_3, values[i], labels[i])"
   ]
  },
  {
   "attachments": {},
   "cell_type": "markdown",
   "metadata": {},
   "source": [
    "**SVC linear vs. SVC polynomial**\n",
    "\n",
    "Here, we have $p = 0$ because both classifier have the exact same performance.\n",
    "\n",
    "**SVC linear vs. Logistic regression**\n",
    "\n",
    "Here, we have $p = 0$ because both classifier have the exact same performance.\n",
    "\n",
    "**SVC linear vs. K nearest neighbour**\n",
    "\n",
    "$p \\le \\alpha$ which indicates, that the null hypothesis is not true and there is a performance difference. Since, SVC linear correctly predicted more values, than K nearest neighbour where the other model predicted wrongly (58 for SVC and 23 for KNN), we can say, that SVC linear performs 'better'.\n",
    "\n",
    "**SVC polynomial vs. Logistic regression**\n",
    "\n",
    "Here, we have $p = 0$ because both classifier have the exact same performance.\n",
    "\n",
    "\n",
    "**SVC polynomial vs. K nearest neighbour**\n",
    "\n",
    "We already saw, that SVC linear and SVC polynomial have the same performance. Also, looking at the results we furhter noticed, that these are the same as in SVC linear vs. K nearest neighbour.\n",
    "\n",
    "This conducts, that SVC polynomial has a better performance.\n",
    "\n",
    "**Logistic regression vs. K nearest neighbour**\n",
    "\n",
    "Like, the comparison from SVC polynomial vs. K nearest neighbour, we have the same results (same p value and confusion matrix). Meaning, that Logistic regression is 'better' than K nearest neighbour. This is further supported with SVC polynomial and Logist regression having the exact same performance.\n",
    "\n",
    "**Result**\n",
    "\n",
    "We have multiple models performing equally well, except for K nearest neighbour ($SvcLinear = SvcPolynomial = LogisticRegression > KNN$). Because SvcLinear has better results, K nearest neighbour has the worst performance.  "
   ]
  }
 ],
 "metadata": {
  "kernelspec": {
   "display_name": "data_science-5TF-S9g6",
   "language": "python",
   "name": "python3"
  },
  "language_info": {
   "codemirror_mode": {
    "name": "ipython",
    "version": 3
   },
   "file_extension": ".py",
   "mimetype": "text/x-python",
   "name": "python",
   "nbconvert_exporter": "python",
   "pygments_lexer": "ipython3",
   "version": "3.10.7"
  },
  "orig_nbformat": 4,
  "vscode": {
   "interpreter": {
    "hash": "91c9c3035d31b1b248a09f4683e22d2eee92d43933c62df06aa9c8e048bab2cb"
   }
  }
 },
 "nbformat": 4,
 "nbformat_minor": 2
}
