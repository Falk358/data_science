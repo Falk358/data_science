{
 "cells": [
  {
   "cell_type": "code",
   "execution_count": 212,
   "metadata": {},
   "outputs": [],
   "source": [
    "import pandas as pd\n",
    "import numpy as np\n",
    "import json\n"
   ]
  },
  {
   "cell_type": "markdown",
   "metadata": {},
   "source": [
    "## Exercise 1\n",
    "\n",
    "First we load and take a look at the dataset"
   ]
  },
  {
   "cell_type": "code",
   "execution_count": 213,
   "metadata": {},
   "outputs": [
    {
     "data": {
      "text/html": [
       "<div>\n",
       "<style scoped>\n",
       "    .dataframe tbody tr th:only-of-type {\n",
       "        vertical-align: middle;\n",
       "    }\n",
       "\n",
       "    .dataframe tbody tr th {\n",
       "        vertical-align: top;\n",
       "    }\n",
       "\n",
       "    .dataframe thead th {\n",
       "        text-align: right;\n",
       "    }\n",
       "</style>\n",
       "<table border=\"1\" class=\"dataframe\">\n",
       "  <thead>\n",
       "    <tr style=\"text-align: right;\">\n",
       "      <th></th>\n",
       "      <th>id</th>\n",
       "      <th>description</th>\n",
       "      <th>tags</th>\n",
       "      <th>manufacturer</th>\n",
       "      <th>type</th>\n",
       "    </tr>\n",
       "  </thead>\n",
       "  <tbody>\n",
       "    <tr>\n",
       "      <th>20</th>\n",
       "      <td>18037</td>\n",
       "      <td>Healthy Bread with oat bran and cream</td>\n",
       "      <td>[]</td>\n",
       "      <td></td>\n",
       "      <td>Sweet Bread</td>\n",
       "    </tr>\n",
       "    <tr>\n",
       "      <th>195</th>\n",
       "      <td>18294</td>\n",
       "      <td>Pancakes, blueberry, prepared from recipe</td>\n",
       "      <td>[]</td>\n",
       "      <td>None</td>\n",
       "      <td>Cake</td>\n",
       "    </tr>\n",
       "    <tr>\n",
       "      <th>63</th>\n",
       "      <td>18103</td>\n",
       "      <td>Coffeecake, cheese</td>\n",
       "      <td>[]</td>\n",
       "      <td></td>\n",
       "      <td>Cake</td>\n",
       "    </tr>\n",
       "    <tr>\n",
       "      <th>371</th>\n",
       "      <td>18651</td>\n",
       "      <td>NABISCO, NABISCO SNACKWELL'S Fat Free Devil's ...</td>\n",
       "      <td>[]</td>\n",
       "      <td>None</td>\n",
       "      <td>Cake</td>\n",
       "    </tr>\n",
       "    <tr>\n",
       "      <th>278</th>\n",
       "      <td>18438</td>\n",
       "      <td>English muffins, plain, unenriched, with calci...</td>\n",
       "      <td>[]</td>\n",
       "      <td></td>\n",
       "      <td>Muffins</td>\n",
       "    </tr>\n",
       "    <tr>\n",
       "      <th>181</th>\n",
       "      <td>18275</td>\n",
       "      <td>Muffins, blueberry, dry mix</td>\n",
       "      <td>[]</td>\n",
       "      <td></td>\n",
       "      <td>Muffins</td>\n",
       "    </tr>\n",
       "    <tr>\n",
       "      <th>232</th>\n",
       "      <td>18358</td>\n",
       "      <td>Sweet rolls, cinnamon, refrigerated dough with...</td>\n",
       "      <td>[]</td>\n",
       "      <td>None</td>\n",
       "      <td>Sweet Bread</td>\n",
       "    </tr>\n",
       "    <tr>\n",
       "      <th>275</th>\n",
       "      <td>18435</td>\n",
       "      <td>Danish pastry, raspberry, unenriched</td>\n",
       "      <td>[]</td>\n",
       "      <td></td>\n",
       "      <td>Puff Pastry</td>\n",
       "    </tr>\n",
       "    <tr>\n",
       "      <th>96</th>\n",
       "      <td>18156</td>\n",
       "      <td>Cookies, fudge, cake-type (includes trolley ca...</td>\n",
       "      <td>[]</td>\n",
       "      <td></td>\n",
       "      <td>Cookies</td>\n",
       "    </tr>\n",
       "    <tr>\n",
       "      <th>179</th>\n",
       "      <td>18272</td>\n",
       "      <td>Ice cream cones, sugar, rolled-type</td>\n",
       "      <td>[]</td>\n",
       "      <td></td>\n",
       "      <td>Sweet Bread</td>\n",
       "    </tr>\n",
       "  </tbody>\n",
       "</table>\n",
       "</div>"
      ],
      "text/plain": [
       "        id                                        description tags  \\\n",
       "20   18037              Healthy Bread with oat bran and cream   []   \n",
       "195  18294          Pancakes, blueberry, prepared from recipe   []   \n",
       "63   18103                                 Coffeecake, cheese   []   \n",
       "371  18651  NABISCO, NABISCO SNACKWELL'S Fat Free Devil's ...   []   \n",
       "278  18438  English muffins, plain, unenriched, with calci...   []   \n",
       "181  18275                        Muffins, blueberry, dry mix   []   \n",
       "232  18358  Sweet rolls, cinnamon, refrigerated dough with...   []   \n",
       "275  18435               Danish pastry, raspberry, unenriched   []   \n",
       "96   18156  Cookies, fudge, cake-type (includes trolley ca...   []   \n",
       "179  18272                Ice cream cones, sugar, rolled-type   []   \n",
       "\n",
       "    manufacturer         type  \n",
       "20                Sweet Bread  \n",
       "195         None         Cake  \n",
       "63                       Cake  \n",
       "371         None         Cake  \n",
       "278                   Muffins  \n",
       "181                   Muffins  \n",
       "232         None  Sweet Bread  \n",
       "275               Puff Pastry  \n",
       "96                    Cookies  \n",
       "179               Sweet Bread  "
      ]
     },
     "execution_count": 213,
     "metadata": {},
     "output_type": "execute_result"
    }
   ],
   "source": [
    "with open(\"data/dessert.json\") as json_file: \n",
    "    dessert_json = json.load(json_file)\n",
    "dessert_data = pd.read_json(\"data/dessert.json\")\n",
    "dessert_data.drop([\"portions\", \"nutrients\"],axis=1,inplace=True)\n",
    "dessert_data_port = pd.json_normalize(dessert_json, record_path=[\"portions\"],meta=[\"id\",\"type\"],meta_prefix=\"origin-\") # flatten json object into separate df\n",
    "dessert_data_nutr = pd.json_normalize(dessert_json, record_path=[\"nutrients\"],meta=[\"id\",\"type\"], meta_prefix=\"origin-\") # flatten json object into separate df\n",
    "dessert_data.sample(10)\n",
    "\n"
   ]
  },
  {
   "cell_type": "markdown",
   "metadata": {},
   "source": [
    "### Exercise 1a)\n",
    "\n",
    "We decided to replace empty Strings and `None` values with the string \"No manufacturer\" for the **Manufacturer** column:"
   ]
  },
  {
   "cell_type": "code",
   "execution_count": 214,
   "metadata": {},
   "outputs": [
    {
     "data": {
      "text/plain": [
       "225    no Manufacturer\n",
       "292       Kellogg, Co.\n",
       "236    no Manufacturer\n",
       "181    no Manufacturer\n",
       "14     no Manufacturer\n",
       "377    no Manufacturer\n",
       "372    no Manufacturer\n",
       "351    Archway Cookies\n",
       "299       Kellogg, Co.\n",
       "106    no Manufacturer\n",
       "120    no Manufacturer\n",
       "199    no Manufacturer\n",
       "284    no Manufacturer\n",
       "125    no Manufacturer\n",
       "340    Archway Cookies\n",
       "33     no Manufacturer\n",
       "19     no Manufacturer\n",
       "43     no Manufacturer\n",
       "334    Archway Cookies\n",
       "207    no Manufacturer\n",
       "98     no Manufacturer\n",
       "388    no Manufacturer\n",
       "331    Archway Cookies\n",
       "152    no Manufacturer\n",
       "241    no Manufacturer\n",
       "163    no Manufacturer\n",
       "348    Archway Cookies\n",
       "90     no Manufacturer\n",
       "212    no Manufacturer\n",
       "244    no Manufacturer\n",
       "322    Archway Cookies\n",
       "190    no Manufacturer\n",
       "220    no Manufacturer\n",
       "242    no Manufacturer\n",
       "326    Archway Cookies\n",
       "258    no Manufacturer\n",
       "315       Kellogg, Co.\n",
       "53     no Manufacturer\n",
       "24     no Manufacturer\n",
       "285    no Manufacturer\n",
       "Name: manufacturer, dtype: object"
      ]
     },
     "execution_count": 214,
     "metadata": {},
     "output_type": "execute_result"
    }
   ],
   "source": [
    "dessert_data.replace(\"\", None, inplace=True)\n",
    "dessert_data.fillna(value=\"no Manufacturer\",inplace=True)\n",
    "dessert_data[\"manufacturer\"].sample(40) "
   ]
  },
  {
   "cell_type": "markdown",
   "metadata": {},
   "source": [
    "Next, we need to extract the contents of the lists in the **tags** column. We define a function to print the content of the list and return it:"
   ]
  },
  {
   "cell_type": "code",
   "execution_count": 215,
   "metadata": {},
   "outputs": [
    {
     "name": "stdout",
     "output_type": "stream",
     "text": [
      "list value of element 0: Include commodity code B367\n",
      "list value of element 0: Include commodity code B368\n",
      "list value of element 0: Latino food\n",
      "list value of element 0: Latino food\n"
     ]
    },
    {
     "data": {
      "text/plain": [
       "0                 []\n",
       "1                 []\n",
       "2                 []\n",
       "3                 []\n",
       "4                 []\n",
       "           ...      \n",
       "387               []\n",
       "388               []\n",
       "389               []\n",
       "390    [Latino food]\n",
       "391    [Latino food]\n",
       "Name: tags, Length: 392, dtype: object"
      ]
     },
     "execution_count": 215,
     "metadata": {},
     "output_type": "execute_result"
    }
   ],
   "source": [
    "def print_list(my_list):\n",
    "    if len(my_list) > 0:\n",
    "        count = 0\n",
    "        for x in my_list:\n",
    "            print(f\"list value of element {count}: {x}\")\n",
    "            count += 1\n",
    "    return my_list\n",
    "dessert_data[\"tags\"].map(print_list)"
   ]
  },
  {
   "cell_type": "markdown",
   "metadata": {},
   "source": [
    "As you can see, we have only 4 list entries actually containing any tags in the entire column. And for those entries, the list has a length of 1, which means we can use a similiar function to extract the values from the list and return them as a string to the dataframe:"
   ]
  },
  {
   "cell_type": "code",
   "execution_count": 216,
   "metadata": {},
   "outputs": [
    {
     "data": {
      "text/html": [
       "<div>\n",
       "<style scoped>\n",
       "    .dataframe tbody tr th:only-of-type {\n",
       "        vertical-align: middle;\n",
       "    }\n",
       "\n",
       "    .dataframe tbody tr th {\n",
       "        vertical-align: top;\n",
       "    }\n",
       "\n",
       "    .dataframe thead th {\n",
       "        text-align: right;\n",
       "    }\n",
       "</style>\n",
       "<table border=\"1\" class=\"dataframe\">\n",
       "  <thead>\n",
       "    <tr style=\"text-align: right;\">\n",
       "      <th></th>\n",
       "      <th>id</th>\n",
       "      <th>description</th>\n",
       "      <th>tags</th>\n",
       "      <th>manufacturer</th>\n",
       "      <th>type</th>\n",
       "    </tr>\n",
       "  </thead>\n",
       "  <tbody>\n",
       "    <tr>\n",
       "      <th>232</th>\n",
       "      <td>18358</td>\n",
       "      <td>Sweet rolls, cinnamon, refrigerated dough with...</td>\n",
       "      <td>no Tags</td>\n",
       "      <td>no Manufacturer</td>\n",
       "      <td>Sweet Bread</td>\n",
       "    </tr>\n",
       "    <tr>\n",
       "      <th>5</th>\n",
       "      <td>18016</td>\n",
       "      <td>Biscuits, plain or buttermilk, prepared from r...</td>\n",
       "      <td>no Tags</td>\n",
       "      <td>no Manufacturer</td>\n",
       "      <td>Biscuits</td>\n",
       "    </tr>\n",
       "    <tr>\n",
       "      <th>25</th>\n",
       "      <td>18042</td>\n",
       "      <td>Whole-wheat Pita Doughnut</td>\n",
       "      <td>no Tags</td>\n",
       "      <td>no Manufacturer</td>\n",
       "      <td>Sweet bread</td>\n",
       "    </tr>\n",
       "    <tr>\n",
       "      <th>272</th>\n",
       "      <td>18432</td>\n",
       "      <td>Bread, white, commercially prepared, toasted, ...</td>\n",
       "      <td>no Tags</td>\n",
       "      <td>no Manufacturer</td>\n",
       "      <td>Sweet Bread</td>\n",
       "    </tr>\n",
       "    <tr>\n",
       "      <th>287</th>\n",
       "      <td>18457</td>\n",
       "      <td>Crackers, saltines, fat-free, low-sodium</td>\n",
       "      <td>no Tags</td>\n",
       "      <td>no Manufacturer</td>\n",
       "      <td>Savory Bread</td>\n",
       "    </tr>\n",
       "    <tr>\n",
       "      <th>23</th>\n",
       "      <td>18040</td>\n",
       "      <td>Oatmeal doughnut (toasted)</td>\n",
       "      <td>no Tags</td>\n",
       "      <td>no Manufacturer</td>\n",
       "      <td>Sweet Bread</td>\n",
       "    </tr>\n",
       "    <tr>\n",
       "      <th>37</th>\n",
       "      <td>18064</td>\n",
       "      <td>Bread, wheat, jam</td>\n",
       "      <td>no Tags</td>\n",
       "      <td>no Manufacturer</td>\n",
       "      <td>Sweet Bread</td>\n",
       "    </tr>\n",
       "    <tr>\n",
       "      <th>237</th>\n",
       "      <td>18365</td>\n",
       "      <td>Waffles, plain, frozen, ready-to-heat</td>\n",
       "      <td>no Tags</td>\n",
       "      <td>no Manufacturer</td>\n",
       "      <td>Biscuits</td>\n",
       "    </tr>\n",
       "    <tr>\n",
       "      <th>191</th>\n",
       "      <td>18290</td>\n",
       "      <td>Pancakes, plain, dry mix, complete, prepared</td>\n",
       "      <td>no Tags</td>\n",
       "      <td>no Manufacturer</td>\n",
       "      <td>Cake</td>\n",
       "    </tr>\n",
       "    <tr>\n",
       "      <th>31</th>\n",
       "      <td>18050</td>\n",
       "      <td>Banana bread, reduced-calorie</td>\n",
       "      <td>no Tags</td>\n",
       "      <td>no Manufacturer</td>\n",
       "      <td>Sweet bread</td>\n",
       "    </tr>\n",
       "  </tbody>\n",
       "</table>\n",
       "</div>"
      ],
      "text/plain": [
       "        id                                        description     tags  \\\n",
       "232  18358  Sweet rolls, cinnamon, refrigerated dough with...  no Tags   \n",
       "5    18016  Biscuits, plain or buttermilk, prepared from r...  no Tags   \n",
       "25   18042                          Whole-wheat Pita Doughnut  no Tags   \n",
       "272  18432  Bread, white, commercially prepared, toasted, ...  no Tags   \n",
       "287  18457           Crackers, saltines, fat-free, low-sodium  no Tags   \n",
       "23   18040                         Oatmeal doughnut (toasted)  no Tags   \n",
       "37   18064                                  Bread, wheat, jam  no Tags   \n",
       "237  18365              Waffles, plain, frozen, ready-to-heat  no Tags   \n",
       "191  18290       Pancakes, plain, dry mix, complete, prepared  no Tags   \n",
       "31   18050                      Banana bread, reduced-calorie  no Tags   \n",
       "\n",
       "        manufacturer          type  \n",
       "232  no Manufacturer   Sweet Bread  \n",
       "5    no Manufacturer      Biscuits  \n",
       "25   no Manufacturer   Sweet bread  \n",
       "272  no Manufacturer   Sweet Bread  \n",
       "287  no Manufacturer  Savory Bread  \n",
       "23   no Manufacturer   Sweet Bread  \n",
       "37   no Manufacturer   Sweet Bread  \n",
       "237  no Manufacturer      Biscuits  \n",
       "191  no Manufacturer          Cake  \n",
       "31   no Manufacturer   Sweet bread  "
      ]
     },
     "execution_count": 216,
     "metadata": {},
     "output_type": "execute_result"
    }
   ],
   "source": [
    "def extract_list_ele(my_list): #returns first content of list if non empty and \"no Tags\" otherwise\n",
    "    if type(my_list) == list: # check if we are working on lists\n",
    "        if len(my_list) == 0:\n",
    "            return \"no Tags\"\n",
    "        else:\n",
    "            return my_list[0]\n",
    "    else: #if not list, do nothing\n",
    "        return my_list\n",
    "\n",
    "dessert_data[\"tags\"]=dessert_data[\"tags\"].map(extract_list_ele)\n",
    "\n",
    "dessert_data.sample(10)"
   ]
  },
  {
   "cell_type": "markdown",
   "metadata": {},
   "source": [
    "lets look at the nutr table and check it for none types:"
   ]
  },
  {
   "cell_type": "code",
   "execution_count": 217,
   "metadata": {},
   "outputs": [
    {
     "data": {
      "text/html": [
       "<div>\n",
       "<style scoped>\n",
       "    .dataframe tbody tr th:only-of-type {\n",
       "        vertical-align: middle;\n",
       "    }\n",
       "\n",
       "    .dataframe tbody tr th {\n",
       "        vertical-align: top;\n",
       "    }\n",
       "\n",
       "    .dataframe thead th {\n",
       "        text-align: right;\n",
       "    }\n",
       "</style>\n",
       "<table border=\"1\" class=\"dataframe\">\n",
       "  <thead>\n",
       "    <tr style=\"text-align: right;\">\n",
       "      <th></th>\n",
       "      <th>value</th>\n",
       "      <th>units</th>\n",
       "      <th>description</th>\n",
       "      <th>type</th>\n",
       "      <th>origin-id</th>\n",
       "      <th>origin-type</th>\n",
       "    </tr>\n",
       "  </thead>\n",
       "  <tbody>\n",
       "    <tr>\n",
       "      <th>8443</th>\n",
       "      <td>0.078</td>\n",
       "      <td>mg</td>\n",
       "      <td>Vitamin B-6</td>\n",
       "      <td>None</td>\n",
       "      <td>18201</td>\n",
       "      <td>Cookies</td>\n",
       "    </tr>\n",
       "  </tbody>\n",
       "</table>\n",
       "</div>"
      ],
      "text/plain": [
       "      value units  description  type origin-id origin-type\n",
       "8443  0.078    mg  Vitamin B-6  None     18201     Cookies"
      ]
     },
     "execution_count": 217,
     "metadata": {},
     "output_type": "execute_result"
    }
   ],
   "source": [
    "nutr_none =dessert_data_nutr[dessert_data_nutr[\"type\"].isna()] #filter out all rows containing a None type val\n",
    "nutr_none"
   ]
  },
  {
   "cell_type": "markdown",
   "metadata": {},
   "source": [
    "We only have one single entry which is None, so we can overwrite it manually with the \"Vitamin\" type:"
   ]
  },
  {
   "cell_type": "code",
   "execution_count": 218,
   "metadata": {},
   "outputs": [
    {
     "data": {
      "text/html": [
       "<div>\n",
       "<style scoped>\n",
       "    .dataframe tbody tr th:only-of-type {\n",
       "        vertical-align: middle;\n",
       "    }\n",
       "\n",
       "    .dataframe tbody tr th {\n",
       "        vertical-align: top;\n",
       "    }\n",
       "\n",
       "    .dataframe thead th {\n",
       "        text-align: right;\n",
       "    }\n",
       "</style>\n",
       "<table border=\"1\" class=\"dataframe\">\n",
       "  <thead>\n",
       "    <tr style=\"text-align: right;\">\n",
       "      <th></th>\n",
       "      <th>value</th>\n",
       "      <th>units</th>\n",
       "      <th>description</th>\n",
       "      <th>type</th>\n",
       "      <th>origin-id</th>\n",
       "      <th>origin-type</th>\n",
       "    </tr>\n",
       "  </thead>\n",
       "  <tbody>\n",
       "  </tbody>\n",
       "</table>\n",
       "</div>"
      ],
      "text/plain": [
       "Empty DataFrame\n",
       "Columns: [value, units, description, type, origin-id, origin-type]\n",
       "Index: []"
      ]
     },
     "execution_count": 218,
     "metadata": {},
     "output_type": "execute_result"
    }
   ],
   "source": [
    "dessert_data_nutr.at[8443,\"type\"] = \"Vitamins\"\n",
    "nutr_none =dessert_data_nutr[dessert_data_nutr[\"type\"].isna()]\n",
    "nutr_none #should be empty now"
   ]
  },
  {
   "cell_type": "markdown",
   "metadata": {},
   "source": [
    "Next, there is one negative value which we need to set to zero: "
   ]
  },
  {
   "cell_type": "code",
   "execution_count": 219,
   "metadata": {},
   "outputs": [
    {
     "data": {
      "text/html": [
       "<div>\n",
       "<style scoped>\n",
       "    .dataframe tbody tr th:only-of-type {\n",
       "        vertical-align: middle;\n",
       "    }\n",
       "\n",
       "    .dataframe tbody tr th {\n",
       "        vertical-align: top;\n",
       "    }\n",
       "\n",
       "    .dataframe thead th {\n",
       "        text-align: right;\n",
       "    }\n",
       "</style>\n",
       "<table border=\"1\" class=\"dataframe\">\n",
       "  <thead>\n",
       "    <tr style=\"text-align: right;\">\n",
       "      <th></th>\n",
       "      <th>value</th>\n",
       "      <th>units</th>\n",
       "      <th>description</th>\n",
       "      <th>type</th>\n",
       "      <th>origin-id</th>\n",
       "      <th>origin-type</th>\n",
       "    </tr>\n",
       "  </thead>\n",
       "  <tbody>\n",
       "    <tr>\n",
       "      <th>416</th>\n",
       "      <td>-88.0</td>\n",
       "      <td>mcg</td>\n",
       "      <td>Folate, total</td>\n",
       "      <td>Vitamins</td>\n",
       "      <td>18017</td>\n",
       "      <td>Biscuits</td>\n",
       "    </tr>\n",
       "  </tbody>\n",
       "</table>\n",
       "</div>"
      ],
      "text/plain": [
       "     value units    description      type origin-id origin-type\n",
       "416  -88.0   mcg  Folate, total  Vitamins     18017    Biscuits"
      ]
     },
     "execution_count": 219,
     "metadata": {},
     "output_type": "execute_result"
    }
   ],
   "source": [
    "dessert_data_nutr[dessert_data_nutr[\"value\"]< 0]"
   ]
  },
  {
   "cell_type": "code",
   "execution_count": 220,
   "metadata": {},
   "outputs": [
    {
     "data": {
      "text/html": [
       "<div>\n",
       "<style scoped>\n",
       "    .dataframe tbody tr th:only-of-type {\n",
       "        vertical-align: middle;\n",
       "    }\n",
       "\n",
       "    .dataframe tbody tr th {\n",
       "        vertical-align: top;\n",
       "    }\n",
       "\n",
       "    .dataframe thead th {\n",
       "        text-align: right;\n",
       "    }\n",
       "</style>\n",
       "<table border=\"1\" class=\"dataframe\">\n",
       "  <thead>\n",
       "    <tr style=\"text-align: right;\">\n",
       "      <th></th>\n",
       "      <th>value</th>\n",
       "      <th>units</th>\n",
       "      <th>description</th>\n",
       "      <th>type</th>\n",
       "      <th>origin-id</th>\n",
       "      <th>origin-type</th>\n",
       "    </tr>\n",
       "  </thead>\n",
       "  <tbody>\n",
       "  </tbody>\n",
       "</table>\n",
       "</div>"
      ],
      "text/plain": [
       "Empty DataFrame\n",
       "Columns: [value, units, description, type, origin-id, origin-type]\n",
       "Index: []"
      ]
     },
     "execution_count": 220,
     "metadata": {},
     "output_type": "execute_result"
    }
   ],
   "source": [
    "dessert_data_nutr.at[416, \"value\"] = 0\n",
    "dessert_data_nutr[dessert_data_nutr[\"value\"]<0]"
   ]
  },
  {
   "cell_type": "markdown",
   "metadata": {},
   "source": [
    "### Exercise 1b)\n",
    "\n"
   ]
  },
  {
   "cell_type": "code",
   "execution_count": null,
   "metadata": {},
   "outputs": [],
   "source": []
  }
 ],
 "metadata": {
  "kernelspec": {
   "display_name": "Python 3.10.7 ('data_science-dDCtDHdq')",
   "language": "python",
   "name": "python3"
  },
  "language_info": {
   "codemirror_mode": {
    "name": "ipython",
    "version": 3
   },
   "file_extension": ".py",
   "mimetype": "text/x-python",
   "name": "python",
   "nbconvert_exporter": "python",
   "pygments_lexer": "ipython3",
   "version": "3.10.7"
  },
  "orig_nbformat": 4,
  "vscode": {
   "interpreter": {
    "hash": "879e0aa37acc94d6458fa173f3288bcea56e82a3b9fca582a9c7d294b714e537"
   }
  }
 },
 "nbformat": 4,
 "nbformat_minor": 2
}
