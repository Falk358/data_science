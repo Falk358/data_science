{
 "cells": [
  {
   "cell_type": "code",
   "execution_count": 37,
   "metadata": {},
   "outputs": [],
   "source": [
    "import pandas as pd\n",
    "import numpy as np\n",
    "import json\n"
   ]
  },
  {
   "cell_type": "markdown",
   "metadata": {},
   "source": [
    "## Exercise 1\n",
    "\n",
    "First we load and take a look at the dataset"
   ]
  },
  {
   "cell_type": "code",
   "execution_count": 38,
   "metadata": {},
   "outputs": [
    {
     "data": {
      "text/html": [
       "<div>\n",
       "<style scoped>\n",
       "    .dataframe tbody tr th:only-of-type {\n",
       "        vertical-align: middle;\n",
       "    }\n",
       "\n",
       "    .dataframe tbody tr th {\n",
       "        vertical-align: top;\n",
       "    }\n",
       "\n",
       "    .dataframe thead th {\n",
       "        text-align: right;\n",
       "    }\n",
       "</style>\n",
       "<table border=\"1\" class=\"dataframe\">\n",
       "  <thead>\n",
       "    <tr style=\"text-align: right;\">\n",
       "      <th></th>\n",
       "      <th>id</th>\n",
       "      <th>description</th>\n",
       "      <th>tags</th>\n",
       "      <th>manufacturer</th>\n",
       "      <th>type</th>\n",
       "    </tr>\n",
       "  </thead>\n",
       "  <tbody>\n",
       "    <tr>\n",
       "      <th>65</th>\n",
       "      <td>18105</td>\n",
       "      <td>Coffeecake, creme-filled with chocolate frosting</td>\n",
       "      <td>[]</td>\n",
       "      <td></td>\n",
       "      <td>Cake</td>\n",
       "    </tr>\n",
       "    <tr>\n",
       "      <th>61</th>\n",
       "      <td>18101</td>\n",
       "      <td>Cake, chocolate, prepared from recipe without ...</td>\n",
       "      <td>[]</td>\n",
       "      <td>None</td>\n",
       "      <td>Cake</td>\n",
       "    </tr>\n",
       "    <tr>\n",
       "      <th>273</th>\n",
       "      <td>18433</td>\n",
       "      <td>Danish pastry, lemon, unenriched</td>\n",
       "      <td>[]</td>\n",
       "      <td></td>\n",
       "      <td>Puff Pastry</td>\n",
       "    </tr>\n",
       "    <tr>\n",
       "      <th>168</th>\n",
       "      <td>18261</td>\n",
       "      <td>English muffins, mixed-grain, toasted (include...</td>\n",
       "      <td>[]</td>\n",
       "      <td>None</td>\n",
       "      <td>Savory Bread</td>\n",
       "    </tr>\n",
       "    <tr>\n",
       "      <th>19</th>\n",
       "      <td>18036</td>\n",
       "      <td>Multi-grain bread with nutella (toasted)</td>\n",
       "      <td>[]</td>\n",
       "      <td>None</td>\n",
       "      <td>Sweet Bread</td>\n",
       "    </tr>\n",
       "    <tr>\n",
       "      <th>153</th>\n",
       "      <td>18233</td>\n",
       "      <td>Crackers, wheat, sandwich, with cheese filling</td>\n",
       "      <td>[]</td>\n",
       "      <td></td>\n",
       "      <td>Savory Bread</td>\n",
       "    </tr>\n",
       "    <tr>\n",
       "      <th>89</th>\n",
       "      <td>18144</td>\n",
       "      <td>Cake, yellow, dry mix, regular, enriched</td>\n",
       "      <td>[]</td>\n",
       "      <td></td>\n",
       "      <td>Cake</td>\n",
       "    </tr>\n",
       "    <tr>\n",
       "      <th>175</th>\n",
       "      <td>18268</td>\n",
       "      <td>French toast, frozen, ready-to-heat</td>\n",
       "      <td>[]</td>\n",
       "      <td></td>\n",
       "      <td>Sweet Bread</td>\n",
       "    </tr>\n",
       "    <tr>\n",
       "      <th>93</th>\n",
       "      <td>18152</td>\n",
       "      <td>Cookies, brownies, dry mix, regular</td>\n",
       "      <td>[]</td>\n",
       "      <td></td>\n",
       "      <td>Cookies</td>\n",
       "    </tr>\n",
       "    <tr>\n",
       "      <th>186</th>\n",
       "      <td>18282</td>\n",
       "      <td>Muffins, corn, prepared from recipe, made with...</td>\n",
       "      <td>[]</td>\n",
       "      <td>None</td>\n",
       "      <td>Muffins</td>\n",
       "    </tr>\n",
       "  </tbody>\n",
       "</table>\n",
       "</div>"
      ],
      "text/plain": [
       "        id                                        description tags  \\\n",
       "65   18105   Coffeecake, creme-filled with chocolate frosting   []   \n",
       "61   18101  Cake, chocolate, prepared from recipe without ...   []   \n",
       "273  18433                   Danish pastry, lemon, unenriched   []   \n",
       "168  18261  English muffins, mixed-grain, toasted (include...   []   \n",
       "19   18036           Multi-grain bread with nutella (toasted)   []   \n",
       "153  18233     Crackers, wheat, sandwich, with cheese filling   []   \n",
       "89   18144           Cake, yellow, dry mix, regular, enriched   []   \n",
       "175  18268                French toast, frozen, ready-to-heat   []   \n",
       "93   18152                Cookies, brownies, dry mix, regular   []   \n",
       "186  18282  Muffins, corn, prepared from recipe, made with...   []   \n",
       "\n",
       "    manufacturer          type  \n",
       "65                        Cake  \n",
       "61          None          Cake  \n",
       "273                Puff Pastry  \n",
       "168         None  Savory Bread  \n",
       "19          None   Sweet Bread  \n",
       "153               Savory Bread  \n",
       "89                        Cake  \n",
       "175                Sweet Bread  \n",
       "93                     Cookies  \n",
       "186         None       Muffins  "
      ]
     },
     "execution_count": 38,
     "metadata": {},
     "output_type": "execute_result"
    }
   ],
   "source": [
    "dessert_data = pd.read_json(\"data/dessert.json\")\n",
    "dessert_data.drop([\"portions\", \"nutrients\"],axis=1,inplace=True)\n",
    "dessert_data.sample(10)\n",
    "\n"
   ]
  },
  {
   "cell_type": "markdown",
   "metadata": {},
   "source": [
    "### Exercise 1a)\n",
    "\n",
    "We decided to replace empty Strings and `None` values with the string \"No manufacturer\" for the **Manufacturer** column:"
   ]
  },
  {
   "cell_type": "code",
   "execution_count": 39,
   "metadata": {},
   "outputs": [
    {
     "data": {
      "text/plain": [
       "60     no Manufacturer\n",
       "321    Archway Cookies\n",
       "69     no Manufacturer\n",
       "115    no Manufacturer\n",
       "226    no Manufacturer\n",
       "371    no Manufacturer\n",
       "82     no Manufacturer\n",
       "159    no Manufacturer\n",
       "340    Archway Cookies\n",
       "223    no Manufacturer\n",
       "242    no Manufacturer\n",
       "171    no Manufacturer\n",
       "317       Kellogg, Co.\n",
       "225    no Manufacturer\n",
       "190    no Manufacturer\n",
       "299       Kellogg, Co.\n",
       "30     no Manufacturer\n",
       "148    no Manufacturer\n",
       "19     no Manufacturer\n",
       "80     no Manufacturer\n",
       "320    Archway Cookies\n",
       "18     no Manufacturer\n",
       "319    Archway Cookies\n",
       "286    no Manufacturer\n",
       "133    no Manufacturer\n",
       "347    Archway Cookies\n",
       "206    no Manufacturer\n",
       "275    no Manufacturer\n",
       "259    no Manufacturer\n",
       "305       Kellogg, Co.\n",
       "312       Kellogg, Co.\n",
       "186    no Manufacturer\n",
       "172    no Manufacturer\n",
       "204    no Manufacturer\n",
       "216    no Manufacturer\n",
       "331    Archway Cookies\n",
       "219    no Manufacturer\n",
       "266    no Manufacturer\n",
       "177    no Manufacturer\n",
       "35     no Manufacturer\n",
       "Name: manufacturer, dtype: object"
      ]
     },
     "execution_count": 39,
     "metadata": {},
     "output_type": "execute_result"
    }
   ],
   "source": [
    "dessert_data.replace(\"\", None, inplace=True)\n",
    "dessert_data.fillna(value=\"no Manufacturer\",inplace=True)\n",
    "dessert_data[\"manufacturer\"].sample(40) "
   ]
  },
  {
   "cell_type": "markdown",
   "metadata": {},
   "source": [
    "Next, we need to extract the contents of the lists in the **tags** column. We define a function to print the content of the list and return it:"
   ]
  },
  {
   "cell_type": "code",
   "execution_count": 40,
   "metadata": {},
   "outputs": [
    {
     "name": "stdout",
     "output_type": "stream",
     "text": [
      "list value of element 0: Include commodity code B367\n",
      "list value of element 0: Include commodity code B368\n",
      "list value of element 0: Latino food\n",
      "list value of element 0: Latino food\n"
     ]
    },
    {
     "data": {
      "text/plain": [
       "0                 []\n",
       "1                 []\n",
       "2                 []\n",
       "3                 []\n",
       "4                 []\n",
       "           ...      \n",
       "387               []\n",
       "388               []\n",
       "389               []\n",
       "390    [Latino food]\n",
       "391    [Latino food]\n",
       "Name: tags, Length: 392, dtype: object"
      ]
     },
     "execution_count": 40,
     "metadata": {},
     "output_type": "execute_result"
    }
   ],
   "source": [
    "def print_list(my_list):\n",
    "    if len(my_list) > 0:\n",
    "        count = 0\n",
    "        for x in my_list:\n",
    "            print(f\"list value of element {count}: {x}\")\n",
    "            count += 1\n",
    "    return my_list\n",
    "dessert_data[\"tags\"].map(print_list)"
   ]
  },
  {
   "cell_type": "markdown",
   "metadata": {},
   "source": [
    "As you can see, we have only 4 list entries actually containing any tags in the entire column. And for those entries, the list has a length of 1, which means we can use a similiar function to extract the values from the list and return them as a string to the dataframe:"
   ]
  },
  {
   "cell_type": "code",
   "execution_count": 41,
   "metadata": {},
   "outputs": [
    {
     "data": {
      "text/html": [
       "<div>\n",
       "<style scoped>\n",
       "    .dataframe tbody tr th:only-of-type {\n",
       "        vertical-align: middle;\n",
       "    }\n",
       "\n",
       "    .dataframe tbody tr th {\n",
       "        vertical-align: top;\n",
       "    }\n",
       "\n",
       "    .dataframe thead th {\n",
       "        text-align: right;\n",
       "    }\n",
       "</style>\n",
       "<table border=\"1\" class=\"dataframe\">\n",
       "  <thead>\n",
       "    <tr style=\"text-align: right;\">\n",
       "      <th></th>\n",
       "      <th>id</th>\n",
       "      <th>description</th>\n",
       "      <th>tags</th>\n",
       "      <th>manufacturer</th>\n",
       "      <th>type</th>\n",
       "    </tr>\n",
       "  </thead>\n",
       "  <tbody>\n",
       "    <tr>\n",
       "      <th>133</th>\n",
       "      <td>18204</td>\n",
       "      <td>Cookies, sugar, commercially prepared, regular...</td>\n",
       "      <td>no Tags</td>\n",
       "      <td>no Manufacturer</td>\n",
       "      <td>Cookies</td>\n",
       "    </tr>\n",
       "    <tr>\n",
       "      <th>139</th>\n",
       "      <td>18213</td>\n",
       "      <td>Cookies, vanilla wafers, higher fat</td>\n",
       "      <td>no Tags</td>\n",
       "      <td>no Manufacturer</td>\n",
       "      <td>Cookies</td>\n",
       "    </tr>\n",
       "    <tr>\n",
       "      <th>214</th>\n",
       "      <td>18334</td>\n",
       "      <td>Pie crust, standard-type, frozen, ready-to-bak...</td>\n",
       "      <td>no Tags</td>\n",
       "      <td>no Manufacturer</td>\n",
       "      <td>Cake</td>\n",
       "    </tr>\n",
       "    <tr>\n",
       "      <th>215</th>\n",
       "      <td>18335</td>\n",
       "      <td>Pie crust, standard-type, frozen, ready-to-bak...</td>\n",
       "      <td>no Tags</td>\n",
       "      <td>no Manufacturer</td>\n",
       "      <td>Cake</td>\n",
       "    </tr>\n",
       "    <tr>\n",
       "      <th>20</th>\n",
       "      <td>18037</td>\n",
       "      <td>Healthy Bread with oat bran and cream</td>\n",
       "      <td>no Tags</td>\n",
       "      <td>no Manufacturer</td>\n",
       "      <td>Sweet Bread</td>\n",
       "    </tr>\n",
       "    <tr>\n",
       "      <th>293</th>\n",
       "      <td>18479</td>\n",
       "      <td>Toaster Pastries, KELLOGG, KELLOGG'S POP TARTS...</td>\n",
       "      <td>no Tags</td>\n",
       "      <td>Kellogg, Co.</td>\n",
       "      <td>Toaster Pastries</td>\n",
       "    </tr>\n",
       "    <tr>\n",
       "      <th>292</th>\n",
       "      <td>18478</td>\n",
       "      <td>Toaster Pastries, KELLOGG, KELLOGG'S POP TARTS...</td>\n",
       "      <td>no Tags</td>\n",
       "      <td>Kellogg, Co.</td>\n",
       "      <td>Toaster Pastries</td>\n",
       "    </tr>\n",
       "    <tr>\n",
       "      <th>24</th>\n",
       "      <td>18041</td>\n",
       "      <td>White Pita Doughnut</td>\n",
       "      <td>no Tags</td>\n",
       "      <td>no Manufacturer</td>\n",
       "      <td>Sweet Breads</td>\n",
       "    </tr>\n",
       "    <tr>\n",
       "      <th>369</th>\n",
       "      <td>18640</td>\n",
       "      <td>HEINZ, WEIGHT WATCHER, Chocolate Eclair, frozen</td>\n",
       "      <td>no Tags</td>\n",
       "      <td>H.J. Heinz, Co.</td>\n",
       "      <td>Cream Puff</td>\n",
       "    </tr>\n",
       "    <tr>\n",
       "      <th>202</th>\n",
       "      <td>18309</td>\n",
       "      <td>Pie, cherry, prepared from recipe</td>\n",
       "      <td>no Tags</td>\n",
       "      <td>no Manufacturer</td>\n",
       "      <td>Cake</td>\n",
       "    </tr>\n",
       "  </tbody>\n",
       "</table>\n",
       "</div>"
      ],
      "text/plain": [
       "        id                                        description     tags  \\\n",
       "133  18204  Cookies, sugar, commercially prepared, regular...  no Tags   \n",
       "139  18213                Cookies, vanilla wafers, higher fat  no Tags   \n",
       "214  18334  Pie crust, standard-type, frozen, ready-to-bak...  no Tags   \n",
       "215  18335  Pie crust, standard-type, frozen, ready-to-bak...  no Tags   \n",
       "20   18037              Healthy Bread with oat bran and cream  no Tags   \n",
       "293  18479  Toaster Pastries, KELLOGG, KELLOGG'S POP TARTS...  no Tags   \n",
       "292  18478  Toaster Pastries, KELLOGG, KELLOGG'S POP TARTS...  no Tags   \n",
       "24   18041                                White Pita Doughnut  no Tags   \n",
       "369  18640    HEINZ, WEIGHT WATCHER, Chocolate Eclair, frozen  no Tags   \n",
       "202  18309                  Pie, cherry, prepared from recipe  no Tags   \n",
       "\n",
       "        manufacturer              type  \n",
       "133  no Manufacturer           Cookies  \n",
       "139  no Manufacturer           Cookies  \n",
       "214  no Manufacturer              Cake  \n",
       "215  no Manufacturer              Cake  \n",
       "20   no Manufacturer       Sweet Bread  \n",
       "293     Kellogg, Co.  Toaster Pastries  \n",
       "292     Kellogg, Co.  Toaster Pastries  \n",
       "24   no Manufacturer      Sweet Breads  \n",
       "369  H.J. Heinz, Co.        Cream Puff  \n",
       "202  no Manufacturer              Cake  "
      ]
     },
     "execution_count": 41,
     "metadata": {},
     "output_type": "execute_result"
    }
   ],
   "source": [
    "def extract_list_ele(my_list): #returns first content of list if non empty and \"no Tags\" otherwise\n",
    "    if type(my_list) == list: # check if we are working on lists\n",
    "        if len(my_list) == 0:\n",
    "            return \"no Tags\"\n",
    "        else:\n",
    "            return my_list[0]\n",
    "    else: #if not list, do nothing\n",
    "        return my_list\n",
    "\n",
    "dessert_data[\"tags\"]=dessert_data[\"tags\"].map(extract_list_ele)\n",
    "\n",
    "dessert_data.sample(10)"
   ]
  },
  {
   "cell_type": "markdown",
   "metadata": {},
   "source": [
    "We need to consolidate different types of spellings in the `type` column:"
   ]
  },
  {
   "cell_type": "code",
   "execution_count": 42,
   "metadata": {},
   "outputs": [
    {
     "data": {
      "text/plain": [
       "array(['Biscuits', 'Sweet Bread', 'Savory Bread', 'Sweet bread',\n",
       "       'Sweet Breads', 'no Manufacturer', 'Cake', 'Cookies', 'Coookies',\n",
       "       'Puff Pastry', 'Savory bread', 'Cream Puff', 'Muffins',\n",
       "       'sweet bread', 'Muffin', 'Toaster Pastries', 'Muesli', 'Biscuit',\n",
       "       'Cookie'], dtype=object)"
      ]
     },
     "execution_count": 42,
     "metadata": {},
     "output_type": "execute_result"
    }
   ],
   "source": [
    "dessert_data[\"type\"].unique()"
   ]
  },
  {
   "cell_type": "code",
   "execution_count": 43,
   "metadata": {},
   "outputs": [],
   "source": [
    "dessert_data.replace(\"Sweet Breads\", \"Sweet Bread\", inplace=True)\n",
    "dessert_data.replace(\"sweet bread\", \"Sweet Bread\", inplace=True)\n",
    "dessert_data.replace(\"Sweet bread\", \"Sweet Bread\", inplace=True)\n",
    "\n",
    "dessert_data.replace(\"Cookies\", \"Cookie\", inplace=True)\n",
    "dessert_data.replace(\"Coookies\", \"Cookie\", inplace=True)\n",
    "\n",
    "dessert_data.replace(\"Biscuits\", \"Biscuit\", inplace=True)\n",
    "\n",
    "dessert_data.replace(\"Muffins\", \"Muffin\", inplace=True)\n",
    "\n",
    "dessert_data.replace(\"Savory bread\", \"Savory Bread\", inplace=True)"
   ]
  },
  {
   "cell_type": "markdown",
   "metadata": {},
   "source": [
    "Furthermore, we are going to flatten the `nutrients` and `portions` columns with `json_normalize()`:"
   ]
  },
  {
   "cell_type": "code",
   "execution_count": 44,
   "metadata": {},
   "outputs": [],
   "source": [
    "with open(\"data/dessert.json\") as json_file: \n",
    "    dessert_json = json.load(json_file)\n",
    "    \n",
    "dessert_data_port = pd.json_normalize(dessert_json, record_path=[\"portions\"],meta=[\"id\",\"type\"],meta_prefix=\"origin-\") # flatten json object into separate df\n",
    "dessert_data_nutr = pd.json_normalize(dessert_json, record_path=[\"nutrients\"],meta=[\"id\",\"type\"], meta_prefix=\"origin-\") # flatten json object into separate df"
   ]
  },
  {
   "cell_type": "markdown",
   "metadata": {},
   "source": [
    "since we are loading from the json, we need to consolidate `type` again:"
   ]
  },
  {
   "cell_type": "code",
   "execution_count": 45,
   "metadata": {},
   "outputs": [],
   "source": [
    "dessert_data_nutr.replace(\"Sweet Breads\", \"Sweet Bread\", inplace=True)\n",
    "dessert_data_nutr.replace(\"sweet bread\", \"Sweet Bread\", inplace=True)\n",
    "dessert_data_nutr.replace(\"Sweet bread\", \"Sweet Bread\", inplace=True)\n",
    "\n",
    "dessert_data_nutr.replace(\"Cookies\", \"Cookie\", inplace=True)\n",
    "dessert_data_nutr.replace(\"Coookies\", \"Cookie\", inplace=True)\n",
    "\n",
    "dessert_data_nutr.replace(\"Biscuits\", \"Biscuit\", inplace=True)\n",
    "\n",
    "dessert_data_nutr.replace(\"Muffins\", \"Muffin\", inplace=True)\n",
    "\n",
    "dessert_data_nutr.replace(\"Savory bread\", \"Savory Bread\", inplace=True)\n",
    "\n",
    "\n",
    "\n",
    "dessert_data_port.replace(\"Sweet Breads\", \"Sweet Bread\", inplace=True)\n",
    "dessert_data_port.replace(\"sweet bread\", \"Sweet Bread\", inplace=True)\n",
    "dessert_data_port.replace(\"Sweet bread\", \"Sweet Bread\", inplace=True)\n",
    "\n",
    "dessert_data_port.replace(\"Cookies\", \"Cookie\", inplace=True)\n",
    "dessert_data_port.replace(\"Coookies\", \"Cookie\", inplace=True)\n",
    "\n",
    "dessert_data_port.replace(\"Biscuits\", \"Biscuit\", inplace=True)\n",
    "\n",
    "dessert_data_port.replace(\"Muffins\", \"Muffin\", inplace=True)\n",
    "\n",
    "dessert_data_port.replace(\"Savory bread\", \"Savory Bread\", inplace=True)"
   ]
  },
  {
   "cell_type": "markdown",
   "metadata": {},
   "source": [
    "lets look at the nutr table and check it for none types:"
   ]
  },
  {
   "cell_type": "code",
   "execution_count": 46,
   "metadata": {},
   "outputs": [
    {
     "data": {
      "text/html": [
       "<div>\n",
       "<style scoped>\n",
       "    .dataframe tbody tr th:only-of-type {\n",
       "        vertical-align: middle;\n",
       "    }\n",
       "\n",
       "    .dataframe tbody tr th {\n",
       "        vertical-align: top;\n",
       "    }\n",
       "\n",
       "    .dataframe thead th {\n",
       "        text-align: right;\n",
       "    }\n",
       "</style>\n",
       "<table border=\"1\" class=\"dataframe\">\n",
       "  <thead>\n",
       "    <tr style=\"text-align: right;\">\n",
       "      <th></th>\n",
       "      <th>value</th>\n",
       "      <th>units</th>\n",
       "      <th>description</th>\n",
       "      <th>type</th>\n",
       "      <th>origin-id</th>\n",
       "      <th>origin-type</th>\n",
       "    </tr>\n",
       "  </thead>\n",
       "  <tbody>\n",
       "    <tr>\n",
       "      <th>8443</th>\n",
       "      <td>0.078</td>\n",
       "      <td>mg</td>\n",
       "      <td>Vitamin B-6</td>\n",
       "      <td>None</td>\n",
       "      <td>18201</td>\n",
       "      <td>Cookie</td>\n",
       "    </tr>\n",
       "  </tbody>\n",
       "</table>\n",
       "</div>"
      ],
      "text/plain": [
       "      value units  description  type  origin-id origin-type\n",
       "8443  0.078    mg  Vitamin B-6  None      18201      Cookie"
      ]
     },
     "execution_count": 46,
     "metadata": {},
     "output_type": "execute_result"
    }
   ],
   "source": [
    "nutr_none =dessert_data_nutr[dessert_data_nutr[\"type\"].isna()] #filter out all rows containing a None type val\n",
    "nutr_none"
   ]
  },
  {
   "cell_type": "markdown",
   "metadata": {},
   "source": [
    "We only have one single entry which is None, so we can overwrite it manually with the \"Vitamin\" type:"
   ]
  },
  {
   "cell_type": "code",
   "execution_count": 47,
   "metadata": {},
   "outputs": [
    {
     "data": {
      "text/html": [
       "<div>\n",
       "<style scoped>\n",
       "    .dataframe tbody tr th:only-of-type {\n",
       "        vertical-align: middle;\n",
       "    }\n",
       "\n",
       "    .dataframe tbody tr th {\n",
       "        vertical-align: top;\n",
       "    }\n",
       "\n",
       "    .dataframe thead th {\n",
       "        text-align: right;\n",
       "    }\n",
       "</style>\n",
       "<table border=\"1\" class=\"dataframe\">\n",
       "  <thead>\n",
       "    <tr style=\"text-align: right;\">\n",
       "      <th></th>\n",
       "      <th>value</th>\n",
       "      <th>units</th>\n",
       "      <th>description</th>\n",
       "      <th>type</th>\n",
       "      <th>origin-id</th>\n",
       "      <th>origin-type</th>\n",
       "    </tr>\n",
       "  </thead>\n",
       "  <tbody>\n",
       "  </tbody>\n",
       "</table>\n",
       "</div>"
      ],
      "text/plain": [
       "Empty DataFrame\n",
       "Columns: [value, units, description, type, origin-id, origin-type]\n",
       "Index: []"
      ]
     },
     "execution_count": 47,
     "metadata": {},
     "output_type": "execute_result"
    }
   ],
   "source": [
    "dessert_data_nutr.at[8443,\"type\"] = \"Vitamins\"\n",
    "nutr_none =dessert_data_nutr[dessert_data_nutr[\"type\"].isna()]\n",
    "nutr_none #should be empty now"
   ]
  },
  {
   "cell_type": "markdown",
   "metadata": {},
   "source": [
    "Next, there is one negative value which we need to set to zero: "
   ]
  },
  {
   "cell_type": "code",
   "execution_count": 48,
   "metadata": {},
   "outputs": [
    {
     "data": {
      "text/html": [
       "<div>\n",
       "<style scoped>\n",
       "    .dataframe tbody tr th:only-of-type {\n",
       "        vertical-align: middle;\n",
       "    }\n",
       "\n",
       "    .dataframe tbody tr th {\n",
       "        vertical-align: top;\n",
       "    }\n",
       "\n",
       "    .dataframe thead th {\n",
       "        text-align: right;\n",
       "    }\n",
       "</style>\n",
       "<table border=\"1\" class=\"dataframe\">\n",
       "  <thead>\n",
       "    <tr style=\"text-align: right;\">\n",
       "      <th></th>\n",
       "      <th>value</th>\n",
       "      <th>units</th>\n",
       "      <th>description</th>\n",
       "      <th>type</th>\n",
       "      <th>origin-id</th>\n",
       "      <th>origin-type</th>\n",
       "    </tr>\n",
       "  </thead>\n",
       "  <tbody>\n",
       "    <tr>\n",
       "      <th>416</th>\n",
       "      <td>-88.0</td>\n",
       "      <td>mcg</td>\n",
       "      <td>Folate, total</td>\n",
       "      <td>Vitamins</td>\n",
       "      <td>18017</td>\n",
       "      <td>Biscuit</td>\n",
       "    </tr>\n",
       "  </tbody>\n",
       "</table>\n",
       "</div>"
      ],
      "text/plain": [
       "     value units    description      type  origin-id origin-type\n",
       "416  -88.0   mcg  Folate, total  Vitamins      18017     Biscuit"
      ]
     },
     "execution_count": 48,
     "metadata": {},
     "output_type": "execute_result"
    }
   ],
   "source": [
    "dessert_data_nutr[dessert_data_nutr[\"value\"]< 0]"
   ]
  },
  {
   "cell_type": "code",
   "execution_count": 49,
   "metadata": {},
   "outputs": [
    {
     "data": {
      "text/html": [
       "<div>\n",
       "<style scoped>\n",
       "    .dataframe tbody tr th:only-of-type {\n",
       "        vertical-align: middle;\n",
       "    }\n",
       "\n",
       "    .dataframe tbody tr th {\n",
       "        vertical-align: top;\n",
       "    }\n",
       "\n",
       "    .dataframe thead th {\n",
       "        text-align: right;\n",
       "    }\n",
       "</style>\n",
       "<table border=\"1\" class=\"dataframe\">\n",
       "  <thead>\n",
       "    <tr style=\"text-align: right;\">\n",
       "      <th></th>\n",
       "      <th>value</th>\n",
       "      <th>units</th>\n",
       "      <th>description</th>\n",
       "      <th>type</th>\n",
       "      <th>origin-id</th>\n",
       "      <th>origin-type</th>\n",
       "    </tr>\n",
       "  </thead>\n",
       "  <tbody>\n",
       "  </tbody>\n",
       "</table>\n",
       "</div>"
      ],
      "text/plain": [
       "Empty DataFrame\n",
       "Columns: [value, units, description, type, origin-id, origin-type]\n",
       "Index: []"
      ]
     },
     "execution_count": 49,
     "metadata": {},
     "output_type": "execute_result"
    }
   ],
   "source": [
    "dessert_data_nutr.at[416, \"value\"] = 0\n",
    "dessert_data_nutr[dessert_data_nutr[\"value\"]<0]"
   ]
  },
  {
   "cell_type": "markdown",
   "metadata": {},
   "source": [
    "### Exercise 1b)\n",
    "\n"
   ]
  },
  {
   "cell_type": "code",
   "execution_count": 50,
   "metadata": {},
   "outputs": [
    {
     "data": {
      "text/plain": [
       "array(['Biscuit', 'Sweet Bread', 'Savory Bread', 'no Manufacturer',\n",
       "       'Cake', 'Cookie', 'Puff Pastry', 'Cream Puff', 'Muffin',\n",
       "       'Toaster Pastries', 'Muesli'], dtype=object)"
      ]
     },
     "execution_count": 50,
     "metadata": {},
     "output_type": "execute_result"
    }
   ],
   "source": [
    "#get unique dessert types\n",
    "dessert_data[\"type\"].unique()\n"
   ]
  },
  {
   "cell_type": "code",
   "execution_count": 51,
   "metadata": {},
   "outputs": [
    {
     "data": {
      "text/plain": [
       "<AxesSubplot:>"
      ]
     },
     "execution_count": 51,
     "metadata": {},
     "output_type": "execute_result"
    },
    {
     "data": {
      "image/png": "[encoded data removed]",
      "text/plain": [
       "<Figure size 432x288 with 1 Axes>"
      ]
     },
     "metadata": {
      "needs_background": "light"
     },
     "output_type": "display_data"
    }
   ],
   "source": [
    "#get dessert type distribution\n",
    "dessert_data[\"type\"].value_counts().plot.bar()"
   ]
  },
  {
   "cell_type": "markdown",
   "metadata": {},
   "source": [
    "### Exercise 1 c)\n",
    "\n",
    "We need to display the median of vitamins by food type. In order to achieve this, we use the `groupby()` method:"
   ]
  },
  {
   "cell_type": "code",
   "execution_count": 59,
   "metadata": {},
   "outputs": [
    {
     "data": {
      "text/html": [
       "<div>\n",
       "<style scoped>\n",
       "    .dataframe tbody tr th:only-of-type {\n",
       "        vertical-align: middle;\n",
       "    }\n",
       "\n",
       "    .dataframe tbody tr th {\n",
       "        vertical-align: top;\n",
       "    }\n",
       "\n",
       "    .dataframe thead th {\n",
       "        text-align: right;\n",
       "    }\n",
       "</style>\n",
       "<table border=\"1\" class=\"dataframe\">\n",
       "  <thead>\n",
       "    <tr style=\"text-align: right;\">\n",
       "      <th></th>\n",
       "      <th>value</th>\n",
       "    </tr>\n",
       "    <tr>\n",
       "      <th>origin-type</th>\n",
       "      <th></th>\n",
       "    </tr>\n",
       "  </thead>\n",
       "  <tbody>\n",
       "    <tr>\n",
       "      <th>Biscuit</th>\n",
       "      <td>2.0000</td>\n",
       "    </tr>\n",
       "    <tr>\n",
       "      <th>Cake</th>\n",
       "      <td>0.5000</td>\n",
       "    </tr>\n",
       "    <tr>\n",
       "      <th>Cookie</th>\n",
       "      <td>1.7000</td>\n",
       "    </tr>\n",
       "    <tr>\n",
       "      <th>Cream Puff</th>\n",
       "      <td>1.4000</td>\n",
       "    </tr>\n",
       "    <tr>\n",
       "      <th>Muesli</th>\n",
       "      <td>4.9500</td>\n",
       "    </tr>\n",
       "    <tr>\n",
       "      <th>Muffin</th>\n",
       "      <td>0.7500</td>\n",
       "    </tr>\n",
       "    <tr>\n",
       "      <th>Puff Pastry</th>\n",
       "      <td>0.5415</td>\n",
       "    </tr>\n",
       "    <tr>\n",
       "      <th>Savory Bread</th>\n",
       "      <td>0.6040</td>\n",
       "    </tr>\n",
       "    <tr>\n",
       "      <th>Sweet Bread</th>\n",
       "      <td>0.5340</td>\n",
       "    </tr>\n",
       "    <tr>\n",
       "      <th>Toaster Pastries</th>\n",
       "      <td>4.3650</td>\n",
       "    </tr>\n",
       "  </tbody>\n",
       "</table>\n",
       "</div>"
      ],
      "text/plain": [
       "                   value\n",
       "origin-type             \n",
       "Biscuit           2.0000\n",
       "Cake              0.5000\n",
       "Cookie            1.7000\n",
       "Cream Puff        1.4000\n",
       "Muesli            4.9500\n",
       "Muffin            0.7500\n",
       "Puff Pastry       0.5415\n",
       "Savory Bread      0.6040\n",
       "Sweet Bread       0.5340\n",
       "Toaster Pastries  4.3650"
      ]
     },
     "execution_count": 59,
     "metadata": {},
     "output_type": "execute_result"
    }
   ],
   "source": [
    "dessert_data_nutr.drop(\"origin-id\",axis=1).groupby([\"origin-type\"]).median(True)"
   ]
  }
 ],
 "metadata": {
  "kernelspec": {
   "display_name": "Python 3.10.7 ('data_science-dDCtDHdq')",
   "language": "python",
   "name": "python3"
  },
  "language_info": {
   "codemirror_mode": {
    "name": "ipython",
    "version": 3
   },
   "file_extension": ".py",
   "mimetype": "text/x-python",
   "name": "python",
   "nbconvert_exporter": "python",
   "pygments_lexer": "ipython3",
   "version": "3.10.7"
  },
  "orig_nbformat": 4,
  "vscode": {
   "interpreter": {
    "hash": "879e0aa37acc94d6458fa173f3288bcea56e82a3b9fca582a9c7d294b714e537"
   }
  }
 },
 "nbformat": 4,
 "nbformat_minor": 2
}
