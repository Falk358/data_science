{
 "cells": [
  {
   "cell_type": "markdown",
   "metadata": {},
   "source": [
    "# Exercise 2"
   ]
  },
  {
   "cell_type": "code",
   "execution_count": 31,
   "metadata": {},
   "outputs": [],
   "source": [
    "import pandas as pd\n",
    "import numpy as np\n",
    "import matplotlib.pyplot as plt\n",
    "from scipy import stats\n",
    "\n",
    "\n",
    "pd.set_option('display.float_format', lambda x: '%.5f' % x)"
   ]
  },
  {
   "cell_type": "markdown",
   "metadata": {},
   "source": [
    "First, we load our data and have a look at it."
   ]
  },
  {
   "cell_type": "code",
   "execution_count": 32,
   "metadata": {},
   "outputs": [
    {
     "data": {
      "text/html": [
       "<div>\n",
       "<style scoped>\n",
       "    .dataframe tbody tr th:only-of-type {\n",
       "        vertical-align: middle;\n",
       "    }\n",
       "\n",
       "    .dataframe tbody tr th {\n",
       "        vertical-align: top;\n",
       "    }\n",
       "\n",
       "    .dataframe thead th {\n",
       "        text-align: right;\n",
       "    }\n",
       "</style>\n",
       "<table border=\"1\" class=\"dataframe\">\n",
       "  <thead>\n",
       "    <tr style=\"text-align: right;\">\n",
       "      <th></th>\n",
       "      <th>video_id</th>\n",
       "      <th>trending_date</th>\n",
       "      <th>title</th>\n",
       "      <th>channel_title</th>\n",
       "      <th>category_id</th>\n",
       "      <th>publish_time</th>\n",
       "      <th>tags</th>\n",
       "      <th>views</th>\n",
       "      <th>likes</th>\n",
       "      <th>dislikes</th>\n",
       "      <th>comment_count</th>\n",
       "      <th>thumbnail_link</th>\n",
       "      <th>comments_disabled</th>\n",
       "      <th>ratings_disabled</th>\n",
       "      <th>video_error_or_removed</th>\n",
       "      <th>description</th>\n",
       "      <th>Country</th>\n",
       "    </tr>\n",
       "  </thead>\n",
       "  <tbody>\n",
       "    <tr>\n",
       "      <th>59183</th>\n",
       "      <td>xX1w5qaJ6l8</td>\n",
       "      <td>18.26.02</td>\n",
       "      <td>Das magnetische Wasser (Teil 2) | Verstehen Si...</td>\n",
       "      <td>Verstehen Sie Spaß?</td>\n",
       "      <td>24.00000</td>\n",
       "      <td>24.02.2018 12:00</td>\n",
       "      <td>verstehen sie spaß|\"verstehen sie spass\"|\"vers...</td>\n",
       "      <td>64041.00000</td>\n",
       "      <td>2483.00000</td>\n",
       "      <td>168.00000</td>\n",
       "      <td>318.00000</td>\n",
       "      <td>https://i.ytimg.com/vi/xX1w5qaJ6l8/default.jpg</td>\n",
       "      <td>FALSCH</td>\n",
       "      <td>FALSCH</td>\n",
       "      <td>FALSCH</td>\n",
       "      <td>Den Passanten in einer Einkaufspassage wird ei...</td>\n",
       "      <td>Germany</td>\n",
       "    </tr>\n",
       "    <tr>\n",
       "      <th>135603</th>\n",
       "      <td>oI42BohDabU</td>\n",
       "      <td>18.16.02</td>\n",
       "      <td>Katy Perry Watches Fan Covers On YouTube | Gla...</td>\n",
       "      <td>Glamour Magazine</td>\n",
       "      <td>24.00000</td>\n",
       "      <td>06.02.2018 14:01</td>\n",
       "      <td>you sang my song|\"watching fan covers\"|\"fan co...</td>\n",
       "      <td>2955298.00000</td>\n",
       "      <td>88763.00000</td>\n",
       "      <td>1767.00000</td>\n",
       "      <td>3385.00000</td>\n",
       "      <td>https://i.ytimg.com/vi/oI42BohDabU/default.jpg</td>\n",
       "      <td>FALSCH</td>\n",
       "      <td>FALSCH</td>\n",
       "      <td>FALSCH</td>\n",
       "      <td>On this episode of You Sang My Song, Katy Perr...</td>\n",
       "      <td>Great Britain</td>\n",
       "    </tr>\n",
       "    <tr>\n",
       "      <th>86285</th>\n",
       "      <td>CA6iiiLk_uQ</td>\n",
       "      <td>172012</td>\n",
       "      <td>Top 6 des femmes scientifiques qui se sont fai...</td>\n",
       "      <td>Topito</td>\n",
       "      <td>24.00000</td>\n",
       "      <td>18.12.2017 17:00</td>\n",
       "      <td>Topito\"|\"Top\"|\"Liste\"|\"science\"|\"femme\"|\"décou...</td>\n",
       "      <td>288894.00000</td>\n",
       "      <td>20250.00000</td>\n",
       "      <td>676.00000</td>\n",
       "      <td>1464.00000</td>\n",
       "      <td>https://i.ytimg.com/vi/CA6iiiLk_uQ/default.jpg</td>\n",
       "      <td>FALSCH</td>\n",
       "      <td>FALSCH</td>\n",
       "      <td>FALSCH</td>\n",
       "      <td>Parce qu'à part Marie Curie, il faut bien reco...</td>\n",
       "      <td>France</td>\n",
       "    </tr>\n",
       "    <tr>\n",
       "      <th>749</th>\n",
       "      <td>tl_1Fgs2fy8</td>\n",
       "      <td>171711</td>\n",
       "      <td>Budweiser | One Last Ride</td>\n",
       "      <td>Budweiser</td>\n",
       "      <td>24.00000</td>\n",
       "      <td>14.11.2017 14:26</td>\n",
       "      <td>nascar|\"budweiser\"|\"dale earnhardt jr\"|\"junior...</td>\n",
       "      <td>317426.00000</td>\n",
       "      <td>2784.00000</td>\n",
       "      <td>25.00000</td>\n",
       "      <td>218.00000</td>\n",
       "      <td>https://i.ytimg.com/vi/tl_1Fgs2fy8/default.jpg</td>\n",
       "      <td>FALSCH</td>\n",
       "      <td>FALSCH</td>\n",
       "      <td>FALSCH</td>\n",
       "      <td>Dale Jr. drove the Bud car for eight years. To...</td>\n",
       "      <td>Canada</td>\n",
       "    </tr>\n",
       "    <tr>\n",
       "      <th>77271</th>\n",
       "      <td>ehnh_1eghMo</td>\n",
       "      <td>18.05.2006</td>\n",
       "      <td>10 BESTEN TRAVEL-HACKS | mit meiner Mom</td>\n",
       "      <td>Faye Montana</td>\n",
       "      <td>24.00000</td>\n",
       "      <td>04.06.2018 18:00</td>\n",
       "      <td>Hacks|\"Travel\"|\"Travelhacks\"|\"Urlaub\"|\"Reise\"|...</td>\n",
       "      <td>38743.00000</td>\n",
       "      <td>3286.00000</td>\n",
       "      <td>70.00000</td>\n",
       "      <td>363.00000</td>\n",
       "      <td>https://i.ytimg.com/vi/ehnh_1eghMo/default.jpg</td>\n",
       "      <td>FALSCH</td>\n",
       "      <td>FALSCH</td>\n",
       "      <td>FALSCH</td>\n",
       "      <td>Ladet euch die Urlaubsgruss-App runter und sch...</td>\n",
       "      <td>Germany</td>\n",
       "    </tr>\n",
       "    <tr>\n",
       "      <th>20972</th>\n",
       "      <td>2bxw_1Un9S4</td>\n",
       "      <td>180603</td>\n",
       "      <td>Jimmy Kimmel's Oscars 2018 Opening Monologue</td>\n",
       "      <td>ABC Television Network</td>\n",
       "      <td>24.00000</td>\n",
       "      <td>05.03.2018 02:54</td>\n",
       "      <td>oscars|\"academy\"|\"awards\"|\"statue\"|\"ceremony\"|...</td>\n",
       "      <td>1051114.00000</td>\n",
       "      <td>5800.00000</td>\n",
       "      <td>1878.00000</td>\n",
       "      <td>1553.00000</td>\n",
       "      <td>https://i.ytimg.com/vi/2bxw_1Un9S4/default.jpg</td>\n",
       "      <td>FALSCH</td>\n",
       "      <td>FALSCH</td>\n",
       "      <td>FALSCH</td>\n",
       "      <td>Watch Jimmy Kimmel's opening monologue from th...</td>\n",
       "      <td>Canada</td>\n",
       "    </tr>\n",
       "    <tr>\n",
       "      <th>47427</th>\n",
       "      <td>SG5al5UTolU</td>\n",
       "      <td>17.26.12</td>\n",
       "      <td>Christmas chaos: WWE Top 10, Dec. 25, 2017</td>\n",
       "      <td>WWE</td>\n",
       "      <td>17.00000</td>\n",
       "      <td>25.12.2017 16:00</td>\n",
       "      <td>wwe|\"world wrestling entertainment\"|\"wrestling...</td>\n",
       "      <td>1367546.00000</td>\n",
       "      <td>30023.00000</td>\n",
       "      <td>866.00000</td>\n",
       "      <td>1445.00000</td>\n",
       "      <td>https://i.ytimg.com/vi/SG5al5UTolU/default.jpg</td>\n",
       "      <td>FALSCH</td>\n",
       "      <td>FALSCH</td>\n",
       "      <td>FALSCH</td>\n",
       "      <td>The holiday season is the most wonderful time ...</td>\n",
       "      <td>Germany</td>\n",
       "    </tr>\n",
       "    <tr>\n",
       "      <th>44614</th>\n",
       "      <td>#NAME?</td>\n",
       "      <td>17.12.2012</td>\n",
       "      <td>das eis war nicht stark genug...</td>\n",
       "      <td>iCrimax</td>\n",
       "      <td>24.00000</td>\n",
       "      <td>11.12.2017 15:30</td>\n",
       "      <td>funny|\"kid friendly\"|\"family friendly\"|\"funny ...</td>\n",
       "      <td>90289.00000</td>\n",
       "      <td>6540.00000</td>\n",
       "      <td>442.00000</td>\n",
       "      <td>581.00000</td>\n",
       "      <td>https://i.ytimg.com/vi/-mCPxSHIrPc/default.jpg</td>\n",
       "      <td>FALSCH</td>\n",
       "      <td>FALSCH</td>\n",
       "      <td>FALSCH</td>\n",
       "      <td>Wir reagier aufe Icefail Compilations\\n►Meine ...</td>\n",
       "      <td>Germany</td>\n",
       "    </tr>\n",
       "    <tr>\n",
       "      <th>133084</th>\n",
       "      <td>Geg4yDxZZDs</td>\n",
       "      <td>18.31.01</td>\n",
       "      <td>En Vogue - Rocket</td>\n",
       "      <td>EnVogueVEVO</td>\n",
       "      <td>10.00000</td>\n",
       "      <td>22.01.2018 17:20</td>\n",
       "      <td>En|\"Vogue\"|\"Rocket\"|\"Records\"|\"R&amp;B/Soul\"|\"Soul\"</td>\n",
       "      <td>364668.00000</td>\n",
       "      <td>15121.00000</td>\n",
       "      <td>721.00000</td>\n",
       "      <td>2371.00000</td>\n",
       "      <td>https://i.ytimg.com/vi/Geg4yDxZZDs/default.jpg</td>\n",
       "      <td>FALSCH</td>\n",
       "      <td>FALSCH</td>\n",
       "      <td>FALSCH</td>\n",
       "      <td>En Vogue Rocket \\nGet the new En Vogue single ...</td>\n",
       "      <td>Great Britain</td>\n",
       "    </tr>\n",
       "    <tr>\n",
       "      <th>62256</th>\n",
       "      <td>T2rlnGk19hQ</td>\n",
       "      <td>18.14.03</td>\n",
       "      <td>Ostertorte / Sahnetorte / Torte</td>\n",
       "      <td>Silvia W-K</td>\n",
       "      <td>22.00000</td>\n",
       "      <td>11.03.2018 13:02</td>\n",
       "      <td>Tipps|\"Tricks\"|\"Backen\"|\"Kochen\"|\"Garten\"|\"Hau...</td>\n",
       "      <td>41802.00000</td>\n",
       "      <td>1504.00000</td>\n",
       "      <td>64.00000</td>\n",
       "      <td>146.00000</td>\n",
       "      <td>https://i.ytimg.com/vi/T2rlnGk19hQ/default.jpg</td>\n",
       "      <td>FALSCH</td>\n",
       "      <td>FALSCH</td>\n",
       "      <td>FALSCH</td>\n",
       "      <td>Feine Ostertorte aus einem Schoko-Nussbiskuit,...</td>\n",
       "      <td>Germany</td>\n",
       "    </tr>\n",
       "  </tbody>\n",
       "</table>\n",
       "</div>"
      ],
      "text/plain": [
       "           video_id trending_date  \\\n",
       "59183   xX1w5qaJ6l8      18.26.02   \n",
       "135603  oI42BohDabU      18.16.02   \n",
       "86285   CA6iiiLk_uQ        172012   \n",
       "749     tl_1Fgs2fy8        171711   \n",
       "77271   ehnh_1eghMo    18.05.2006   \n",
       "20972   2bxw_1Un9S4        180603   \n",
       "47427   SG5al5UTolU      17.26.12   \n",
       "44614        #NAME?    17.12.2012   \n",
       "133084  Geg4yDxZZDs      18.31.01   \n",
       "62256   T2rlnGk19hQ      18.14.03   \n",
       "\n",
       "                                                    title  \\\n",
       "59183   Das magnetische Wasser (Teil 2) | Verstehen Si...   \n",
       "135603  Katy Perry Watches Fan Covers On YouTube | Gla...   \n",
       "86285   Top 6 des femmes scientifiques qui se sont fai...   \n",
       "749                             Budweiser | One Last Ride   \n",
       "77271             10 BESTEN TRAVEL-HACKS | mit meiner Mom   \n",
       "20972        Jimmy Kimmel's Oscars 2018 Opening Monologue   \n",
       "47427          Christmas chaos: WWE Top 10, Dec. 25, 2017   \n",
       "44614                    das eis war nicht stark genug...   \n",
       "133084                                  En Vogue - Rocket   \n",
       "62256                     Ostertorte / Sahnetorte / Torte   \n",
       "\n",
       "                 channel_title  category_id      publish_time  \\\n",
       "59183      Verstehen Sie Spaß?     24.00000  24.02.2018 12:00   \n",
       "135603        Glamour Magazine     24.00000  06.02.2018 14:01   \n",
       "86285                   Topito     24.00000  18.12.2017 17:00   \n",
       "749                  Budweiser     24.00000  14.11.2017 14:26   \n",
       "77271             Faye Montana     24.00000  04.06.2018 18:00   \n",
       "20972   ABC Television Network     24.00000  05.03.2018 02:54   \n",
       "47427                      WWE     17.00000  25.12.2017 16:00   \n",
       "44614                  iCrimax     24.00000  11.12.2017 15:30   \n",
       "133084             EnVogueVEVO     10.00000  22.01.2018 17:20   \n",
       "62256               Silvia W-K     22.00000  11.03.2018 13:02   \n",
       "\n",
       "                                                     tags         views  \\\n",
       "59183   verstehen sie spaß|\"verstehen sie spass\"|\"vers...   64041.00000   \n",
       "135603  you sang my song|\"watching fan covers\"|\"fan co... 2955298.00000   \n",
       "86285   Topito\"|\"Top\"|\"Liste\"|\"science\"|\"femme\"|\"décou...  288894.00000   \n",
       "749     nascar|\"budweiser\"|\"dale earnhardt jr\"|\"junior...  317426.00000   \n",
       "77271   Hacks|\"Travel\"|\"Travelhacks\"|\"Urlaub\"|\"Reise\"|...   38743.00000   \n",
       "20972   oscars|\"academy\"|\"awards\"|\"statue\"|\"ceremony\"|... 1051114.00000   \n",
       "47427   wwe|\"world wrestling entertainment\"|\"wrestling... 1367546.00000   \n",
       "44614   funny|\"kid friendly\"|\"family friendly\"|\"funny ...   90289.00000   \n",
       "133084    En|\"Vogue\"|\"Rocket\"|\"Records\"|\"R&B/Soul\"|\"Soul\"  364668.00000   \n",
       "62256   Tipps|\"Tricks\"|\"Backen\"|\"Kochen\"|\"Garten\"|\"Hau...   41802.00000   \n",
       "\n",
       "             likes   dislikes  comment_count  \\\n",
       "59183   2483.00000  168.00000      318.00000   \n",
       "135603 88763.00000 1767.00000     3385.00000   \n",
       "86285  20250.00000  676.00000     1464.00000   \n",
       "749     2784.00000   25.00000      218.00000   \n",
       "77271   3286.00000   70.00000      363.00000   \n",
       "20972   5800.00000 1878.00000     1553.00000   \n",
       "47427  30023.00000  866.00000     1445.00000   \n",
       "44614   6540.00000  442.00000      581.00000   \n",
       "133084 15121.00000  721.00000     2371.00000   \n",
       "62256   1504.00000   64.00000      146.00000   \n",
       "\n",
       "                                        thumbnail_link comments_disabled  \\\n",
       "59183   https://i.ytimg.com/vi/xX1w5qaJ6l8/default.jpg            FALSCH   \n",
       "135603  https://i.ytimg.com/vi/oI42BohDabU/default.jpg            FALSCH   \n",
       "86285   https://i.ytimg.com/vi/CA6iiiLk_uQ/default.jpg            FALSCH   \n",
       "749     https://i.ytimg.com/vi/tl_1Fgs2fy8/default.jpg            FALSCH   \n",
       "77271   https://i.ytimg.com/vi/ehnh_1eghMo/default.jpg            FALSCH   \n",
       "20972   https://i.ytimg.com/vi/2bxw_1Un9S4/default.jpg            FALSCH   \n",
       "47427   https://i.ytimg.com/vi/SG5al5UTolU/default.jpg            FALSCH   \n",
       "44614   https://i.ytimg.com/vi/-mCPxSHIrPc/default.jpg            FALSCH   \n",
       "133084  https://i.ytimg.com/vi/Geg4yDxZZDs/default.jpg            FALSCH   \n",
       "62256   https://i.ytimg.com/vi/T2rlnGk19hQ/default.jpg            FALSCH   \n",
       "\n",
       "       ratings_disabled video_error_or_removed  \\\n",
       "59183            FALSCH                 FALSCH   \n",
       "135603           FALSCH                 FALSCH   \n",
       "86285            FALSCH                 FALSCH   \n",
       "749              FALSCH                 FALSCH   \n",
       "77271            FALSCH                 FALSCH   \n",
       "20972            FALSCH                 FALSCH   \n",
       "47427            FALSCH                 FALSCH   \n",
       "44614            FALSCH                 FALSCH   \n",
       "133084           FALSCH                 FALSCH   \n",
       "62256            FALSCH                 FALSCH   \n",
       "\n",
       "                                              description        Country  \n",
       "59183   Den Passanten in einer Einkaufspassage wird ei...        Germany  \n",
       "135603  On this episode of You Sang My Song, Katy Perr...  Great Britain  \n",
       "86285   Parce qu'à part Marie Curie, il faut bien reco...         France  \n",
       "749     Dale Jr. drove the Bud car for eight years. To...         Canada  \n",
       "77271   Ladet euch die Urlaubsgruss-App runter und sch...        Germany  \n",
       "20972   Watch Jimmy Kimmel's opening monologue from th...         Canada  \n",
       "47427   The holiday season is the most wonderful time ...        Germany  \n",
       "44614   Wir reagier aufe Icefail Compilations\\n►Meine ...        Germany  \n",
       "133084  En Vogue Rocket \\nGet the new En Vogue single ...  Great Britain  \n",
       "62256   Feine Ostertorte aus einem Schoko-Nussbiskuit,...        Germany  "
      ]
     },
     "execution_count": 32,
     "metadata": {},
     "output_type": "execute_result"
    }
   ],
   "source": [
    "df = pd.read_csv(\"../data/Youtube_Statistics_full.csv\", encoding_errors = 'replace', encoding = 'utf-8', delimiter=';', low_memory=False)\n",
    "df.sample(10)"
   ]
  },
  {
   "cell_type": "code",
   "execution_count": 33,
   "metadata": {},
   "outputs": [],
   "source": [
    "# fill empty country values in col \"COUNTRY\"\n",
    "df[\"Country\"].fillna(\"No Country\", inplace=True)"
   ]
  },
  {
   "cell_type": "markdown",
   "metadata": {},
   "source": [
    "## a) Tabulation per country"
   ]
  },
  {
   "cell_type": "code",
   "execution_count": 34,
   "metadata": {},
   "outputs": [
    {
     "data": {
      "text/html": [
       "<div>\n",
       "<style scoped>\n",
       "    .dataframe tbody tr th:only-of-type {\n",
       "        vertical-align: middle;\n",
       "    }\n",
       "\n",
       "    .dataframe tbody tr th {\n",
       "        vertical-align: top;\n",
       "    }\n",
       "\n",
       "    .dataframe thead th {\n",
       "        text-align: right;\n",
       "    }\n",
       "</style>\n",
       "<table border=\"1\" class=\"dataframe\">\n",
       "  <thead>\n",
       "    <tr style=\"text-align: right;\">\n",
       "      <th></th>\n",
       "      <th>count</th>\n",
       "      <th>share</th>\n",
       "    </tr>\n",
       "  </thead>\n",
       "  <tbody>\n",
       "    <tr>\n",
       "      <th>France</th>\n",
       "      <td>40213</td>\n",
       "      <td>0.17781</td>\n",
       "    </tr>\n",
       "    <tr>\n",
       "      <th>Mexico</th>\n",
       "      <td>40099</td>\n",
       "      <td>0.17730</td>\n",
       "    </tr>\n",
       "    <tr>\n",
       "      <th>Germany</th>\n",
       "      <td>40014</td>\n",
       "      <td>0.17693</td>\n",
       "    </tr>\n",
       "    <tr>\n",
       "      <th>Canada</th>\n",
       "      <td>39086</td>\n",
       "      <td>0.17282</td>\n",
       "    </tr>\n",
       "    <tr>\n",
       "      <th>USA</th>\n",
       "      <td>36761</td>\n",
       "      <td>0.16254</td>\n",
       "    </tr>\n",
       "    <tr>\n",
       "      <th>Great Britain</th>\n",
       "      <td>29980</td>\n",
       "      <td>0.13256</td>\n",
       "    </tr>\n",
       "    <tr>\n",
       "      <th>No Country</th>\n",
       "      <td>10</td>\n",
       "      <td>0.00004</td>\n",
       "    </tr>\n",
       "  </tbody>\n",
       "</table>\n",
       "</div>"
      ],
      "text/plain": [
       "               count   share\n",
       "France         40213 0.17781\n",
       "Mexico         40099 0.17730\n",
       "Germany        40014 0.17693\n",
       "Canada         39086 0.17282\n",
       "USA            36761 0.16254\n",
       "Great Britain  29980 0.13256\n",
       "No Country        10 0.00004"
      ]
     },
     "execution_count": 34,
     "metadata": {},
     "output_type": "execute_result"
    }
   ],
   "source": [
    "# craete new dataframe with count and share\n",
    "df_country_tabulation = pd.DataFrame(\n",
    "    {\n",
    "        \"count\": df[\"Country\"].value_counts(),\n",
    "        \"share\": df[\"Country\"].value_counts(normalize=True),\n",
    "    }\n",
    ")\n",
    "\n",
    "df_country_tabulation"
   ]
  },
  {
   "cell_type": "markdown",
   "metadata": {},
   "source": [
    "## b) Analysis of variable views"
   ]
  },
  {
   "cell_type": "markdown",
   "metadata": {},
   "source": [
    "First, we load the views into a pandas series and clean missing values."
   ]
  },
  {
   "cell_type": "code",
   "execution_count": 35,
   "metadata": {},
   "outputs": [
    {
     "data": {
      "text/plain": [
       "10"
      ]
     },
     "execution_count": 35,
     "metadata": {},
     "output_type": "execute_result"
    }
   ],
   "source": [
    "df_views = pd.Series(df[\"views\"])\n",
    "\n",
    "# check for NaN\n",
    "df_views.isna().sum()"
   ]
  },
  {
   "cell_type": "code",
   "execution_count": 36,
   "metadata": {},
   "outputs": [
    {
     "data": {
      "text/plain": [
       "0"
      ]
     },
     "execution_count": 36,
     "metadata": {},
     "output_type": "execute_result"
    }
   ],
   "source": [
    "# drop NaN values\n",
    "df_views.dropna(inplace=True)\n",
    "df_views.isnull().sum()"
   ]
  },
  {
   "cell_type": "markdown",
   "metadata": {},
   "source": [
    "After clearing the data, we wanted to have a look at the data:"
   ]
  },
  {
   "cell_type": "code",
   "execution_count": 37,
   "metadata": {},
   "outputs": [
    {
     "data": {
      "text/plain": [
       "count    226153.00000\n",
       "mean     556551.02900\n",
       "std      836232.17738\n",
       "min         157.00000\n",
       "25%       46019.00000\n",
       "50%      199221.00000\n",
       "75%      672071.00000\n",
       "max     4994034.00000\n",
       "Name: views, dtype: float64"
      ]
     },
     "execution_count": 37,
     "metadata": {},
     "output_type": "execute_result"
    }
   ],
   "source": [
    "# have a look at the data\n",
    "df_views.describe()"
   ]
  },
  {
   "cell_type": "markdown",
   "metadata": {},
   "source": [
    "### Here we measure **location** statistics:"
   ]
  },
  {
   "cell_type": "code",
   "execution_count": 38,
   "metadata": {},
   "outputs": [
    {
     "name": "stdout",
     "output_type": "stream",
     "text": [
      "Trimmed mean with 20% cuttoff of youtube views is: 273909.66089628794\n",
      "Median: 199221.0\n",
      "Mean: 556551.0289980677\n",
      "Modes: \n",
      "0   3778.00000\n",
      "1   6573.00000\n",
      "Name: views, dtype: float64\n"
     ]
    }
   ],
   "source": [
    "# sort values for the trimmed mean calculation\n",
    "df_views_sorted = df_views.sort_values(ascending=True)\n",
    "trimmed_mean = stats.trim_mean(df_views_sorted, 0.2)\n",
    "\n",
    "# mean = most occuring value\n",
    "views_mode = df_views.mode()\n",
    "# median = splits data in half -> 50% over and under median\n",
    "views_median = df_views.median()\n",
    "# mean = arithmetic average value\n",
    "views_mean = df_views.mean()\n",
    "\n",
    "print(f\"Trimmed mean with 20% cuttoff of youtube views is: {trimmed_mean}\\nMedian: {views_median}\\nMean: {views_mean}\\nModes: \\n{views_mode}\")"
   ]
  },
  {
   "cell_type": "markdown",
   "metadata": {},
   "source": [
    "To put the calculated values into perspective, we chose to draw a histogram to show the distribution with their mean and median values."
   ]
  },
  {
   "cell_type": "code",
   "execution_count": 39,
   "metadata": {},
   "outputs": [
    {
     "data": {
      "image/png": "[encoded data removed]",
      "text/plain": [
       "<Figure size 1080x720 with 1 Axes>"
      ]
     },
     "metadata": {
      "needs_background": "light"
     },
     "output_type": "display_data"
    }
   ],
   "source": [
    "# show graphical representations of the distribution\n",
    "fig, ax = plt.subplots(1)\n",
    "fig.set_size_inches(15,10)\n",
    "fig.suptitle(\"Histogram of the number of views\", fontsize=16)\n",
    "\n",
    "n, bins, patches = ax.hist(df_views, bins = 50, alpha = 0.6)\n",
    "ax.set_ylabel(\"Ocurrences\")\n",
    "ax.set_xlabel(\"Views\")\n",
    "\n",
    "ax.axvline(views_mean, linestyle = \"dashed\", color = \"b\")\n",
    "min_ylim, max_ylim = plt.ylim()\n",
    "ax.text(views_mean *1.1, max_ylim *0.9, 'Mean: {:.5f}'.format(views_mean))\n",
    "ax.axvline(views_median, linestyle = \"dashed\", color = \"r\")\n",
    "#min_ylim_2, max_ylim_2 = plt.ylim()\n",
    "ax.text(views_median *1.1, max_ylim *0.6, 'Median: {:.5f}'.format(views_median))\n",
    "fig.show()"
   ]
  },
  {
   "cell_type": "markdown",
   "metadata": {},
   "source": [
    "### Here we measure **spread** statistics:"
   ]
  },
  {
   "cell_type": "code",
   "execution_count": 40,
   "metadata": {},
   "outputs": [
    {
     "name": "stdout",
     "output_type": "stream",
     "text": [
      "Interquartile range for views is: 626052.0\n",
      "variance: 699284254491.5471\n",
      "standard deviation: 836232.1773834986\n"
     ]
    }
   ],
   "source": [
    "# variance\n",
    "variance_views = df_views.var(skipna=True)\n",
    "\n",
    "# standard deviation\n",
    "std_deviation_views = np.sqrt(variance_views)\n",
    "\n",
    "#inter quartile range\n",
    "quarter =df_views.quantile(0.25)\n",
    "three_quarter = df_views.quantile(0.75)\n",
    "iqr = three_quarter - quarter\n",
    "\n",
    "print(f\"Interquartile range for views is: {iqr}\\nvariance: {variance_views}\\nstandard deviation: {std_deviation_views}\")"
   ]
  },
  {
   "cell_type": "markdown",
   "metadata": {},
   "source": [
    "### Next, we calculate **skewness** of the distribution:"
   ]
  },
  {
   "cell_type": "code",
   "execution_count": 41,
   "metadata": {},
   "outputs": [
    {
     "name": "stdout",
     "output_type": "stream",
     "text": [
      " Skew is: 0.42730959016205744 which indicates our distribution is not normally distributed (confirmed by histogram above) and skewed to the left. \n",
      " Kurtosis is : 0.19620608003227535 which means our distribution is platykurtic, therefore we have few outliers and is light-tailed.\n"
     ]
    }
   ],
   "source": [
    "# skew = \"symmetry of the distribution\"\n",
    "skew = (views_mean -views_median) / std_deviation_views\n",
    "\n",
    "# kurtosis = \"heaviness of the distribution tails\"\n",
    "kurtosis = views_mean**4 / std_deviation_views**4\n",
    "\n",
    "print(f\" Skew is: {skew} which indicates our distribution is not normally distributed (confirmed by histogram above) and skewed to the left. \\n Kurtosis is : {kurtosis} which means our distribution is platykurtic, therefore we have few outliers and is light-tailed.\")"
   ]
  },
  {
   "cell_type": "markdown",
   "metadata": {},
   "source": [
    "## c) Analysis variable likes"
   ]
  },
  {
   "cell_type": "markdown",
   "metadata": {},
   "source": [
    "### First we show the *location* statistics for each country:"
   ]
  },
  {
   "cell_type": "code",
   "execution_count": 42,
   "metadata": {},
   "outputs": [
    {
     "name": "stdout",
     "output_type": "stream",
     "text": [
      "here we have trimmed means with 20% cutoff in front and back, for each country\n"
     ]
    },
    {
     "data": {
      "text/plain": [
       "Canada          10372.81370\n",
       "Germany          3978.42799\n",
       "France           2785.73099\n",
       "Great Britain   18396.69619\n",
       "USA             18119.04520\n",
       "Mexico           2272.12676\n",
       "No Country              NaN\n",
       "dtype: float64"
      ]
     },
     "execution_count": 42,
     "metadata": {},
     "output_type": "execute_result"
    }
   ],
   "source": [
    "countries = df[\"Country\"].unique()\n",
    "\n",
    "# group by category country and only look at column 'likes'\n",
    "likes = df.groupby(by=\"Country\")[\"likes\"]\n",
    "trimmed_means_like = pd.Series(data = [0,0,0,0,0,0,0], index = countries) #buffer for trimmed_means\n",
    "\n",
    "for country in countries:\n",
    "    buf_df = likes.get_group(country) # get data for each country\n",
    "    buf_df.sort_values(ascending=True) #sort data of current country\n",
    "    trimmed_means_like[country] = stats.trim_mean(buf_df, 0.2) #compute trimmed mean for current country\n",
    "\n",
    "print(\"here we have trimmed means with 20% cutoff in front and back, for each country\")\n",
    "trimmed_means_like"
   ]
  },
  {
   "cell_type": "markdown",
   "metadata": {},
   "source": [
    "For a nice overview of the dataframe and the analysis of it, we can use ``describe()``."
   ]
  },
  {
   "cell_type": "code",
   "execution_count": 43,
   "metadata": {},
   "outputs": [
    {
     "name": "stdout",
     "output_type": "stream",
     "text": [
      "here we have mean, median per country: \n"
     ]
    },
    {
     "data": {
      "text/html": [
       "<div>\n",
       "<style scoped>\n",
       "    .dataframe tbody tr th:only-of-type {\n",
       "        vertical-align: middle;\n",
       "    }\n",
       "\n",
       "    .dataframe tbody tr th {\n",
       "        vertical-align: top;\n",
       "    }\n",
       "\n",
       "    .dataframe thead th {\n",
       "        text-align: right;\n",
       "    }\n",
       "</style>\n",
       "<table border=\"1\" class=\"dataframe\">\n",
       "  <thead>\n",
       "    <tr style=\"text-align: right;\">\n",
       "      <th></th>\n",
       "      <th>count</th>\n",
       "      <th>mean</th>\n",
       "      <th>std</th>\n",
       "      <th>min</th>\n",
       "      <th>25%</th>\n",
       "      <th>50%</th>\n",
       "      <th>75%</th>\n",
       "      <th>max</th>\n",
       "    </tr>\n",
       "    <tr>\n",
       "      <th>Country</th>\n",
       "      <th></th>\n",
       "      <th></th>\n",
       "      <th></th>\n",
       "      <th></th>\n",
       "      <th></th>\n",
       "      <th></th>\n",
       "      <th></th>\n",
       "      <th></th>\n",
       "    </tr>\n",
       "  </thead>\n",
       "  <tbody>\n",
       "    <tr>\n",
       "      <th>Canada</th>\n",
       "      <td>39086.00000</td>\n",
       "      <td>23827.31211</td>\n",
       "      <td>44935.97049</td>\n",
       "      <td>0.00000</td>\n",
       "      <td>2054.00000</td>\n",
       "      <td>7830.50000</td>\n",
       "      <td>24416.50000</td>\n",
       "      <td>845029.00000</td>\n",
       "    </tr>\n",
       "    <tr>\n",
       "      <th>France</th>\n",
       "      <td>40213.00000</td>\n",
       "      <td>11670.98145</td>\n",
       "      <td>33947.12310</td>\n",
       "      <td>0.00000</td>\n",
       "      <td>331.00000</td>\n",
       "      <td>1830.00000</td>\n",
       "      <td>7487.00000</td>\n",
       "      <td>845046.00000</td>\n",
       "    </tr>\n",
       "    <tr>\n",
       "      <th>Germany</th>\n",
       "      <td>40014.00000</td>\n",
       "      <td>13454.35283</td>\n",
       "      <td>33974.13223</td>\n",
       "      <td>0.00000</td>\n",
       "      <td>513.00000</td>\n",
       "      <td>2550.00000</td>\n",
       "      <td>10675.50000</td>\n",
       "      <td>845029.00000</td>\n",
       "    </tr>\n",
       "    <tr>\n",
       "      <th>Great Britain</th>\n",
       "      <td>29980.00000</td>\n",
       "      <td>35283.67722</td>\n",
       "      <td>53412.19737</td>\n",
       "      <td>0.00000</td>\n",
       "      <td>4113.00000</td>\n",
       "      <td>13666.50000</td>\n",
       "      <td>43050.00000</td>\n",
       "      <td>889008.00000</td>\n",
       "    </tr>\n",
       "    <tr>\n",
       "      <th>Mexico</th>\n",
       "      <td>40099.00000</td>\n",
       "      <td>11296.52246</td>\n",
       "      <td>34530.73652</td>\n",
       "      <td>0.00000</td>\n",
       "      <td>295.00000</td>\n",
       "      <td>1219.00000</td>\n",
       "      <td>6889.00000</td>\n",
       "      <td>845046.00000</td>\n",
       "    </tr>\n",
       "    <tr>\n",
       "      <th>No Country</th>\n",
       "      <td>0.00000</td>\n",
       "      <td>NaN</td>\n",
       "      <td>NaN</td>\n",
       "      <td>NaN</td>\n",
       "      <td>NaN</td>\n",
       "      <td>NaN</td>\n",
       "      <td>NaN</td>\n",
       "      <td>NaN</td>\n",
       "    </tr>\n",
       "    <tr>\n",
       "      <th>USA</th>\n",
       "      <td>36761.00000</td>\n",
       "      <td>33055.17140</td>\n",
       "      <td>49800.50023</td>\n",
       "      <td>0.00000</td>\n",
       "      <td>4633.00000</td>\n",
       "      <td>14796.00000</td>\n",
       "      <td>39126.00000</td>\n",
       "      <td>889008.00000</td>\n",
       "    </tr>\n",
       "  </tbody>\n",
       "</table>\n",
       "</div>"
      ],
      "text/plain": [
       "                    count        mean         std     min        25%  \\\n",
       "Country                                                                \n",
       "Canada        39086.00000 23827.31211 44935.97049 0.00000 2054.00000   \n",
       "France        40213.00000 11670.98145 33947.12310 0.00000  331.00000   \n",
       "Germany       40014.00000 13454.35283 33974.13223 0.00000  513.00000   \n",
       "Great Britain 29980.00000 35283.67722 53412.19737 0.00000 4113.00000   \n",
       "Mexico        40099.00000 11296.52246 34530.73652 0.00000  295.00000   \n",
       "No Country        0.00000         NaN         NaN     NaN        NaN   \n",
       "USA           36761.00000 33055.17140 49800.50023 0.00000 4633.00000   \n",
       "\n",
       "                      50%         75%          max  \n",
       "Country                                             \n",
       "Canada         7830.50000 24416.50000 845029.00000  \n",
       "France         1830.00000  7487.00000 845046.00000  \n",
       "Germany        2550.00000 10675.50000 845029.00000  \n",
       "Great Britain 13666.50000 43050.00000 889008.00000  \n",
       "Mexico         1219.00000  6889.00000 845046.00000  \n",
       "No Country            NaN         NaN          NaN  \n",
       "USA           14796.00000 39126.00000 889008.00000  "
      ]
     },
     "execution_count": 43,
     "metadata": {},
     "output_type": "execute_result"
    }
   ],
   "source": [
    "print(\"here we have mean, median per country: \")\n",
    "likes.describe()"
   ]
  },
  {
   "cell_type": "code",
   "execution_count": 44,
   "metadata": {},
   "outputs": [
    {
     "name": "stdout",
     "output_type": "stream",
     "text": [
      "and finally the mode: \n"
     ]
    },
    {
     "data": {
      "text/plain": [
       "Canada           0   0.00000\n",
       "Name: likes, dtype: float64\n",
       "Germany          0   0.00000\n",
       "Name: likes, dtype: float64\n",
       "France           0   0.00000\n",
       "Name: likes, dtype: float64\n",
       "Great Britain    0   0.00000\n",
       "Name: likes, dtype: float64\n",
       "USA              0   0.00000\n",
       "Name: likes, dtype: float64\n",
       "Mexico           0   0.00000\n",
       "Name: likes, dtype: float64\n",
       "No Country       Series([], Name: likes, dtype: float64)\n",
       "dtype: object"
      ]
     },
     "execution_count": 44,
     "metadata": {},
     "output_type": "execute_result"
    }
   ],
   "source": [
    "print(\"and finally the mode: \")\n",
    "\n",
    "mode_like = pd.Series(data = [[],[],[],[],[],[],[]], index = countries) #buffer for mode\n",
    "for country in countries:\n",
    "    buf_df = likes.get_group(country)\n",
    "    mode_like[country] = buf_df.mode()\n",
    "mode_like"
   ]
  },
  {
   "cell_type": "markdown",
   "metadata": {},
   "source": [
    "### Next we show *spread* for each country:"
   ]
  },
  {
   "cell_type": "code",
   "execution_count": 45,
   "metadata": {},
   "outputs": [
    {
     "name": "stdout",
     "output_type": "stream",
     "text": [
      "Variance per country:\n"
     ]
    },
    {
     "data": {
      "text/plain": [
       "Country\n",
       "Canada          2019241444.19234\n",
       "France          1152407166.87516\n",
       "Germany         1154241661.00693\n",
       "Great Britain   2852862828.04814\n",
       "Mexico          1192371764.73167\n",
       "No Country                   NaN\n",
       "USA             2480089823.08891\n",
       "Name: likes, dtype: float64"
      ]
     },
     "execution_count": 45,
     "metadata": {},
     "output_type": "execute_result"
    }
   ],
   "source": [
    "print(\"Variance per country:\")\n",
    "likes_var= likes.var()\n",
    "\n",
    "likes_var"
   ]
  },
  {
   "cell_type": "code",
   "execution_count": 46,
   "metadata": {},
   "outputs": [
    {
     "name": "stdout",
     "output_type": "stream",
     "text": [
      "Standard deviation per country:\n"
     ]
    },
    {
     "data": {
      "text/plain": [
       "Country\n",
       "Canada          44935.97049\n",
       "France          33947.12310\n",
       "Germany         33974.13223\n",
       "Great Britain   53412.19737\n",
       "Mexico          34530.73652\n",
       "No Country              NaN\n",
       "USA             49800.50023\n",
       "Name: likes, dtype: float64"
      ]
     },
     "execution_count": 46,
     "metadata": {},
     "output_type": "execute_result"
    }
   ],
   "source": [
    "print(\"Standard deviation per country:\")\n",
    "likes_std = likes.std()\n",
    "likes_std"
   ]
  },
  {
   "cell_type": "code",
   "execution_count": 47,
   "metadata": {},
   "outputs": [
    {
     "name": "stdout",
     "output_type": "stream",
     "text": [
      "interquartile range per country:\n"
     ]
    },
    {
     "data": {
      "text/plain": [
       "Country\n",
       "Canada          22362.50000\n",
       "France           7156.00000\n",
       "Germany         10162.50000\n",
       "Great Britain   38937.00000\n",
       "Mexico           6594.00000\n",
       "No Country              NaN\n",
       "USA             34493.00000\n",
       "Name: likes, dtype: float64"
      ]
     },
     "execution_count": 47,
     "metadata": {},
     "output_type": "execute_result"
    }
   ],
   "source": [
    "print(\"interquartile range per country:\")\n",
    "\n",
    "iqr = likes.quantile(0.75)-likes.quantile(0.25)\n",
    "iqr"
   ]
  },
  {
   "cell_type": "markdown",
   "metadata": {},
   "source": [
    "### Conclusion\n",
    "Of all countries **Great Britain** stands out with wider spread like counts. **Great Britain** has the largest *standard deviation* and *Interquartile range*."
   ]
  }
 ],
 "metadata": {
  "kernelspec": {
   "display_name": "data_science",
   "language": "python",
   "name": "data_science"
  },
  "language_info": {
   "codemirror_mode": {
    "name": "ipython",
    "version": 3
   },
   "file_extension": ".py",
   "mimetype": "text/x-python",
   "name": "python",
   "nbconvert_exporter": "python",
   "pygments_lexer": "ipython3",
   "version": "3.10.8"
  },
  "orig_nbformat": 4,
  "vscode": {
   "interpreter": {
    "hash": "97cc609b13305c559618ec78a438abc56230b9381f827f22d070313b9a1f3777"
   }
  }
 },
 "nbformat": 4,
 "nbformat_minor": 2
}
