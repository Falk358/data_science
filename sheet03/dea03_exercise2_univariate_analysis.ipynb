{
 "cells": [
  {
   "cell_type": "markdown",
   "metadata": {},
   "source": [
    "# Exercise 2"
   ]
  },
  {
   "cell_type": "code",
   "execution_count": 3,
   "metadata": {},
   "outputs": [],
   "source": [
    "import pandas as pd\n",
    "import numpy as np\n",
    "import matplotlib.pyplot as plt\n",
    "from scipy import stats\n",
    "\n",
    "\n",
    "pd.set_option('display.float_format', lambda x: '%.5f' % x)"
   ]
  },
  {
   "cell_type": "markdown",
   "metadata": {},
   "source": [
    "## a) tabulation"
   ]
  },
  {
   "cell_type": "code",
   "execution_count": 4,
   "metadata": {},
   "outputs": [
    {
     "data": {
      "text/html": [
       "<div>\n",
       "<style scoped>\n",
       "    .dataframe tbody tr th:only-of-type {\n",
       "        vertical-align: middle;\n",
       "    }\n",
       "\n",
       "    .dataframe tbody tr th {\n",
       "        vertical-align: top;\n",
       "    }\n",
       "\n",
       "    .dataframe thead th {\n",
       "        text-align: right;\n",
       "    }\n",
       "</style>\n",
       "<table border=\"1\" class=\"dataframe\">\n",
       "  <thead>\n",
       "    <tr style=\"text-align: right;\">\n",
       "      <th></th>\n",
       "      <th>video_id</th>\n",
       "      <th>trending_date</th>\n",
       "      <th>title</th>\n",
       "      <th>channel_title</th>\n",
       "      <th>category_id</th>\n",
       "      <th>publish_time</th>\n",
       "      <th>tags</th>\n",
       "      <th>views</th>\n",
       "      <th>likes</th>\n",
       "      <th>dislikes</th>\n",
       "      <th>comment_count</th>\n",
       "      <th>thumbnail_link</th>\n",
       "      <th>comments_disabled</th>\n",
       "      <th>ratings_disabled</th>\n",
       "      <th>video_error_or_removed</th>\n",
       "      <th>description</th>\n",
       "      <th>Country</th>\n",
       "    </tr>\n",
       "  </thead>\n",
       "  <tbody>\n",
       "    <tr>\n",
       "      <th>69819</th>\n",
       "      <td>BHj-6mEiyQs</td>\n",
       "      <td>18.27.04</td>\n",
       "      <td>NEWCOMER MIT DEM BESTEM BATTLE DER RAP AM MITT...</td>\n",
       "      <td>Rainer Wahnsinn</td>\n",
       "      <td>24.00000</td>\n",
       "      <td>01.04.2018 16:16</td>\n",
       "      <td>skilla199 vs dizzepticon|\"bestes freestyle bat...</td>\n",
       "      <td>10885.00000</td>\n",
       "      <td>353.00000</td>\n",
       "      <td>3.00000</td>\n",
       "      <td>17.00000</td>\n",
       "      <td>https://i.ytimg.com/vi/BHj-6mEiyQs/default.jpg</td>\n",
       "      <td>FALSCH</td>\n",
       "      <td>FALSCH</td>\n",
       "      <td>FALSCH</td>\n",
       "      <td>Skilla und Dizzepticon liefern sich eins der b...</td>\n",
       "      <td>Germany</td>\n",
       "    </tr>\n",
       "    <tr>\n",
       "      <th>225102</th>\n",
       "      <td>vUPs9rKJ8J4</td>\n",
       "      <td>18.09.06</td>\n",
       "      <td>Píntate La Cara Ft. Santimaye - Mauro Martínez...</td>\n",
       "      <td>Kika Nieto</td>\n",
       "      <td>26.00000</td>\n",
       "      <td>09.06.2018 00:15</td>\n",
       "      <td>canción mundial|\"cancion mundial\"|\"cancion ofi...</td>\n",
       "      <td>457807.00000</td>\n",
       "      <td>66692.00000</td>\n",
       "      <td>4465.00000</td>\n",
       "      <td>12531.00000</td>\n",
       "      <td>https://i.ytimg.com/vi/vUPs9rKJ8J4/default.jpg</td>\n",
       "      <td>FALSCH</td>\n",
       "      <td>FALSCH</td>\n",
       "      <td>FALSCH</td>\n",
       "      <td>Esta es nuestra canción oficial del mundial :)...</td>\n",
       "      <td>Mexico</td>\n",
       "    </tr>\n",
       "    <tr>\n",
       "      <th>55639</th>\n",
       "      <td>OG3Dy-FUxPs</td>\n",
       "      <td>18.08.2002</td>\n",
       "      <td>Koscher kochen und essen - Jüdischer Spezialit...</td>\n",
       "      <td>Galileo</td>\n",
       "      <td>24.00000</td>\n",
       "      <td>07.02.2018 12:30</td>\n",
       "      <td>Koscher kochen und essen - Jüdischer Spezialit...</td>\n",
       "      <td>72105.00000</td>\n",
       "      <td>1307.00000</td>\n",
       "      <td>333.00000</td>\n",
       "      <td>943.00000</td>\n",
       "      <td>https://i.ytimg.com/vi/OG3Dy-FUxPs/default.jpg</td>\n",
       "      <td>FALSCH</td>\n",
       "      <td>FALSCH</td>\n",
       "      <td>FALSCH</td>\n",
       "      <td>Wenn es um die Zubereitung und Einnahme ihrer ...</td>\n",
       "      <td>Germany</td>\n",
       "    </tr>\n",
       "    <tr>\n",
       "      <th>121277</th>\n",
       "      <td>DJXUWLs6FI0</td>\n",
       "      <td>17.26.11</td>\n",
       "      <td>Desus &amp; Mero Announce A New Project</td>\n",
       "      <td>The Late Show with Stephen Colbert</td>\n",
       "      <td>24.00000</td>\n",
       "      <td>21.11.2017 09:35</td>\n",
       "      <td>The Late Show|\"Stephen Colbert\"|\"Colbert\"|\"Lat...</td>\n",
       "      <td>111465.00000</td>\n",
       "      <td>1993.00000</td>\n",
       "      <td>65.00000</td>\n",
       "      <td>370.00000</td>\n",
       "      <td>https://i.ytimg.com/vi/DJXUWLs6FI0/default.jpg</td>\n",
       "      <td>FALSCH</td>\n",
       "      <td>FALSCH</td>\n",
       "      <td>FALSCH</td>\n",
       "      <td>'Desus &amp; Mero' co-hosts Desus Nice and The Kid...</td>\n",
       "      <td>Great Britain</td>\n",
       "    </tr>\n",
       "    <tr>\n",
       "      <th>35189</th>\n",
       "      <td>C-AjcbVUq54</td>\n",
       "      <td>182505</td>\n",
       "      <td>The Last Days of Michael Jackson</td>\n",
       "      <td>The Wendy Williams Show</td>\n",
       "      <td>24.00000</td>\n",
       "      <td>25.05.2018 03:00</td>\n",
       "      <td>michael jackson|\"the wendy williams show\"|\"#yo...</td>\n",
       "      <td>103349.00000</td>\n",
       "      <td>2061.00000</td>\n",
       "      <td>180.00000</td>\n",
       "      <td>1093.00000</td>\n",
       "      <td>https://i.ytimg.com/vi/C-AjcbVUq54/default.jpg</td>\n",
       "      <td>FALSCH</td>\n",
       "      <td>FALSCH</td>\n",
       "      <td>FALSCH</td>\n",
       "      <td>The Jackson estate doesn't want you to see ton...</td>\n",
       "      <td>Canada</td>\n",
       "    </tr>\n",
       "    <tr>\n",
       "      <th>22394</th>\n",
       "      <td>wItohUpe_CI</td>\n",
       "      <td>181303</td>\n",
       "      <td>Lucky People Who Found the Best Things in Thri...</td>\n",
       "      <td>Be Amazed</td>\n",
       "      <td>24.00000</td>\n",
       "      <td>10.03.2018 23:46</td>\n",
       "      <td>beamazed|\"be amazed\"|\"top 10\"|\"charity shop\"|\"...</td>\n",
       "      <td>309510.00000</td>\n",
       "      <td>4165.00000</td>\n",
       "      <td>190.00000</td>\n",
       "      <td>541.00000</td>\n",
       "      <td>https://i.ytimg.com/vi/wItohUpe_CI/default.jpg</td>\n",
       "      <td>FALSCH</td>\n",
       "      <td>FALSCH</td>\n",
       "      <td>FALSCH</td>\n",
       "      <td>Finding valuable stuff in thrift shops is amaz...</td>\n",
       "      <td>Canada</td>\n",
       "    </tr>\n",
       "    <tr>\n",
       "      <th>178151</th>\n",
       "      <td>8JfMdhrbehY</td>\n",
       "      <td>18.25.04</td>\n",
       "      <td>Markiplier Animated | GHOST HUNTER</td>\n",
       "      <td>Markiplier</td>\n",
       "      <td>20.00000</td>\n",
       "      <td>2018-04-18T18:00:00.000Z</td>\n",
       "      <td>markiplier|\"markiplier animated\"|\"animation\"|\"...</td>\n",
       "      <td>972047.00000</td>\n",
       "      <td>45508.00000</td>\n",
       "      <td>953.00000</td>\n",
       "      <td>2840.00000</td>\n",
       "      <td>https://i.ytimg.com/vi/8JfMdhrbehY/default.jpg</td>\n",
       "      <td>FALSCH</td>\n",
       "      <td>FALSCH</td>\n",
       "      <td>FALSCH</td>\n",
       "      <td>Markiplier steps inside Luigi's Mansion to tak...</td>\n",
       "      <td>USA</td>\n",
       "    </tr>\n",
       "    <tr>\n",
       "      <th>145669</th>\n",
       "      <td>fQjGRb4-IQM</td>\n",
       "      <td>18.10.2005</td>\n",
       "      <td>Cats always find a way \\ Разошлись</td>\n",
       "      <td>ignoramusky</td>\n",
       "      <td>15.00000</td>\n",
       "      <td>11.04.2018 23:45</td>\n",
       "      <td>cats|\"funny\"|\"pets\"|\"animals\"|\"kitten\"|\"two ca...</td>\n",
       "      <td>577697.00000</td>\n",
       "      <td>6297.00000</td>\n",
       "      <td>212.00000</td>\n",
       "      <td>390.00000</td>\n",
       "      <td>https://i.ytimg.com/vi/fQjGRb4-IQM/default.jpg</td>\n",
       "      <td>FALSCH</td>\n",
       "      <td>FALSCH</td>\n",
       "      <td>FALSCH</td>\n",
       "      <td>Two cats are stuck, but there is always a way out</td>\n",
       "      <td>Great Britain</td>\n",
       "    </tr>\n",
       "    <tr>\n",
       "      <th>145224</th>\n",
       "      <td>Qi7t_g5QObs</td>\n",
       "      <td>18.06.2005</td>\n",
       "      <td>The Hobbit: The Desolation of Warners (Part 3/2)</td>\n",
       "      <td>Lindsay Ellis</td>\n",
       "      <td>24.00000</td>\n",
       "      <td>20.04.2018 12:09</td>\n",
       "      <td>the hobbit review|\"lindsay ellis hobbit\"|\"pete...</td>\n",
       "      <td>479427.00000</td>\n",
       "      <td>31543.00000</td>\n",
       "      <td>654.00000</td>\n",
       "      <td>5014.00000</td>\n",
       "      <td>https://i.ytimg.com/vi/Qi7t_g5QObs/default.jpg</td>\n",
       "      <td>FALSCH</td>\n",
       "      <td>FALSCH</td>\n",
       "      <td>FALSCH</td>\n",
       "      <td>Nothing is pure.</td>\n",
       "      <td>Great Britain</td>\n",
       "    </tr>\n",
       "    <tr>\n",
       "      <th>63066</th>\n",
       "      <td>2Mjw-Mb7PW4</td>\n",
       "      <td>18.18.03</td>\n",
       "      <td>Neumondorakel 17. bis 30. März 2018</td>\n",
       "      <td>Nadine Breitenstein</td>\n",
       "      <td>22.00000</td>\n",
       "      <td>17.03.2018 18:08</td>\n",
       "      <td>Wochenorakel|\"Liebesorakel\"|\"Singleorakel\"|\"Wu...</td>\n",
       "      <td>6527.00000</td>\n",
       "      <td>210.00000</td>\n",
       "      <td>14.00000</td>\n",
       "      <td>0.00000</td>\n",
       "      <td>https://i.ytimg.com/vi/2Mjw-Mb7PW4/default.jpg</td>\n",
       "      <td>WAHR</td>\n",
       "      <td>FALSCH</td>\n",
       "      <td>FALSCH</td>\n",
       "      <td>Hier könnt ihr eine Herzöffnung für euren Wuns...</td>\n",
       "      <td>Germany</td>\n",
       "    </tr>\n",
       "  </tbody>\n",
       "</table>\n",
       "</div>"
      ],
      "text/plain": [
       "           video_id trending_date  \\\n",
       "69819   BHj-6mEiyQs      18.27.04   \n",
       "225102  vUPs9rKJ8J4      18.09.06   \n",
       "55639   OG3Dy-FUxPs    18.08.2002   \n",
       "121277  DJXUWLs6FI0      17.26.11   \n",
       "35189   C-AjcbVUq54        182505   \n",
       "22394   wItohUpe_CI        181303   \n",
       "178151  8JfMdhrbehY      18.25.04   \n",
       "145669  fQjGRb4-IQM    18.10.2005   \n",
       "145224  Qi7t_g5QObs    18.06.2005   \n",
       "63066   2Mjw-Mb7PW4      18.18.03   \n",
       "\n",
       "                                                    title  \\\n",
       "69819   NEWCOMER MIT DEM BESTEM BATTLE DER RAP AM MITT...   \n",
       "225102  Píntate La Cara Ft. Santimaye - Mauro Martínez...   \n",
       "55639   Koscher kochen und essen - Jüdischer Spezialit...   \n",
       "121277                Desus & Mero Announce A New Project   \n",
       "35189                    The Last Days of Michael Jackson   \n",
       "22394   Lucky People Who Found the Best Things in Thri...   \n",
       "178151                 Markiplier Animated | GHOST HUNTER   \n",
       "145669                 Cats always find a way \\ Разошлись   \n",
       "145224   The Hobbit: The Desolation of Warners (Part 3/2)   \n",
       "63066                 Neumondorakel 17. bis 30. März 2018   \n",
       "\n",
       "                             channel_title  category_id  \\\n",
       "69819                      Rainer Wahnsinn     24.00000   \n",
       "225102                          Kika Nieto     26.00000   \n",
       "55639                              Galileo     24.00000   \n",
       "121277  The Late Show with Stephen Colbert     24.00000   \n",
       "35189              The Wendy Williams Show     24.00000   \n",
       "22394                            Be Amazed     24.00000   \n",
       "178151                          Markiplier     20.00000   \n",
       "145669                         ignoramusky     15.00000   \n",
       "145224                       Lindsay Ellis     24.00000   \n",
       "63066                  Nadine Breitenstein     22.00000   \n",
       "\n",
       "                    publish_time  \\\n",
       "69819           01.04.2018 16:16   \n",
       "225102          09.06.2018 00:15   \n",
       "55639           07.02.2018 12:30   \n",
       "121277          21.11.2017 09:35   \n",
       "35189           25.05.2018 03:00   \n",
       "22394           10.03.2018 23:46   \n",
       "178151  2018-04-18T18:00:00.000Z   \n",
       "145669          11.04.2018 23:45   \n",
       "145224          20.04.2018 12:09   \n",
       "63066           17.03.2018 18:08   \n",
       "\n",
       "                                                     tags        views  \\\n",
       "69819   skilla199 vs dizzepticon|\"bestes freestyle bat...  10885.00000   \n",
       "225102  canción mundial|\"cancion mundial\"|\"cancion ofi... 457807.00000   \n",
       "55639   Koscher kochen und essen - Jüdischer Spezialit...  72105.00000   \n",
       "121277  The Late Show|\"Stephen Colbert\"|\"Colbert\"|\"Lat... 111465.00000   \n",
       "35189   michael jackson|\"the wendy williams show\"|\"#yo... 103349.00000   \n",
       "22394   beamazed|\"be amazed\"|\"top 10\"|\"charity shop\"|\"... 309510.00000   \n",
       "178151  markiplier|\"markiplier animated\"|\"animation\"|\"... 972047.00000   \n",
       "145669  cats|\"funny\"|\"pets\"|\"animals\"|\"kitten\"|\"two ca... 577697.00000   \n",
       "145224  the hobbit review|\"lindsay ellis hobbit\"|\"pete... 479427.00000   \n",
       "63066   Wochenorakel|\"Liebesorakel\"|\"Singleorakel\"|\"Wu...   6527.00000   \n",
       "\n",
       "             likes   dislikes  comment_count  \\\n",
       "69819    353.00000    3.00000       17.00000   \n",
       "225102 66692.00000 4465.00000    12531.00000   \n",
       "55639   1307.00000  333.00000      943.00000   \n",
       "121277  1993.00000   65.00000      370.00000   \n",
       "35189   2061.00000  180.00000     1093.00000   \n",
       "22394   4165.00000  190.00000      541.00000   \n",
       "178151 45508.00000  953.00000     2840.00000   \n",
       "145669  6297.00000  212.00000      390.00000   \n",
       "145224 31543.00000  654.00000     5014.00000   \n",
       "63066    210.00000   14.00000        0.00000   \n",
       "\n",
       "                                        thumbnail_link comments_disabled  \\\n",
       "69819   https://i.ytimg.com/vi/BHj-6mEiyQs/default.jpg            FALSCH   \n",
       "225102  https://i.ytimg.com/vi/vUPs9rKJ8J4/default.jpg            FALSCH   \n",
       "55639   https://i.ytimg.com/vi/OG3Dy-FUxPs/default.jpg            FALSCH   \n",
       "121277  https://i.ytimg.com/vi/DJXUWLs6FI0/default.jpg            FALSCH   \n",
       "35189   https://i.ytimg.com/vi/C-AjcbVUq54/default.jpg            FALSCH   \n",
       "22394   https://i.ytimg.com/vi/wItohUpe_CI/default.jpg            FALSCH   \n",
       "178151  https://i.ytimg.com/vi/8JfMdhrbehY/default.jpg            FALSCH   \n",
       "145669  https://i.ytimg.com/vi/fQjGRb4-IQM/default.jpg            FALSCH   \n",
       "145224  https://i.ytimg.com/vi/Qi7t_g5QObs/default.jpg            FALSCH   \n",
       "63066   https://i.ytimg.com/vi/2Mjw-Mb7PW4/default.jpg              WAHR   \n",
       "\n",
       "       ratings_disabled video_error_or_removed  \\\n",
       "69819            FALSCH                 FALSCH   \n",
       "225102           FALSCH                 FALSCH   \n",
       "55639            FALSCH                 FALSCH   \n",
       "121277           FALSCH                 FALSCH   \n",
       "35189            FALSCH                 FALSCH   \n",
       "22394            FALSCH                 FALSCH   \n",
       "178151           FALSCH                 FALSCH   \n",
       "145669           FALSCH                 FALSCH   \n",
       "145224           FALSCH                 FALSCH   \n",
       "63066            FALSCH                 FALSCH   \n",
       "\n",
       "                                              description        Country  \n",
       "69819   Skilla und Dizzepticon liefern sich eins der b...        Germany  \n",
       "225102  Esta es nuestra canción oficial del mundial :)...         Mexico  \n",
       "55639   Wenn es um die Zubereitung und Einnahme ihrer ...        Germany  \n",
       "121277  'Desus & Mero' co-hosts Desus Nice and The Kid...  Great Britain  \n",
       "35189   The Jackson estate doesn't want you to see ton...         Canada  \n",
       "22394   Finding valuable stuff in thrift shops is amaz...         Canada  \n",
       "178151  Markiplier steps inside Luigi's Mansion to tak...            USA  \n",
       "145669  Two cats are stuck, but there is always a way out  Great Britain  \n",
       "145224                                   Nothing is pure.  Great Britain  \n",
       "63066   Hier könnt ihr eine Herzöffnung für euren Wuns...        Germany  "
      ]
     },
     "execution_count": 4,
     "metadata": {},
     "output_type": "execute_result"
    }
   ],
   "source": [
    "df = pd.read_csv(\"../data/Youtube_Statistics_full.csv\", encoding_errors = 'replace', encoding = 'utf-8', delimiter=';', low_memory=False)\n",
    "df.sample(10)"
   ]
  },
  {
   "cell_type": "code",
   "execution_count": 5,
   "metadata": {},
   "outputs": [],
   "source": [
    "# fill empty country values in col \"COUNTRY\"\n",
    "df[\"Country\"].fillna(\"No Country\", inplace=True)"
   ]
  },
  {
   "cell_type": "code",
   "execution_count": 6,
   "metadata": {},
   "outputs": [
    {
     "data": {
      "text/html": [
       "<div>\n",
       "<style scoped>\n",
       "    .dataframe tbody tr th:only-of-type {\n",
       "        vertical-align: middle;\n",
       "    }\n",
       "\n",
       "    .dataframe tbody tr th {\n",
       "        vertical-align: top;\n",
       "    }\n",
       "\n",
       "    .dataframe thead th {\n",
       "        text-align: right;\n",
       "    }\n",
       "</style>\n",
       "<table border=\"1\" class=\"dataframe\">\n",
       "  <thead>\n",
       "    <tr style=\"text-align: right;\">\n",
       "      <th></th>\n",
       "      <th>count</th>\n",
       "      <th>share</th>\n",
       "    </tr>\n",
       "  </thead>\n",
       "  <tbody>\n",
       "    <tr>\n",
       "      <th>France</th>\n",
       "      <td>40213</td>\n",
       "      <td>0.17781</td>\n",
       "    </tr>\n",
       "    <tr>\n",
       "      <th>Mexico</th>\n",
       "      <td>40099</td>\n",
       "      <td>0.17730</td>\n",
       "    </tr>\n",
       "    <tr>\n",
       "      <th>Germany</th>\n",
       "      <td>40014</td>\n",
       "      <td>0.17693</td>\n",
       "    </tr>\n",
       "    <tr>\n",
       "      <th>Canada</th>\n",
       "      <td>39086</td>\n",
       "      <td>0.17282</td>\n",
       "    </tr>\n",
       "    <tr>\n",
       "      <th>USA</th>\n",
       "      <td>36761</td>\n",
       "      <td>0.16254</td>\n",
       "    </tr>\n",
       "    <tr>\n",
       "      <th>Great Britain</th>\n",
       "      <td>29980</td>\n",
       "      <td>0.13256</td>\n",
       "    </tr>\n",
       "    <tr>\n",
       "      <th>No Country</th>\n",
       "      <td>10</td>\n",
       "      <td>0.00004</td>\n",
       "    </tr>\n",
       "  </tbody>\n",
       "</table>\n",
       "</div>"
      ],
      "text/plain": [
       "               count   share\n",
       "France         40213 0.17781\n",
       "Mexico         40099 0.17730\n",
       "Germany        40014 0.17693\n",
       "Canada         39086 0.17282\n",
       "USA            36761 0.16254\n",
       "Great Britain  29980 0.13256\n",
       "No Country        10 0.00004"
      ]
     },
     "execution_count": 6,
     "metadata": {},
     "output_type": "execute_result"
    }
   ],
   "source": [
    "# tabulation per country\n",
    "df_country_tabulation = pd.DataFrame(\n",
    "    {\n",
    "        \"count\": df[\"Country\"].value_counts(),\n",
    "        \"share\": df[\"Country\"].value_counts(normalize=True),\n",
    "    }\n",
    ")\n",
    "\n",
    "df_country_tabulation"
   ]
  },
  {
   "cell_type": "markdown",
   "metadata": {},
   "source": [
    "## b)"
   ]
  },
  {
   "cell_type": "code",
   "execution_count": 7,
   "metadata": {},
   "outputs": [
    {
     "data": {
      "text/plain": [
       "10"
      ]
     },
     "execution_count": 7,
     "metadata": {},
     "output_type": "execute_result"
    }
   ],
   "source": [
    "df_views = pd.Series(df[\"views\"])\n",
    "# check for NaN\n",
    "df_views.isna().sum()"
   ]
  },
  {
   "cell_type": "code",
   "execution_count": 8,
   "metadata": {},
   "outputs": [
    {
     "data": {
      "text/plain": [
       "0"
      ]
     },
     "execution_count": 8,
     "metadata": {},
     "output_type": "execute_result"
    }
   ],
   "source": [
    "# drop NaN values\n",
    "df_views.dropna(inplace=True)\n",
    "df_views.isnull().sum()"
   ]
  },
  {
   "cell_type": "code",
   "execution_count": 9,
   "metadata": {},
   "outputs": [
    {
     "data": {
      "text/plain": [
       "count    226153.00000\n",
       "mean     556551.02900\n",
       "std      836232.17738\n",
       "min         157.00000\n",
       "25%       46019.00000\n",
       "50%      199221.00000\n",
       "75%      672071.00000\n",
       "max     4994034.00000\n",
       "Name: views, dtype: float64"
      ]
     },
     "execution_count": 9,
     "metadata": {},
     "output_type": "execute_result"
    }
   ],
   "source": [
    "# have a look at the data\n",
    "df_views.describe()"
   ]
  },
  {
   "cell_type": "markdown",
   "metadata": {},
   "source": [
    "Here we measure **location** statistics:"
   ]
  },
  {
   "cell_type": "code",
   "execution_count": 10,
   "metadata": {},
   "outputs": [
    {
     "name": "stdout",
     "output_type": "stream",
     "text": [
      "Trimmed mean with 20 % cuttoff of youtube views is: 273909.66089628794\n",
      "Median: 199221.0\n",
      "Mean: 556551.0289980677\n",
      "Modes: \n",
      "0   3778.00000\n",
      "1   6573.00000\n",
      "Name: views, dtype: float64\n"
     ]
    }
   ],
   "source": [
    "df_views_sorted = df_views.sort_values(ascending=True)\n",
    "trimmed_mean = stats.trim_mean(df_views_sorted, 0.2)\n",
    "views_mode = df_views.mode()\n",
    "views_median = df_views.median()\n",
    "views_mean = df_views.mean()\n",
    "\n",
    "print(f\"Trimmed mean with 20 % cuttoff of youtube views is: {trimmed_mean}\\nMedian: {views_median}\\nMean: {views_mean}\\nModes: \\n{views_mode}\")"
   ]
  },
  {
   "cell_type": "code",
   "execution_count": 11,
   "metadata": {},
   "outputs": [
    {
     "name": "stderr",
     "output_type": "stream",
     "text": [
      "/tmp/ipykernel_38488/352505491.py:13: UserWarning: Matplotlib is currently using module://matplotlib_inline.backend_inline, which is a non-GUI backend, so cannot show the figure.\n",
      "  fig.show()\n"
     ]
    },
    {
     "data": {
      "image/png": "[encoded data removed]",
      "text/plain": [
       "<Figure size 640x480 with 1 Axes>"
      ]
     },
     "metadata": {},
     "output_type": "display_data"
    }
   ],
   "source": [
    "# show graphical representations of the distribution\n",
    "#df_views.count()\n",
    "fig, ax = plt.subplots(1)\n",
    "n, bins, patches = ax.hist(df_views, bins = 50, alpha = 0.6)\n",
    "ax.set_ylabel(\"Ocurrences\")\n",
    "ax.set_xlabel(\"Views\")\n",
    "ax.axvline(views_mean, linestyle = \"dashed\", color = \"b\")\n",
    "min_ylim, max_ylim = plt.ylim()\n",
    "ax.text(views_mean *1.1, max_ylim *0.9, 'Mean: {:.5f}'.format(views_mean))\n",
    "ax.axvline(views_median, linestyle = \"dashed\", color = \"r\")\n",
    "#min_ylim_2, max_ylim_2 = plt.ylim()\n",
    "ax.text(views_median *1.1, max_ylim *0.6, 'Median: {:.5f}'.format(views_median))\n",
    "fig.show()"
   ]
  },
  {
   "cell_type": "markdown",
   "metadata": {},
   "source": [
    "Here we measure **spread** statistics:"
   ]
  },
  {
   "cell_type": "code",
   "execution_count": 12,
   "metadata": {},
   "outputs": [
    {
     "name": "stdout",
     "output_type": "stream",
     "text": [
      "Interquartile range for views is: 626052.0\n"
     ]
    }
   ],
   "source": [
    "variance_views = df_views.var(skipna=True)\n",
    "std_deviation_views = np.sqrt(variance_views)\n",
    "std_deviation_views\n",
    "quarter =df_views.quantile(0.25)\n",
    "three_quarter = df_views.quantile(0.75)\n",
    "iqr = three_quarter - quarter  \n",
    "print(f\"Interquartile range for views is: {iqr}\")\n"
   ]
  },
  {
   "cell_type": "markdown",
   "metadata": {},
   "source": [
    "Next, we calculate **skewness** of the distribution:"
   ]
  },
  {
   "cell_type": "code",
   "execution_count": 22,
   "metadata": {},
   "outputs": [
    {
     "name": "stdout",
     "output_type": "stream",
     "text": [
      " Skew is: 0.42730959016205744 which indicates our distribution is not normally distributed (confirmed by histogram above) and skewed to the left. \n",
      " Kurtosis is : 0.19620608003227535 which means our distribution is platykurtic, therefore we have few outliers and is light-tailed.\n"
     ]
    }
   ],
   "source": [
    "skew = (views_mean -views_median) / std_deviation_views\n",
    "skew\n",
    "kurtosis = views_mean**4 / std_deviation_views**4\n",
    "print(f\" Skew is: {skew} which indicates our distribution is not normally distributed (confirmed by histogram above) and skewed to the left. \\n Kurtosis is : {kurtosis} which means our distribution is platykurtic, therefore we have few outliers and is light-tailed.\")"
   ]
  },
  {
   "cell_type": "markdown",
   "metadata": {},
   "source": [
    "## c"
   ]
  },
  {
   "cell_type": "code",
   "execution_count": 40,
   "metadata": {},
   "outputs": [
    {
     "name": "stdout",
     "output_type": "stream",
     "text": [
      "here we have trimmed means with 20% cutoff in front \n"
     ]
    },
    {
     "data": {
      "text/plain": [
       "Canada          10372.81370\n",
       "Germany          3978.42799\n",
       "France           2785.73099\n",
       "Great Britain   18396.69619\n",
       "USA             18119.04520\n",
       "Mexico           2272.12676\n",
       "No Country              NaN\n",
       "dtype: float64"
      ]
     },
     "execution_count": 40,
     "metadata": {},
     "output_type": "execute_result"
    }
   ],
   "source": [
    "countries = df[\"Country\"].unique()\n",
    "likes = df.groupby(by=\"Country\")[\"likes\"]\n",
    "trimmed_means_like = pd.Series(data = [0,0,0,0,0,0,0], index = countries) #buffer for trimmed_means\n",
    "\n",
    "for country in countries:\n",
    "    buf_df = likes.get_group(country) # get data for each country\n",
    "    buf_df.sort_values(ascending=True) #sort data of current country\n",
    "    trimmed_means_like[country] = stats.trim_mean(buf_df, 0.2) #compute trimmed mean for current country\n",
    "\n",
    "\n",
    "print(\"here we have trimmed means with 20% cutoff in front \")\n",
    "trimmed_means_like\n",
    "#likes.mean()"
   ]
  }
 ],
 "metadata": {
  "kernelspec": {
   "display_name": "Python 3.10.7 ('data_science-dDCtDHdq')",
   "language": "python",
   "name": "python3"
  },
  "language_info": {
   "codemirror_mode": {
    "name": "ipython",
    "version": 3
   },
   "file_extension": ".py",
   "mimetype": "text/x-python",
   "name": "python",
   "nbconvert_exporter": "python",
   "pygments_lexer": "ipython3",
   "version": "3.10.7"
  },
  "orig_nbformat": 4,
  "vscode": {
   "interpreter": {
    "hash": "879e0aa37acc94d6458fa173f3288bcea56e82a3b9fca582a9c7d294b714e537"
   }
  }
 },
 "nbformat": 4,
 "nbformat_minor": 2
}
