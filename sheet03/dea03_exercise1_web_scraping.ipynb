{
 "cells": [
  {
   "cell_type": "markdown",
   "metadata": {},
   "source": [
    "# Exercise 1"
   ]
  },
  {
   "cell_type": "markdown",
   "metadata": {},
   "source": [
    "## a) Web Scraping\n",
    "\n",
    "Scraping is only legal and ethical if the extracted data is for personal use and analysis. If the results of the collected data were to be published, a request for the permission of the data subjects must be sent beforehand. Also data which is protected by copyright should not be fetched.  \n",
    "Most websites state on their privacy policy and terms & conditions if web scraping is allowed on their site."
   ]
  },
  {
   "cell_type": "markdown",
   "metadata": {},
   "source": [
    "## b) Twitter API\n",
    "For detailed information see ``twitter_api.py``. The Data was gathered with keyword 'Innsbruck' and hashtag '#Innsbruck'.  \n",
    "The python script was executed multiple times to fetch more data for the analysis part. Unfortunately, the essential access to the twitter API only allowed 100 tweets per fetch. This resulted in a data set with a lot of duplicates."
   ]
  },
  {
   "cell_type": "markdown",
   "metadata": {},
   "source": [
    "## c) Analysis of the data"
   ]
  },
  {
   "cell_type": "code",
   "execution_count": 15,
   "metadata": {},
   "outputs": [],
   "source": [
    "#imports\n",
    "import pandas as pd\n",
    "import json\n",
    "import matplotlib.pyplot as plt"
   ]
  },
  {
   "cell_type": "markdown",
   "metadata": {},
   "source": [
    "We need to compute mean, median of *likes*, *replies* and *retweets* from scraped twitter data:"
   ]
  },
  {
   "cell_type": "code",
   "execution_count": 16,
   "metadata": {},
   "outputs": [],
   "source": [
    "with open(\"tweets.json\") as f:\n",
    "    tweets_raw = json.load(f)\n",
    "\n",
    "tweets = pd.json_normalize(tweets_raw)\n"
   ]
  },
  {
   "cell_type": "code",
   "execution_count": 17,
   "metadata": {},
   "outputs": [
    {
     "data": {
      "text/html": [
       "<div>\n",
       "<style scoped>\n",
       "    .dataframe tbody tr th:only-of-type {\n",
       "        vertical-align: middle;\n",
       "    }\n",
       "\n",
       "    .dataframe tbody tr th {\n",
       "        vertical-align: top;\n",
       "    }\n",
       "\n",
       "    .dataframe thead th {\n",
       "        text-align: right;\n",
       "    }\n",
       "</style>\n",
       "<table border=\"1\" class=\"dataframe\">\n",
       "  <thead>\n",
       "    <tr style=\"text-align: right;\">\n",
       "      <th></th>\n",
       "      <th>public_metrics.retweet_count</th>\n",
       "      <th>public_metrics.reply_count</th>\n",
       "      <th>public_metrics.like_count</th>\n",
       "      <th>public_metrics.quote_count</th>\n",
       "    </tr>\n",
       "  </thead>\n",
       "  <tbody>\n",
       "    <tr>\n",
       "      <th>count</th>\n",
       "      <td>152.000000</td>\n",
       "      <td>152.000000</td>\n",
       "      <td>152.000000</td>\n",
       "      <td>152.000000</td>\n",
       "    </tr>\n",
       "    <tr>\n",
       "      <th>mean</th>\n",
       "      <td>39.914474</td>\n",
       "      <td>0.092105</td>\n",
       "      <td>0.559211</td>\n",
       "      <td>0.019737</td>\n",
       "    </tr>\n",
       "    <tr>\n",
       "      <th>std</th>\n",
       "      <td>391.856220</td>\n",
       "      <td>0.352010</td>\n",
       "      <td>3.100381</td>\n",
       "      <td>0.139554</td>\n",
       "    </tr>\n",
       "    <tr>\n",
       "      <th>min</th>\n",
       "      <td>0.000000</td>\n",
       "      <td>0.000000</td>\n",
       "      <td>0.000000</td>\n",
       "      <td>0.000000</td>\n",
       "    </tr>\n",
       "    <tr>\n",
       "      <th>25%</th>\n",
       "      <td>0.000000</td>\n",
       "      <td>0.000000</td>\n",
       "      <td>0.000000</td>\n",
       "      <td>0.000000</td>\n",
       "    </tr>\n",
       "    <tr>\n",
       "      <th>50%</th>\n",
       "      <td>0.000000</td>\n",
       "      <td>0.000000</td>\n",
       "      <td>0.000000</td>\n",
       "      <td>0.000000</td>\n",
       "    </tr>\n",
       "    <tr>\n",
       "      <th>75%</th>\n",
       "      <td>12.000000</td>\n",
       "      <td>0.000000</td>\n",
       "      <td>0.000000</td>\n",
       "      <td>0.000000</td>\n",
       "    </tr>\n",
       "    <tr>\n",
       "      <th>max</th>\n",
       "      <td>4837.000000</td>\n",
       "      <td>2.000000</td>\n",
       "      <td>36.000000</td>\n",
       "      <td>1.000000</td>\n",
       "    </tr>\n",
       "  </tbody>\n",
       "</table>\n",
       "</div>"
      ],
      "text/plain": [
       "       public_metrics.retweet_count  public_metrics.reply_count  \\\n",
       "count                    152.000000                  152.000000   \n",
       "mean                      39.914474                    0.092105   \n",
       "std                      391.856220                    0.352010   \n",
       "min                        0.000000                    0.000000   \n",
       "25%                        0.000000                    0.000000   \n",
       "50%                        0.000000                    0.000000   \n",
       "75%                       12.000000                    0.000000   \n",
       "max                     4837.000000                    2.000000   \n",
       "\n",
       "       public_metrics.like_count  public_metrics.quote_count  \n",
       "count                 152.000000                  152.000000  \n",
       "mean                    0.559211                    0.019737  \n",
       "std                     3.100381                    0.139554  \n",
       "min                     0.000000                    0.000000  \n",
       "25%                     0.000000                    0.000000  \n",
       "50%                     0.000000                    0.000000  \n",
       "75%                     0.000000                    0.000000  \n",
       "max                    36.000000                    1.000000  "
      ]
     },
     "execution_count": 17,
     "metadata": {},
     "output_type": "execute_result"
    }
   ],
   "source": [
    "# drop duplicate id entries+\n",
    "tweets.drop_duplicates('id', inplace=True)\n",
    "tweets.describe()"
   ]
  },
  {
   "cell_type": "code",
   "execution_count": 18,
   "metadata": {},
   "outputs": [
    {
     "name": "stdout",
     "output_type": "stream",
     "text": [
      "Median of likes: 0.0\n",
      "Mean of likes: 0.5592105263157895\n",
      "Median of replies: 0.0\n",
      "Mean of replies: 0.09210526315789473\n",
      "Median of retweets: 0.0\n",
      "Mean of retweets: 39.91447368421053\n"
     ]
    }
   ],
   "source": [
    "like_median = tweets[\"public_metrics.like_count\"].median()\n",
    "like_mean = tweets[\"public_metrics.like_count\"].mean()\n",
    "reply_median = tweets[\"public_metrics.reply_count\"].median()\n",
    "reply_mean = tweets[\"public_metrics.reply_count\"].mean()\n",
    "retweet_median = tweets[\"public_metrics.retweet_count\"].median()\n",
    "retweet_mean = tweets[\"public_metrics.retweet_count\"].mean()\n",
    "print(f\"Median of likes: {like_median}\")\n",
    "print(f\"Mean of likes: {like_mean}\")\n",
    "print(f\"Median of replies: {reply_median}\")\n",
    "print(f\"Mean of replies: {reply_mean}\")\n",
    "print(f\"Median of retweets: {retweet_median}\")\n",
    "print(f\"Mean of retweets: {retweet_mean}\")\n"
   ]
  },
  {
   "cell_type": "markdown",
   "metadata": {},
   "source": [
    "We can see that the *retweets* are an outlier compared to the other two statistics, since the mean is 58.0289... Since the median is 0 like for the other stats, this implies that there must be some tweets which have many retweets in order to skew the mean."
   ]
  },
  {
   "cell_type": "code",
   "execution_count": 19,
   "metadata": {},
   "outputs": [
    {
     "data": {
      "image/png": "[encoded data removed]",
      "text/plain": [
       "<Figure size 432x288 with 1 Axes>"
      ]
     },
     "metadata": {
      "needs_background": "light"
     },
     "output_type": "display_data"
    }
   ],
   "source": [
    "fig, ax = plt.subplots()\n",
    "ax.scatter(tweets[\"id\"],tweets[\"public_metrics.retweet_count\"])\n",
    "ax.set_xlabel(\"Tweet id\")\n",
    "ax.set_ylabel(\"Retweet count\")\n",
    "for label in ax.xaxis.get_ticklabels():\n",
    "    label.set_visible(False) # hide id labels since they are not relevant\n",
    "fig.show()"
   ]
  },
  {
   "cell_type": "markdown",
   "metadata": {},
   "source": [
    "The plot above confirms this theory! We have a single tweet with almost 5000 retweets which skews our mean."
   ]
  }
 ],
 "metadata": {
  "kernelspec": {
   "display_name": "data_science",
   "language": "python",
   "name": "data_science"
  },
  "language_info": {
   "codemirror_mode": {
    "name": "ipython",
    "version": 3
   },
   "file_extension": ".py",
   "mimetype": "text/x-python",
   "name": "python",
   "nbconvert_exporter": "python",
   "pygments_lexer": "ipython3",
   "version": "3.10.8"
  },
  "orig_nbformat": 4,
  "vscode": {
   "interpreter": {
    "hash": "879e0aa37acc94d6458fa173f3288bcea56e82a3b9fca582a9c7d294b714e537"
   }
  }
 },
 "nbformat": 4,
 "nbformat_minor": 2
}
