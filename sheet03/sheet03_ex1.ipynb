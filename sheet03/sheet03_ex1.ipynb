{
 "cells": [
  {
   "cell_type": "markdown",
   "metadata": {},
   "source": [
    "Sheet 3 Exercise 1 c)"
   ]
  },
  {
   "cell_type": "code",
   "execution_count": 53,
   "metadata": {},
   "outputs": [],
   "source": [
    "#imports\n",
    "import pandas as pd\n",
    "import json\n",
    "import matplotlib.pyplot as plt"
   ]
  },
  {
   "cell_type": "markdown",
   "metadata": {},
   "source": [
    "We need to compute mean, median of *likes*, *replies* and *retweets* from scraped twitter data:"
   ]
  },
  {
   "cell_type": "code",
   "execution_count": 54,
   "metadata": {},
   "outputs": [],
   "source": [
    "with open(\"tweets.json\") as f:\n",
    "    tweets_raw = json.load(f)\n",
    "\n",
    "tweets = pd.json_normalize(tweets_raw)\n"
   ]
  },
  {
   "cell_type": "code",
   "execution_count": 55,
   "metadata": {},
   "outputs": [
    {
     "name": "stdout",
     "output_type": "stream",
     "text": [
      "Median of likes: 0.0\n",
      "Mean of likes: 0.5801136363636363\n",
      "Median of replies: 0.0\n",
      "Mean of replies: 0.0834090909090909\n",
      "Median of retweets: 0.0\n",
      "Mean of retweets: 58.028977272727275\n"
     ]
    }
   ],
   "source": [
    "like_median = tweets[\"public_metrics.like_count\"].median()\n",
    "like_mean = tweets[\"public_metrics.like_count\"].mean()\n",
    "reply_median = tweets[\"public_metrics.reply_count\"].median()\n",
    "reply_mean = tweets[\"public_metrics.reply_count\"].mean()\n",
    "retweet_median = tweets[\"public_metrics.retweet_count\"].median()\n",
    "retweet_mean = tweets[\"public_metrics.retweet_count\"].mean()\n",
    "print(f\"Median of likes: {like_median}\")\n",
    "print(f\"Mean of likes: {like_mean}\")\n",
    "print(f\"Median of replies: {reply_median}\")\n",
    "print(f\"Mean of replies: {reply_mean}\")\n",
    "print(f\"Median of retweets: {retweet_median}\")\n",
    "print(f\"Mean of retweets: {retweet_mean}\")\n"
   ]
  },
  {
   "cell_type": "markdown",
   "metadata": {},
   "source": [
    "We can see that the *retweets* are an outlier compared to the other two statistics, since the mean is 58.0289... Since the median is 0 like for the other stats, this implies that there must be some tweets which have many retweets in order to skew the mean."
   ]
  },
  {
   "cell_type": "code",
   "execution_count": 56,
   "metadata": {},
   "outputs": [
    {
     "name": "stderr",
     "output_type": "stream",
     "text": [
      "/tmp/ipykernel_26420/2082966097.py:7: UserWarning: Matplotlib is currently using module://matplotlib_inline.backend_inline, which is a non-GUI backend, so cannot show the figure.\n",
      "  fig.show()\n"
     ]
    },
    {
     "data": {
      "image/png": "[encoded data removed]",
      "text/plain": [
       "<Figure size 640x480 with 1 Axes>"
      ]
     },
     "metadata": {},
     "output_type": "display_data"
    }
   ],
   "source": [
    "fig, ax = plt.subplots()\n",
    "ax.scatter(tweets[\"id\"],tweets[\"public_metrics.retweet_count\"])\n",
    "ax.set_xlabel(\"Tweet id\")\n",
    "ax.set_ylabel(\"Retweet count\")\n",
    "for label in ax.xaxis.get_ticklabels():\n",
    "    label.set_visible(False) # hide id labels since they are not relevant\n",
    "fig.show()"
   ]
  },
  {
   "cell_type": "markdown",
   "metadata": {},
   "source": [
    "The plot above confirms this theory! We have a single tweet with almost 5000 retweets which skews our mean."
   ]
  }
 ],
 "metadata": {
  "kernelspec": {
   "display_name": "Python 3.10.7 ('data_science-dDCtDHdq')",
   "language": "python",
   "name": "python3"
  },
  "language_info": {
   "codemirror_mode": {
    "name": "ipython",
    "version": 3
   },
   "file_extension": ".py",
   "mimetype": "text/x-python",
   "name": "python",
   "nbconvert_exporter": "python",
   "pygments_lexer": "ipython3",
   "version": "3.10.7"
  },
  "orig_nbformat": 4,
  "vscode": {
   "interpreter": {
    "hash": "879e0aa37acc94d6458fa173f3288bcea56e82a3b9fca582a9c7d294b714e537"
   }
  }
 },
 "nbformat": 4,
 "nbformat_minor": 2
}
