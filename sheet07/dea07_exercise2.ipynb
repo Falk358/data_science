{
 "cells": [
  {
   "attachments": {},
   "cell_type": "markdown",
   "metadata": {},
   "source": [
    "# Sheet 07"
   ]
  },
  {
   "cell_type": "code",
   "execution_count": 3,
   "metadata": {},
   "outputs": [],
   "source": [
    "import pandas as pd\n",
    "import seaborn as sns\n",
    "import matplotlib.pyplot as plt\n",
    "import scipy.stats as stats"
   ]
  },
  {
   "attachments": {},
   "cell_type": "markdown",
   "metadata": {},
   "source": [
    "## Exercise 2: ANOVA"
   ]
  },
  {
   "attachments": {},
   "cell_type": "markdown",
   "metadata": {},
   "source": [
    "### a) One-Way ANOVA\n",
    "\n",
    "Explanation in the book: https://www.stat.cmu.edu/~hseltman/309/Book/Book.pdf"
   ]
  },
  {
   "attachments": {},
   "cell_type": "markdown",
   "metadata": {},
   "source": [
    "#### 1) Conditions to apply one-way ANOVA\n",
    "\n",
    "This test is typically used, when there is a single indepentend variable, with an investigation if different groups have a significant influence on that variable. It can only be applied to at least two groups, but at least three groups are adviced.  \n",
    "\n",
    "One-way ANOVA is most suitable to statistic analysis of a categorial indepentend variable (e.g. mood of a person) and one quantitative dependent variable (e.g. hours of sleep)."
   ]
  },
  {
   "attachments": {},
   "cell_type": "markdown",
   "metadata": {},
   "source": [
    "#### 2) How does one-way ANOVA work\n",
    "\n",
    "**Hypothesis**\n",
    "\n",
    "This test uses the population's mean values in order to find out, if the null or the alternative hypothesis is **true**.  \n",
    "* null hypothesis: $H_{0} = \\mu_{1} = ... = \\mu_{k}$\n",
    "* alternative hypothesis: $H_{A}:  \\mu_{i} \\neq \\mu_{j}$ (there exists one mean $i$ that is different than to another population's mean $j$)\n",
    "\n",
    "where $k$ is the number of groups that are compared with.  \n",
    "\n",
    "**Calculation**\n",
    "\n",
    "$F = {MS_{between} \\over MS_{within}}$\n",
    "\n",
    "where $MS_{between} = {SS_{between} \\over df_{between}}$ and $MS_{within} = {SS_{within} \\over df_{within}}$\n",
    "\n",
    "- $MS$ = \"mean squares\"\n",
    "- $SS$ = \"sum of squared deviations from the mean\" \n",
    "- $df$ = \"degrees of freedom\"\n",
    "  - for $within$: $N - k$\n",
    "  - for $between$: $k - 1$\n",
    "  - $N$ = number of points in the population, $k$ = number of groups\n",
    "- $between$ = \"deviations for between-group sum of squares\"\n",
    "- $within$ = \"deviations for within-group sum of squares\"\n",
    "\n",
    "`Within` \n",
    "Is calculated with the deviation of each point within one group to their group mean, this is repeated for every group. Therefore, $MS_{within}$ is a good estimation of $\\sigma^2$ regardless of the truth of $H_{0}$.\n",
    "\n",
    "`Between` \n",
    "Is calculated with the deviation of each point's group mean to the between-group grand mean. These deviations are then summed and squared to get the $SS_{between}$, which is then divided by $df_{between}$ to get $MS_{between}$. Therefore, the mean squares of between is a good estimation of $\\sigma^2$ only if $H_{0}$ is true.\n",
    "\n",
    "In combination with within group and between-group calculation, the ratio of both is a great represenation if $H_{0}$ is true or not.\n"
   ]
  },
  {
   "attachments": {},
   "cell_type": "markdown",
   "metadata": {},
   "source": [
    "#### 3) How can results of one-way ANOVA be interpreted?\n",
    "\n",
    "* if the value for the `F-Statistic` ($F$) is around $1.0$ then the null hypothesis is **true**, but when this value gets bigger when the alternative hypothesis is **true**.\n",
    "* also the resulting `p-value` ($p$) is used as a guide to reject or approve the null hypothesis. When $\\alpha$ is used as a threshold and $p \\le \\alpha$ then we can reject $H_{0}$, otherwise if $p > \\alpha$, the null hypothesis is **true**."
   ]
  },
  {
   "attachments": {},
   "cell_type": "markdown",
   "metadata": {},
   "source": [
    "### b) Apply one-way ANOVA onto a dataset"
   ]
  },
  {
   "cell_type": "code",
   "execution_count": 4,
   "metadata": {},
   "outputs": [
    {
     "data": {
      "text/html": [
       "<div>\n",
       "<style scoped>\n",
       "    .dataframe tbody tr th:only-of-type {\n",
       "        vertical-align: middle;\n",
       "    }\n",
       "\n",
       "    .dataframe tbody tr th {\n",
       "        vertical-align: top;\n",
       "    }\n",
       "\n",
       "    .dataframe thead th {\n",
       "        text-align: right;\n",
       "    }\n",
       "</style>\n",
       "<table border=\"1\" class=\"dataframe\">\n",
       "  <thead>\n",
       "    <tr style=\"text-align: right;\">\n",
       "      <th></th>\n",
       "      <th>id</th>\n",
       "      <th>gender</th>\n",
       "      <th>age</th>\n",
       "      <th>height</th>\n",
       "      <th>diet.type</th>\n",
       "      <th>initial.weight</th>\n",
       "      <th>final.weight</th>\n",
       "    </tr>\n",
       "  </thead>\n",
       "  <tbody>\n",
       "    <tr>\n",
       "      <th>0</th>\n",
       "      <td>1</td>\n",
       "      <td>Female</td>\n",
       "      <td>22</td>\n",
       "      <td>159</td>\n",
       "      <td>A</td>\n",
       "      <td>58</td>\n",
       "      <td>54.2</td>\n",
       "    </tr>\n",
       "    <tr>\n",
       "      <th>1</th>\n",
       "      <td>2</td>\n",
       "      <td>Female</td>\n",
       "      <td>46</td>\n",
       "      <td>192</td>\n",
       "      <td>A</td>\n",
       "      <td>60</td>\n",
       "      <td>54.0</td>\n",
       "    </tr>\n",
       "    <tr>\n",
       "      <th>2</th>\n",
       "      <td>3</td>\n",
       "      <td>Female</td>\n",
       "      <td>55</td>\n",
       "      <td>170</td>\n",
       "      <td>A</td>\n",
       "      <td>64</td>\n",
       "      <td>63.3</td>\n",
       "    </tr>\n",
       "    <tr>\n",
       "      <th>3</th>\n",
       "      <td>4</td>\n",
       "      <td>Female</td>\n",
       "      <td>33</td>\n",
       "      <td>171</td>\n",
       "      <td>A</td>\n",
       "      <td>64</td>\n",
       "      <td>61.1</td>\n",
       "    </tr>\n",
       "    <tr>\n",
       "      <th>4</th>\n",
       "      <td>5</td>\n",
       "      <td>Female</td>\n",
       "      <td>50</td>\n",
       "      <td>170</td>\n",
       "      <td>A</td>\n",
       "      <td>65</td>\n",
       "      <td>62.2</td>\n",
       "    </tr>\n",
       "    <tr>\n",
       "      <th>...</th>\n",
       "      <td>...</td>\n",
       "      <td>...</td>\n",
       "      <td>...</td>\n",
       "      <td>...</td>\n",
       "      <td>...</td>\n",
       "      <td>...</td>\n",
       "      <td>...</td>\n",
       "    </tr>\n",
       "    <tr>\n",
       "      <th>71</th>\n",
       "      <td>74</td>\n",
       "      <td>Male</td>\n",
       "      <td>35</td>\n",
       "      <td>183</td>\n",
       "      <td>C</td>\n",
       "      <td>83</td>\n",
       "      <td>80.2</td>\n",
       "    </tr>\n",
       "    <tr>\n",
       "      <th>72</th>\n",
       "      <td>75</td>\n",
       "      <td>Male</td>\n",
       "      <td>49</td>\n",
       "      <td>177</td>\n",
       "      <td>C</td>\n",
       "      <td>84</td>\n",
       "      <td>79.9</td>\n",
       "    </tr>\n",
       "    <tr>\n",
       "      <th>73</th>\n",
       "      <td>76</td>\n",
       "      <td>Male</td>\n",
       "      <td>28</td>\n",
       "      <td>164</td>\n",
       "      <td>C</td>\n",
       "      <td>85</td>\n",
       "      <td>79.7</td>\n",
       "    </tr>\n",
       "    <tr>\n",
       "      <th>74</th>\n",
       "      <td>77</td>\n",
       "      <td>Male</td>\n",
       "      <td>40</td>\n",
       "      <td>167</td>\n",
       "      <td>C</td>\n",
       "      <td>87</td>\n",
       "      <td>77.8</td>\n",
       "    </tr>\n",
       "    <tr>\n",
       "      <th>75</th>\n",
       "      <td>78</td>\n",
       "      <td>Male</td>\n",
       "      <td>51</td>\n",
       "      <td>175</td>\n",
       "      <td>C</td>\n",
       "      <td>88</td>\n",
       "      <td>81.9</td>\n",
       "    </tr>\n",
       "  </tbody>\n",
       "</table>\n",
       "<p>76 rows × 7 columns</p>\n",
       "</div>"
      ],
      "text/plain": [
       "    id  gender  age  height diet.type  initial.weight  final.weight\n",
       "0    1  Female   22     159         A              58          54.2\n",
       "1    2  Female   46     192         A              60          54.0\n",
       "2    3  Female   55     170         A              64          63.3\n",
       "3    4  Female   33     171         A              64          61.1\n",
       "4    5  Female   50     170         A              65          62.2\n",
       "..  ..     ...  ...     ...       ...             ...           ...\n",
       "71  74    Male   35     183         C              83          80.2\n",
       "72  75    Male   49     177         C              84          79.9\n",
       "73  76    Male   28     164         C              85          79.7\n",
       "74  77    Male   40     167         C              87          77.8\n",
       "75  78    Male   51     175         C              88          81.9\n",
       "\n",
       "[76 rows x 7 columns]"
      ]
     },
     "execution_count": 4,
     "metadata": {},
     "output_type": "execute_result"
    }
   ],
   "source": [
    "# import the dataset\n",
    "df = pd.read_csv('../data/diet.csv')\n",
    "df"
   ]
  },
  {
   "attachments": {},
   "cell_type": "markdown",
   "metadata": {},
   "source": [
    "Since, one-way ANOVA is a test for finding out whether there exists a statistically significant difference between the mean values of more than one group. Therefore, we need to define our null hypothesis:\n",
    "\n",
    "$H_{0}$: All diets have the same mean weight loss ($\\mu_{1} = \\mu_{2} = \\mu_{3}$), where 1 is diet 'A', 2 is diet 'B' and 3 is diet 'C'.  \n",
    "$H_{A}$: The means weight losses of all diets are not equal."
   ]
  },
  {
   "attachments": {},
   "cell_type": "markdown",
   "metadata": {},
   "source": [
    "In order to find if there exists a stistically significant difference in the mean weight loss, we need to add a new column to our dataframe - the weight loss as absolute value. "
   ]
  },
  {
   "cell_type": "code",
   "execution_count": 5,
   "metadata": {},
   "outputs": [
    {
     "data": {
      "text/html": [
       "<div>\n",
       "<style scoped>\n",
       "    .dataframe tbody tr th:only-of-type {\n",
       "        vertical-align: middle;\n",
       "    }\n",
       "\n",
       "    .dataframe tbody tr th {\n",
       "        vertical-align: top;\n",
       "    }\n",
       "\n",
       "    .dataframe thead th {\n",
       "        text-align: right;\n",
       "    }\n",
       "</style>\n",
       "<table border=\"1\" class=\"dataframe\">\n",
       "  <thead>\n",
       "    <tr style=\"text-align: right;\">\n",
       "      <th></th>\n",
       "      <th>id</th>\n",
       "      <th>gender</th>\n",
       "      <th>age</th>\n",
       "      <th>height</th>\n",
       "      <th>diet.type</th>\n",
       "      <th>initial.weight</th>\n",
       "      <th>final.weight</th>\n",
       "      <th>difference.weight</th>\n",
       "    </tr>\n",
       "  </thead>\n",
       "  <tbody>\n",
       "    <tr>\n",
       "      <th>0</th>\n",
       "      <td>1</td>\n",
       "      <td>Female</td>\n",
       "      <td>22</td>\n",
       "      <td>159</td>\n",
       "      <td>A</td>\n",
       "      <td>58</td>\n",
       "      <td>54.2</td>\n",
       "      <td>3.8</td>\n",
       "    </tr>\n",
       "    <tr>\n",
       "      <th>1</th>\n",
       "      <td>2</td>\n",
       "      <td>Female</td>\n",
       "      <td>46</td>\n",
       "      <td>192</td>\n",
       "      <td>A</td>\n",
       "      <td>60</td>\n",
       "      <td>54.0</td>\n",
       "      <td>6.0</td>\n",
       "    </tr>\n",
       "    <tr>\n",
       "      <th>2</th>\n",
       "      <td>3</td>\n",
       "      <td>Female</td>\n",
       "      <td>55</td>\n",
       "      <td>170</td>\n",
       "      <td>A</td>\n",
       "      <td>64</td>\n",
       "      <td>63.3</td>\n",
       "      <td>0.7</td>\n",
       "    </tr>\n",
       "    <tr>\n",
       "      <th>3</th>\n",
       "      <td>4</td>\n",
       "      <td>Female</td>\n",
       "      <td>33</td>\n",
       "      <td>171</td>\n",
       "      <td>A</td>\n",
       "      <td>64</td>\n",
       "      <td>61.1</td>\n",
       "      <td>2.9</td>\n",
       "    </tr>\n",
       "    <tr>\n",
       "      <th>4</th>\n",
       "      <td>5</td>\n",
       "      <td>Female</td>\n",
       "      <td>50</td>\n",
       "      <td>170</td>\n",
       "      <td>A</td>\n",
       "      <td>65</td>\n",
       "      <td>62.2</td>\n",
       "      <td>2.8</td>\n",
       "    </tr>\n",
       "    <tr>\n",
       "      <th>...</th>\n",
       "      <td>...</td>\n",
       "      <td>...</td>\n",
       "      <td>...</td>\n",
       "      <td>...</td>\n",
       "      <td>...</td>\n",
       "      <td>...</td>\n",
       "      <td>...</td>\n",
       "      <td>...</td>\n",
       "    </tr>\n",
       "    <tr>\n",
       "      <th>71</th>\n",
       "      <td>74</td>\n",
       "      <td>Male</td>\n",
       "      <td>35</td>\n",
       "      <td>183</td>\n",
       "      <td>C</td>\n",
       "      <td>83</td>\n",
       "      <td>80.2</td>\n",
       "      <td>2.8</td>\n",
       "    </tr>\n",
       "    <tr>\n",
       "      <th>72</th>\n",
       "      <td>75</td>\n",
       "      <td>Male</td>\n",
       "      <td>49</td>\n",
       "      <td>177</td>\n",
       "      <td>C</td>\n",
       "      <td>84</td>\n",
       "      <td>79.9</td>\n",
       "      <td>4.1</td>\n",
       "    </tr>\n",
       "    <tr>\n",
       "      <th>73</th>\n",
       "      <td>76</td>\n",
       "      <td>Male</td>\n",
       "      <td>28</td>\n",
       "      <td>164</td>\n",
       "      <td>C</td>\n",
       "      <td>85</td>\n",
       "      <td>79.7</td>\n",
       "      <td>5.3</td>\n",
       "    </tr>\n",
       "    <tr>\n",
       "      <th>74</th>\n",
       "      <td>77</td>\n",
       "      <td>Male</td>\n",
       "      <td>40</td>\n",
       "      <td>167</td>\n",
       "      <td>C</td>\n",
       "      <td>87</td>\n",
       "      <td>77.8</td>\n",
       "      <td>9.2</td>\n",
       "    </tr>\n",
       "    <tr>\n",
       "      <th>75</th>\n",
       "      <td>78</td>\n",
       "      <td>Male</td>\n",
       "      <td>51</td>\n",
       "      <td>175</td>\n",
       "      <td>C</td>\n",
       "      <td>88</td>\n",
       "      <td>81.9</td>\n",
       "      <td>6.1</td>\n",
       "    </tr>\n",
       "  </tbody>\n",
       "</table>\n",
       "<p>76 rows × 8 columns</p>\n",
       "</div>"
      ],
      "text/plain": [
       "    id  gender  age  height diet.type  initial.weight  final.weight  \\\n",
       "0    1  Female   22     159         A              58          54.2   \n",
       "1    2  Female   46     192         A              60          54.0   \n",
       "2    3  Female   55     170         A              64          63.3   \n",
       "3    4  Female   33     171         A              64          61.1   \n",
       "4    5  Female   50     170         A              65          62.2   \n",
       "..  ..     ...  ...     ...       ...             ...           ...   \n",
       "71  74    Male   35     183         C              83          80.2   \n",
       "72  75    Male   49     177         C              84          79.9   \n",
       "73  76    Male   28     164         C              85          79.7   \n",
       "74  77    Male   40     167         C              87          77.8   \n",
       "75  78    Male   51     175         C              88          81.9   \n",
       "\n",
       "    difference.weight  \n",
       "0                 3.8  \n",
       "1                 6.0  \n",
       "2                 0.7  \n",
       "3                 2.9  \n",
       "4                 2.8  \n",
       "..                ...  \n",
       "71                2.8  \n",
       "72                4.1  \n",
       "73                5.3  \n",
       "74                9.2  \n",
       "75                6.1  \n",
       "\n",
       "[76 rows x 8 columns]"
      ]
     },
     "execution_count": 5,
     "metadata": {},
     "output_type": "execute_result"
    }
   ],
   "source": [
    "# add new column to df\n",
    "df['difference.weight'] = df['initial.weight'] - df['final.weight']\n",
    "df"
   ]
  },
  {
   "attachments": {},
   "cell_type": "markdown",
   "metadata": {},
   "source": [
    "For one-way ANOVA we need to seperate the three different diets because we want to check if there is a significant difference betweens diets."
   ]
  },
  {
   "cell_type": "code",
   "execution_count": 6,
   "metadata": {},
   "outputs": [],
   "source": [
    "# split into three np arrays\n",
    "diet_a = df[df['diet.type'] == 'A']['difference.weight']\n",
    "diet_b = df[df['diet.type'] == 'B']['difference.weight']\n",
    "diet_c = df[df['diet.type'] == 'C']['difference.weight']"
   ]
  },
  {
   "cell_type": "code",
   "execution_count": 7,
   "metadata": {},
   "outputs": [
    {
     "data": {
      "text/plain": [
       "<seaborn.axisgrid.FacetGrid at 0x7f1250fd35b0>"
      ]
     },
     "execution_count": 7,
     "metadata": {},
     "output_type": "execute_result"
    },
    {
     "data": {
      "image/png": "[encoded data removed]",
      "text/plain": [
       "<Figure size 1080x360 with 3 Axes>"
      ]
     },
     "metadata": {
      "needs_background": "light"
     },
     "output_type": "display_data"
    }
   ],
   "source": [
    "# check for normal distribution with 'displot'\n",
    "sns.displot(df, x=\"difference.weight\", col=\"diet.type\", kde=True, bins=20)"
   ]
  },
  {
   "cell_type": "code",
   "execution_count": 10,
   "metadata": {},
   "outputs": [
    {
     "data": {
      "image/png": "[encoded data removed]",
      "text/plain": [
       "<Figure size 432x288 with 3 Axes>"
      ]
     },
     "metadata": {
      "needs_background": "light"
     },
     "output_type": "display_data"
    }
   ],
   "source": [
    "# another graphical test to check normal distribution - with 'probplot'\n",
    "ax1 = plt.subplot(221)\n",
    "res1 = stats.probplot(diet_a, dist='norm', plot=plt)\n",
    "ax1.set_title('Propability Plot for diet 1')\n",
    "\n",
    "ax2 = plt.subplot(222)\n",
    "res2 = stats.probplot(diet_b, dist='norm', plot=plt)\n",
    "ax2.set_title('Propability Plot for diet 2')\n",
    "\n",
    "ax3 = plt.subplot(223)\n",
    "res3 = stats.probplot(diet_c, dist='norm', plot=plt)\n",
    "ax3.set_title('Propability Plot for diet 3')\n",
    "\n",
    "plt.show()"
   ]
  },
  {
   "attachments": {},
   "cell_type": "markdown",
   "metadata": {},
   "source": [
    "The graphical investigation showed, that not every group has a perfect normal distribution and therefore we might get $p < \\alpha$."
   ]
  },
  {
   "cell_type": "code",
   "execution_count": 11,
   "metadata": {},
   "outputs": [
    {
     "name": "stdout",
     "output_type": "stream",
     "text": [
      "F: 5.383\n",
      "p-value:0.007\n"
     ]
    }
   ],
   "source": [
    "# apply one-way ANOVA\n",
    "F, p_value = stats.f_oneway(diet_a, diet_b, diet_c)\n",
    "print(f\"F: {F:.3f}\\np-value:{p_value:.3f}\")"
   ]
  },
  {
   "attachments": {},
   "cell_type": "markdown",
   "metadata": {},
   "source": [
    "**Conclusion**\n",
    "\n",
    "One-way ANOVA returned $p < \\alpha$ with $F > 1$ and therefore we can reject our null hypothesis. This conducts, that we have statistically significant difference in the mean weight loss among these three diets. "
   ]
  }
 ],
 "metadata": {
  "kernelspec": {
   "display_name": "data_science-KAJshHcW",
   "language": "python",
   "name": "python3"
  },
  "language_info": {
   "codemirror_mode": {
    "name": "ipython",
    "version": 3
   },
   "file_extension": ".py",
   "mimetype": "text/x-python",
   "name": "python",
   "nbconvert_exporter": "python",
   "pygments_lexer": "ipython3",
   "version": "3.10.8"
  },
  "orig_nbformat": 4,
  "vscode": {
   "interpreter": {
    "hash": "2114cf3cacde0e7be3928236994dc1d39087340c025812983894b75528f3f662"
   }
  }
 },
 "nbformat": 4,
 "nbformat_minor": 2
}
