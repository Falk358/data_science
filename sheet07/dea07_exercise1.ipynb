{
 "cells": [
  {
   "cell_type": "code",
   "execution_count": null,
   "metadata": {},
   "outputs": [],
   "source": [
    "import pandas as pd\n"
   ]
  },
  {
   "cell_type": "markdown",
   "metadata": {},
   "source": [
    "## Exercise 1a)\n",
    "\n",
    "In order to find an appropriate statistical test for comparing the given machine learning models, we will look at the *Statistical Test Finder*: https://timdraws.net/files/StatisticalTestFinder.pdf. We learned about this pdf in the lecture associated with this Proseminar. \n",
    "\n",
    "The json provides us with two variables: *Ground truth* and *Predicted* values. We will assume that all models were executed on the same dataset, since comparing them only makes sense when the same data was used for testing all of them. We will consider the ground truth values as an **independent** variable and the predictions as **dependent**, since they are learned from the ground truth. Furthermore, we will consider the type of variable as **categorical** and **unordered**; since the models try to detect handwritten digits, the ordering of the digits is irrelevant to the task.\n",
    "\n",
    "When following the decision tree of the *StatisticalTestFinder* with the constraints defined above, we get two tests as options:\n",
    "\n",
    "The **Chi Squared Test** and the **Likelihood Ratio Test**."
   ]
  },
  {
   "cell_type": "markdown",
   "metadata": {},
   "source": []
  }
 ],
 "metadata": {
  "language_info": {
   "name": "python"
  },
  "orig_nbformat": 4
 },
 "nbformat": 4,
 "nbformat_minor": 2
}
