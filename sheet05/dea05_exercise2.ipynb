{
 "cells": [
  {
   "cell_type": "code",
   "execution_count": 1,
   "metadata": {},
   "outputs": [],
   "source": [
    "import glob\n",
    "import os\n",
    "import numpy as np\n",
    "import pandas as pd\n",
    "from matplotlib import pyplot as plt\n",
    "import json\n",
    "from sklearn import feature_extraction as fe\n",
    "from sklearn import decomposition as dec\n",
    "from sklearn import manifold as man\n",
    "from sklearn import preprocessing as pre\n",
    "from nltk.stem.snowball import SnowballStemmer"
   ]
  },
  {
   "cell_type": "markdown",
   "metadata": {},
   "source": [
    "## Exercise 2a)"
   ]
  },
  {
   "cell_type": "markdown",
   "metadata": {},
   "source": [
    "Both algorithms are used for reducing the dimensionality of data with minimal loss of information.\n",
    "**Priniciple Component Analysis** works by shifting all the data into the origin, projecting the data points onto the different dimension axes (Principal components) and computing which PCs have the highest covariance with the original data. These PCs can be used to represent the original data well.\n",
    "\n",
    "**t-distributed Stochastic Neighbor embedding** works by randomly projecting the data points onto a lower dimensional space. Next, distance metrics are computed from 1 point towards other points. By looking at the distance metric, we can see which points are clustered in the higher dimension space, and can use this information to move the point in the lower dimension space so that it ends up clustered correctly again. \n",
    "\n",
    "Both these techniques require normalization and noise removal."
   ]
  }
 ],
 "metadata": {
  "kernelspec": {
   "display_name": "Python 3.10.7 ('data_science-dDCtDHdq')",
   "language": "python",
   "name": "python3"
  },
  "language_info": {
   "codemirror_mode": {
    "name": "ipython",
    "version": 3
   },
   "file_extension": ".py",
   "mimetype": "text/x-python",
   "name": "python",
   "nbconvert_exporter": "python",
   "pygments_lexer": "ipython3",
   "version": "3.10.7"
  },
  "orig_nbformat": 4,
  "vscode": {
   "interpreter": {
    "hash": "879e0aa37acc94d6458fa173f3288bcea56e82a3b9fca582a9c7d294b714e537"
   }
  }
 },
 "nbformat": 4,
 "nbformat_minor": 2
}
