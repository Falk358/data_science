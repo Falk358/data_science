{
 "cells": [
  {
   "cell_type": "markdown",
   "metadata": {},
   "source": [
    "# Homework 06"
   ]
  },
  {
   "cell_type": "code",
   "execution_count": 25,
   "metadata": {},
   "outputs": [],
   "source": [
    "import pandas as pd\n",
    "import numpy as np\n",
    "import seaborn as sns\n",
    "import matplotlib.pyplot as plt\n",
    "import plotly.express as px\n",
    "from sklearn.preprocessing import StandardScaler\n",
    "from sklearn.cluster import KMeans, DBSCAN\n",
    "from sklearn.decomposition import PCA\n",
    "from sklearn.metrics import silhouette_score, davies_bouldin_score\n",
    "import scipy.cluster.hierarchy as hier"
   ]
  },
  {
   "cell_type": "markdown",
   "metadata": {},
   "source": [
    "## Exercise 1: Clustering"
   ]
  },
  {
   "attachments": {},
   "cell_type": "markdown",
   "metadata": {},
   "source": [
    "First we prepare our dataframe. The source is `wine.data` with information about the dataset, for instance which attributes are present, from `wine.name`. \n",
    "\n",
    "**Note:**\n",
    "Unfortunately, we did not see the `wine.csv` and worked the `wine.data` dataset. After seeing the dataset on OLAT we compared both datasets and we saw that only the first column 'Cultivar' was added in the CSV file, which we called 'target' before but the column held the same data. So, we figured, we just change the name of the column and leave the rest of the notebook the same."
   ]
  },
  {
   "cell_type": "code",
   "execution_count": 4,
   "metadata": {},
   "outputs": [],
   "source": [
    "# OLAT dataset\n",
    "#df_test = pd.read_csv(\"../data/wine.csv\")"
   ]
  },
  {
   "cell_type": "code",
   "execution_count": 5,
   "metadata": {},
   "outputs": [],
   "source": [
    "# first column is our class identifier (= Cultivar), which has 3 number of instances for classification\n",
    "columns = ['Cultivar', 'Alcohol', 'Malic acid', 'Ash', 'Alcalinity of ash', 'Magnesium', 'Total phenols', 'Flavanoids', 'Nonflavanoid phenols', 'Proanthocyanins', 'Color intensity', 'Hue', 'OD280/OD315 of diluted wines', 'Proline']"
   ]
  },
  {
   "cell_type": "code",
   "execution_count": 6,
   "metadata": {},
   "outputs": [
    {
     "data": {
      "text/html": [
       "<div>\n",
       "<style scoped>\n",
       "    .dataframe tbody tr th:only-of-type {\n",
       "        vertical-align: middle;\n",
       "    }\n",
       "\n",
       "    .dataframe tbody tr th {\n",
       "        vertical-align: top;\n",
       "    }\n",
       "\n",
       "    .dataframe thead th {\n",
       "        text-align: right;\n",
       "    }\n",
       "</style>\n",
       "<table border=\"1\" class=\"dataframe\">\n",
       "  <thead>\n",
       "    <tr style=\"text-align: right;\">\n",
       "      <th></th>\n",
       "      <th>Cultivar</th>\n",
       "      <th>Alcohol</th>\n",
       "      <th>Malic acid</th>\n",
       "      <th>Ash</th>\n",
       "      <th>Alcalinity of ash</th>\n",
       "      <th>Magnesium</th>\n",
       "      <th>Total phenols</th>\n",
       "      <th>Flavanoids</th>\n",
       "      <th>Nonflavanoid phenols</th>\n",
       "      <th>Proanthocyanins</th>\n",
       "      <th>Color intensity</th>\n",
       "      <th>Hue</th>\n",
       "      <th>OD280/OD315 of diluted wines</th>\n",
       "      <th>Proline</th>\n",
       "    </tr>\n",
       "  </thead>\n",
       "  <tbody>\n",
       "    <tr>\n",
       "      <th>0</th>\n",
       "      <td>1</td>\n",
       "      <td>14.23</td>\n",
       "      <td>1.71</td>\n",
       "      <td>2.43</td>\n",
       "      <td>15.6</td>\n",
       "      <td>127</td>\n",
       "      <td>2.80</td>\n",
       "      <td>3.06</td>\n",
       "      <td>0.28</td>\n",
       "      <td>2.29</td>\n",
       "      <td>5.64</td>\n",
       "      <td>1.04</td>\n",
       "      <td>3.92</td>\n",
       "      <td>1065</td>\n",
       "    </tr>\n",
       "    <tr>\n",
       "      <th>1</th>\n",
       "      <td>1</td>\n",
       "      <td>13.20</td>\n",
       "      <td>1.78</td>\n",
       "      <td>2.14</td>\n",
       "      <td>11.2</td>\n",
       "      <td>100</td>\n",
       "      <td>2.65</td>\n",
       "      <td>2.76</td>\n",
       "      <td>0.26</td>\n",
       "      <td>1.28</td>\n",
       "      <td>4.38</td>\n",
       "      <td>1.05</td>\n",
       "      <td>3.40</td>\n",
       "      <td>1050</td>\n",
       "    </tr>\n",
       "    <tr>\n",
       "      <th>2</th>\n",
       "      <td>1</td>\n",
       "      <td>13.16</td>\n",
       "      <td>2.36</td>\n",
       "      <td>2.67</td>\n",
       "      <td>18.6</td>\n",
       "      <td>101</td>\n",
       "      <td>2.80</td>\n",
       "      <td>3.24</td>\n",
       "      <td>0.30</td>\n",
       "      <td>2.81</td>\n",
       "      <td>5.68</td>\n",
       "      <td>1.03</td>\n",
       "      <td>3.17</td>\n",
       "      <td>1185</td>\n",
       "    </tr>\n",
       "    <tr>\n",
       "      <th>3</th>\n",
       "      <td>1</td>\n",
       "      <td>14.37</td>\n",
       "      <td>1.95</td>\n",
       "      <td>2.50</td>\n",
       "      <td>16.8</td>\n",
       "      <td>113</td>\n",
       "      <td>3.85</td>\n",
       "      <td>3.49</td>\n",
       "      <td>0.24</td>\n",
       "      <td>2.18</td>\n",
       "      <td>7.80</td>\n",
       "      <td>0.86</td>\n",
       "      <td>3.45</td>\n",
       "      <td>1480</td>\n",
       "    </tr>\n",
       "    <tr>\n",
       "      <th>4</th>\n",
       "      <td>1</td>\n",
       "      <td>13.24</td>\n",
       "      <td>2.59</td>\n",
       "      <td>2.87</td>\n",
       "      <td>21.0</td>\n",
       "      <td>118</td>\n",
       "      <td>2.80</td>\n",
       "      <td>2.69</td>\n",
       "      <td>0.39</td>\n",
       "      <td>1.82</td>\n",
       "      <td>4.32</td>\n",
       "      <td>1.04</td>\n",
       "      <td>2.93</td>\n",
       "      <td>735</td>\n",
       "    </tr>\n",
       "    <tr>\n",
       "      <th>...</th>\n",
       "      <td>...</td>\n",
       "      <td>...</td>\n",
       "      <td>...</td>\n",
       "      <td>...</td>\n",
       "      <td>...</td>\n",
       "      <td>...</td>\n",
       "      <td>...</td>\n",
       "      <td>...</td>\n",
       "      <td>...</td>\n",
       "      <td>...</td>\n",
       "      <td>...</td>\n",
       "      <td>...</td>\n",
       "      <td>...</td>\n",
       "      <td>...</td>\n",
       "    </tr>\n",
       "    <tr>\n",
       "      <th>173</th>\n",
       "      <td>3</td>\n",
       "      <td>13.71</td>\n",
       "      <td>5.65</td>\n",
       "      <td>2.45</td>\n",
       "      <td>20.5</td>\n",
       "      <td>95</td>\n",
       "      <td>1.68</td>\n",
       "      <td>0.61</td>\n",
       "      <td>0.52</td>\n",
       "      <td>1.06</td>\n",
       "      <td>7.70</td>\n",
       "      <td>0.64</td>\n",
       "      <td>1.74</td>\n",
       "      <td>740</td>\n",
       "    </tr>\n",
       "    <tr>\n",
       "      <th>174</th>\n",
       "      <td>3</td>\n",
       "      <td>13.40</td>\n",
       "      <td>3.91</td>\n",
       "      <td>2.48</td>\n",
       "      <td>23.0</td>\n",
       "      <td>102</td>\n",
       "      <td>1.80</td>\n",
       "      <td>0.75</td>\n",
       "      <td>0.43</td>\n",
       "      <td>1.41</td>\n",
       "      <td>7.30</td>\n",
       "      <td>0.70</td>\n",
       "      <td>1.56</td>\n",
       "      <td>750</td>\n",
       "    </tr>\n",
       "    <tr>\n",
       "      <th>175</th>\n",
       "      <td>3</td>\n",
       "      <td>13.27</td>\n",
       "      <td>4.28</td>\n",
       "      <td>2.26</td>\n",
       "      <td>20.0</td>\n",
       "      <td>120</td>\n",
       "      <td>1.59</td>\n",
       "      <td>0.69</td>\n",
       "      <td>0.43</td>\n",
       "      <td>1.35</td>\n",
       "      <td>10.20</td>\n",
       "      <td>0.59</td>\n",
       "      <td>1.56</td>\n",
       "      <td>835</td>\n",
       "    </tr>\n",
       "    <tr>\n",
       "      <th>176</th>\n",
       "      <td>3</td>\n",
       "      <td>13.17</td>\n",
       "      <td>2.59</td>\n",
       "      <td>2.37</td>\n",
       "      <td>20.0</td>\n",
       "      <td>120</td>\n",
       "      <td>1.65</td>\n",
       "      <td>0.68</td>\n",
       "      <td>0.53</td>\n",
       "      <td>1.46</td>\n",
       "      <td>9.30</td>\n",
       "      <td>0.60</td>\n",
       "      <td>1.62</td>\n",
       "      <td>840</td>\n",
       "    </tr>\n",
       "    <tr>\n",
       "      <th>177</th>\n",
       "      <td>3</td>\n",
       "      <td>14.13</td>\n",
       "      <td>4.10</td>\n",
       "      <td>2.74</td>\n",
       "      <td>24.5</td>\n",
       "      <td>96</td>\n",
       "      <td>2.05</td>\n",
       "      <td>0.76</td>\n",
       "      <td>0.56</td>\n",
       "      <td>1.35</td>\n",
       "      <td>9.20</td>\n",
       "      <td>0.61</td>\n",
       "      <td>1.60</td>\n",
       "      <td>560</td>\n",
       "    </tr>\n",
       "  </tbody>\n",
       "</table>\n",
       "<p>178 rows × 14 columns</p>\n",
       "</div>"
      ],
      "text/plain": [
       "     Cultivar  Alcohol  Malic acid   Ash  Alcalinity of ash  Magnesium  \\\n",
       "0           1    14.23        1.71  2.43               15.6        127   \n",
       "1           1    13.20        1.78  2.14               11.2        100   \n",
       "2           1    13.16        2.36  2.67               18.6        101   \n",
       "3           1    14.37        1.95  2.50               16.8        113   \n",
       "4           1    13.24        2.59  2.87               21.0        118   \n",
       "..        ...      ...         ...   ...                ...        ...   \n",
       "173         3    13.71        5.65  2.45               20.5         95   \n",
       "174         3    13.40        3.91  2.48               23.0        102   \n",
       "175         3    13.27        4.28  2.26               20.0        120   \n",
       "176         3    13.17        2.59  2.37               20.0        120   \n",
       "177         3    14.13        4.10  2.74               24.5         96   \n",
       "\n",
       "     Total phenols  Flavanoids  Nonflavanoid phenols  Proanthocyanins  \\\n",
       "0             2.80        3.06                  0.28             2.29   \n",
       "1             2.65        2.76                  0.26             1.28   \n",
       "2             2.80        3.24                  0.30             2.81   \n",
       "3             3.85        3.49                  0.24             2.18   \n",
       "4             2.80        2.69                  0.39             1.82   \n",
       "..             ...         ...                   ...              ...   \n",
       "173           1.68        0.61                  0.52             1.06   \n",
       "174           1.80        0.75                  0.43             1.41   \n",
       "175           1.59        0.69                  0.43             1.35   \n",
       "176           1.65        0.68                  0.53             1.46   \n",
       "177           2.05        0.76                  0.56             1.35   \n",
       "\n",
       "     Color intensity   Hue  OD280/OD315 of diluted wines  Proline  \n",
       "0               5.64  1.04                          3.92     1065  \n",
       "1               4.38  1.05                          3.40     1050  \n",
       "2               5.68  1.03                          3.17     1185  \n",
       "3               7.80  0.86                          3.45     1480  \n",
       "4               4.32  1.04                          2.93      735  \n",
       "..               ...   ...                           ...      ...  \n",
       "173             7.70  0.64                          1.74      740  \n",
       "174             7.30  0.70                          1.56      750  \n",
       "175            10.20  0.59                          1.56      835  \n",
       "176             9.30  0.60                          1.62      840  \n",
       "177             9.20  0.61                          1.60      560  \n",
       "\n",
       "[178 rows x 14 columns]"
      ]
     },
     "execution_count": 6,
     "metadata": {},
     "output_type": "execute_result"
    }
   ],
   "source": [
    "# import dataframe\n",
    "df = pd.read_csv(\"../data/wine.data\", names=columns)\n",
    "df"
   ]
  },
  {
   "cell_type": "code",
   "execution_count": 7,
   "metadata": {},
   "outputs": [
    {
     "data": {
      "text/plain": [
       "2    71\n",
       "1    59\n",
       "3    48\n",
       "Name: Cultivar, dtype: int64"
      ]
     },
     "execution_count": 7,
     "metadata": {},
     "output_type": "execute_result"
    }
   ],
   "source": [
    "# check counts of each category\n",
    "df['Cultivar'].value_counts()"
   ]
  },
  {
   "cell_type": "markdown",
   "metadata": {},
   "source": [
    "### a) k-means\n",
    "As a little help, we read through this article: https://grabngoinfo.com/5-ways-for-deciding-number-of-clusters-in-a-clustering-model/"
   ]
  },
  {
   "cell_type": "code",
   "execution_count": 8,
   "metadata": {},
   "outputs": [],
   "source": [
    "# split df into data & class identifier labels\n",
    "df_data = df[df.columns.difference(['Cultivar'])]\n",
    "labels = df['Cultivar']"
   ]
  },
  {
   "cell_type": "markdown",
   "metadata": {},
   "source": [
    "Before we can start with applying data, we need to standardize our data with a scaler, e.g. StandardScaler()."
   ]
  },
  {
   "cell_type": "code",
   "execution_count": 9,
   "metadata": {},
   "outputs": [],
   "source": [
    "# preprocess data\n",
    "X = StandardScaler().fit_transform(df_data)"
   ]
  },
  {
   "cell_type": "markdown",
   "metadata": {},
   "source": [
    "For further visualization of the data we need to reduce our dimension size from 13 to a lower value. `PCA` allows us to project the data from the original space into a lower-dimensional space."
   ]
  },
  {
   "cell_type": "code",
   "execution_count": 10,
   "metadata": {},
   "outputs": [
    {
     "data": {
      "text/plain": [
       "<AxesSubplot: xlabel='PCA1_2d', ylabel='PCA2_2d'>"
      ]
     },
     "execution_count": 10,
     "metadata": {},
     "output_type": "execute_result"
    },
    {
     "data": {
      "image/png": "[encoded data removed]",
      "text/plain": [
       "<Figure size 640x480 with 1 Axes>"
      ]
     },
     "metadata": {},
     "output_type": "display_data"
    }
   ],
   "source": [
    "# n = 2\n",
    "X_2n = PCA(n_components=2).fit_transform(X)\n",
    "\n",
    "# add the two pca values to the original dataframe\n",
    "df['PCA1_2d'] = X_2n[:, 0]\n",
    "df['PCA2_2d'] = X_2n[:, 1]\n",
    "\n",
    "# visualize 2-dimensional clustering\n",
    "sns.scatterplot(data=df, x='PCA1_2d', y='PCA2_2d', hue='Cultivar')"
   ]
  },
  {
   "cell_type": "code",
   "execution_count": 11,
   "metadata": {},
   "outputs": [
    {
     "data": {
      "application/vnd.plotly.v1+json": {
       "config": {
        "plotlyServerURL": "https://plot.ly"
       },
       "data": [
        {
         "hovertemplate": "PCA1_3d=%{x}<br>PCA2_3d=%{y}<br>PCA3_3d=%{z}<br>Cultivar=%{marker.color}<extra></extra>",
         "legendgroup": "",
         "marker": {
          "color": [
           1,
           1,
           1,
           1,
           1,
           1,
           1,
           1,
           1,
           1,
           1,
           1,
           1,
           1,
           1,
           1,
           1,
           1,
           1,
           1,
           1,
           1,
           1,
           1,
           1,
           1,
           1,
           1,
           1,
           1,
           1,
           1,
           1,
           1,
           1,
           1,
           1,
           1,
           1,
           1,
           1,
           1,
           1,
           1,
           1,
           1,
           1,
           1,
           1,
           1,
           1,
           1,
           1,
           1,
           1,
           1,
           1,
           1,
           1,
           2,
           2,
           2,
           2,
           2,
           2,
           2,
           2,
           2,
           2,
           2,
           2,
           2,
           2,
           2,
           2,
           2,
           2,
           2,
           2,
           2,
           2,
           2,
           2,
           2,
           2,
           2,
           2,
           2,
           2,
           2,
           2,
           2,
           2,
           2,
           2,
           2,
           2,
           2,
           2,
           2,
           2,
           2,
           2,
           2,
           2,
           2,
           2,
           2,
           2,
           2,
           2,
           2,
           2,
           2,
           2,
           2,
           2,
           2,
           2,
           2,
           2,
           2,
           2,
           2,
           2,
           2,
           2,
           2,
           2,
           2,
           3,
           3,
           3,
           3,
           3,
           3,
           3,
           3,
           3,
           3,
           3,
           3,
           3,
           3,
           3,
           3,
           3,
           3,
           3,
           3,
           3,
           3,
           3,
           3,
           3,
           3,
           3,
           3,
           3,
           3,
           3,
           3,
           3,
           3,
           3,
           3,
           3,
           3,
           3,
           3,
           3,
           3,
           3,
           3,
           3,
           3,
           3,
           3
          ],
          "coloraxis": "coloraxis",
          "symbol": "circle"
         },
         "mode": "markers",
         "name": "",
         "scene": "scene",
         "showlegend": false,
         "type": "scatter3d",
         "x": [
          3.3167508122147806,
          2.209464916918848,
          2.516740146610372,
          3.7570656097732,
          1.0089084937957087,
          3.050253922418076,
          2.449089669596228,
          2.0594368714379114,
          2.510874297398988,
          2.7536281876339075,
          3.4797366827312066,
          1.7547529012945864,
          2.113462340315094,
          3.4581568193367205,
          4.31278390676556,
          2.3051882008279687,
          2.171955273741508,
          1.8989711765627573,
          3.541985081943465,
          2.0845222047303116,
          3.124402535167199,
          1.086570068332239,
          2.5352240799037133,
          1.6449883412544686,
          1.761575872269298,
          0.9900791016088506,
          1.7752776281133673,
          1.2354239643099052,
          2.1884063344519578,
          2.256108981283705,
          2.5002200257894196,
          2.6774110474440103,
          1.6285791164309176,
          1.9026908622381442,
          1.4103885265954041,
          1.9038262321944837,
          1.3848622303748381,
          1.122207410441309,
          1.5021945006181925,
          2.52980109237181,
          2.588095425854401,
          0.6684819937541866,
          3.070806990412006,
          0.46220913751600795,
          2.1013519305380157,
          1.1361661775610155,
          2.7266009636408013,
          2.8213392741922476,
          2.0098508509123554,
          2.7074913042663913,
          3.2149174747738227,
          2.85895982671729,
          3.505604355923222,
          2.224791380532169,
          2.1469878235638657,
          2.4693294837977837,
          2.7415179142774506,
          2.173740920965305,
          3.139380151828993,
          -0.928581968921848,
          -1.5424801378968767,
          -1.8362497634669361,
          0.030606834086681235,
          2.050261607576315,
          -0.609680827177621,
          0.900227838707143,
          2.2485071907983962,
          0.18338402668475742,
          -0.8128050273520695,
          1.9756204987985548,
          -1.5722162196262985,
          1.6576818088332848,
          -0.7253723880353564,
          2.5622271731703545,
          1.832567570049546,
          -0.8679929031954077,
          0.37001440429478594,
          -1.4573770449061352,
          1.2629308497285001,
          0.37615037193423906,
          0.762063904109601,
          1.0345779671651865,
          -0.49487675568032896,
          -2.5389770842951185,
          0.8353201453942981,
          0.7879046149897106,
          -0.8068321559655379,
          -0.5580426248756839,
          -1.1151110419194457,
          -0.5557228299517021,
          -1.3492852824437278,
          -1.5644826057199044,
          -1.932555610631461,
          0.7466659419884517,
          0.9574553638036428,
          2.543865184199551,
          -0.5439525887762292,
          1.0310497503881508,
          2.251909422148124,
          1.4102160153374603,
          0.7977197926930435,
          -0.5495317266494616,
          -0.1611737399485448,
          -0.6597949416843572,
          0.39235440818508316,
          -1.7724990779600323,
          -0.36626735735206245,
          -1.6206725727874782,
          0.08253578349333016,
          1.5782750709323803,
          1.420569247824018,
          -0.27870275364885316,
          -1.3031449662482792,
          -0.45707186565262337,
          -0.49418584704437457,
          0.4820744097730944,
          -0.2528888776531984,
          -0.10722763772912328,
          -2.433012602550213,
          -0.551089539174648,
          0.7396219285682225,
          1.3363217334183257,
          -1.1770869962477746,
          -0.46233500801967753,
          0.9784740793566475,
          -0.09680972631598435,
          0.03848714594902575,
          -1.5971585012074732,
          -0.4795649160831254,
          -1.7928334730311433,
          -1.3271016561415994,
          -2.384500834743529,
          -2.9369401021466133,
          -2.1468111338160623,
          -2.3698694883330393,
          -3.06384156872035,
          -3.915753783711886,
          -3.9364633907159616,
          -3.094276117762272,
          -2.3744716280069227,
          -2.778812947632512,
          -2.2865612847384686,
          -2.985633487449466,
          -2.375194698227106,
          -2.209865525595869,
          -2.6256210046927198,
          -4.280638778751084,
          -3.582641372001103,
          -2.807063720081659,
          -2.899659333023911,
          -2.3207369765492056,
          -2.549830947226136,
          -1.8125412848423006,
          -2.7601446419239477,
          -2.737150500667988,
          -3.6048688681834236,
          -2.8898259968735056,
          -3.392156076835723,
          -1.048181896853683,
          -1.6099122828479366,
          -3.1431309667439726,
          -2.2401568962695433,
          -2.847673776119519,
          -2.597497056648763,
          -2.9492993731348447,
          -3.5300322663493104,
          -2.406110540478554,
          -2.9290847269674534,
          -2.181412778812622,
          -2.380927787135642,
          -3.2116172150412434,
          -3.677918720973814,
          -2.465555798040449,
          -3.370524145442859,
          -2.601955851224738,
          -2.6778394608645018,
          -2.387017091279719,
          -3.208758164198023
         ],
         "y": [
          -1.4434626343180117,
          0.33339288708029763,
          -1.0311512962743181,
          -2.7563719137107143,
          -0.869830821417205,
          -2.1224011146341937,
          -1.1748501316494768,
          -1.6089630683635072,
          -0.9180709573337795,
          -0.7894376738336087,
          -1.3023332371235967,
          -0.6119772287456323,
          -0.6757063391426199,
          -1.1306298761729414,
          -2.0959755753412654,
          -1.662551729989057,
          -2.3273053361914204,
          -1.6313688786428389,
          -2.518343669306648,
          -1.0611379935838618,
          -0.7868971056508974,
          -0.24174355133284023,
          0.09184062072087955,
          0.5162789300672354,
          0.3171489326843814,
          -0.940667338190632,
          -0.6861751342850243,
          0.08980704136063962,
          -0.689569620661624,
          -0.19146193688666688,
          -1.2408338348969432,
          -1.4718736461032498,
          -0.0527044505753243,
          -1.633060434769983,
          -0.6979343246113567,
          -0.1767109510954564,
          -0.6586398536611492,
          -0.114109760296888,
          0.7694320064310076,
          -1.803001976061831,
          -0.7796163041925092,
          -0.16996094061987604,
          -1.1559189566098849,
          -0.3307421321922758,
          0.07100892095406555,
          -1.7771073929776384,
          -1.1913346919571857,
          -0.6462585991417056,
          -1.247029460678762,
          -1.7519674072063394,
          -0.1669919949967945,
          -0.74527880398959,
          -1.6127338560350128,
          -1.8751679995630253,
          -1.0167515377576615,
          -1.3290083106496227,
          -1.4365487835125166,
          -1.212199840697795,
          -1.7315791159925138,
          3.073486163188927,
          1.3814435080942296,
          0.8299841230557181,
          1.262786144211402,
          1.9250326046501012,
          1.9080588050851885,
          0.7639114736096085,
          1.8845924845501305,
          2.4271461147035702,
          0.22051398690227017,
          1.4032832253096132,
          0.8849831369082231,
          0.9567121974591501,
          1.063645400706096,
          -0.2601985506545935,
          1.2878781978605263,
          2.4441011855808634,
          2.1539069751569864,
          1.3833517690762605,
          0.7708495299701155,
          1.0270434033558231,
          3.3750538099635357,
          1.450709738244091,
          2.3812435267673715,
          0.08744335730498322,
          1.4736705514008674,
          2.026626522462477,
          2.233830390843913,
          2.372985428849458,
          1.8022471916654546,
          2.657540035392295,
          2.118001469784819,
          1.8522145217655521,
          1.5594954568986228,
          2.312931709220739,
          2.2235284346674598,
          -0.16927402279974194,
          0.3689265458773184,
          2.565569348733522,
          1.432741380354254,
          2.1661917693703825,
          2.376948803081861,
          2.2931286432456264,
          1.164483321560017,
          2.6799611859896353,
          2.0987317087655373,
          1.7172884693761445,
          2.1693532978292835,
          1.3555833880259585,
          2.306234587748324,
          1.4620342902048162,
          1.4182066376337492,
          1.9305680886704681,
          0.7631723136577935,
          2.2694156075896768,
          1.939045049486834,
          3.871783848407241,
          2.821492374701594,
          1.9289220425669598,
          1.2571410404943932,
          2.2221615507766215,
          1.4089566673657126,
          -0.2533369311683036,
          0.6639668398015736,
          0.6182881794850418,
          1.4455704988958267,
          2.1099979931352264,
          1.2667621091578853,
          1.2081435741284885,
          1.9388406603940485,
          1.1502881044421067,
          -0.17038923204902756,
          -0.374582605524693,
          -0.2638618300683786,
          -0.36825495188646007,
          0.4596348092311669,
          -0.3534128354584025,
          -0.1545825194417307,
          -0.6596872334097797,
          -0.3488427592737954,
          -0.291980351559992,
          -0.2868048728821727,
          -0.372507844685298,
          -0.4892179083470105,
          -0.48233371724487695,
          -1.160052504157643,
          -0.5631607642108338,
          -0.6496709640237053,
          -1.2727027497272998,
          -1.5705337870411962,
          -2.041057007938464,
          -2.3563660755566733,
          -2.0452830910195234,
          -1.527645946268749,
          -2.138932347642612,
          -0.4098862708817902,
          -1.8023842175839664,
          -1.9252186131303426,
          -1.3118763884735931,
          -3.5150896912197314,
          -2.406638159574327,
          -0.7381610441757965,
          -1.1754652881188639,
          -0.5560439658826722,
          -0.6979655372009188,
          -1.5553089642839832,
          -0.8825267962042354,
          -2.5923561750423967,
          -1.274446947904482,
          -2.0775373127345147,
          -2.588667432418589,
          0.25124910442559256,
          -0.847747844149763,
          -2.1937983036540936,
          -2.216289139861136,
          -1.7572293509792734,
          -2.7608991316745453,
          -2.297346679712818,
          -2.768919566047573
         ],
         "z": [
          -0.16573904461442066,
          -2.0264573738075393,
          0.9828186702120604,
          -0.17619184219949227,
          2.026688219235411,
          -0.6293958270439122,
          -0.9770948907141972,
          0.1462818830615604,
          -1.7709690272289444,
          -0.9842474895182382,
          -0.42273521658084634,
          -1.1908783196301758,
          -0.8650864256166555,
          -1.2042763525381925,
          -1.2639127523580012,
          0.21790261559595847,
          0.8317298659860108,
          0.7949137923810722,
          -0.4854585076662923,
          -0.16474667849947428,
          -0.36488708298884687,
          0.9369615996106464,
          -0.3119326593479701,
          0.14388509467079505,
          0.8902856474056905,
          3.820908008194844,
          -0.08670040648876311,
          -1.3868965448964379,
          1.394566880850362,
          -1.092657257508295,
          1.3860178547156818,
          -0.33226172837509366,
          -0.16712870624533374,
          1.1720821191753485,
          0.4797430251686629,
          0.4508350400372092,
          0.4584385808520634,
          -0.03910727668974908,
          -1.4261773458904643,
          -0.34315238897969147,
          -0.11847746611373655,
          -0.7833625480611459,
          -0.31275808393415505,
          -0.20147649625677205,
          -0.655849415043436,
          0.028705735784752832,
          -0.5397732611476727,
          -1.155552410727409,
          -0.057293987939922124,
          -0.6431136120007951,
          -1.9735716799013765,
          0.0047195021646973855,
          -0.5207745300761755,
          0.3395498503542099,
          -0.9577627619503287,
          0.5134374530359708,
          -0.6124733957169596,
          0.2617795927707906,
          -0.28566141261644956,
          -4.5850640071482145,
          -0.8746831124458109,
          -1.6057021863206224,
          -1.7844080104188582,
          -0.007368777349818707,
          0.679357937977536,
          0.5733613020971914,
          -2.0318401928675907,
          -1.0697455602478005,
          -0.7070053958009681,
          -1.238276219684868,
          -0.6289979502315954,
          1.9525842166062006,
          0.08033222861543662,
          3.374393962239763,
          0.4582800273995578,
          -1.5633331789503824,
          -2.4493863483037432,
          -0.2273069023273061,
          -1.1842245173752448,
          1.7944662945426617,
          -0.3574700555394671,
          -0.3630117731639621,
          1.335743176284867,
          0.4742513927691487,
          0.6100935756921063,
          -0.25472340396955134,
          0.7728557971982651,
          2.307611404012007,
          0.959253307688655,
          0.8491268977432259,
          -0.04765232084869278,
          0.7810670309346321,
          -0.08927467610867895,
          0.114679768745415,
          0.14244477369872385,
          0.7886969907454774,
          1.3088959318568605,
          -1.0863901738177415,
          -0.23020824379781604,
          0.7488964107708798,
          -1.5681125312755302,
          -1.4989353232010805,
          1.0037131028373572,
          -0.7649208684795166,
          -0.47185000760973994,
          0.9470331744608674,
          -0.4813242347422922,
          0.2871590006956171,
          -0.4635749893739558,
          1.7796459547332852,
          0.13927582948819123,
          0.07867055304723347,
          1.9995965104868574,
          1.0613389675926654,
          1.3239380723766945,
          1.3442712233930727,
          -0.302639784530642,
          0.6901482425075124,
          -1.9030274044113529,
          -0.3562288302125364,
          1.1253454920042374,
          5.345388179195751,
          3.010221887946434,
          0.4834423663441828,
          1.4812369749959478,
          0.43482611561678836,
          0.6875779128728093,
          3.361175555386434,
          1.2965075188296713,
          0.782800173182266,
          -1.180013355309488,
          -0.7238225948116638,
          -0.16763981598372113,
          -0.4533013014691868,
          -1.1013997885920601,
          -1.099124104115342,
          0.22182779984104853,
          1.7122154192145396,
          -1.0268314134224514,
          1.2419143328305657,
          0.6096701239723736,
          -0.9716430323608553,
          0.9469529317999723,
          -0.2528839940533328,
          -1.2451252259210666,
          -0.8559610818033774,
          -1.4581969616385682,
          -0.11078403762472683,
          -0.47252793457208675,
          -0.4959598102350937,
          0.43768174361876305,
          -0.3122679986509316,
          1.3625897815878736,
          -0.9646286882006802,
          -1.1904046839669873,
          -0.0940368613359716,
          -0.7823225555084482,
          1.602025968900025,
          1.1600385659132293,
          0.5485596972407104,
          -0.09099872392222348,
          -0.10137693249612116,
          0.8042152181010302,
          -0.8849395211306338,
          -0.9834007272249422,
          -0.46602912777853933,
          0.42822621079957923,
          -1.2133582715051503,
          0.7637825515581209,
          1.4180440294968166,
          -0.8471291521285026,
          -1.3394202310855192,
          -0.9187809604264913,
          -0.3425695124143218,
          0.20758135498125246,
          -0.940941876676995,
          -0.5506961970110872,
          1.0139136641131163
         ]
        }
       ],
       "layout": {
        "coloraxis": {
         "colorbar": {
          "title": {
           "text": "Cultivar"
          }
         },
         "colorscale": [
          [
           0,
           "#0d0887"
          ],
          [
           0.1111111111111111,
           "#46039f"
          ],
          [
           0.2222222222222222,
           "#7201a8"
          ],
          [
           0.3333333333333333,
           "#9c179e"
          ],
          [
           0.4444444444444444,
           "#bd3786"
          ],
          [
           0.5555555555555556,
           "#d8576b"
          ],
          [
           0.6666666666666666,
           "#ed7953"
          ],
          [
           0.7777777777777778,
           "#fb9f3a"
          ],
          [
           0.8888888888888888,
           "#fdca26"
          ],
          [
           1,
           "#f0f921"
          ]
         ]
        },
        "legend": {
         "tracegroupgap": 0
        },
        "margin": {
         "t": 60
        },
        "scene": {
         "domain": {
          "x": [
           0,
           1
          ],
          "y": [
           0,
           1
          ]
         },
         "xaxis": {
          "title": {
           "text": "PCA1_3d"
          }
         },
         "yaxis": {
          "title": {
           "text": "PCA2_3d"
          }
         },
         "zaxis": {
          "title": {
           "text": "PCA3_3d"
          }
         }
        },
        "template": {
         "data": {
          "bar": [
           {
            "error_x": {
             "color": "#2a3f5f"
            },
            "error_y": {
             "color": "#2a3f5f"
            },
            "marker": {
             "line": {
              "color": "#E5ECF6",
              "width": 0.5
             },
             "pattern": {
              "fillmode": "overlay",
              "size": 10,
              "solidity": 0.2
             }
            },
            "type": "bar"
           }
          ],
          "barpolar": [
           {
            "marker": {
             "line": {
              "color": "#E5ECF6",
              "width": 0.5
             },
             "pattern": {
              "fillmode": "overlay",
              "size": 10,
              "solidity": 0.2
             }
            },
            "type": "barpolar"
           }
          ],
          "carpet": [
           {
            "aaxis": {
             "endlinecolor": "#2a3f5f",
             "gridcolor": "white",
             "linecolor": "white",
             "minorgridcolor": "white",
             "startlinecolor": "#2a3f5f"
            },
            "baxis": {
             "endlinecolor": "#2a3f5f",
             "gridcolor": "white",
             "linecolor": "white",
             "minorgridcolor": "white",
             "startlinecolor": "#2a3f5f"
            },
            "type": "carpet"
           }
          ],
          "choropleth": [
           {
            "colorbar": {
             "outlinewidth": 0,
             "ticks": ""
            },
            "type": "choropleth"
           }
          ],
          "contour": [
           {
            "colorbar": {
             "outlinewidth": 0,
             "ticks": ""
            },
            "colorscale": [
             [
              0,
              "#0d0887"
             ],
             [
              0.1111111111111111,
              "#46039f"
             ],
             [
              0.2222222222222222,
              "#7201a8"
             ],
             [
              0.3333333333333333,
              "#9c179e"
             ],
             [
              0.4444444444444444,
              "#bd3786"
             ],
             [
              0.5555555555555556,
              "#d8576b"
             ],
             [
              0.6666666666666666,
              "#ed7953"
             ],
             [
              0.7777777777777778,
              "#fb9f3a"
             ],
             [
              0.8888888888888888,
              "#fdca26"
             ],
             [
              1,
              "#f0f921"
             ]
            ],
            "type": "contour"
           }
          ],
          "contourcarpet": [
           {
            "colorbar": {
             "outlinewidth": 0,
             "ticks": ""
            },
            "type": "contourcarpet"
           }
          ],
          "heatmap": [
           {
            "colorbar": {
             "outlinewidth": 0,
             "ticks": ""
            },
            "colorscale": [
             [
              0,
              "#0d0887"
             ],
             [
              0.1111111111111111,
              "#46039f"
             ],
             [
              0.2222222222222222,
              "#7201a8"
             ],
             [
              0.3333333333333333,
              "#9c179e"
             ],
             [
              0.4444444444444444,
              "#bd3786"
             ],
             [
              0.5555555555555556,
              "#d8576b"
             ],
             [
              0.6666666666666666,
              "#ed7953"
             ],
             [
              0.7777777777777778,
              "#fb9f3a"
             ],
             [
              0.8888888888888888,
              "#fdca26"
             ],
             [
              1,
              "#f0f921"
             ]
            ],
            "type": "heatmap"
           }
          ],
          "heatmapgl": [
           {
            "colorbar": {
             "outlinewidth": 0,
             "ticks": ""
            },
            "colorscale": [
             [
              0,
              "#0d0887"
             ],
             [
              0.1111111111111111,
              "#46039f"
             ],
             [
              0.2222222222222222,
              "#7201a8"
             ],
             [
              0.3333333333333333,
              "#9c179e"
             ],
             [
              0.4444444444444444,
              "#bd3786"
             ],
             [
              0.5555555555555556,
              "#d8576b"
             ],
             [
              0.6666666666666666,
              "#ed7953"
             ],
             [
              0.7777777777777778,
              "#fb9f3a"
             ],
             [
              0.8888888888888888,
              "#fdca26"
             ],
             [
              1,
              "#f0f921"
             ]
            ],
            "type": "heatmapgl"
           }
          ],
          "histogram": [
           {
            "marker": {
             "pattern": {
              "fillmode": "overlay",
              "size": 10,
              "solidity": 0.2
             }
            },
            "type": "histogram"
           }
          ],
          "histogram2d": [
           {
            "colorbar": {
             "outlinewidth": 0,
             "ticks": ""
            },
            "colorscale": [
             [
              0,
              "#0d0887"
             ],
             [
              0.1111111111111111,
              "#46039f"
             ],
             [
              0.2222222222222222,
              "#7201a8"
             ],
             [
              0.3333333333333333,
              "#9c179e"
             ],
             [
              0.4444444444444444,
              "#bd3786"
             ],
             [
              0.5555555555555556,
              "#d8576b"
             ],
             [
              0.6666666666666666,
              "#ed7953"
             ],
             [
              0.7777777777777778,
              "#fb9f3a"
             ],
             [
              0.8888888888888888,
              "#fdca26"
             ],
             [
              1,
              "#f0f921"
             ]
            ],
            "type": "histogram2d"
           }
          ],
          "histogram2dcontour": [
           {
            "colorbar": {
             "outlinewidth": 0,
             "ticks": ""
            },
            "colorscale": [
             [
              0,
              "#0d0887"
             ],
             [
              0.1111111111111111,
              "#46039f"
             ],
             [
              0.2222222222222222,
              "#7201a8"
             ],
             [
              0.3333333333333333,
              "#9c179e"
             ],
             [
              0.4444444444444444,
              "#bd3786"
             ],
             [
              0.5555555555555556,
              "#d8576b"
             ],
             [
              0.6666666666666666,
              "#ed7953"
             ],
             [
              0.7777777777777778,
              "#fb9f3a"
             ],
             [
              0.8888888888888888,
              "#fdca26"
             ],
             [
              1,
              "#f0f921"
             ]
            ],
            "type": "histogram2dcontour"
           }
          ],
          "mesh3d": [
           {
            "colorbar": {
             "outlinewidth": 0,
             "ticks": ""
            },
            "type": "mesh3d"
           }
          ],
          "parcoords": [
           {
            "line": {
             "colorbar": {
              "outlinewidth": 0,
              "ticks": ""
             }
            },
            "type": "parcoords"
           }
          ],
          "pie": [
           {
            "automargin": true,
            "type": "pie"
           }
          ],
          "scatter": [
           {
            "fillpattern": {
             "fillmode": "overlay",
             "size": 10,
             "solidity": 0.2
            },
            "type": "scatter"
           }
          ],
          "scatter3d": [
           {
            "line": {
             "colorbar": {
              "outlinewidth": 0,
              "ticks": ""
             }
            },
            "marker": {
             "colorbar": {
              "outlinewidth": 0,
              "ticks": ""
             }
            },
            "type": "scatter3d"
           }
          ],
          "scattercarpet": [
           {
            "marker": {
             "colorbar": {
              "outlinewidth": 0,
              "ticks": ""
             }
            },
            "type": "scattercarpet"
           }
          ],
          "scattergeo": [
           {
            "marker": {
             "colorbar": {
              "outlinewidth": 0,
              "ticks": ""
             }
            },
            "type": "scattergeo"
           }
          ],
          "scattergl": [
           {
            "marker": {
             "colorbar": {
              "outlinewidth": 0,
              "ticks": ""
             }
            },
            "type": "scattergl"
           }
          ],
          "scattermapbox": [
           {
            "marker": {
             "colorbar": {
              "outlinewidth": 0,
              "ticks": ""
             }
            },
            "type": "scattermapbox"
           }
          ],
          "scatterpolar": [
           {
            "marker": {
             "colorbar": {
              "outlinewidth": 0,
              "ticks": ""
             }
            },
            "type": "scatterpolar"
           }
          ],
          "scatterpolargl": [
           {
            "marker": {
             "colorbar": {
              "outlinewidth": 0,
              "ticks": ""
             }
            },
            "type": "scatterpolargl"
           }
          ],
          "scatterternary": [
           {
            "marker": {
             "colorbar": {
              "outlinewidth": 0,
              "ticks": ""
             }
            },
            "type": "scatterternary"
           }
          ],
          "surface": [
           {
            "colorbar": {
             "outlinewidth": 0,
             "ticks": ""
            },
            "colorscale": [
             [
              0,
              "#0d0887"
             ],
             [
              0.1111111111111111,
              "#46039f"
             ],
             [
              0.2222222222222222,
              "#7201a8"
             ],
             [
              0.3333333333333333,
              "#9c179e"
             ],
             [
              0.4444444444444444,
              "#bd3786"
             ],
             [
              0.5555555555555556,
              "#d8576b"
             ],
             [
              0.6666666666666666,
              "#ed7953"
             ],
             [
              0.7777777777777778,
              "#fb9f3a"
             ],
             [
              0.8888888888888888,
              "#fdca26"
             ],
             [
              1,
              "#f0f921"
             ]
            ],
            "type": "surface"
           }
          ],
          "table": [
           {
            "cells": {
             "fill": {
              "color": "#EBF0F8"
             },
             "line": {
              "color": "white"
             }
            },
            "header": {
             "fill": {
              "color": "#C8D4E3"
             },
             "line": {
              "color": "white"
             }
            },
            "type": "table"
           }
          ]
         },
         "layout": {
          "annotationdefaults": {
           "arrowcolor": "#2a3f5f",
           "arrowhead": 0,
           "arrowwidth": 1
          },
          "autotypenumbers": "strict",
          "coloraxis": {
           "colorbar": {
            "outlinewidth": 0,
            "ticks": ""
           }
          },
          "colorscale": {
           "diverging": [
            [
             0,
             "#8e0152"
            ],
            [
             0.1,
             "#c51b7d"
            ],
            [
             0.2,
             "#de77ae"
            ],
            [
             0.3,
             "#f1b6da"
            ],
            [
             0.4,
             "#fde0ef"
            ],
            [
             0.5,
             "#f7f7f7"
            ],
            [
             0.6,
             "#e6f5d0"
            ],
            [
             0.7,
             "#b8e186"
            ],
            [
             0.8,
             "#7fbc41"
            ],
            [
             0.9,
             "#4d9221"
            ],
            [
             1,
             "#276419"
            ]
           ],
           "sequential": [
            [
             0,
             "#0d0887"
            ],
            [
             0.1111111111111111,
             "#46039f"
            ],
            [
             0.2222222222222222,
             "#7201a8"
            ],
            [
             0.3333333333333333,
             "#9c179e"
            ],
            [
             0.4444444444444444,
             "#bd3786"
            ],
            [
             0.5555555555555556,
             "#d8576b"
            ],
            [
             0.6666666666666666,
             "#ed7953"
            ],
            [
             0.7777777777777778,
             "#fb9f3a"
            ],
            [
             0.8888888888888888,
             "#fdca26"
            ],
            [
             1,
             "#f0f921"
            ]
           ],
           "sequentialminus": [
            [
             0,
             "#0d0887"
            ],
            [
             0.1111111111111111,
             "#46039f"
            ],
            [
             0.2222222222222222,
             "#7201a8"
            ],
            [
             0.3333333333333333,
             "#9c179e"
            ],
            [
             0.4444444444444444,
             "#bd3786"
            ],
            [
             0.5555555555555556,
             "#d8576b"
            ],
            [
             0.6666666666666666,
             "#ed7953"
            ],
            [
             0.7777777777777778,
             "#fb9f3a"
            ],
            [
             0.8888888888888888,
             "#fdca26"
            ],
            [
             1,
             "#f0f921"
            ]
           ]
          },
          "colorway": [
           "#636efa",
           "#EF553B",
           "#00cc96",
           "#ab63fa",
           "#FFA15A",
           "#19d3f3",
           "#FF6692",
           "#B6E880",
           "#FF97FF",
           "#FECB52"
          ],
          "font": {
           "color": "#2a3f5f"
          },
          "geo": {
           "bgcolor": "white",
           "lakecolor": "white",
           "landcolor": "#E5ECF6",
           "showlakes": true,
           "showland": true,
           "subunitcolor": "white"
          },
          "hoverlabel": {
           "align": "left"
          },
          "hovermode": "closest",
          "mapbox": {
           "style": "light"
          },
          "paper_bgcolor": "white",
          "plot_bgcolor": "#E5ECF6",
          "polar": {
           "angularaxis": {
            "gridcolor": "white",
            "linecolor": "white",
            "ticks": ""
           },
           "bgcolor": "#E5ECF6",
           "radialaxis": {
            "gridcolor": "white",
            "linecolor": "white",
            "ticks": ""
           }
          },
          "scene": {
           "xaxis": {
            "backgroundcolor": "#E5ECF6",
            "gridcolor": "white",
            "gridwidth": 2,
            "linecolor": "white",
            "showbackground": true,
            "ticks": "",
            "zerolinecolor": "white"
           },
           "yaxis": {
            "backgroundcolor": "#E5ECF6",
            "gridcolor": "white",
            "gridwidth": 2,
            "linecolor": "white",
            "showbackground": true,
            "ticks": "",
            "zerolinecolor": "white"
           },
           "zaxis": {
            "backgroundcolor": "#E5ECF6",
            "gridcolor": "white",
            "gridwidth": 2,
            "linecolor": "white",
            "showbackground": true,
            "ticks": "",
            "zerolinecolor": "white"
           }
          },
          "shapedefaults": {
           "line": {
            "color": "#2a3f5f"
           }
          },
          "ternary": {
           "aaxis": {
            "gridcolor": "white",
            "linecolor": "white",
            "ticks": ""
           },
           "baxis": {
            "gridcolor": "white",
            "linecolor": "white",
            "ticks": ""
           },
           "bgcolor": "#E5ECF6",
           "caxis": {
            "gridcolor": "white",
            "linecolor": "white",
            "ticks": ""
           }
          },
          "title": {
           "x": 0.05
          },
          "xaxis": {
           "automargin": true,
           "gridcolor": "white",
           "linecolor": "white",
           "ticks": "",
           "title": {
            "standoff": 15
           },
           "zerolinecolor": "white",
           "zerolinewidth": 2
          },
          "yaxis": {
           "automargin": true,
           "gridcolor": "white",
           "linecolor": "white",
           "ticks": "",
           "title": {
            "standoff": 15
           },
           "zerolinecolor": "white",
           "zerolinewidth": 2
          }
         }
        }
       }
      }
     },
     "metadata": {},
     "output_type": "display_data"
    }
   ],
   "source": [
    "# n = 3\n",
    "X_3n = PCA(n_components=3).fit_transform(X)\n",
    "\n",
    "# add the two pca values to the original dataframe\n",
    "df['PCA1_3d'] = X_3n[:, 0]\n",
    "df['PCA2_3d'] = X_3n[:, 1]\n",
    "df['PCA3_3d'] = X_3n[:, 2]\n",
    "\n",
    "# visualize the reduced features in a scatterplot\n",
    "fig = px.scatter_3d(data_frame=df, x='PCA1_3d', y='PCA2_3d', z='PCA3_3d', color='Cultivar')\n",
    "fig.show()"
   ]
  },
  {
   "cell_type": "markdown",
   "metadata": {},
   "source": [
    "The scatter plots for $n_features = [2, 3]$ both indicate that we will have three cluster."
   ]
  },
  {
   "cell_type": "markdown",
   "metadata": {},
   "source": [
    "We need to apply three different approaches to determine the number of clusters and why we selected them:\n",
    "- Elbow Curve\n",
    "- Silhouette Analysis\n",
    "- Hierarchical Graph\n",
    "- Gap statistic -> not used, but would also be an option"
   ]
  },
  {
   "cell_type": "code",
   "execution_count": 12,
   "metadata": {},
   "outputs": [
    {
     "data": {
      "image/png": "[encoded data removed]",
      "text/plain": [
       "<Figure size 640x480 with 1 Axes>"
      ]
     },
     "metadata": {},
     "output_type": "display_data"
    }
   ],
   "source": [
    "# elbow curve method\n",
    "sum_of_squared_distances = []\n",
    "cluster_range = range(1,10)\n",
    "\n",
    "for k in cluster_range:\n",
    "    kmeans = KMeans(n_clusters=k)\n",
    "    kmeans.fit(X_2n)\n",
    "    # sum of squared distances of samples to their closest cluster center\n",
    "    sum_of_squared_distances.append(kmeans.inertia_)\n",
    "\n",
    "plt.plot(cluster_range, sum_of_squared_distances, 'bx-')\n",
    "plt.xlabel('Values of k') \n",
    "plt.ylabel('Sum of squared distances') \n",
    "plt.title('Elbow Method For Optimal k')\n",
    "\n",
    "plt.show()"
   ]
  },
  {
   "cell_type": "markdown",
   "metadata": {},
   "source": [
    "The plot does not really show a very clear result, but $k = 3$ indicates the biggest drop of sum of squared distances, which can be seen as the 'ellbow'. Since we are not sure if our assumption is correct, we will use the silhouette analysis as a next step for a more clear result."
   ]
  },
  {
   "cell_type": "code",
   "execution_count": 13,
   "metadata": {},
   "outputs": [
    {
     "data": {
      "image/png": "[encoded data removed]",
      "text/plain": [
       "<Figure size 640x480 with 1 Axes>"
      ]
     },
     "metadata": {},
     "output_type": "display_data"
    }
   ],
   "source": [
    "# silhouette analysis: data range [-1, 1]\n",
    "silhouette_avg = []\n",
    "cluster_range = [2, 3, 4, 5, 6, 7, 8, 9]\n",
    "\n",
    "for k in cluster_range:\n",
    "    kmeans = KMeans(n_clusters=k)\n",
    "    kmeans.fit(X_2n)\n",
    "    cluster_labels = kmeans.labels_\n",
    "\n",
    "    # silhouette score\n",
    "    silhouette_avg.append(silhouette_score(X_2n, cluster_labels))\n",
    "\n",
    "plt.plot(cluster_range, silhouette_avg, 'bx-')\n",
    "plt.xlabel('Values of K') \n",
    "plt.ylabel('Silhouette score') \n",
    "plt.title('Silhouette analysis For Optimal k')\n",
    "plt.show()"
   ]
  },
  {
   "cell_type": "markdown",
   "metadata": {},
   "source": [
    "The silhouette plot has the best score at $k = 3$, which is the same value we picked from the ellbow graph. As a last step, we will have a look at the hierarchical graph."
   ]
  },
  {
   "cell_type": "code",
   "execution_count": 14,
   "metadata": {},
   "outputs": [
    {
     "data": {
      "text/plain": [
       "Text(0, 0.5, 'Euclidean Distance')"
      ]
     },
     "execution_count": 14,
     "metadata": {},
     "output_type": "execute_result"
    },
    {
     "data": {
      "image/png": "[encoded data removed]",
      "text/plain": [
       "<Figure size 1600x1200 with 1 Axes>"
      ]
     },
     "metadata": {},
     "output_type": "display_data"
    }
   ],
   "source": [
    "# hierarchical graph\n",
    "plt.figure(figsize=(16,12))\n",
    "heirachical_graph=hier.dendrogram(hier.linkage(X_2n, method='ward')) #method='ward' uses the Ward variance minimization algorithm\n",
    "\n",
    "# Add titles and labels\n",
    "plt.title('Hierachical Clustering Graph')\n",
    "plt.xlabel('Wines')\n",
    "plt.ylabel('Euclidean Distance')"
   ]
  },
  {
   "cell_type": "markdown",
   "metadata": {},
   "source": [
    "The y axis is the euclidean distance, so the longer the vertical line is, the larger distance between the clusters. So, this graph shows, that $k = 3$ would be the optimal value for the number of clusters. This is again, the same value as the other methods that we used."
   ]
  },
  {
   "cell_type": "markdown",
   "metadata": {},
   "source": [
    "**Result**\n",
    "\n",
    "After investigating different approaches we can now plot the k-means clustering with assumed $k = 3$ as the 'best' option."
   ]
  },
  {
   "cell_type": "markdown",
   "metadata": {},
   "source": [
    "### b) DBScan\n",
    "Example from: https://scikit-learn.org/stable/auto_examples/cluster/plot_dbscan.html#sphx-glr-auto-examples-cluster-plot-dbscan-py\n",
    "\n",
    "parameters for `DBSCAN`:\n",
    "- 'eps' = maximum distance between two points to still be considered in the same neighborhood\n",
    "- 'min_samples' = number of samples in a neighborhood for a point to be considered as a core point"
   ]
  },
  {
   "cell_type": "code",
   "execution_count": 27,
   "metadata": {},
   "outputs": [
    {
     "name": "stdout",
     "output_type": "stream",
     "text": [
      "Estimated number of clusters: 2\n",
      "Estimated number of noise points: 5\n",
      "Silhouette Coefficient: 0.378\n"
     ]
    }
   ],
   "source": [
    "db = DBSCAN(eps=0.8, min_samples=5).fit(X_2n)\n",
    "\n",
    "labels = db.labels_\n",
    "core_samples_mask = np.zeros_like(labels, dtype=bool)\n",
    "core_samples_mask[db.core_sample_indices_] = True\n",
    "\n",
    "# Number of clusters in labels, ignoring noise if present.\n",
    "n_clusters_ = len(set(labels)) - (1 if -1 in labels else 0)\n",
    "n_noise_ = list(labels).count(-1)\n",
    "\n",
    "print(\"Estimated number of clusters: %d\" % n_clusters_)\n",
    "print(\"Estimated number of noise points: %d\" % n_noise_)\n",
    "print(\"Silhouette Coefficient: %0.3f\" % silhouette_score(X_2n, labels))"
   ]
  },
  {
   "cell_type": "markdown",
   "metadata": {},
   "source": [
    "**Result**\n",
    "\n",
    "Unfortunatly, we weren't able to reproduce the same results from k-means clustering. This could be due to small amount of data we have in the dataset because `DBSCAN` tries to cluster data points based on the input parameters, which are used to describe what points are considered to be the neighborhood of the current data point. With the amount of values we have, the parameters are very hard to set the parameters properly. This can result in bad clustering with noise points, which don't fit in either cluster group.\n",
    "\n",
    "Another factor could be that our dataset is not 'dense' enough because otherwise the data points are spread too much, that the algorithm can not identify a neighborhood for the data points."
   ]
  },
  {
   "cell_type": "markdown",
   "metadata": {},
   "source": [
    "### c) evaluate clustering methods"
   ]
  },
  {
   "cell_type": "code",
   "execution_count": 46,
   "metadata": {},
   "outputs": [],
   "source": [
    "# k-means with k = 3\n",
    "kmeans = KMeans(n_clusters=3).fit(X_2n)\n",
    "dbscan = DBSCAN(eps=0.8, min_samples=5).fit_predict(X_2n)"
   ]
  },
  {
   "cell_type": "code",
   "execution_count": 50,
   "metadata": {},
   "outputs": [
    {
     "data": {
      "text/html": [
       "<div>\n",
       "<style scoped>\n",
       "    .dataframe tbody tr th:only-of-type {\n",
       "        vertical-align: middle;\n",
       "    }\n",
       "\n",
       "    .dataframe tbody tr th {\n",
       "        vertical-align: top;\n",
       "    }\n",
       "\n",
       "    .dataframe thead th {\n",
       "        text-align: right;\n",
       "    }\n",
       "</style>\n",
       "<table border=\"1\" class=\"dataframe\">\n",
       "  <thead>\n",
       "    <tr style=\"text-align: right;\">\n",
       "      <th></th>\n",
       "      <th>Cultivar</th>\n",
       "      <th>Alcohol</th>\n",
       "      <th>Malic acid</th>\n",
       "      <th>Ash</th>\n",
       "      <th>Alcalinity of ash</th>\n",
       "      <th>Magnesium</th>\n",
       "      <th>Total phenols</th>\n",
       "      <th>Flavanoids</th>\n",
       "      <th>Nonflavanoid phenols</th>\n",
       "      <th>Proanthocyanins</th>\n",
       "      <th>...</th>\n",
       "      <th>Hue</th>\n",
       "      <th>OD280/OD315 of diluted wines</th>\n",
       "      <th>Proline</th>\n",
       "      <th>PCA1_2d</th>\n",
       "      <th>PCA2_2d</th>\n",
       "      <th>PCA1_3d</th>\n",
       "      <th>PCA2_3d</th>\n",
       "      <th>PCA3_3d</th>\n",
       "      <th>kmeans</th>\n",
       "      <th>dbscan</th>\n",
       "    </tr>\n",
       "  </thead>\n",
       "  <tbody>\n",
       "    <tr>\n",
       "      <th>0</th>\n",
       "      <td>1</td>\n",
       "      <td>14.23</td>\n",
       "      <td>1.71</td>\n",
       "      <td>2.43</td>\n",
       "      <td>15.6</td>\n",
       "      <td>127</td>\n",
       "      <td>2.80</td>\n",
       "      <td>3.06</td>\n",
       "      <td>0.28</td>\n",
       "      <td>2.29</td>\n",
       "      <td>...</td>\n",
       "      <td>1.04</td>\n",
       "      <td>3.92</td>\n",
       "      <td>1065</td>\n",
       "      <td>3.316751</td>\n",
       "      <td>-1.443463</td>\n",
       "      <td>3.316751</td>\n",
       "      <td>-1.443463</td>\n",
       "      <td>-0.165739</td>\n",
       "      <td>1</td>\n",
       "      <td>0</td>\n",
       "    </tr>\n",
       "    <tr>\n",
       "      <th>1</th>\n",
       "      <td>1</td>\n",
       "      <td>13.20</td>\n",
       "      <td>1.78</td>\n",
       "      <td>2.14</td>\n",
       "      <td>11.2</td>\n",
       "      <td>100</td>\n",
       "      <td>2.65</td>\n",
       "      <td>2.76</td>\n",
       "      <td>0.26</td>\n",
       "      <td>1.28</td>\n",
       "      <td>...</td>\n",
       "      <td>1.05</td>\n",
       "      <td>3.40</td>\n",
       "      <td>1050</td>\n",
       "      <td>2.209465</td>\n",
       "      <td>0.333393</td>\n",
       "      <td>2.209465</td>\n",
       "      <td>0.333393</td>\n",
       "      <td>-2.026457</td>\n",
       "      <td>1</td>\n",
       "      <td>0</td>\n",
       "    </tr>\n",
       "    <tr>\n",
       "      <th>2</th>\n",
       "      <td>1</td>\n",
       "      <td>13.16</td>\n",
       "      <td>2.36</td>\n",
       "      <td>2.67</td>\n",
       "      <td>18.6</td>\n",
       "      <td>101</td>\n",
       "      <td>2.80</td>\n",
       "      <td>3.24</td>\n",
       "      <td>0.30</td>\n",
       "      <td>2.81</td>\n",
       "      <td>...</td>\n",
       "      <td>1.03</td>\n",
       "      <td>3.17</td>\n",
       "      <td>1185</td>\n",
       "      <td>2.516740</td>\n",
       "      <td>-1.031151</td>\n",
       "      <td>2.516740</td>\n",
       "      <td>-1.031151</td>\n",
       "      <td>0.982819</td>\n",
       "      <td>1</td>\n",
       "      <td>0</td>\n",
       "    </tr>\n",
       "    <tr>\n",
       "      <th>3</th>\n",
       "      <td>1</td>\n",
       "      <td>14.37</td>\n",
       "      <td>1.95</td>\n",
       "      <td>2.50</td>\n",
       "      <td>16.8</td>\n",
       "      <td>113</td>\n",
       "      <td>3.85</td>\n",
       "      <td>3.49</td>\n",
       "      <td>0.24</td>\n",
       "      <td>2.18</td>\n",
       "      <td>...</td>\n",
       "      <td>0.86</td>\n",
       "      <td>3.45</td>\n",
       "      <td>1480</td>\n",
       "      <td>3.757066</td>\n",
       "      <td>-2.756372</td>\n",
       "      <td>3.757066</td>\n",
       "      <td>-2.756372</td>\n",
       "      <td>-0.176192</td>\n",
       "      <td>1</td>\n",
       "      <td>-1</td>\n",
       "    </tr>\n",
       "    <tr>\n",
       "      <th>4</th>\n",
       "      <td>1</td>\n",
       "      <td>13.24</td>\n",
       "      <td>2.59</td>\n",
       "      <td>2.87</td>\n",
       "      <td>21.0</td>\n",
       "      <td>118</td>\n",
       "      <td>2.80</td>\n",
       "      <td>2.69</td>\n",
       "      <td>0.39</td>\n",
       "      <td>1.82</td>\n",
       "      <td>...</td>\n",
       "      <td>1.04</td>\n",
       "      <td>2.93</td>\n",
       "      <td>735</td>\n",
       "      <td>1.008908</td>\n",
       "      <td>-0.869831</td>\n",
       "      <td>1.008908</td>\n",
       "      <td>-0.869831</td>\n",
       "      <td>2.026688</td>\n",
       "      <td>1</td>\n",
       "      <td>0</td>\n",
       "    </tr>\n",
       "    <tr>\n",
       "      <th>...</th>\n",
       "      <td>...</td>\n",
       "      <td>...</td>\n",
       "      <td>...</td>\n",
       "      <td>...</td>\n",
       "      <td>...</td>\n",
       "      <td>...</td>\n",
       "      <td>...</td>\n",
       "      <td>...</td>\n",
       "      <td>...</td>\n",
       "      <td>...</td>\n",
       "      <td>...</td>\n",
       "      <td>...</td>\n",
       "      <td>...</td>\n",
       "      <td>...</td>\n",
       "      <td>...</td>\n",
       "      <td>...</td>\n",
       "      <td>...</td>\n",
       "      <td>...</td>\n",
       "      <td>...</td>\n",
       "      <td>...</td>\n",
       "      <td>...</td>\n",
       "    </tr>\n",
       "    <tr>\n",
       "      <th>173</th>\n",
       "      <td>3</td>\n",
       "      <td>13.71</td>\n",
       "      <td>5.65</td>\n",
       "      <td>2.45</td>\n",
       "      <td>20.5</td>\n",
       "      <td>95</td>\n",
       "      <td>1.68</td>\n",
       "      <td>0.61</td>\n",
       "      <td>0.52</td>\n",
       "      <td>1.06</td>\n",
       "      <td>...</td>\n",
       "      <td>0.64</td>\n",
       "      <td>1.74</td>\n",
       "      <td>740</td>\n",
       "      <td>-3.370524</td>\n",
       "      <td>-2.216289</td>\n",
       "      <td>-3.370524</td>\n",
       "      <td>-2.216289</td>\n",
       "      <td>-0.342570</td>\n",
       "      <td>0</td>\n",
       "      <td>1</td>\n",
       "    </tr>\n",
       "    <tr>\n",
       "      <th>174</th>\n",
       "      <td>3</td>\n",
       "      <td>13.40</td>\n",
       "      <td>3.91</td>\n",
       "      <td>2.48</td>\n",
       "      <td>23.0</td>\n",
       "      <td>102</td>\n",
       "      <td>1.80</td>\n",
       "      <td>0.75</td>\n",
       "      <td>0.43</td>\n",
       "      <td>1.41</td>\n",
       "      <td>...</td>\n",
       "      <td>0.70</td>\n",
       "      <td>1.56</td>\n",
       "      <td>750</td>\n",
       "      <td>-2.601956</td>\n",
       "      <td>-1.757229</td>\n",
       "      <td>-2.601956</td>\n",
       "      <td>-1.757229</td>\n",
       "      <td>0.207581</td>\n",
       "      <td>0</td>\n",
       "      <td>1</td>\n",
       "    </tr>\n",
       "    <tr>\n",
       "      <th>175</th>\n",
       "      <td>3</td>\n",
       "      <td>13.27</td>\n",
       "      <td>4.28</td>\n",
       "      <td>2.26</td>\n",
       "      <td>20.0</td>\n",
       "      <td>120</td>\n",
       "      <td>1.59</td>\n",
       "      <td>0.69</td>\n",
       "      <td>0.43</td>\n",
       "      <td>1.35</td>\n",
       "      <td>...</td>\n",
       "      <td>0.59</td>\n",
       "      <td>1.56</td>\n",
       "      <td>835</td>\n",
       "      <td>-2.677839</td>\n",
       "      <td>-2.760899</td>\n",
       "      <td>-2.677839</td>\n",
       "      <td>-2.760899</td>\n",
       "      <td>-0.940942</td>\n",
       "      <td>0</td>\n",
       "      <td>1</td>\n",
       "    </tr>\n",
       "    <tr>\n",
       "      <th>176</th>\n",
       "      <td>3</td>\n",
       "      <td>13.17</td>\n",
       "      <td>2.59</td>\n",
       "      <td>2.37</td>\n",
       "      <td>20.0</td>\n",
       "      <td>120</td>\n",
       "      <td>1.65</td>\n",
       "      <td>0.68</td>\n",
       "      <td>0.53</td>\n",
       "      <td>1.46</td>\n",
       "      <td>...</td>\n",
       "      <td>0.60</td>\n",
       "      <td>1.62</td>\n",
       "      <td>840</td>\n",
       "      <td>-2.387017</td>\n",
       "      <td>-2.297347</td>\n",
       "      <td>-2.387017</td>\n",
       "      <td>-2.297347</td>\n",
       "      <td>-0.550696</td>\n",
       "      <td>0</td>\n",
       "      <td>1</td>\n",
       "    </tr>\n",
       "    <tr>\n",
       "      <th>177</th>\n",
       "      <td>3</td>\n",
       "      <td>14.13</td>\n",
       "      <td>4.10</td>\n",
       "      <td>2.74</td>\n",
       "      <td>24.5</td>\n",
       "      <td>96</td>\n",
       "      <td>2.05</td>\n",
       "      <td>0.76</td>\n",
       "      <td>0.56</td>\n",
       "      <td>1.35</td>\n",
       "      <td>...</td>\n",
       "      <td>0.61</td>\n",
       "      <td>1.60</td>\n",
       "      <td>560</td>\n",
       "      <td>-3.208758</td>\n",
       "      <td>-2.768920</td>\n",
       "      <td>-3.208758</td>\n",
       "      <td>-2.768920</td>\n",
       "      <td>1.013914</td>\n",
       "      <td>0</td>\n",
       "      <td>1</td>\n",
       "    </tr>\n",
       "  </tbody>\n",
       "</table>\n",
       "<p>178 rows × 21 columns</p>\n",
       "</div>"
      ],
      "text/plain": [
       "     Cultivar  Alcohol  Malic acid   Ash  Alcalinity of ash  Magnesium  \\\n",
       "0           1    14.23        1.71  2.43               15.6        127   \n",
       "1           1    13.20        1.78  2.14               11.2        100   \n",
       "2           1    13.16        2.36  2.67               18.6        101   \n",
       "3           1    14.37        1.95  2.50               16.8        113   \n",
       "4           1    13.24        2.59  2.87               21.0        118   \n",
       "..        ...      ...         ...   ...                ...        ...   \n",
       "173         3    13.71        5.65  2.45               20.5         95   \n",
       "174         3    13.40        3.91  2.48               23.0        102   \n",
       "175         3    13.27        4.28  2.26               20.0        120   \n",
       "176         3    13.17        2.59  2.37               20.0        120   \n",
       "177         3    14.13        4.10  2.74               24.5         96   \n",
       "\n",
       "     Total phenols  Flavanoids  Nonflavanoid phenols  Proanthocyanins  ...  \\\n",
       "0             2.80        3.06                  0.28             2.29  ...   \n",
       "1             2.65        2.76                  0.26             1.28  ...   \n",
       "2             2.80        3.24                  0.30             2.81  ...   \n",
       "3             3.85        3.49                  0.24             2.18  ...   \n",
       "4             2.80        2.69                  0.39             1.82  ...   \n",
       "..             ...         ...                   ...              ...  ...   \n",
       "173           1.68        0.61                  0.52             1.06  ...   \n",
       "174           1.80        0.75                  0.43             1.41  ...   \n",
       "175           1.59        0.69                  0.43             1.35  ...   \n",
       "176           1.65        0.68                  0.53             1.46  ...   \n",
       "177           2.05        0.76                  0.56             1.35  ...   \n",
       "\n",
       "      Hue  OD280/OD315 of diluted wines  Proline   PCA1_2d   PCA2_2d  \\\n",
       "0    1.04                          3.92     1065  3.316751 -1.443463   \n",
       "1    1.05                          3.40     1050  2.209465  0.333393   \n",
       "2    1.03                          3.17     1185  2.516740 -1.031151   \n",
       "3    0.86                          3.45     1480  3.757066 -2.756372   \n",
       "4    1.04                          2.93      735  1.008908 -0.869831   \n",
       "..    ...                           ...      ...       ...       ...   \n",
       "173  0.64                          1.74      740 -3.370524 -2.216289   \n",
       "174  0.70                          1.56      750 -2.601956 -1.757229   \n",
       "175  0.59                          1.56      835 -2.677839 -2.760899   \n",
       "176  0.60                          1.62      840 -2.387017 -2.297347   \n",
       "177  0.61                          1.60      560 -3.208758 -2.768920   \n",
       "\n",
       "      PCA1_3d   PCA2_3d   PCA3_3d  kmeans  dbscan  \n",
       "0    3.316751 -1.443463 -0.165739       1       0  \n",
       "1    2.209465  0.333393 -2.026457       1       0  \n",
       "2    2.516740 -1.031151  0.982819       1       0  \n",
       "3    3.757066 -2.756372 -0.176192       1      -1  \n",
       "4    1.008908 -0.869831  2.026688       1       0  \n",
       "..        ...       ...       ...     ...     ...  \n",
       "173 -3.370524 -2.216289 -0.342570       0       1  \n",
       "174 -2.601956 -1.757229  0.207581       0       1  \n",
       "175 -2.677839 -2.760899 -0.940942       0       1  \n",
       "176 -2.387017 -2.297347 -0.550696       0       1  \n",
       "177 -3.208758 -2.768920  1.013914       0       1  \n",
       "\n",
       "[178 rows x 21 columns]"
      ]
     },
     "execution_count": 50,
     "metadata": {},
     "output_type": "execute_result"
    }
   ],
   "source": [
    "# add clustering results to dataframe\n",
    "df.reset_index(drop=True, inplace=True)\n",
    "df['kmeans'] = pd.Series(kmeans.labels_)\n",
    "df['dbscan'] = pd.Series(dbscan)\n",
    "\n",
    "df"
   ]
  },
  {
   "cell_type": "code",
   "execution_count": 72,
   "metadata": {},
   "outputs": [],
   "source": [
    "# new dataframe for the evaluation\n",
    "df_eval = df[['Cultivar', 'kmeans', 'dbscan']]\n",
    "num_of_points = df_eval.shape[0]\n",
    "\n",
    "df_eval_1 = df_eval[df_eval['Cultivar'] == 1]\n",
    "df_eval_2 = df_eval[df_eval['Cultivar'] == 2]\n",
    "df_eval_3 = df_eval[df_eval['Cultivar'] == 3]"
   ]
  },
  {
   "cell_type": "markdown",
   "metadata": {},
   "source": [
    "Metrics to evaluate clustering models\n",
    "- sum of squared errors: \n",
    "- purity: \n",
    "- Dunn index:\n",
    "- Davies Bouldin Index: The minimum score is zero, with lower values indicating better clustering"
   ]
  },
  {
   "cell_type": "code",
   "execution_count": 73,
   "metadata": {},
   "outputs": [
    {
     "name": "stdout",
     "output_type": "stream",
     "text": [
      "Sum of squared errors: \n",
      " kmeans = 259.5093807511932\n"
     ]
    }
   ],
   "source": [
    "# sum of squared errors\n",
    "print(f\"Sum of squared errors: \\n kmeans = {kmeans.inertia_}\")"
   ]
  },
  {
   "attachments": {},
   "cell_type": "markdown",
   "metadata": {},
   "source": [
    "**Purity**"
   ]
  },
  {
   "cell_type": "code",
   "execution_count": 108,
   "metadata": {},
   "outputs": [],
   "source": [
    "# kmeans\n",
    "\n",
    "# first find the most common value for kmeans per category\n",
    "kmeans_1 = df_eval_1['kmeans'].mode()[0]\n",
    "kmeans_2 = df_eval_2['kmeans'].mode()[0]\n",
    "kmeans_3 = df_eval_3['kmeans'].mode()[0]\n",
    "\n",
    "# count the nummer of occurances of the mode inside the category\n",
    "purity_kmeans_1 = df_eval_1.kmeans.value_counts()[kmeans_1]\n",
    "purity_kmeans_2 = df_eval_2.kmeans.value_counts()[kmeans_2]\n",
    "purity_kmeans_3 = df_eval_3.kmeans.value_counts()[kmeans_3]\n",
    "\n",
    "# sum of all correct values in the predicted cluster divided by the total amount of points\n",
    "purity_kmeans = (purity_kmeans_1 + purity_kmeans_2 + purity_kmeans_3) / num_of_points\n"
   ]
  },
  {
   "cell_type": "code",
   "execution_count": 121,
   "metadata": {},
   "outputs": [
    {
     "name": "stdout",
     "output_type": "stream",
     "text": [
      "0 2 1\n",
      "57 0 45\n"
     ]
    }
   ],
   "source": [
    "# dbscan\n",
    "\n",
    "# first find the most common value for kmeans per category \n",
    "# --> assign different value to one class because dbscan only found 2 cluster\n",
    "dbscan_1 = df_eval_1['dbscan'].mode()[0]\n",
    "dbscan_2 = 2\n",
    "dbscan_3 = df_eval_3['dbscan'].mode()[0]\n",
    "\n",
    "# count the nummer of occurances of the mode inside the category\n",
    "purity_dbscan_1 = df_eval_1.dbscan.value_counts()[dbscan_1]\n",
    "purity_dbscan_2 = len(df_eval_2.loc[df_eval_2['dbscan'] == dbscan_2])\n",
    "purity_dbscan_3 = df_eval_3.dbscan.value_counts()[dbscan_3]\n",
    "\n",
    "# sum of all correct values in the predicted cluster divided by the total amount of points\n",
    "purity_dbscan = (purity_dbscan_1 + purity_dbscan_2 + purity_dbscan_3) / num_of_points"
   ]
  },
  {
   "cell_type": "code",
   "execution_count": 122,
   "metadata": {},
   "outputs": [
    {
     "name": "stdout",
     "output_type": "stream",
     "text": [
      "Purity \n",
      " kmeans = 0.9662921348314607 \n",
      " dbscan = 0.5730337078651685\n"
     ]
    }
   ],
   "source": [
    "print(f\"Purity \\n kmeans = {purity_kmeans} \\n dbscan = {purity_dbscan}\")"
   ]
  },
  {
   "cell_type": "code",
   "execution_count": null,
   "metadata": {},
   "outputs": [],
   "source": [
    "# dunn index"
   ]
  },
  {
   "cell_type": "code",
   "execution_count": 124,
   "metadata": {},
   "outputs": [
    {
     "name": "stdout",
     "output_type": "stream",
     "text": [
      "Davies bouldin score: \n",
      " kmeans = 0.5972661544221365 \n",
      " dbscan = 4.281726344469725\n"
     ]
    }
   ],
   "source": [
    "# davies bouldin index as 'davies_bouldin_score'\n",
    "print(f\"Davies bouldin score: \\n kmeans = {davies_bouldin_score(X_2n, kmeans.labels_)} \\n dbscan = {davies_bouldin_score(X_2n, dbscan)}\")"
   ]
  }
 ],
 "metadata": {
  "kernelspec": {
   "display_name": "Python 3.10.7 ('data_science-5TF-S9g6')",
   "language": "python",
   "name": "python3"
  },
  "language_info": {
   "codemirror_mode": {
    "name": "ipython",
    "version": 3
   },
   "file_extension": ".py",
   "mimetype": "text/x-python",
   "name": "python",
   "nbconvert_exporter": "python",
   "pygments_lexer": "ipython3",
   "version": "3.10.7"
  },
  "orig_nbformat": 4,
  "vscode": {
   "interpreter": {
    "hash": "91c9c3035d31b1b248a09f4683e22d2eee92d43933c62df06aa9c8e048bab2cb"
   }
  }
 },
 "nbformat": 4,
 "nbformat_minor": 2
}
