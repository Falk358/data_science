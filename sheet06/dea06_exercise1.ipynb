{
 "cells": [
  {
   "cell_type": "markdown",
   "metadata": {},
   "source": [
    "# Homework 06"
   ]
  },
  {
   "cell_type": "code",
   "execution_count": 15,
   "metadata": {},
   "outputs": [],
   "source": [
    "import pandas as pd\n",
    "import numpy as np\n",
    "import seaborn as sns\n",
    "import matplotlib.pyplot as plt\n",
    "import plotly.express as px\n",
    "from sklearn.preprocessing import StandardScaler\n",
    "from sklearn.cluster import KMeans, DBSCAN\n",
    "from sklearn.decomposition import PCA\n",
    "from sklearn.metrics import silhouette_score, davies_bouldin_score\n",
    "import scipy.cluster.hierarchy as hier"
   ]
  },
  {
   "cell_type": "markdown",
   "metadata": {},
   "source": [
    "## Exercise 1: Clustering"
   ]
  },
  {
   "attachments": {},
   "cell_type": "markdown",
   "metadata": {},
   "source": [
    "First we prepare our dataframe. The source is `wine.data` with information about the dataset, for instance which attributes are present, from `wine.name`. \n",
    "\n",
    "**Note:**\n",
    "Unfortunately, we did not see the `wine.csv` and worked the `wine.data` dataset. After seeing the dataset on OLAT we compared both datasets and we saw that only the first column 'Cultivar' was added in the CSV file, which we called 'target' before but the column held the same data. So, we figured, we just change the name of the column and leave the rest of the notebook the same."
   ]
  },
  {
   "cell_type": "code",
   "execution_count": 16,
   "metadata": {},
   "outputs": [],
   "source": [
    "# OLAT dataset\n",
    "df = pd.read_csv(\"../data/wine.csv\")"
   ]
  },
  {
   "cell_type": "code",
   "execution_count": 17,
   "metadata": {},
   "outputs": [],
   "source": [
    "# first column is our class identifier (= Cultivar), which has 3 number of instances for classification\n",
    "columns = ['Cultivar', 'Alcohol', 'Malic acid', 'Ash', 'Alcalinity of ash', 'Magnesium', 'Total phenols', 'Flavanoids', 'Nonflavanoid phenols', 'Proanthocyanins', 'Color intensity', 'Hue', 'OD280/OD315 of diluted wines', 'Proline']"
   ]
  },
  {
   "cell_type": "markdown",
   "metadata": {},
   "source": []
  },
  {
   "cell_type": "code",
   "execution_count": 18,
   "metadata": {},
   "outputs": [
    {
     "data": {
      "text/html": [
       "<div>\n",
       "<style scoped>\n",
       "    .dataframe tbody tr th:only-of-type {\n",
       "        vertical-align: middle;\n",
       "    }\n",
       "\n",
       "    .dataframe tbody tr th {\n",
       "        vertical-align: top;\n",
       "    }\n",
       "\n",
       "    .dataframe thead th {\n",
       "        text-align: right;\n",
       "    }\n",
       "</style>\n",
       "<table border=\"1\" class=\"dataframe\">\n",
       "  <thead>\n",
       "    <tr style=\"text-align: right;\">\n",
       "      <th></th>\n",
       "      <th>Cultivar</th>\n",
       "      <th>Alcohol</th>\n",
       "      <th>Malic_Acid</th>\n",
       "      <th>Ash</th>\n",
       "      <th>Alcalinity of ash</th>\n",
       "      <th>Magnesium</th>\n",
       "      <th>Total phenols</th>\n",
       "      <th>Flavanoids</th>\n",
       "      <th>Nonflavanoid phenols</th>\n",
       "      <th>Proanthocyanins</th>\n",
       "      <th>Color intensity</th>\n",
       "      <th>Hue</th>\n",
       "      <th>OD280/OD315 of diluted wines</th>\n",
       "      <th>Proline</th>\n",
       "    </tr>\n",
       "  </thead>\n",
       "  <tbody>\n",
       "    <tr>\n",
       "      <th>0</th>\n",
       "      <td>1</td>\n",
       "      <td>14.23</td>\n",
       "      <td>1.71</td>\n",
       "      <td>2.43</td>\n",
       "      <td>15.6</td>\n",
       "      <td>127</td>\n",
       "      <td>2.80</td>\n",
       "      <td>3.06</td>\n",
       "      <td>0.28</td>\n",
       "      <td>2.29</td>\n",
       "      <td>5.64</td>\n",
       "      <td>1.04</td>\n",
       "      <td>3.92</td>\n",
       "      <td>1065</td>\n",
       "    </tr>\n",
       "    <tr>\n",
       "      <th>1</th>\n",
       "      <td>1</td>\n",
       "      <td>13.20</td>\n",
       "      <td>1.78</td>\n",
       "      <td>2.14</td>\n",
       "      <td>11.2</td>\n",
       "      <td>100</td>\n",
       "      <td>2.65</td>\n",
       "      <td>2.76</td>\n",
       "      <td>0.26</td>\n",
       "      <td>1.28</td>\n",
       "      <td>4.38</td>\n",
       "      <td>1.05</td>\n",
       "      <td>3.40</td>\n",
       "      <td>1050</td>\n",
       "    </tr>\n",
       "    <tr>\n",
       "      <th>2</th>\n",
       "      <td>1</td>\n",
       "      <td>13.16</td>\n",
       "      <td>2.36</td>\n",
       "      <td>2.67</td>\n",
       "      <td>18.6</td>\n",
       "      <td>101</td>\n",
       "      <td>2.80</td>\n",
       "      <td>3.24</td>\n",
       "      <td>0.30</td>\n",
       "      <td>2.81</td>\n",
       "      <td>5.68</td>\n",
       "      <td>1.03</td>\n",
       "      <td>3.17</td>\n",
       "      <td>1185</td>\n",
       "    </tr>\n",
       "    <tr>\n",
       "      <th>3</th>\n",
       "      <td>1</td>\n",
       "      <td>14.37</td>\n",
       "      <td>1.95</td>\n",
       "      <td>2.50</td>\n",
       "      <td>16.8</td>\n",
       "      <td>113</td>\n",
       "      <td>3.85</td>\n",
       "      <td>3.49</td>\n",
       "      <td>0.24</td>\n",
       "      <td>2.18</td>\n",
       "      <td>7.80</td>\n",
       "      <td>0.86</td>\n",
       "      <td>3.45</td>\n",
       "      <td>1480</td>\n",
       "    </tr>\n",
       "    <tr>\n",
       "      <th>4</th>\n",
       "      <td>1</td>\n",
       "      <td>13.24</td>\n",
       "      <td>2.59</td>\n",
       "      <td>2.87</td>\n",
       "      <td>21.0</td>\n",
       "      <td>118</td>\n",
       "      <td>2.80</td>\n",
       "      <td>2.69</td>\n",
       "      <td>0.39</td>\n",
       "      <td>1.82</td>\n",
       "      <td>4.32</td>\n",
       "      <td>1.04</td>\n",
       "      <td>2.93</td>\n",
       "      <td>735</td>\n",
       "    </tr>\n",
       "    <tr>\n",
       "      <th>...</th>\n",
       "      <td>...</td>\n",
       "      <td>...</td>\n",
       "      <td>...</td>\n",
       "      <td>...</td>\n",
       "      <td>...</td>\n",
       "      <td>...</td>\n",
       "      <td>...</td>\n",
       "      <td>...</td>\n",
       "      <td>...</td>\n",
       "      <td>...</td>\n",
       "      <td>...</td>\n",
       "      <td>...</td>\n",
       "      <td>...</td>\n",
       "      <td>...</td>\n",
       "    </tr>\n",
       "    <tr>\n",
       "      <th>173</th>\n",
       "      <td>3</td>\n",
       "      <td>13.71</td>\n",
       "      <td>5.65</td>\n",
       "      <td>2.45</td>\n",
       "      <td>20.5</td>\n",
       "      <td>95</td>\n",
       "      <td>1.68</td>\n",
       "      <td>0.61</td>\n",
       "      <td>0.52</td>\n",
       "      <td>1.06</td>\n",
       "      <td>7.70</td>\n",
       "      <td>0.64</td>\n",
       "      <td>1.74</td>\n",
       "      <td>740</td>\n",
       "    </tr>\n",
       "    <tr>\n",
       "      <th>174</th>\n",
       "      <td>3</td>\n",
       "      <td>13.40</td>\n",
       "      <td>3.91</td>\n",
       "      <td>2.48</td>\n",
       "      <td>23.0</td>\n",
       "      <td>102</td>\n",
       "      <td>1.80</td>\n",
       "      <td>0.75</td>\n",
       "      <td>0.43</td>\n",
       "      <td>1.41</td>\n",
       "      <td>7.30</td>\n",
       "      <td>0.70</td>\n",
       "      <td>1.56</td>\n",
       "      <td>750</td>\n",
       "    </tr>\n",
       "    <tr>\n",
       "      <th>175</th>\n",
       "      <td>3</td>\n",
       "      <td>13.27</td>\n",
       "      <td>4.28</td>\n",
       "      <td>2.26</td>\n",
       "      <td>20.0</td>\n",
       "      <td>120</td>\n",
       "      <td>1.59</td>\n",
       "      <td>0.69</td>\n",
       "      <td>0.43</td>\n",
       "      <td>1.35</td>\n",
       "      <td>10.20</td>\n",
       "      <td>0.59</td>\n",
       "      <td>1.56</td>\n",
       "      <td>835</td>\n",
       "    </tr>\n",
       "    <tr>\n",
       "      <th>176</th>\n",
       "      <td>3</td>\n",
       "      <td>13.17</td>\n",
       "      <td>2.59</td>\n",
       "      <td>2.37</td>\n",
       "      <td>20.0</td>\n",
       "      <td>120</td>\n",
       "      <td>1.65</td>\n",
       "      <td>0.68</td>\n",
       "      <td>0.53</td>\n",
       "      <td>1.46</td>\n",
       "      <td>9.30</td>\n",
       "      <td>0.60</td>\n",
       "      <td>1.62</td>\n",
       "      <td>840</td>\n",
       "    </tr>\n",
       "    <tr>\n",
       "      <th>177</th>\n",
       "      <td>3</td>\n",
       "      <td>14.13</td>\n",
       "      <td>4.10</td>\n",
       "      <td>2.74</td>\n",
       "      <td>24.5</td>\n",
       "      <td>96</td>\n",
       "      <td>2.05</td>\n",
       "      <td>0.76</td>\n",
       "      <td>0.56</td>\n",
       "      <td>1.35</td>\n",
       "      <td>9.20</td>\n",
       "      <td>0.61</td>\n",
       "      <td>1.60</td>\n",
       "      <td>560</td>\n",
       "    </tr>\n",
       "  </tbody>\n",
       "</table>\n",
       "<p>178 rows × 14 columns</p>\n",
       "</div>"
      ],
      "text/plain": [
       "     Cultivar  Alcohol  Malic_Acid   Ash  Alcalinity of ash  Magnesium  \\\n",
       "0           1    14.23        1.71  2.43               15.6        127   \n",
       "1           1    13.20        1.78  2.14               11.2        100   \n",
       "2           1    13.16        2.36  2.67               18.6        101   \n",
       "3           1    14.37        1.95  2.50               16.8        113   \n",
       "4           1    13.24        2.59  2.87               21.0        118   \n",
       "..        ...      ...         ...   ...                ...        ...   \n",
       "173         3    13.71        5.65  2.45               20.5         95   \n",
       "174         3    13.40        3.91  2.48               23.0        102   \n",
       "175         3    13.27        4.28  2.26               20.0        120   \n",
       "176         3    13.17        2.59  2.37               20.0        120   \n",
       "177         3    14.13        4.10  2.74               24.5         96   \n",
       "\n",
       "     Total phenols  Flavanoids  Nonflavanoid phenols  Proanthocyanins  \\\n",
       "0             2.80        3.06                  0.28             2.29   \n",
       "1             2.65        2.76                  0.26             1.28   \n",
       "2             2.80        3.24                  0.30             2.81   \n",
       "3             3.85        3.49                  0.24             2.18   \n",
       "4             2.80        2.69                  0.39             1.82   \n",
       "..             ...         ...                   ...              ...   \n",
       "173           1.68        0.61                  0.52             1.06   \n",
       "174           1.80        0.75                  0.43             1.41   \n",
       "175           1.59        0.69                  0.43             1.35   \n",
       "176           1.65        0.68                  0.53             1.46   \n",
       "177           2.05        0.76                  0.56             1.35   \n",
       "\n",
       "     Color intensity   Hue  OD280/OD315 of diluted wines  Proline  \n",
       "0               5.64  1.04                          3.92     1065  \n",
       "1               4.38  1.05                          3.40     1050  \n",
       "2               5.68  1.03                          3.17     1185  \n",
       "3               7.80  0.86                          3.45     1480  \n",
       "4               4.32  1.04                          2.93      735  \n",
       "..               ...   ...                           ...      ...  \n",
       "173             7.70  0.64                          1.74      740  \n",
       "174             7.30  0.70                          1.56      750  \n",
       "175            10.20  0.59                          1.56      835  \n",
       "176             9.30  0.60                          1.62      840  \n",
       "177             9.20  0.61                          1.60      560  \n",
       "\n",
       "[178 rows x 14 columns]"
      ]
     },
     "execution_count": 18,
     "metadata": {},
     "output_type": "execute_result"
    }
   ],
   "source": [
    "# import dataframe\n",
    "#df = pd.read_csv(\"../data/wine.data\", names=columns)\n",
    "df"
   ]
  },
  {
   "cell_type": "code",
   "execution_count": 19,
   "metadata": {},
   "outputs": [
    {
     "data": {
      "text/plain": [
       "2    71\n",
       "1    59\n",
       "3    48\n",
       "Name: Cultivar, dtype: int64"
      ]
     },
     "execution_count": 19,
     "metadata": {},
     "output_type": "execute_result"
    }
   ],
   "source": [
    "# check counts of each category\n",
    "df['Cultivar'].value_counts()"
   ]
  },
  {
   "cell_type": "markdown",
   "metadata": {},
   "source": [
    "### a) k-means\n",
    "As a little help, we read through this article: https://grabngoinfo.com/5-ways-for-deciding-number-of-clusters-in-a-clustering-model/"
   ]
  },
  {
   "cell_type": "code",
   "execution_count": 20,
   "metadata": {},
   "outputs": [],
   "source": [
    "# split df into data & class identifier labels\n",
    "df_data = df[df.columns.difference(['Cultivar'])]\n",
    "labels = df['Cultivar']"
   ]
  },
  {
   "cell_type": "markdown",
   "metadata": {},
   "source": [
    "Before we can start with applying data, we need to standardize our data with a scaler, e.g. StandardScaler()."
   ]
  },
  {
   "cell_type": "code",
   "execution_count": 21,
   "metadata": {},
   "outputs": [],
   "source": [
    "# preprocess data\n",
    "X = StandardScaler().fit_transform(df_data)"
   ]
  },
  {
   "cell_type": "markdown",
   "metadata": {},
   "source": [
    "For further visualization of the data we need to reduce our dimension size from 13 to a lower value. `PCA` allows us to project the data from the original space into a lower-dimensional space."
   ]
  },
  {
   "cell_type": "code",
   "execution_count": 22,
   "metadata": {},
   "outputs": [
    {
     "data": {
      "text/plain": [
       "<AxesSubplot: xlabel='PCA1_2d', ylabel='PCA2_2d'>"
      ]
     },
     "execution_count": 22,
     "metadata": {},
     "output_type": "execute_result"
    },
    {
     "data": {
      "image/png": "[encoded data removed]",
      "text/plain": [
       "<Figure size 640x480 with 1 Axes>"
      ]
     },
     "metadata": {},
     "output_type": "display_data"
    }
   ],
   "source": [
    "# n = 2\n",
    "X_2n = PCA(n_components=2).fit_transform(X)\n",
    "\n",
    "# add the two pca values to the original dataframe\n",
    "df['PCA1_2d'] = X_2n[:, 0]\n",
    "df['PCA2_2d'] = X_2n[:, 1]\n",
    "\n",
    "# visualize 2-dimensional clustering\n",
    "sns.scatterplot(data=df, x='PCA1_2d', y='PCA2_2d', hue='Cultivar')"
   ]
  },
  {
   "cell_type": "code",
   "execution_count": 23,
   "metadata": {},
   "outputs": [
    {
     "data": {
      "application/vnd.plotly.v1+json": {
       "config": {
        "plotlyServerURL": "https://plot.ly"
       },
       "data": [
        {
         "hovertemplate": "PCA1_3d=%{x}<br>PCA2_3d=%{y}<br>PCA3_3d=%{z}<br>Cultivar=%{marker.color}<extra></extra>",
         "legendgroup": "",
         "marker": {
          "color": [
           1,
           1,
           1,
           1,
           1,
           1,
           1,
           1,
           1,
           1,
           1,
           1,
           1,
           1,
           1,
           1,
           1,
           1,
           1,
           1,
           1,
           1,
           1,
           1,
           1,
           1,
           1,
           1,
           1,
           1,
           1,
           1,
           1,
           1,
           1,
           1,
           1,
           1,
           1,
           1,
           1,
           1,
           1,
           1,
           1,
           1,
           1,
           1,
           1,
           1,
           1,
           1,
           1,
           1,
           1,
           1,
           1,
           1,
           1,
           2,
           2,
           2,
           2,
           2,
           2,
           2,
           2,
           2,
           2,
           2,
           2,
           2,
           2,
           2,
           2,
           2,
           2,
           2,
           2,
           2,
           2,
           2,
           2,
           2,
           2,
           2,
           2,
           2,
           2,
           2,
           2,
           2,
           2,
           2,
           2,
           2,
           2,
           2,
           2,
           2,
           2,
           2,
           2,
           2,
           2,
           2,
           2,
           2,
           2,
           2,
           2,
           2,
           2,
           2,
           2,
           2,
           2,
           2,
           2,
           2,
           2,
           2,
           2,
           2,
           2,
           2,
           2,
           2,
           2,
           2,
           3,
           3,
           3,
           3,
           3,
           3,
           3,
           3,
           3,
           3,
           3,
           3,
           3,
           3,
           3,
           3,
           3,
           3,
           3,
           3,
           3,
           3,
           3,
           3,
           3,
           3,
           3,
           3,
           3,
           3,
           3,
           3,
           3,
           3,
           3,
           3,
           3,
           3,
           3,
           3,
           3,
           3,
           3,
           3,
           3,
           3,
           3,
           3
          ],
          "coloraxis": "coloraxis",
          "symbol": "circle"
         },
         "mode": "markers",
         "name": "",
         "scene": "scene",
         "showlegend": false,
         "type": "scatter3d",
         "x": [
          3.316750812214783,
          2.2094649169188485,
          2.516740146610382,
          3.7570656097732056,
          1.0089084937957127,
          3.0502539224180802,
          2.4490896695962294,
          2.059436871437914,
          2.510874297398989,
          2.7536281876339106,
          3.4797366827312097,
          1.7547529012945882,
          2.113462340315095,
          3.4581568193367223,
          4.312783906765564,
          2.305188200827972,
          2.171955273741511,
          1.8989711765627595,
          3.5419850819434684,
          2.084522204730313,
          3.1244025351672007,
          1.0865700683322403,
          2.535224079903715,
          1.6449883412544704,
          1.7615758722692991,
          0.9900791016088528,
          1.775277628113369,
          1.2354239643099059,
          2.1884063344519604,
          2.256108981283708,
          2.5002200257894236,
          2.677411047444013,
          1.628579116430919,
          1.902690862238146,
          1.4103885265954055,
          1.9038262321944854,
          1.3848622303748397,
          1.12220741044131,
          1.5021945006181927,
          2.529801092371812,
          2.5880954258544033,
          0.6684819937541862,
          3.0708069904120086,
          0.4622091375160079,
          2.101351930538017,
          1.136166177561017,
          2.7266009636408026,
          2.8213392741922503,
          2.0098508509123576,
          2.707491304266394,
          3.2149174747738254,
          2.8589598267172933,
          3.505604355923225,
          2.2247913805321717,
          2.146987823563867,
          2.4693294837977873,
          2.741517914277453,
          2.1737409209653067,
          3.1393801518289965,
          -0.9285819689218504,
          -1.5424801378968789,
          -1.8362497634669375,
          0.03060683408667992,
          2.050261607576316,
          -0.6096808271776218,
          0.9002278387071437,
          2.2485071907983962,
          0.1833840266847562,
          -0.8128050273520707,
          1.975620498798555,
          -1.5722162196263005,
          1.6576818088332859,
          -0.7253723880353575,
          2.5622271731703554,
          1.8325675700495474,
          -0.8679929031954097,
          0.37001440429478416,
          -1.457377044906137,
          1.2629308497285001,
          0.37615037193423845,
          0.7620639041095996,
          1.0345779671651874,
          -0.49487675568032946,
          -2.5389770842951207,
          0.8353201453942987,
          0.7879046149897103,
          -0.8068321559655395,
          -0.5580426248756841,
          -1.1151110419194463,
          -0.5557228299517031,
          -1.3492852824437294,
          -1.5644826057199057,
          -1.9325556106314636,
          0.7466659419884509,
          0.9574553638036424,
          2.5438651841995528,
          -0.5439525887762298,
          1.0310497503881504,
          2.2519094221481244,
          1.4102160153374603,
          0.7977197926930419,
          -0.5495317266494634,
          -0.16117373994854517,
          -0.6597949416843591,
          0.3923544081850825,
          -1.7724990779600343,
          -0.3662673573520636,
          -1.62067257278748,
          0.08253578349332877,
          1.578275070932382,
          1.4205692478240175,
          -0.2787027536488545,
          -1.30314496624828,
          -0.4570718656526241,
          -0.4941858470443751,
          0.48207440977309307,
          -0.25288887765319934,
          -0.10722763772912437,
          -2.4330126025502157,
          -0.55108953917465,
          0.7396219285682234,
          1.336321733418329,
          -1.1770869962477757,
          -0.46233500801967947,
          0.9784740793566479,
          -0.09680972631598518,
          0.03848714594902455,
          -1.5971585012074745,
          -0.47956491608312707,
          -1.792833473031145,
          -1.3271016561416005,
          -2.384500834743531,
          -2.9369401021466146,
          -2.146811133816065,
          -2.369869488333041,
          -3.0638415687203526,
          -3.9157537837118896,
          -3.9364633907159647,
          -3.0942761177622753,
          -2.3744716280069245,
          -2.7788129476325136,
          -2.2865612847384704,
          -2.985633487449468,
          -2.375194698227108,
          -2.2098655255958706,
          -2.6256210046927215,
          -4.280638778751087,
          -3.582641372001105,
          -2.807063720081659,
          -2.899659333023911,
          -2.3207369765492056,
          -2.5498309472261367,
          -1.8125412848423015,
          -2.7601446419239495,
          -2.737150500667989,
          -3.6048688681834253,
          -2.889825996873507,
          -3.392156076835723,
          -1.048181896853681,
          -1.6099122828479364,
          -3.143130966743974,
          -2.2401568962695437,
          -2.84767377611952,
          -2.597497056648764,
          -2.949299373134846,
          -3.530032266349313,
          -2.406110540478555,
          -2.9290847269674543,
          -2.1814127788126227,
          -2.380927787135641,
          -3.2116172150412465,
          -3.677918720973816,
          -2.46555579804045,
          -3.370524145442862,
          -2.6019558512247394,
          -2.6778394608645026,
          -2.3870170912797186,
          -3.208758164198024
         ],
         "y": [
          -1.4434626343180126,
          0.3333928870803036,
          -1.0311512962743212,
          -2.7563719137107143,
          -0.8698308214172058,
          -2.1224011146341937,
          -1.1748501316494764,
          -1.6089630683635097,
          -0.9180709573337792,
          -0.7894376738336082,
          -1.3023332371235976,
          -0.611977228745633,
          -0.6757063391426195,
          -1.1306298761729399,
          -2.095975575341265,
          -1.6625517299890575,
          -2.327305336191422,
          -1.63136887864284,
          -2.5183436693066485,
          -1.0611379935838618,
          -0.786897105650898,
          -0.24174355133284042,
          0.0918406207208788,
          0.5162789300672351,
          0.3171489326843801,
          -0.9406673381906356,
          -0.6861751342850245,
          0.08980704136063906,
          -0.6895696206616261,
          -0.19146193688666668,
          -1.2408338348969452,
          -1.4718736461032502,
          -0.05270445057532502,
          -1.6330604347699855,
          -0.6979343246113577,
          -0.17671095109545748,
          -0.6586398536611493,
          -0.11410976029688841,
          0.7694320064310082,
          -1.8030019760618305,
          -0.7796163041925093,
          -0.16996094061987624,
          -1.155918956609885,
          -0.33074213219227594,
          0.07100892095406573,
          -1.7771073929776404,
          -1.1913346919571868,
          -0.6462585991417054,
          -1.247029460678762,
          -1.7519674072063394,
          -0.1669919949967911,
          -0.7452788039895899,
          -1.612733856035013,
          -1.8751679995630266,
          -1.016751537757662,
          -1.3290083106496235,
          -1.4365487835125164,
          -1.2121998406977952,
          -1.7315791159925145,
          3.0734861631889308,
          1.38144350809423,
          0.8299841230557194,
          1.2627861442114017,
          1.9250326046501018,
          1.908058805085189,
          0.7639114736096099,
          1.8845924845501338,
          2.427146114703572,
          0.22051398690226895,
          1.403283225309613,
          0.8849831369082228,
          0.956712197459148,
          1.0636454007060945,
          -0.2601985506545994,
          1.2878781978605256,
          2.444101185580866,
          2.1539069751569895,
          1.3833517690762602,
          0.7708495299701167,
          1.0270434033558216,
          3.375053809963537,
          1.4507097382440917,
          2.381243526767371,
          0.0874433573049829,
          1.4736705514008688,
          2.0266265224624775,
          2.2338303908439126,
          2.3729854288494563,
          1.802247191665455,
          2.657540035392293,
          2.1180014697848204,
          1.8522145217655523,
          1.5594954568986232,
          2.3129317092207398,
          2.223528434667462,
          -0.16927402279974307,
          0.36892654587731794,
          2.5655693487335247,
          1.4327413803542548,
          2.166191769370384,
          2.3769488030818615,
          2.293128643245627,
          1.1644833215600163,
          2.679961185989637,
          2.0987317087655364,
          1.7172884693761425,
          2.1693532978292844,
          1.3555833880259582,
          2.3062345877483255,
          1.462034290204817,
          1.4182066376337503,
          1.930568088670468,
          0.763172313657793,
          2.2694156075896768,
          1.9390450494868336,
          3.871783848407241,
          2.8214923747015948,
          1.9289220425669578,
          1.2571410404943943,
          2.2221615507766233,
          1.408956667365713,
          -0.2533369311683058,
          0.6639668398015707,
          0.6182881794850411,
          1.4455704988958278,
          2.109997993135227,
          1.2667621091578853,
          1.2081435741284865,
          1.9388406603940478,
          1.1502881044421065,
          -0.1703892320490271,
          -0.3745826055246923,
          -0.2638618300683788,
          -0.36825495188646007,
          0.45963480923116823,
          -0.35341283545840124,
          -0.1545825194417307,
          -0.6596872334097814,
          -0.3488427592737954,
          -0.2919803515599936,
          -0.2868048728821735,
          -0.37250784468529835,
          -0.48921790834701223,
          -0.482333717244878,
          -1.160052504157642,
          -0.5631607642108345,
          -0.6496709640237052,
          -1.2727027497272991,
          -1.5705337870411957,
          -2.0410570079384636,
          -2.356366075556674,
          -2.045283091019522,
          -1.5276459462687502,
          -2.1389323476426108,
          -0.4098862708817889,
          -1.8023842175839664,
          -1.9252186131303415,
          -1.3118763884735944,
          -3.51508969121973,
          -2.406638159574326,
          -0.7381610441757956,
          -1.1754652881188647,
          -0.5560439658826734,
          -0.6979655372009187,
          -1.5553089642839826,
          -0.8825267962042358,
          -2.5923561750423962,
          -1.2744469479044802,
          -2.0775373127345147,
          -2.58866743241859,
          0.2512491044255938,
          -0.8477478441497607,
          -2.193798303654093,
          -2.216289139861136,
          -1.757229350979274,
          -2.7608991316745444,
          -2.2973466797128177,
          -2.7689195660475736
         ],
         "z": [
          -0.16573904461442002,
          -2.0264573738075398,
          0.982818670212064,
          -0.1761918421994908,
          2.026688219235411,
          -0.6293958270439131,
          -0.9770948907141972,
          0.14628188306155987,
          -1.7709690272289447,
          -0.9842474895182369,
          -0.4227352165808456,
          -1.190878319630176,
          -0.8650864256166558,
          -1.2042763525381932,
          -1.263912752358001,
          0.21790261559595822,
          0.8317298659860107,
          0.7949137923810722,
          -0.4854585076662922,
          -0.1647466784994748,
          -0.36488708298884537,
          0.9369615996106465,
          -0.31193265934796965,
          0.14388509467079535,
          0.8902856474056912,
          3.8209080081948446,
          -0.08670040648876405,
          -1.386896544896438,
          1.3945668808503624,
          -1.0926572575082942,
          1.3860178547156827,
          -0.33226172837509294,
          -0.16712870624533388,
          1.1720821191753474,
          0.4797430251686624,
          0.45083504003721037,
          0.45843858085206163,
          -0.03910727668974968,
          -1.4261773458904636,
          -0.3431523889796919,
          -0.1184774661137361,
          -0.7833625480611455,
          -0.3127580839341551,
          -0.20147649625677222,
          -0.6558494150434352,
          0.02870573578475298,
          -0.5397732611476725,
          -1.1555524107274084,
          -0.057293987939921645,
          -0.6431136120007943,
          -1.973571679901376,
          0.004719502164697717,
          -0.5207745300761757,
          0.3395498503542093,
          -0.9577627619503284,
          0.5134374530359719,
          -0.6124733957169586,
          0.26177959277078994,
          -0.2856614126164494,
          -4.5850640071482145,
          -0.874683112445813,
          -1.6057021863206233,
          -1.7844080104188575,
          -0.007368777349817359,
          0.6793579379775352,
          0.5733613020971913,
          -2.031840192867589,
          -1.0697455602477994,
          -0.7070053958009694,
          -1.2382762196848658,
          -0.6289979502315959,
          1.9525842166062024,
          0.08033222861543829,
          3.3743939622397647,
          0.4582800273995587,
          -1.563333178950383,
          -2.449386348303742,
          -0.22730690232730683,
          -1.1842245173752446,
          1.7944662945426622,
          -0.357470055539466,
          -0.36301177316396127,
          1.3357431762848677,
          0.47425139276914824,
          0.610093575692106,
          -0.25472340396955084,
          0.7728557971982654,
          2.307611404012007,
          0.9592533076886541,
          0.8491268977432269,
          -0.04765232084869372,
          0.7810670309346321,
          -0.08927467610867948,
          0.11467976874541555,
          0.1424447736987243,
          0.788696990745478,
          1.30889593185686,
          -1.0863901738177413,
          -0.23020824379781527,
          0.7488964107708799,
          -1.568112531275529,
          -1.4989353232010796,
          1.0037131028373572,
          -0.764920868479516,
          -0.4718500076097385,
          0.9470331744608672,
          -0.48132423474229163,
          0.28715900069561695,
          -0.4635749893739549,
          1.7796459547332855,
          0.1392758294881926,
          0.07867055304723403,
          1.999596510486856,
          1.0613389675926652,
          1.323938072376694,
          1.3442712233930736,
          -0.3026397845306406,
          0.690148242507513,
          -1.9030274044113535,
          -0.35622883021253643,
          1.1253454920042374,
          5.345388179195752,
          3.0102218879464346,
          0.48344236634418347,
          1.4812369749959489,
          0.4348261156167891,
          0.6875779128728097,
          3.3611755553864326,
          1.2965075188296715,
          0.7828001731822655,
          -1.1800133553094891,
          -0.7238225948116644,
          -0.16763981598372132,
          -0.45330130146918723,
          -1.1013997885920612,
          -1.0991241041153432,
          0.2218277998410463,
          1.7122154192145382,
          -1.0268314134224525,
          1.2419143328305655,
          0.6096701239723724,
          -0.9716430323608556,
          0.9469529317999716,
          -0.25288399405333384,
          -1.2451252259210668,
          -0.8559610818033783,
          -1.45819696163857,
          -0.11078403762472769,
          -0.4725279345720871,
          -0.4959598102350939,
          0.43768174361876366,
          -0.3122679986509316,
          1.3625897815878734,
          -0.9646286882006813,
          -1.1904046839669875,
          -0.09403686133597254,
          -0.7823225555084485,
          1.602025968900024,
          1.1600385659132306,
          0.548559697240711,
          -0.09099872392222437,
          -0.10137693249612198,
          0.8042152181010294,
          -0.8849395211306355,
          -0.9834007272249422,
          -0.46602912777853955,
          0.4282262107995791,
          -1.2133582715051507,
          0.7637825515581211,
          1.4180440294968164,
          -0.8471291521285037,
          -1.3394202310855194,
          -0.9187809604264915,
          -0.34256951241432315,
          0.20758135498125208,
          -0.9409418766769957,
          -0.5506961970110876,
          1.0139136641131161
         ]
        }
       ],
       "layout": {
        "coloraxis": {
         "colorbar": {
          "title": {
           "text": "Cultivar"
          }
         },
         "colorscale": [
          [
           0,
           "#0d0887"
          ],
          [
           0.1111111111111111,
           "#46039f"
          ],
          [
           0.2222222222222222,
           "#7201a8"
          ],
          [
           0.3333333333333333,
           "#9c179e"
          ],
          [
           0.4444444444444444,
           "#bd3786"
          ],
          [
           0.5555555555555556,
           "#d8576b"
          ],
          [
           0.6666666666666666,
           "#ed7953"
          ],
          [
           0.7777777777777778,
           "#fb9f3a"
          ],
          [
           0.8888888888888888,
           "#fdca26"
          ],
          [
           1,
           "#f0f921"
          ]
         ]
        },
        "legend": {
         "tracegroupgap": 0
        },
        "margin": {
         "t": 60
        },
        "scene": {
         "domain": {
          "x": [
           0,
           1
          ],
          "y": [
           0,
           1
          ]
         },
         "xaxis": {
          "title": {
           "text": "PCA1_3d"
          }
         },
         "yaxis": {
          "title": {
           "text": "PCA2_3d"
          }
         },
         "zaxis": {
          "title": {
           "text": "PCA3_3d"
          }
         }
        },
        "template": {
         "data": {
          "bar": [
           {
            "error_x": {
             "color": "#2a3f5f"
            },
            "error_y": {
             "color": "#2a3f5f"
            },
            "marker": {
             "line": {
              "color": "#E5ECF6",
              "width": 0.5
             },
             "pattern": {
              "fillmode": "overlay",
              "size": 10,
              "solidity": 0.2
             }
            },
            "type": "bar"
           }
          ],
          "barpolar": [
           {
            "marker": {
             "line": {
              "color": "#E5ECF6",
              "width": 0.5
             },
             "pattern": {
              "fillmode": "overlay",
              "size": 10,
              "solidity": 0.2
             }
            },
            "type": "barpolar"
           }
          ],
          "carpet": [
           {
            "aaxis": {
             "endlinecolor": "#2a3f5f",
             "gridcolor": "white",
             "linecolor": "white",
             "minorgridcolor": "white",
             "startlinecolor": "#2a3f5f"
            },
            "baxis": {
             "endlinecolor": "#2a3f5f",
             "gridcolor": "white",
             "linecolor": "white",
             "minorgridcolor": "white",
             "startlinecolor": "#2a3f5f"
            },
            "type": "carpet"
           }
          ],
          "choropleth": [
           {
            "colorbar": {
             "outlinewidth": 0,
             "ticks": ""
            },
            "type": "choropleth"
           }
          ],
          "contour": [
           {
            "colorbar": {
             "outlinewidth": 0,
             "ticks": ""
            },
            "colorscale": [
             [
              0,
              "#0d0887"
             ],
             [
              0.1111111111111111,
              "#46039f"
             ],
             [
              0.2222222222222222,
              "#7201a8"
             ],
             [
              0.3333333333333333,
              "#9c179e"
             ],
             [
              0.4444444444444444,
              "#bd3786"
             ],
             [
              0.5555555555555556,
              "#d8576b"
             ],
             [
              0.6666666666666666,
              "#ed7953"
             ],
             [
              0.7777777777777778,
              "#fb9f3a"
             ],
             [
              0.8888888888888888,
              "#fdca26"
             ],
             [
              1,
              "#f0f921"
             ]
            ],
            "type": "contour"
           }
          ],
          "contourcarpet": [
           {
            "colorbar": {
             "outlinewidth": 0,
             "ticks": ""
            },
            "type": "contourcarpet"
           }
          ],
          "heatmap": [
           {
            "colorbar": {
             "outlinewidth": 0,
             "ticks": ""
            },
            "colorscale": [
             [
              0,
              "#0d0887"
             ],
             [
              0.1111111111111111,
              "#46039f"
             ],
             [
              0.2222222222222222,
              "#7201a8"
             ],
             [
              0.3333333333333333,
              "#9c179e"
             ],
             [
              0.4444444444444444,
              "#bd3786"
             ],
             [
              0.5555555555555556,
              "#d8576b"
             ],
             [
              0.6666666666666666,
              "#ed7953"
             ],
             [
              0.7777777777777778,
              "#fb9f3a"
             ],
             [
              0.8888888888888888,
              "#fdca26"
             ],
             [
              1,
              "#f0f921"
             ]
            ],
            "type": "heatmap"
           }
          ],
          "heatmapgl": [
           {
            "colorbar": {
             "outlinewidth": 0,
             "ticks": ""
            },
            "colorscale": [
             [
              0,
              "#0d0887"
             ],
             [
              0.1111111111111111,
              "#46039f"
             ],
             [
              0.2222222222222222,
              "#7201a8"
             ],
             [
              0.3333333333333333,
              "#9c179e"
             ],
             [
              0.4444444444444444,
              "#bd3786"
             ],
             [
              0.5555555555555556,
              "#d8576b"
             ],
             [
              0.6666666666666666,
              "#ed7953"
             ],
             [
              0.7777777777777778,
              "#fb9f3a"
             ],
             [
              0.8888888888888888,
              "#fdca26"
             ],
             [
              1,
              "#f0f921"
             ]
            ],
            "type": "heatmapgl"
           }
          ],
          "histogram": [
           {
            "marker": {
             "pattern": {
              "fillmode": "overlay",
              "size": 10,
              "solidity": 0.2
             }
            },
            "type": "histogram"
           }
          ],
          "histogram2d": [
           {
            "colorbar": {
             "outlinewidth": 0,
             "ticks": ""
            },
            "colorscale": [
             [
              0,
              "#0d0887"
             ],
             [
              0.1111111111111111,
              "#46039f"
             ],
             [
              0.2222222222222222,
              "#7201a8"
             ],
             [
              0.3333333333333333,
              "#9c179e"
             ],
             [
              0.4444444444444444,
              "#bd3786"
             ],
             [
              0.5555555555555556,
              "#d8576b"
             ],
             [
              0.6666666666666666,
              "#ed7953"
             ],
             [
              0.7777777777777778,
              "#fb9f3a"
             ],
             [
              0.8888888888888888,
              "#fdca26"
             ],
             [
              1,
              "#f0f921"
             ]
            ],
            "type": "histogram2d"
           }
          ],
          "histogram2dcontour": [
           {
            "colorbar": {
             "outlinewidth": 0,
             "ticks": ""
            },
            "colorscale": [
             [
              0,
              "#0d0887"
             ],
             [
              0.1111111111111111,
              "#46039f"
             ],
             [
              0.2222222222222222,
              "#7201a8"
             ],
             [
              0.3333333333333333,
              "#9c179e"
             ],
             [
              0.4444444444444444,
              "#bd3786"
             ],
             [
              0.5555555555555556,
              "#d8576b"
             ],
             [
              0.6666666666666666,
              "#ed7953"
             ],
             [
              0.7777777777777778,
              "#fb9f3a"
             ],
             [
              0.8888888888888888,
              "#fdca26"
             ],
             [
              1,
              "#f0f921"
             ]
            ],
            "type": "histogram2dcontour"
           }
          ],
          "mesh3d": [
           {
            "colorbar": {
             "outlinewidth": 0,
             "ticks": ""
            },
            "type": "mesh3d"
           }
          ],
          "parcoords": [
           {
            "line": {
             "colorbar": {
              "outlinewidth": 0,
              "ticks": ""
             }
            },
            "type": "parcoords"
           }
          ],
          "pie": [
           {
            "automargin": true,
            "type": "pie"
           }
          ],
          "scatter": [
           {
            "fillpattern": {
             "fillmode": "overlay",
             "size": 10,
             "solidity": 0.2
            },
            "type": "scatter"
           }
          ],
          "scatter3d": [
           {
            "line": {
             "colorbar": {
              "outlinewidth": 0,
              "ticks": ""
             }
            },
            "marker": {
             "colorbar": {
              "outlinewidth": 0,
              "ticks": ""
             }
            },
            "type": "scatter3d"
           }
          ],
          "scattercarpet": [
           {
            "marker": {
             "colorbar": {
              "outlinewidth": 0,
              "ticks": ""
             }
            },
            "type": "scattercarpet"
           }
          ],
          "scattergeo": [
           {
            "marker": {
             "colorbar": {
              "outlinewidth": 0,
              "ticks": ""
             }
            },
            "type": "scattergeo"
           }
          ],
          "scattergl": [
           {
            "marker": {
             "colorbar": {
              "outlinewidth": 0,
              "ticks": ""
             }
            },
            "type": "scattergl"
           }
          ],
          "scattermapbox": [
           {
            "marker": {
             "colorbar": {
              "outlinewidth": 0,
              "ticks": ""
             }
            },
            "type": "scattermapbox"
           }
          ],
          "scatterpolar": [
           {
            "marker": {
             "colorbar": {
              "outlinewidth": 0,
              "ticks": ""
             }
            },
            "type": "scatterpolar"
           }
          ],
          "scatterpolargl": [
           {
            "marker": {
             "colorbar": {
              "outlinewidth": 0,
              "ticks": ""
             }
            },
            "type": "scatterpolargl"
           }
          ],
          "scatterternary": [
           {
            "marker": {
             "colorbar": {
              "outlinewidth": 0,
              "ticks": ""
             }
            },
            "type": "scatterternary"
           }
          ],
          "surface": [
           {
            "colorbar": {
             "outlinewidth": 0,
             "ticks": ""
            },
            "colorscale": [
             [
              0,
              "#0d0887"
             ],
             [
              0.1111111111111111,
              "#46039f"
             ],
             [
              0.2222222222222222,
              "#7201a8"
             ],
             [
              0.3333333333333333,
              "#9c179e"
             ],
             [
              0.4444444444444444,
              "#bd3786"
             ],
             [
              0.5555555555555556,
              "#d8576b"
             ],
             [
              0.6666666666666666,
              "#ed7953"
             ],
             [
              0.7777777777777778,
              "#fb9f3a"
             ],
             [
              0.8888888888888888,
              "#fdca26"
             ],
             [
              1,
              "#f0f921"
             ]
            ],
            "type": "surface"
           }
          ],
          "table": [
           {
            "cells": {
             "fill": {
              "color": "#EBF0F8"
             },
             "line": {
              "color": "white"
             }
            },
            "header": {
             "fill": {
              "color": "#C8D4E3"
             },
             "line": {
              "color": "white"
             }
            },
            "type": "table"
           }
          ]
         },
         "layout": {
          "annotationdefaults": {
           "arrowcolor": "#2a3f5f",
           "arrowhead": 0,
           "arrowwidth": 1
          },
          "autotypenumbers": "strict",
          "coloraxis": {
           "colorbar": {
            "outlinewidth": 0,
            "ticks": ""
           }
          },
          "colorscale": {
           "diverging": [
            [
             0,
             "#8e0152"
            ],
            [
             0.1,
             "#c51b7d"
            ],
            [
             0.2,
             "#de77ae"
            ],
            [
             0.3,
             "#f1b6da"
            ],
            [
             0.4,
             "#fde0ef"
            ],
            [
             0.5,
             "#f7f7f7"
            ],
            [
             0.6,
             "#e6f5d0"
            ],
            [
             0.7,
             "#b8e186"
            ],
            [
             0.8,
             "#7fbc41"
            ],
            [
             0.9,
             "#4d9221"
            ],
            [
             1,
             "#276419"
            ]
           ],
           "sequential": [
            [
             0,
             "#0d0887"
            ],
            [
             0.1111111111111111,
             "#46039f"
            ],
            [
             0.2222222222222222,
             "#7201a8"
            ],
            [
             0.3333333333333333,
             "#9c179e"
            ],
            [
             0.4444444444444444,
             "#bd3786"
            ],
            [
             0.5555555555555556,
             "#d8576b"
            ],
            [
             0.6666666666666666,
             "#ed7953"
            ],
            [
             0.7777777777777778,
             "#fb9f3a"
            ],
            [
             0.8888888888888888,
             "#fdca26"
            ],
            [
             1,
             "#f0f921"
            ]
           ],
           "sequentialminus": [
            [
             0,
             "#0d0887"
            ],
            [
             0.1111111111111111,
             "#46039f"
            ],
            [
             0.2222222222222222,
             "#7201a8"
            ],
            [
             0.3333333333333333,
             "#9c179e"
            ],
            [
             0.4444444444444444,
             "#bd3786"
            ],
            [
             0.5555555555555556,
             "#d8576b"
            ],
            [
             0.6666666666666666,
             "#ed7953"
            ],
            [
             0.7777777777777778,
             "#fb9f3a"
            ],
            [
             0.8888888888888888,
             "#fdca26"
            ],
            [
             1,
             "#f0f921"
            ]
           ]
          },
          "colorway": [
           "#636efa",
           "#EF553B",
           "#00cc96",
           "#ab63fa",
           "#FFA15A",
           "#19d3f3",
           "#FF6692",
           "#B6E880",
           "#FF97FF",
           "#FECB52"
          ],
          "font": {
           "color": "#2a3f5f"
          },
          "geo": {
           "bgcolor": "white",
           "lakecolor": "white",
           "landcolor": "#E5ECF6",
           "showlakes": true,
           "showland": true,
           "subunitcolor": "white"
          },
          "hoverlabel": {
           "align": "left"
          },
          "hovermode": "closest",
          "mapbox": {
           "style": "light"
          },
          "paper_bgcolor": "white",
          "plot_bgcolor": "#E5ECF6",
          "polar": {
           "angularaxis": {
            "gridcolor": "white",
            "linecolor": "white",
            "ticks": ""
           },
           "bgcolor": "#E5ECF6",
           "radialaxis": {
            "gridcolor": "white",
            "linecolor": "white",
            "ticks": ""
           }
          },
          "scene": {
           "xaxis": {
            "backgroundcolor": "#E5ECF6",
            "gridcolor": "white",
            "gridwidth": 2,
            "linecolor": "white",
            "showbackground": true,
            "ticks": "",
            "zerolinecolor": "white"
           },
           "yaxis": {
            "backgroundcolor": "#E5ECF6",
            "gridcolor": "white",
            "gridwidth": 2,
            "linecolor": "white",
            "showbackground": true,
            "ticks": "",
            "zerolinecolor": "white"
           },
           "zaxis": {
            "backgroundcolor": "#E5ECF6",
            "gridcolor": "white",
            "gridwidth": 2,
            "linecolor": "white",
            "showbackground": true,
            "ticks": "",
            "zerolinecolor": "white"
           }
          },
          "shapedefaults": {
           "line": {
            "color": "#2a3f5f"
           }
          },
          "ternary": {
           "aaxis": {
            "gridcolor": "white",
            "linecolor": "white",
            "ticks": ""
           },
           "baxis": {
            "gridcolor": "white",
            "linecolor": "white",
            "ticks": ""
           },
           "bgcolor": "#E5ECF6",
           "caxis": {
            "gridcolor": "white",
            "linecolor": "white",
            "ticks": ""
           }
          },
          "title": {
           "x": 0.05
          },
          "xaxis": {
           "automargin": true,
           "gridcolor": "white",
           "linecolor": "white",
           "ticks": "",
           "title": {
            "standoff": 15
           },
           "zerolinecolor": "white",
           "zerolinewidth": 2
          },
          "yaxis": {
           "automargin": true,
           "gridcolor": "white",
           "linecolor": "white",
           "ticks": "",
           "title": {
            "standoff": 15
           },
           "zerolinecolor": "white",
           "zerolinewidth": 2
          }
         }
        }
       }
      }
     },
     "metadata": {},
     "output_type": "display_data"
    }
   ],
   "source": [
    "# n = 3\n",
    "X_3n = PCA(n_components=3).fit_transform(X)\n",
    "\n",
    "# add the two pca values to the original dataframe\n",
    "df['PCA1_3d'] = X_3n[:, 0]\n",
    "df['PCA2_3d'] = X_3n[:, 1]\n",
    "df['PCA3_3d'] = X_3n[:, 2]\n",
    "\n",
    "# visualize the reduced features in a scatterplot\n",
    "fig = px.scatter_3d(data_frame=df, x='PCA1_3d', y='PCA2_3d', z='PCA3_3d', color='Cultivar')\n",
    "fig.show()"
   ]
  },
  {
   "cell_type": "markdown",
   "metadata": {},
   "source": [
    "The scatter plots for $n_features = [2, 3]$ both indicate that we will have three cluster."
   ]
  },
  {
   "cell_type": "markdown",
   "metadata": {},
   "source": [
    "We need to apply three different approaches to determine the number of clusters and why we selected them:\n",
    "- Elbow Curve\n",
    "- Silhouette Analysis\n",
    "- Hierarchical Graph\n",
    "- Gap statistic -> not used, but would also be an option"
   ]
  },
  {
   "cell_type": "code",
   "execution_count": 24,
   "metadata": {},
   "outputs": [
    {
     "data": {
      "image/png": "[encoded data removed]",
      "text/plain": [
       "<Figure size 640x480 with 1 Axes>"
      ]
     },
     "metadata": {},
     "output_type": "display_data"
    }
   ],
   "source": [
    "# elbow curve method\n",
    "sum_of_squared_distances = []\n",
    "cluster_range = range(1,10)\n",
    "\n",
    "for k in cluster_range:\n",
    "    kmeans = KMeans(n_clusters=k)\n",
    "    kmeans.fit(X_2n)\n",
    "    # sum of squared distances of samples to their closest cluster center\n",
    "    sum_of_squared_distances.append(kmeans.inertia_)\n",
    "\n",
    "plt.plot(cluster_range, sum_of_squared_distances, 'bx-')\n",
    "plt.xlabel('Values of k') \n",
    "plt.ylabel('Sum of squared distances') \n",
    "plt.title('Elbow Method For Optimal k')\n",
    "\n",
    "plt.show()"
   ]
  },
  {
   "cell_type": "markdown",
   "metadata": {},
   "source": [
    "The plot does not really show a very clear result, but $k = 3$ indicates the biggest drop of sum of squared distances, which can be seen as the 'ellbow'. Since we are not sure if our assumption is correct, we will use the silhouette analysis as a next step for a more clear result."
   ]
  },
  {
   "cell_type": "code",
   "execution_count": 25,
   "metadata": {},
   "outputs": [
    {
     "data": {
      "image/png": "[encoded data removed]",
      "text/plain": [
       "<Figure size 640x480 with 1 Axes>"
      ]
     },
     "metadata": {},
     "output_type": "display_data"
    }
   ],
   "source": [
    "# silhouette analysis: data range [-1, 1]\n",
    "silhouette_avg = []\n",
    "cluster_range = [2, 3, 4, 5, 6, 7, 8, 9]\n",
    "\n",
    "for k in cluster_range:\n",
    "    kmeans = KMeans(n_clusters=k)\n",
    "    kmeans.fit(X_2n)\n",
    "    cluster_labels = kmeans.labels_\n",
    "\n",
    "    # silhouette score\n",
    "    silhouette_avg.append(silhouette_score(X_2n, cluster_labels))\n",
    "\n",
    "plt.plot(cluster_range, silhouette_avg, 'bx-')\n",
    "plt.xlabel('Values of K') \n",
    "plt.ylabel('Silhouette score') \n",
    "plt.title('Silhouette analysis For Optimal k')\n",
    "plt.show()"
   ]
  },
  {
   "cell_type": "markdown",
   "metadata": {},
   "source": [
    "The silhouette plot has the best score at $k = 3$, which is the same value we picked from the ellbow graph. As a last step, we will have a look at the hierarchical graph."
   ]
  },
  {
   "cell_type": "code",
   "execution_count": 26,
   "metadata": {},
   "outputs": [
    {
     "data": {
      "text/plain": [
       "Text(0, 0.5, 'Euclidean Distance')"
      ]
     },
     "execution_count": 26,
     "metadata": {},
     "output_type": "execute_result"
    },
    {
     "data": {
      "image/png": "[encoded data removed]",
      "text/plain": [
       "<Figure size 1600x1200 with 1 Axes>"
      ]
     },
     "metadata": {},
     "output_type": "display_data"
    }
   ],
   "source": [
    "# hierarchical graph\n",
    "plt.figure(figsize=(16,12))\n",
    "heirachical_graph=hier.dendrogram(hier.linkage(X_2n, method='ward')) #method='ward' uses the Ward variance minimization algorithm\n",
    "\n",
    "# Add titles and labels\n",
    "plt.title('Hierachical Clustering Graph')\n",
    "plt.xlabel('Wines')\n",
    "plt.ylabel('Euclidean Distance')"
   ]
  },
  {
   "cell_type": "markdown",
   "metadata": {},
   "source": [
    "The y axis is the euclidean distance, so the longer the vertical line is, the larger distance between the clusters. So, this graph shows, that $k = 3$ would be the optimal value for the number of clusters. This is again, the same value as the other methods that we used."
   ]
  },
  {
   "cell_type": "markdown",
   "metadata": {},
   "source": [
    "**Result**\n",
    "\n",
    "After investigating different approaches we can now plot the k-means clustering with assumed $k = 3$ as the 'best' option."
   ]
  },
  {
   "cell_type": "markdown",
   "metadata": {},
   "source": [
    "### b) DBScan\n",
    "Example from: https://scikit-learn.org/stable/auto_examples/cluster/plot_dbscan.html#sphx-glr-auto-examples-cluster-plot-dbscan-py\n",
    "\n",
    "parameters for `DBSCAN`:\n",
    "- 'eps' = maximum distance between two points to still be considered in the same neighborhood\n",
    "- 'min_samples' = number of samples in a neighborhood for a point to be considered as a core point"
   ]
  },
  {
   "cell_type": "code",
   "execution_count": 27,
   "metadata": {},
   "outputs": [
    {
     "name": "stdout",
     "output_type": "stream",
     "text": [
      "Estimated number of clusters: 2\n",
      "Estimated number of noise points: 5\n",
      "Silhouette Coefficient: 0.378\n"
     ]
    }
   ],
   "source": [
    "db = DBSCAN(eps=0.8, min_samples=5).fit(X_2n)\n",
    "\n",
    "labels = db.labels_\n",
    "core_samples_mask = np.zeros_like(labels, dtype=bool)\n",
    "core_samples_mask[db.core_sample_indices_] = True\n",
    "\n",
    "# Number of clusters in labels, ignoring noise if present.\n",
    "n_clusters_ = len(set(labels)) - (1 if -1 in labels else 0)\n",
    "n_noise_ = list(labels).count(-1)\n",
    "\n",
    "print(\"Estimated number of clusters: %d\" % n_clusters_)\n",
    "print(\"Estimated number of noise points: %d\" % n_noise_)\n",
    "print(\"Silhouette Coefficient: %0.3f\" % silhouette_score(X_2n, labels))"
   ]
  },
  {
   "cell_type": "markdown",
   "metadata": {},
   "source": [
    "**Result**\n",
    "\n",
    "Unfortunatly, we weren't able to reproduce the same results from k-means clustering. This could be due to small amount of data we have in the dataset because `DBSCAN` tries to cluster data points based on the input parameters, which are used to describe what points are considered to be the neighborhood of the current data point. With the amount of values we have, the parameters are very hard to set the parameters properly. This can result in bad clustering with noise points, which don't fit in either cluster group.\n",
    "\n",
    "Another factor could be that our dataset is not 'dense' enough because otherwise the data points are spread too much, that the algorithm can not identify a neighborhood for the data points."
   ]
  },
  {
   "cell_type": "markdown",
   "metadata": {},
   "source": [
    "### c) evaluate clustering methods"
   ]
  },
  {
   "cell_type": "code",
   "execution_count": 28,
   "metadata": {},
   "outputs": [],
   "source": [
    "# k-means with k = 3\n",
    "kmeans = KMeans(n_clusters=3).fit(X_2n)\n",
    "dbscan = DBSCAN(eps=0.8, min_samples=5).fit_predict(X_2n)"
   ]
  },
  {
   "cell_type": "code",
   "execution_count": 29,
   "metadata": {},
   "outputs": [
    {
     "data": {
      "text/html": [
       "<div>\n",
       "<style scoped>\n",
       "    .dataframe tbody tr th:only-of-type {\n",
       "        vertical-align: middle;\n",
       "    }\n",
       "\n",
       "    .dataframe tbody tr th {\n",
       "        vertical-align: top;\n",
       "    }\n",
       "\n",
       "    .dataframe thead th {\n",
       "        text-align: right;\n",
       "    }\n",
       "</style>\n",
       "<table border=\"1\" class=\"dataframe\">\n",
       "  <thead>\n",
       "    <tr style=\"text-align: right;\">\n",
       "      <th></th>\n",
       "      <th>Cultivar</th>\n",
       "      <th>Alcohol</th>\n",
       "      <th>Malic_Acid</th>\n",
       "      <th>Ash</th>\n",
       "      <th>Alcalinity of ash</th>\n",
       "      <th>Magnesium</th>\n",
       "      <th>Total phenols</th>\n",
       "      <th>Flavanoids</th>\n",
       "      <th>Nonflavanoid phenols</th>\n",
       "      <th>Proanthocyanins</th>\n",
       "      <th>...</th>\n",
       "      <th>Hue</th>\n",
       "      <th>OD280/OD315 of diluted wines</th>\n",
       "      <th>Proline</th>\n",
       "      <th>PCA1_2d</th>\n",
       "      <th>PCA2_2d</th>\n",
       "      <th>PCA1_3d</th>\n",
       "      <th>PCA2_3d</th>\n",
       "      <th>PCA3_3d</th>\n",
       "      <th>kmeans</th>\n",
       "      <th>dbscan</th>\n",
       "    </tr>\n",
       "  </thead>\n",
       "  <tbody>\n",
       "    <tr>\n",
       "      <th>0</th>\n",
       "      <td>1</td>\n",
       "      <td>14.23</td>\n",
       "      <td>1.71</td>\n",
       "      <td>2.43</td>\n",
       "      <td>15.6</td>\n",
       "      <td>127</td>\n",
       "      <td>2.80</td>\n",
       "      <td>3.06</td>\n",
       "      <td>0.28</td>\n",
       "      <td>2.29</td>\n",
       "      <td>...</td>\n",
       "      <td>1.04</td>\n",
       "      <td>3.92</td>\n",
       "      <td>1065</td>\n",
       "      <td>3.316751</td>\n",
       "      <td>-1.443463</td>\n",
       "      <td>3.316751</td>\n",
       "      <td>-1.443463</td>\n",
       "      <td>-0.165739</td>\n",
       "      <td>1</td>\n",
       "      <td>0</td>\n",
       "    </tr>\n",
       "    <tr>\n",
       "      <th>1</th>\n",
       "      <td>1</td>\n",
       "      <td>13.20</td>\n",
       "      <td>1.78</td>\n",
       "      <td>2.14</td>\n",
       "      <td>11.2</td>\n",
       "      <td>100</td>\n",
       "      <td>2.65</td>\n",
       "      <td>2.76</td>\n",
       "      <td>0.26</td>\n",
       "      <td>1.28</td>\n",
       "      <td>...</td>\n",
       "      <td>1.05</td>\n",
       "      <td>3.40</td>\n",
       "      <td>1050</td>\n",
       "      <td>2.209465</td>\n",
       "      <td>0.333393</td>\n",
       "      <td>2.209465</td>\n",
       "      <td>0.333393</td>\n",
       "      <td>-2.026457</td>\n",
       "      <td>1</td>\n",
       "      <td>0</td>\n",
       "    </tr>\n",
       "    <tr>\n",
       "      <th>2</th>\n",
       "      <td>1</td>\n",
       "      <td>13.16</td>\n",
       "      <td>2.36</td>\n",
       "      <td>2.67</td>\n",
       "      <td>18.6</td>\n",
       "      <td>101</td>\n",
       "      <td>2.80</td>\n",
       "      <td>3.24</td>\n",
       "      <td>0.30</td>\n",
       "      <td>2.81</td>\n",
       "      <td>...</td>\n",
       "      <td>1.03</td>\n",
       "      <td>3.17</td>\n",
       "      <td>1185</td>\n",
       "      <td>2.516740</td>\n",
       "      <td>-1.031151</td>\n",
       "      <td>2.516740</td>\n",
       "      <td>-1.031151</td>\n",
       "      <td>0.982819</td>\n",
       "      <td>1</td>\n",
       "      <td>0</td>\n",
       "    </tr>\n",
       "    <tr>\n",
       "      <th>3</th>\n",
       "      <td>1</td>\n",
       "      <td>14.37</td>\n",
       "      <td>1.95</td>\n",
       "      <td>2.50</td>\n",
       "      <td>16.8</td>\n",
       "      <td>113</td>\n",
       "      <td>3.85</td>\n",
       "      <td>3.49</td>\n",
       "      <td>0.24</td>\n",
       "      <td>2.18</td>\n",
       "      <td>...</td>\n",
       "      <td>0.86</td>\n",
       "      <td>3.45</td>\n",
       "      <td>1480</td>\n",
       "      <td>3.757066</td>\n",
       "      <td>-2.756372</td>\n",
       "      <td>3.757066</td>\n",
       "      <td>-2.756372</td>\n",
       "      <td>-0.176192</td>\n",
       "      <td>1</td>\n",
       "      <td>-1</td>\n",
       "    </tr>\n",
       "    <tr>\n",
       "      <th>4</th>\n",
       "      <td>1</td>\n",
       "      <td>13.24</td>\n",
       "      <td>2.59</td>\n",
       "      <td>2.87</td>\n",
       "      <td>21.0</td>\n",
       "      <td>118</td>\n",
       "      <td>2.80</td>\n",
       "      <td>2.69</td>\n",
       "      <td>0.39</td>\n",
       "      <td>1.82</td>\n",
       "      <td>...</td>\n",
       "      <td>1.04</td>\n",
       "      <td>2.93</td>\n",
       "      <td>735</td>\n",
       "      <td>1.008908</td>\n",
       "      <td>-0.869831</td>\n",
       "      <td>1.008908</td>\n",
       "      <td>-0.869831</td>\n",
       "      <td>2.026688</td>\n",
       "      <td>1</td>\n",
       "      <td>0</td>\n",
       "    </tr>\n",
       "    <tr>\n",
       "      <th>...</th>\n",
       "      <td>...</td>\n",
       "      <td>...</td>\n",
       "      <td>...</td>\n",
       "      <td>...</td>\n",
       "      <td>...</td>\n",
       "      <td>...</td>\n",
       "      <td>...</td>\n",
       "      <td>...</td>\n",
       "      <td>...</td>\n",
       "      <td>...</td>\n",
       "      <td>...</td>\n",
       "      <td>...</td>\n",
       "      <td>...</td>\n",
       "      <td>...</td>\n",
       "      <td>...</td>\n",
       "      <td>...</td>\n",
       "      <td>...</td>\n",
       "      <td>...</td>\n",
       "      <td>...</td>\n",
       "      <td>...</td>\n",
       "      <td>...</td>\n",
       "    </tr>\n",
       "    <tr>\n",
       "      <th>173</th>\n",
       "      <td>3</td>\n",
       "      <td>13.71</td>\n",
       "      <td>5.65</td>\n",
       "      <td>2.45</td>\n",
       "      <td>20.5</td>\n",
       "      <td>95</td>\n",
       "      <td>1.68</td>\n",
       "      <td>0.61</td>\n",
       "      <td>0.52</td>\n",
       "      <td>1.06</td>\n",
       "      <td>...</td>\n",
       "      <td>0.64</td>\n",
       "      <td>1.74</td>\n",
       "      <td>740</td>\n",
       "      <td>-3.370524</td>\n",
       "      <td>-2.216289</td>\n",
       "      <td>-3.370524</td>\n",
       "      <td>-2.216289</td>\n",
       "      <td>-0.342570</td>\n",
       "      <td>0</td>\n",
       "      <td>1</td>\n",
       "    </tr>\n",
       "    <tr>\n",
       "      <th>174</th>\n",
       "      <td>3</td>\n",
       "      <td>13.40</td>\n",
       "      <td>3.91</td>\n",
       "      <td>2.48</td>\n",
       "      <td>23.0</td>\n",
       "      <td>102</td>\n",
       "      <td>1.80</td>\n",
       "      <td>0.75</td>\n",
       "      <td>0.43</td>\n",
       "      <td>1.41</td>\n",
       "      <td>...</td>\n",
       "      <td>0.70</td>\n",
       "      <td>1.56</td>\n",
       "      <td>750</td>\n",
       "      <td>-2.601956</td>\n",
       "      <td>-1.757229</td>\n",
       "      <td>-2.601956</td>\n",
       "      <td>-1.757229</td>\n",
       "      <td>0.207581</td>\n",
       "      <td>0</td>\n",
       "      <td>1</td>\n",
       "    </tr>\n",
       "    <tr>\n",
       "      <th>175</th>\n",
       "      <td>3</td>\n",
       "      <td>13.27</td>\n",
       "      <td>4.28</td>\n",
       "      <td>2.26</td>\n",
       "      <td>20.0</td>\n",
       "      <td>120</td>\n",
       "      <td>1.59</td>\n",
       "      <td>0.69</td>\n",
       "      <td>0.43</td>\n",
       "      <td>1.35</td>\n",
       "      <td>...</td>\n",
       "      <td>0.59</td>\n",
       "      <td>1.56</td>\n",
       "      <td>835</td>\n",
       "      <td>-2.677839</td>\n",
       "      <td>-2.760899</td>\n",
       "      <td>-2.677839</td>\n",
       "      <td>-2.760899</td>\n",
       "      <td>-0.940942</td>\n",
       "      <td>0</td>\n",
       "      <td>1</td>\n",
       "    </tr>\n",
       "    <tr>\n",
       "      <th>176</th>\n",
       "      <td>3</td>\n",
       "      <td>13.17</td>\n",
       "      <td>2.59</td>\n",
       "      <td>2.37</td>\n",
       "      <td>20.0</td>\n",
       "      <td>120</td>\n",
       "      <td>1.65</td>\n",
       "      <td>0.68</td>\n",
       "      <td>0.53</td>\n",
       "      <td>1.46</td>\n",
       "      <td>...</td>\n",
       "      <td>0.60</td>\n",
       "      <td>1.62</td>\n",
       "      <td>840</td>\n",
       "      <td>-2.387017</td>\n",
       "      <td>-2.297347</td>\n",
       "      <td>-2.387017</td>\n",
       "      <td>-2.297347</td>\n",
       "      <td>-0.550696</td>\n",
       "      <td>0</td>\n",
       "      <td>1</td>\n",
       "    </tr>\n",
       "    <tr>\n",
       "      <th>177</th>\n",
       "      <td>3</td>\n",
       "      <td>14.13</td>\n",
       "      <td>4.10</td>\n",
       "      <td>2.74</td>\n",
       "      <td>24.5</td>\n",
       "      <td>96</td>\n",
       "      <td>2.05</td>\n",
       "      <td>0.76</td>\n",
       "      <td>0.56</td>\n",
       "      <td>1.35</td>\n",
       "      <td>...</td>\n",
       "      <td>0.61</td>\n",
       "      <td>1.60</td>\n",
       "      <td>560</td>\n",
       "      <td>-3.208758</td>\n",
       "      <td>-2.768920</td>\n",
       "      <td>-3.208758</td>\n",
       "      <td>-2.768920</td>\n",
       "      <td>1.013914</td>\n",
       "      <td>0</td>\n",
       "      <td>1</td>\n",
       "    </tr>\n",
       "  </tbody>\n",
       "</table>\n",
       "<p>178 rows × 21 columns</p>\n",
       "</div>"
      ],
      "text/plain": [
       "     Cultivar  Alcohol  Malic_Acid   Ash  Alcalinity of ash  Magnesium  \\\n",
       "0           1    14.23        1.71  2.43               15.6        127   \n",
       "1           1    13.20        1.78  2.14               11.2        100   \n",
       "2           1    13.16        2.36  2.67               18.6        101   \n",
       "3           1    14.37        1.95  2.50               16.8        113   \n",
       "4           1    13.24        2.59  2.87               21.0        118   \n",
       "..        ...      ...         ...   ...                ...        ...   \n",
       "173         3    13.71        5.65  2.45               20.5         95   \n",
       "174         3    13.40        3.91  2.48               23.0        102   \n",
       "175         3    13.27        4.28  2.26               20.0        120   \n",
       "176         3    13.17        2.59  2.37               20.0        120   \n",
       "177         3    14.13        4.10  2.74               24.5         96   \n",
       "\n",
       "     Total phenols  Flavanoids  Nonflavanoid phenols  Proanthocyanins  ...  \\\n",
       "0             2.80        3.06                  0.28             2.29  ...   \n",
       "1             2.65        2.76                  0.26             1.28  ...   \n",
       "2             2.80        3.24                  0.30             2.81  ...   \n",
       "3             3.85        3.49                  0.24             2.18  ...   \n",
       "4             2.80        2.69                  0.39             1.82  ...   \n",
       "..             ...         ...                   ...              ...  ...   \n",
       "173           1.68        0.61                  0.52             1.06  ...   \n",
       "174           1.80        0.75                  0.43             1.41  ...   \n",
       "175           1.59        0.69                  0.43             1.35  ...   \n",
       "176           1.65        0.68                  0.53             1.46  ...   \n",
       "177           2.05        0.76                  0.56             1.35  ...   \n",
       "\n",
       "      Hue  OD280/OD315 of diluted wines  Proline   PCA1_2d   PCA2_2d  \\\n",
       "0    1.04                          3.92     1065  3.316751 -1.443463   \n",
       "1    1.05                          3.40     1050  2.209465  0.333393   \n",
       "2    1.03                          3.17     1185  2.516740 -1.031151   \n",
       "3    0.86                          3.45     1480  3.757066 -2.756372   \n",
       "4    1.04                          2.93      735  1.008908 -0.869831   \n",
       "..    ...                           ...      ...       ...       ...   \n",
       "173  0.64                          1.74      740 -3.370524 -2.216289   \n",
       "174  0.70                          1.56      750 -2.601956 -1.757229   \n",
       "175  0.59                          1.56      835 -2.677839 -2.760899   \n",
       "176  0.60                          1.62      840 -2.387017 -2.297347   \n",
       "177  0.61                          1.60      560 -3.208758 -2.768920   \n",
       "\n",
       "      PCA1_3d   PCA2_3d   PCA3_3d  kmeans  dbscan  \n",
       "0    3.316751 -1.443463 -0.165739       1       0  \n",
       "1    2.209465  0.333393 -2.026457       1       0  \n",
       "2    2.516740 -1.031151  0.982819       1       0  \n",
       "3    3.757066 -2.756372 -0.176192       1      -1  \n",
       "4    1.008908 -0.869831  2.026688       1       0  \n",
       "..        ...       ...       ...     ...     ...  \n",
       "173 -3.370524 -2.216289 -0.342570       0       1  \n",
       "174 -2.601956 -1.757229  0.207581       0       1  \n",
       "175 -2.677839 -2.760899 -0.940942       0       1  \n",
       "176 -2.387017 -2.297347 -0.550696       0       1  \n",
       "177 -3.208758 -2.768920  1.013914       0       1  \n",
       "\n",
       "[178 rows x 21 columns]"
      ]
     },
     "execution_count": 29,
     "metadata": {},
     "output_type": "execute_result"
    }
   ],
   "source": [
    "# add clustering results to dataframe\n",
    "df.reset_index(drop=True, inplace=True)\n",
    "df['kmeans'] = pd.Series(kmeans.labels_)\n",
    "df['dbscan'] = pd.Series(dbscan)\n",
    "\n",
    "df"
   ]
  },
  {
   "cell_type": "code",
   "execution_count": 30,
   "metadata": {},
   "outputs": [],
   "source": [
    "# new dataframe for the evaluation\n",
    "df_eval = df[['Cultivar', 'kmeans', 'dbscan']]\n",
    "num_of_points = df_eval.shape[0]\n",
    "\n",
    "df_eval_1 = df_eval[df_eval['Cultivar'] == 1]\n",
    "df_eval_2 = df_eval[df_eval['Cultivar'] == 2]\n",
    "df_eval_3 = df_eval[df_eval['Cultivar'] == 3]"
   ]
  },
  {
   "cell_type": "markdown",
   "metadata": {},
   "source": [
    "Metrics to evaluate clustering models\n",
    "- sum of squared errors: \n",
    "- purity: \n",
    "- Davies Bouldin Index: The minimum score is zero, with lower values indicating better clustering"
   ]
  },
  {
   "cell_type": "code",
   "execution_count": 31,
   "metadata": {},
   "outputs": [
    {
     "name": "stdout",
     "output_type": "stream",
     "text": [
      "Sum of squared errors: \n",
      " kmeans = 260.01666268357684\n"
     ]
    }
   ],
   "source": [
    "# sum of squared errors\n",
    "print(f\"Sum of squared errors: \\n kmeans = {kmeans.inertia_}\")"
   ]
  },
  {
   "attachments": {},
   "cell_type": "markdown",
   "metadata": {},
   "source": [
    "**Purity**"
   ]
  },
  {
   "cell_type": "code",
   "execution_count": 32,
   "metadata": {},
   "outputs": [],
   "source": [
    "# kmeans\n",
    "\n",
    "# first find the most common value for kmeans per category\n",
    "kmeans_1 = df_eval_1['kmeans'].mode()[0]\n",
    "kmeans_2 = df_eval_2['kmeans'].mode()[0]\n",
    "kmeans_3 = df_eval_3['kmeans'].mode()[0]\n",
    "\n",
    "# count the nummer of occurances of the mode inside the category\n",
    "purity_kmeans_1 = df_eval_1.kmeans.value_counts()[kmeans_1]\n",
    "purity_kmeans_2 = df_eval_2.kmeans.value_counts()[kmeans_2]\n",
    "purity_kmeans_3 = df_eval_3.kmeans.value_counts()[kmeans_3]\n",
    "\n",
    "# sum of all correct values in the predicted cluster divided by the total amount of points\n",
    "purity_kmeans = (purity_kmeans_1 + purity_kmeans_2 + purity_kmeans_3) / num_of_points\n"
   ]
  },
  {
   "cell_type": "code",
   "execution_count": 33,
   "metadata": {},
   "outputs": [],
   "source": [
    "# dbscan\n",
    "\n",
    "# first find the most common value for kmeans per category \n",
    "# --> assign different value to one class because dbscan only found 2 cluster\n",
    "dbscan_1 = df_eval_1['dbscan'].mode()[0]\n",
    "dbscan_2 = 2\n",
    "dbscan_3 = df_eval_3['dbscan'].mode()[0]\n",
    "\n",
    "# count the nummer of occurances of the mode inside the category\n",
    "purity_dbscan_1 = df_eval_1.dbscan.value_counts()[dbscan_1]\n",
    "purity_dbscan_2 = len(df_eval_2.loc[df_eval_2['dbscan'] == dbscan_2])\n",
    "purity_dbscan_3 = df_eval_3.dbscan.value_counts()[dbscan_3]\n",
    "\n",
    "# sum of all correct values in the predicted cluster divided by the total amount of points\n",
    "purity_dbscan = (purity_dbscan_1 + purity_dbscan_2 + purity_dbscan_3) / num_of_points"
   ]
  },
  {
   "cell_type": "code",
   "execution_count": 34,
   "metadata": {},
   "outputs": [
    {
     "name": "stdout",
     "output_type": "stream",
     "text": [
      "Purity \n",
      " kmeans = 0.9662921348314607 \n",
      " dbscan = 0.5730337078651685\n"
     ]
    }
   ],
   "source": [
    "print(f\"Purity \\n kmeans = {purity_kmeans} \\n dbscan = {purity_dbscan}\")"
   ]
  },
  {
   "cell_type": "code",
   "execution_count": 36,
   "metadata": {},
   "outputs": [
    {
     "name": "stdout",
     "output_type": "stream",
     "text": [
      "Davies bouldin score: \n",
      " kmeans = 0.5977226208167409 \n",
      " dbscan = 4.2817263444697256\n"
     ]
    }
   ],
   "source": [
    "# davies bouldin index as 'davies_bouldin_score'\n",
    "print(f\"Davies bouldin score: \\n kmeans = {davies_bouldin_score(X_2n, kmeans.labels_)} \\n dbscan = {davies_bouldin_score(X_2n, dbscan)}\")"
   ]
  }
 ],
 "metadata": {
  "kernelspec": {
   "display_name": "Python 3.10.7 ('data_science-dDCtDHdq')",
   "language": "python",
   "name": "python3"
  },
  "language_info": {
   "codemirror_mode": {
    "name": "ipython",
    "version": 3
   },
   "file_extension": ".py",
   "mimetype": "text/x-python",
   "name": "python",
   "nbconvert_exporter": "python",
   "pygments_lexer": "ipython3",
   "version": "3.10.7"
  },
  "orig_nbformat": 4,
  "vscode": {
   "interpreter": {
    "hash": "879e0aa37acc94d6458fa173f3288bcea56e82a3b9fca582a9c7d294b714e537"
   }
  }
 },
 "nbformat": 4,
 "nbformat_minor": 2
}
